{
 "cells": [
  {
   "cell_type": "code",
   "execution_count": null,
   "metadata": {},
   "outputs": [],
   "source": []
  },
  {
   "cell_type": "markdown",
   "metadata": {},
   "source": [
    "- 새로운 입력에 대해 실제 값을 계산할 수 있는 수학적 모델이나 공식이 존재하는 경우라면, 당연히 그 방법을 사용하는 것이 가장 정확하고 효율적입니다. \n",
    "- 그러나 현실 세계의 많은 문제는 그렇게 단순하지 않으며, 정확한 수학적 모델을 만드는 것이 불가능하거나 매우 어려운 경우가 많습니다. \n",
    "- 이럴 때 머신러닝은 데이터를 기반으로 패턴을 학습하여 예측을 가능하게 하는 강력한 도구가 됩니다."
   ]
  }
 ],
 "metadata": {
  "language_info": {
   "name": "python"
  }
 },
 "nbformat": 4,
 "nbformat_minor": 2
}
