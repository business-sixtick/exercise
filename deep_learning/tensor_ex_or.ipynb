{
 "cells": [
  {
   "cell_type": "code",
   "execution_count": 1,
   "metadata": {},
   "outputs": [],
   "source": [
    "import numpy as np\n",
    "import tensorflow as tf"
   ]
  },
  {
   "cell_type": "code",
   "execution_count": 13,
   "metadata": {},
   "outputs": [
    {
     "name": "stdout",
     "output_type": "stream",
     "text": [
      "가중치 (Weights):\n",
      " [[1.9349151]\n",
      " [1.2326565]]\n",
      "편향 (Biases):\n",
      " [-0.00072642]\n",
      "정확도 (Biases):\n",
      " 1.0\n",
      "정확도가 100%에 도달한 에포크: 3700\n",
      "1/1 [==============================] - 0s 98ms/step - loss: 0.2813 - accuracy: 1.0000\n",
      "Accuracy: 100.00%\n",
      "1/1 [==============================] - 0s 39ms/step\n",
      "Predictions:\n",
      "[[0.]\n",
      " [1.]\n",
      " [1.]\n",
      " [1.]]\n"
     ]
    }
   ],
   "source": [
    "import numpy as np\n",
    "import tensorflow as tf\n",
    "# from tensorflow.keras.models import Sequential\n",
    "# from tensorflow.keras.layers import Dense\n",
    "Dense = tf.keras.layers.Dense\n",
    "Sequential = tf.keras.models.Sequential\n",
    "import os\n",
    "\n",
    "def clear_screen():\n",
    "    # 운영체제에 따라 화면을 지우는 명령어 선택\n",
    "    os.system('cls' if os.name == 'nt' else 'clear')\n",
    "from IPython.display import clear_output\n",
    "\n",
    "# print('1번')\n",
    "# clear_output(wait=True)  # 출력 지우기\n",
    "# print('2번')\n",
    "# print('1번')\n",
    "# clear_screen()  # 화면 지우기\n",
    "# print('2번')\n",
    "# OR 연산을 위한 입력 데이터와 레이블\n",
    "# 입력 데이터: 2차원 배열, 각 행은 OR 연산의 입력\n",
    "# 출력 데이터: OR 연산의 결과\n",
    "x_train = np.array([[0, 0], [0, 1], [1, 0], [1, 1]])\n",
    "y_train = np.array([[0], [1], [1], [1]])\n",
    "\n",
    "# 모델 생성\n",
    "model = Sequential()\n",
    "#기본적으로 Dense 레이어는 편향을 포함하도록 설계되어 있습니다. 즉, 편향이 자동으로 추가되므로 명시적으로 입력 뉴런의 수에 편향 뉴런을 포함시킬 필요는 없습니다.\n",
    "# input_dim 입력층 구멍 개수\n",
    "model.add(Dense(1, input_dim=2, activation='sigmoid'))  # 1개의 뉴런을 가진 출력층, sigmoid 활성화 함수\n",
    "\n",
    "# 모델 컴파일\n",
    "model.compile(optimizer='adam', loss='binary_crossentropy', metrics=['accuracy'])\n",
    "\n",
    "# 모델 훈련\n",
    "# model.fit(x_train, y_train, epochs=1000, verbose=0)  # 100번의 epoch 동안 훈련\n",
    "# verbose=0: 학습 중에 아무런 출력도 표시하지 않습니다.\n",
    "# verbose=1: 학습의 진행 상황을 표시합니다. 각 에포크(epoch)에 대해 진행 막대(progress bar)와 함께 손실(loss) 및 정확도(accuracy) 등이 표시됩니다.\n",
    "epochs = 10000\n",
    "for epoch in range(epochs):\n",
    "    history = model.fit(x_train, y_train, epochs=1, verbose=1)\n",
    "    # 가중치와 편향 출력\n",
    "    weights, biases = model.layers[0].get_weights()\n",
    "    clear_output(wait=True) # clear_screen()\n",
    "    print(\"가중치 (Weights):\\n\", weights)\n",
    "    print(\"편향 (Biases):\\n\", biases)\n",
    "    accuracy = history.history['accuracy'][0]\n",
    "    print(\"정확도 (Biases):\\n\", accuracy)\n",
    "    if accuracy == 1.0 and epochs > 100 :\n",
    "        print(f\"정확도가 100%에 도달한 에포크: {epoch + 1}\")\n",
    "        break\n",
    "# 모델 평가\n",
    "loss, accuracy = model.evaluate(x_train, y_train)\n",
    "print(f'Accuracy: {accuracy * 100:.2f}%')\n",
    "\n",
    "# 예측\n",
    "predictions = model.predict(x_train)\n",
    "print('Predictions:')\n",
    "print(np.round(predictions))  # 예측 결과를 0 또는 1로 반올림하여 출력\n",
    "\n",
    "\n",
    "\n",
    "\n",
    "# 모델 저장\n",
    "# model.save('my_model.keras')  # HDF5 포맷으로 저장\n",
    "# from tensorflow.keras.models import load_model\n",
    "\n",
    "# # 저장된 모델 불러오기\n",
    "# model = load_model('my_model.keras')\n",
    "\n",
    "# # 불러온 모델로 예측 수행\n",
    "# predictions = model.predict(x_test)\n",
    "#.h5 확장자는 HDF5(Hierarchical Data Format version 5) 파일 포맷\n",
    "\n",
    "\n",
    "# from keras.callbacks import EarlyStopping\n",
    "\n",
    "# # Early stopping 설정\n",
    "# early_stopping = EarlyStopping(monitor='val_accuracy', patience=5, restore_best_weights=True)\n",
    "\n",
    "# # 모델 훈련\n",
    "# model.fit(x_train, y_train, epochs=100, validation_data=(x_val, y_val), callbacks=[early_stopping])\n"
   ]
  },
  {
   "cell_type": "code",
   "execution_count": 15,
   "metadata": {},
   "outputs": [],
   "source": [
    "model.save('or_oper.keras')"
   ]
  },
  {
   "cell_type": "code",
   "execution_count": 19,
   "metadata": {},
   "outputs": [
    {
     "name": "stdout",
     "output_type": "stream",
     "text": [
      "1/1 [==============================] - 0s 21ms/step\n",
      "Predictions:\n",
      "[[0.]\n",
      " [1.]\n",
      " [1.]\n",
      " [1.]]\n"
     ]
    }
   ],
   "source": [
    "predictions = model.predict(x_train)\n",
    "print('Predictions:')\n",
    "print(np.round(predictions))"
   ]
  },
  {
   "cell_type": "code",
   "execution_count": 22,
   "metadata": {},
   "outputs": [],
   "source": [
    "import cv2 as cv\n",
    "cv.__version__\n",
    "img = cv.imread(f'C:\\source\\exercise\\image\\강사 윤기원.png')\n",
    "cv.imshow('img', img)\n",
    "cv.waitKey()\n",
    "cv.destroyAllWindows()"
   ]
  }
 ],
 "metadata": {
  "kernelspec": {
   "display_name": "Python 3",
   "language": "python",
   "name": "python3"
  },
  "language_info": {
   "codemirror_mode": {
    "name": "ipython",
    "version": 3
   },
   "file_extension": ".py",
   "mimetype": "text/x-python",
   "name": "python",
   "nbconvert_exporter": "python",
   "pygments_lexer": "ipython3",
   "version": "3.8.10"
  }
 },
 "nbformat": 4,
 "nbformat_minor": 2
}
