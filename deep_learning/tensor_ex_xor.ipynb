{
 "cells": [
  {
   "cell_type": "code",
   "execution_count": 1,
   "metadata": {},
   "outputs": [],
   "source": [
    "import numpy as np\n",
    "import tensorflow as tf"
   ]
  },
  {
   "cell_type": "code",
   "execution_count": 2,
   "metadata": {},
   "outputs": [
    {
     "name": "stdout",
     "output_type": "stream",
     "text": [
      "1/1 [==============================] - 0s 88ms/step - loss: 0.0745 - accuracy: 1.0000\n",
      "Loss: 0.07452964782714844, Accuracy: 1.0\n",
      "TensorBoard를 실행하려면 다음 명령어를 사용하세요:\n",
      "tensorboard --logdir=logs\\fit\\xor\n"
     ]
    }
   ],
   "source": [
    "\n",
    "Sequential = tf.keras.models.Sequential\n",
    "Dense = tf.keras.layers.Dense\n",
    "TensorBoard = tf.keras.callbacks.TensorBoard\n",
    "import os\n",
    "\n",
    "# XOR 데이터셋 생성\n",
    "X = np.array([[0, 0], \n",
    "              [0, 1], \n",
    "              [1, 0], \n",
    "              [1, 1]])\n",
    "\n",
    "y = np.array([[0], \n",
    "              [1], \n",
    "              [1], \n",
    "              [0]])\n",
    "\n",
    "# 모델 생성\n",
    "model = Sequential()\n",
    "model.add(Dense(4, activation='relu', input_shape=(2,)))  # 은닉층 1\n",
    "model.add(Dense(4, activation='relu'))                     # 은닉층 2\n",
    "model.add(Dense(1, activation='sigmoid'))                  # 출력층\n",
    "\n",
    "# 모델 컴파일\n",
    "model.compile(optimizer='adam', loss='binary_crossentropy', metrics=['accuracy'])\n",
    "\n",
    "# TensorBoard 로그를 저장할 디렉토리 생성\n",
    "# log_dir = os.path.join(\"logs\", \"fit\", \"xor\")\n",
    "# tensorboard_callback = TensorBoard(log_dir=log_dir, histogram_freq=1)\n",
    "\n",
    "# 모델 훈련\n",
    "# model.fit(X, y, epochs=1000, verbose=0, callbacks=[tensorboard_callback])\n",
    "model.fit(X, y, epochs=1000, verbose=0)\n",
    "# 모델 평가\n",
    "loss, accuracy = model.evaluate(X, y)\n",
    "print(f'Loss: {loss}, Accuracy: {accuracy}')\n",
    "\n",
    "# TensorBoard 실행 방법\n",
    "# print(\"TensorBoard를 실행하려면 다음 명령어를 사용하세요:\")\n",
    "# print(f\"tensorboard --logdir={log_dir}\")\n"
   ]
  }
 ],
 "metadata": {
  "kernelspec": {
   "display_name": "Python 3",
   "language": "python",
   "name": "python3"
  },
  "language_info": {
   "codemirror_mode": {
    "name": "ipython",
    "version": 3
   },
   "file_extension": ".py",
   "mimetype": "text/x-python",
   "name": "python",
   "nbconvert_exporter": "python",
   "pygments_lexer": "ipython3",
   "version": "3.8.10"
  }
 },
 "nbformat": 4,
 "nbformat_minor": 2
}
