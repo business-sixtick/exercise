{
 "cells": [
  {
   "cell_type": "code",
   "execution_count": null,
   "metadata": {},
   "outputs": [],
   "source": [
    "import tensorflow as tf\n",
    "import numpy as np\n"
   ]
  },
  {
   "cell_type": "code",
   "execution_count": 3,
   "metadata": {},
   "outputs": [],
   "source": [
    "import pandas as pd"
   ]
  },
  {
   "cell_type": "code",
   "execution_count": 26,
   "metadata": {},
   "outputs": [],
   "source": [
    "import sympy as sp # pip install -U  sympy"
   ]
  },
  {
   "cell_type": "code",
   "execution_count": 29,
   "metadata": {},
   "outputs": [
    {
     "data": {
      "text/latex": [
       "$\\displaystyle a^{2} x^{2} + 2 a b x + b^{2}$"
      ],
      "text/plain": [
       "a**2*x**2 + 2*a*b*x + b**2"
      ]
     },
     "execution_count": 29,
     "metadata": {},
     "output_type": "execute_result"
    }
   ],
   "source": [
    "a, x, b, y = sp.symbols('a x b y')\n",
    "y = (a*x+b) ** 2\n",
    "sp.diff(y, a) # 미분\n",
    "y\n",
    "sp.expand(y) # 전개"
   ]
  },
  {
   "cell_type": "code",
   "execution_count": null,
   "metadata": {},
   "outputs": [],
   "source": [
    "# \"C:\\수업자료PC\\머신러닝\\머신러닝딥러닝기초\\data\\ThoraricSurgery3.csv\""
   ]
  },
  {
   "cell_type": "code",
   "execution_count": null,
   "metadata": {},
   "outputs": [],
   "source": [
    "tf.__version__"
   ]
  },
  {
   "cell_type": "code",
   "execution_count": 4,
   "metadata": {},
   "outputs": [
    {
     "data": {
      "text/html": [
       "<div>\n",
       "<style scoped>\n",
       "    .dataframe tbody tr th:only-of-type {\n",
       "        vertical-align: middle;\n",
       "    }\n",
       "\n",
       "    .dataframe tbody tr th {\n",
       "        vertical-align: top;\n",
       "    }\n",
       "\n",
       "    .dataframe thead th {\n",
       "        text-align: right;\n",
       "    }\n",
       "</style>\n",
       "<table border=\"1\" class=\"dataframe\">\n",
       "  <thead>\n",
       "    <tr style=\"text-align: right;\">\n",
       "      <th></th>\n",
       "      <th>0</th>\n",
       "      <th>1</th>\n",
       "      <th>2</th>\n",
       "      <th>3</th>\n",
       "      <th>4</th>\n",
       "      <th>5</th>\n",
       "      <th>6</th>\n",
       "      <th>7</th>\n",
       "      <th>8</th>\n",
       "      <th>9</th>\n",
       "      <th>10</th>\n",
       "      <th>11</th>\n",
       "      <th>12</th>\n",
       "      <th>13</th>\n",
       "      <th>14</th>\n",
       "      <th>15</th>\n",
       "      <th>16</th>\n",
       "    </tr>\n",
       "  </thead>\n",
       "  <tbody>\n",
       "    <tr>\n",
       "      <th>0</th>\n",
       "      <td>1</td>\n",
       "      <td>2.88</td>\n",
       "      <td>2.16</td>\n",
       "      <td>1</td>\n",
       "      <td>0</td>\n",
       "      <td>0</td>\n",
       "      <td>0</td>\n",
       "      <td>1</td>\n",
       "      <td>1</td>\n",
       "      <td>3</td>\n",
       "      <td>0</td>\n",
       "      <td>0</td>\n",
       "      <td>0</td>\n",
       "      <td>1</td>\n",
       "      <td>0</td>\n",
       "      <td>60</td>\n",
       "      <td>0</td>\n",
       "    </tr>\n",
       "    <tr>\n",
       "      <th>1</th>\n",
       "      <td>2</td>\n",
       "      <td>3.40</td>\n",
       "      <td>1.88</td>\n",
       "      <td>0</td>\n",
       "      <td>0</td>\n",
       "      <td>0</td>\n",
       "      <td>0</td>\n",
       "      <td>0</td>\n",
       "      <td>0</td>\n",
       "      <td>1</td>\n",
       "      <td>0</td>\n",
       "      <td>0</td>\n",
       "      <td>0</td>\n",
       "      <td>1</td>\n",
       "      <td>0</td>\n",
       "      <td>51</td>\n",
       "      <td>0</td>\n",
       "    </tr>\n",
       "    <tr>\n",
       "      <th>2</th>\n",
       "      <td>2</td>\n",
       "      <td>2.76</td>\n",
       "      <td>2.08</td>\n",
       "      <td>1</td>\n",
       "      <td>0</td>\n",
       "      <td>0</td>\n",
       "      <td>0</td>\n",
       "      <td>1</td>\n",
       "      <td>0</td>\n",
       "      <td>0</td>\n",
       "      <td>0</td>\n",
       "      <td>0</td>\n",
       "      <td>0</td>\n",
       "      <td>1</td>\n",
       "      <td>0</td>\n",
       "      <td>59</td>\n",
       "      <td>0</td>\n",
       "    </tr>\n",
       "    <tr>\n",
       "      <th>3</th>\n",
       "      <td>2</td>\n",
       "      <td>3.68</td>\n",
       "      <td>3.04</td>\n",
       "      <td>0</td>\n",
       "      <td>0</td>\n",
       "      <td>0</td>\n",
       "      <td>0</td>\n",
       "      <td>0</td>\n",
       "      <td>0</td>\n",
       "      <td>0</td>\n",
       "      <td>0</td>\n",
       "      <td>0</td>\n",
       "      <td>0</td>\n",
       "      <td>0</td>\n",
       "      <td>0</td>\n",
       "      <td>54</td>\n",
       "      <td>0</td>\n",
       "    </tr>\n",
       "    <tr>\n",
       "      <th>4</th>\n",
       "      <td>2</td>\n",
       "      <td>2.44</td>\n",
       "      <td>0.96</td>\n",
       "      <td>2</td>\n",
       "      <td>0</td>\n",
       "      <td>1</td>\n",
       "      <td>0</td>\n",
       "      <td>1</td>\n",
       "      <td>1</td>\n",
       "      <td>0</td>\n",
       "      <td>0</td>\n",
       "      <td>0</td>\n",
       "      <td>0</td>\n",
       "      <td>1</td>\n",
       "      <td>0</td>\n",
       "      <td>73</td>\n",
       "      <td>1</td>\n",
       "    </tr>\n",
       "  </tbody>\n",
       "</table>\n",
       "</div>"
      ],
      "text/plain": [
       "   0     1     2   3   4   5   6   7   8   9   10  11  12  13  14  15  16\n",
       "0   1  2.88  2.16   1   0   0   0   1   1   3   0   0   0   1   0  60   0\n",
       "1   2  3.40  1.88   0   0   0   0   0   0   1   0   0   0   1   0  51   0\n",
       "2   2  2.76  2.08   1   0   0   0   1   0   0   0   0   0   1   0  59   0\n",
       "3   2  3.68  3.04   0   0   0   0   0   0   0   0   0   0   0   0  54   0\n",
       "4   2  2.44  0.96   2   0   1   0   1   1   0   0   0   0   1   0  73   1"
      ]
     },
     "execution_count": 4,
     "metadata": {},
     "output_type": "execute_result"
    }
   ],
   "source": [
    "head = ''\n",
    "data = pd.read_csv(r\"C:\\수업자료PC\\머신러닝\\머신러닝딥러닝기초\\data\\ThoraricSurgery3.csv\", header=None)\n",
    "data.head() # 470 * 17\n",
    "# 17번 컬럼이 y 값\n",
    "# 답이 있으면 지도 학습\n",
    "# 분류 문제"
   ]
  },
  {
   "cell_type": "code",
   "execution_count": 22,
   "metadata": {},
   "outputs": [
    {
     "name": "stdout",
     "output_type": "stream",
     "text": [
      "   0     1     2   3   4   5   6   7   8   9   10  11  12  13  14  15  16\n",
      "0   1  2.88  2.16   1   0   0   0   1   1   3   0   0   0   1   0  60   0\n",
      "1   2  3.40  1.88   0   0   0   0   0   0   1   0   0   0   1   0  51   0\n",
      "     0     1     2   3   4   5   6   7   8   9   10  11  12  13  14  15\n",
      "0     1  2.88  2.16   1   0   0   0   1   1   3   0   0   0   1   0  60\n",
      "1     2  3.40  1.88   0   0   0   0   0   0   1   0   0   0   1   0  51\n",
      "2     2  2.76  2.08   1   0   0   0   1   0   0   0   0   0   1   0  59\n",
      "3     2  3.68  3.04   0   0   0   0   0   0   0   0   0   0   0   0  54\n",
      "4     2  2.44  0.96   2   0   1   0   1   1   0   0   0   0   1   0  73\n",
      "..   ..   ...   ...  ..  ..  ..  ..  ..  ..  ..  ..  ..  ..  ..  ..  ..\n",
      "465   1  3.88  2.12   1   0   0   0   1   0   2   0   0   0   1   0  63\n",
      "466   2  3.76  3.12   0   0   0   0   0   0   0   0   0   0   1   0  61\n",
      "467   2  3.04  2.08   1   0   0   0   1   0   2   0   0   0   0   0  52\n",
      "468   2  1.96  1.68   1   0   0   0   1   1   1   0   0   0   1   0  79\n",
      "469   2  4.72  3.56   0   0   0   0   0   0   1   0   0   0   1   0  51\n",
      "\n",
      "[470 rows x 16 columns]\n",
      "0      0\n",
      "1      0\n",
      "2      0\n",
      "3      0\n",
      "4      1\n",
      "      ..\n",
      "465    0\n",
      "466    0\n",
      "467    0\n",
      "468    0\n",
      "469    0\n",
      "Name: 16, Length: 470, dtype: int64\n",
      "Epoch 1/5\n",
      "15/15 [==============================] - 0s 1ms/step - loss: 5.5729 - accuracy: 0.1745\n",
      "Epoch 2/5\n",
      "15/15 [==============================] - 0s 857us/step - loss: 0.8012 - accuracy: 0.6383\n",
      "Epoch 3/5\n",
      "15/15 [==============================] - 0s 857us/step - loss: 0.6815 - accuracy: 0.8511\n",
      "Epoch 4/5\n",
      "15/15 [==============================] - 0s 786us/step - loss: 0.5484 - accuracy: 0.8511\n",
      "Epoch 5/5\n",
      "15/15 [==============================] - 0s 786us/step - loss: 0.4772 - accuracy: 0.8511\n"
     ]
    },
    {
     "data": {
      "text/plain": [
       "<keras.src.callbacks.History at 0x226c015cdf0>"
      ]
     },
     "execution_count": 22,
     "metadata": {},
     "output_type": "execute_result"
    }
   ],
   "source": [
    "# 딥러닝 체험\n",
    "# keras 운전수? \n",
    "from tensorflow.keras.models import Sequential\n",
    "from tensorflow.keras.layers import Dense\n",
    "model = Sequential()\n",
    "print(data.head(2))\n",
    "print(data.iloc[:, :16])\n",
    "# print(data[16].values) # y\n",
    "print(data[16])\n"
   ]
  },
  {
   "cell_type": "code",
   "execution_count": 23,
   "metadata": {},
   "outputs": [
    {
     "name": "stdout",
     "output_type": "stream",
     "text": [
      "Epoch 1/5\n",
      "15/15 [==============================] - 0s 1ms/step - loss: 0.6811 - accuracy: 0.7979\n",
      "Epoch 2/5\n",
      "15/15 [==============================] - 0s 857us/step - loss: 0.6202 - accuracy: 0.8511\n",
      "Epoch 3/5\n",
      "15/15 [==============================] - 0s 1ms/step - loss: 0.5648 - accuracy: 0.8511\n",
      "Epoch 4/5\n",
      "15/15 [==============================] - 0s 1ms/step - loss: 0.5210 - accuracy: 0.8511\n",
      "Epoch 5/5\n",
      "15/15 [==============================] - 0s 857us/step - loss: 0.4904 - accuracy: 0.8511\n"
     ]
    },
    {
     "data": {
      "text/plain": [
       "<keras.src.callbacks.History at 0x226c1377520>"
      ]
     },
     "execution_count": 23,
     "metadata": {},
     "output_type": "execute_result"
    }
   ],
   "source": [
    "model.add(Dense(30, input_dim=16, activation='relu'))\n",
    "model.add(Dense(1, activation='sigmoid'))\n",
    "model.compile(loss='binary_crossentropy', optimizer='adam', metrics=['accuracy'])\n",
    "model.fit(data.iloc[:, :16], data[16], epochs=5, batch_size=32)"
   ]
  },
  {
   "cell_type": "code",
   "execution_count": null,
   "metadata": {},
   "outputs": [],
   "source": []
  }
 ],
 "metadata": {
  "kernelspec": {
   "display_name": "Python 3",
   "language": "python",
   "name": "python3"
  },
  "language_info": {
   "codemirror_mode": {
    "name": "ipython",
    "version": 3
   },
   "file_extension": ".py",
   "mimetype": "text/x-python",
   "name": "python",
   "nbconvert_exporter": "python",
   "pygments_lexer": "ipython3",
   "version": "3.8.10"
  }
 },
 "nbformat": 4,
 "nbformat_minor": 2
}
