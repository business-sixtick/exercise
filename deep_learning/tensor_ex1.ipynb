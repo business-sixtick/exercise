{
 "cells": [
  {
   "cell_type": "code",
   "execution_count": 1,
   "metadata": {},
   "outputs": [],
   "source": [
    "import tensorflow as tf\n",
    "from tensorflow.keras.datasets import mnist\n",
    "from tensorflow.keras.models import Sequential\n",
    "from tensorflow.keras.layers import Dense\n",
    "from tensorflow.keras.layers import Dropout\n",
    "from tensorflow.keras.layers import Activation\n",
    "from tensorflow.keras.optimizers import Adam\n",
    "from tensorflow.keras import utils\n",
    "import numpy as np\n",
    "import matplotlib.pyplot as plt"
   ]
  },
  {
   "cell_type": "code",
   "execution_count": 2,
   "metadata": {},
   "outputs": [
    {
     "name": "stdout",
     "output_type": "stream",
     "text": [
      "Num GPUs Available:  1\n",
      "Num GPUs Available:  1\n",
      "GPU Available:  [PhysicalDevice(name='/physical_device:GPU:0', device_type='GPU')]\n",
      "PhysicalDevice(name='/physical_device:GPU:0', device_type='GPU')\n",
      "tf.Tensor([2. 4. 6.], shape=(3,), dtype=float32)\n",
      "Is GPU used: True\n"
     ]
    }
   ],
   "source": [
    "import tensorflow as tf\n",
    "\n",
    "# GPU 디바이스 목록 출력\n",
    "print(\"Num GPUs Available: \", len(tf.config.list_physical_devices('GPU')))\n",
    "print(\"Num GPUs Available: \", len(tf.config.experimental.list_physical_devices('GPU')))\n",
    "# GPU의 정보 출력\n",
    "gpus = tf.config.list_physical_devices('GPU')\n",
    "if gpus:\n",
    "    print(\"GPU Available: \", gpus)\n",
    "else:\n",
    "    print(\"No GPU available.\")\n",
    "# 물리적인 GPU 목록 확인\n",
    "gpus = tf.config.experimental.list_physical_devices('GPU')\n",
    "for gpu in gpus:\n",
    "    print(gpu)\n",
    "import tensorflow as tf\n",
    "\n",
    "# 간단한 텐서 연산을 통해 어떤 디바이스에서 연산이 수행되는지 확인\n",
    "a = tf.constant([1.0, 2.0, 3.0])\n",
    "b = tf.constant([1.0, 2.0, 3.0])\n",
    "c = a + b\n",
    "\n",
    "print(c)\n",
    "print(\"Is GPU used:\", c.device.endswith('GPU:0'))\n",
    "\n"
   ]
  },
  {
   "cell_type": "code",
   "execution_count": 1,
   "metadata": {},
   "outputs": [
    {
     "name": "stdout",
     "output_type": "stream",
     "text": [
      "2.8.0\n",
      "Num GPUs Available:  1\n"
     ]
    }
   ],
   "source": [
    "import tensorflow as tf\n",
    "print(tf.__version__)\n",
    "print(\"Num GPUs Available: \", len(tf.config.list_physical_devices('GPU')))\n"
   ]
  },
  {
   "cell_type": "code",
   "execution_count": 1,
   "metadata": {},
   "outputs": [],
   "source": [
    "\n",
    "import tensorflow as tf\n",
    "\n",
    "# pip install protobuf==3.9.2\n"
   ]
  },
  {
   "cell_type": "code",
   "execution_count": 1,
   "metadata": {},
   "outputs": [
    {
     "name": "stdout",
     "output_type": "stream",
     "text": [
      "[name: \"/device:CPU:0\"\n",
      "device_type: \"CPU\"\n",
      "memory_limit: 268435456\n",
      "locality {\n",
      "}\n",
      "incarnation: 6633183775590363988\n",
      "xla_global_id: -1\n",
      "]\n"
     ]
    }
   ],
   "source": [
    "import tensorflow as tf\n",
    "from tensorflow.python.client import device_lib\n",
    "\n",
    "print(device_lib.list_local_devices())\n"
   ]
  },
  {
   "cell_type": "code",
   "execution_count": 2,
   "metadata": {},
   "outputs": [
    {
     "name": "stdout",
     "output_type": "stream",
     "text": [
      "CUDA Version: 64_112\n",
      "cuDNN Version: 64_8\n"
     ]
    }
   ],
   "source": [
    "import tensorflow as tf\n",
    "\n",
    "print(\"CUDA Version:\", tf.sysconfig.get_build_info()['cuda_version'])\n",
    "print(\"cuDNN Version:\", tf.sysconfig.get_build_info()['cudnn_version'])\n"
   ]
  },
  {
   "cell_type": "code",
   "execution_count": 4,
   "metadata": {},
   "outputs": [
    {
     "name": "stdout",
     "output_type": "stream",
     "text": [
      "TensorFlow is built with CUDA (GPU support).\n"
     ]
    }
   ],
   "source": [
    "import tensorflow as tf\n",
    "\n",
    "if tf.test.is_built_with_cuda():\n",
    "    print(\"TensorFlow is built with CUDA (GPU support).\")\n",
    "else:\n",
    "    print(\"TensorFlow is NOT built with CUDA (No GPU support).\")\n"
   ]
  },
  {
   "cell_type": "code",
   "execution_count": 6,
   "metadata": {},
   "outputs": [
    {
     "name": "stdout",
     "output_type": "stream",
     "text": [
      "tf.Tensor(\n",
      "[[22 28]\n",
      " [49 64]], shape=(2, 2), dtype=int32)\n"
     ]
    }
   ],
   "source": [
    "import tensorflow as tf\n",
    "\n",
    "# 로그 레벨 설정\n",
    "tf.debugging.set_log_device_placement(True)\n",
    "\n",
    "# 예제 연산\n",
    "a = tf.constant([[1, 2, 3], [4, 5, 6]])\n",
    "b = tf.constant([[1, 2], [3, 4], [5, 6]])\n",
    "\n",
    "# 올바른 행렬 곱셈\n",
    "c = tf.matmul(a, b)  # 크기가 [2, 2]인 행렬 결과\n",
    "print(c)\n"
   ]
  },
  {
   "cell_type": "code",
   "execution_count": null,
   "metadata": {},
   "outputs": [],
   "source": [
    "model = Sequential() # 신경망 흐름 , 신경 흐름\n",
    "layer = tf.keras.layers\n",
    "# dense = layer.Dense()\n",
    "\n",
    "model.add()"
   ]
  },
  {
   "cell_type": "code",
   "execution_count": 47,
   "metadata": {},
   "outputs": [
    {
     "data": {
      "image/png": "[encoded data removed]",
      "text/plain": [
       "<Figure size 640x480 with 1 Axes>"
      ]
     },
     "metadata": {},
     "output_type": "display_data"
    }
   ],
   "source": [
    "# 계단함수\n",
    "x = np.arange(-5,6)\n",
    "y = [1 if i >= 0 else -1 for i in x ] \n",
    "plt.plot(x, y)\n",
    "plt.grid()\n",
    "plt.show()"
   ]
  },
  {
   "cell_type": "code",
   "execution_count": 7,
   "metadata": {},
   "outputs": [],
   "source": [
    "from tensorflow.keras.datasets import mnist"
   ]
  },
  {
   "cell_type": "code",
   "execution_count": 8,
   "metadata": {},
   "outputs": [],
   "source": [
    "from tensorflow.keras.models import Sequential"
   ]
  },
  {
   "cell_type": "code",
   "execution_count": 11,
   "metadata": {},
   "outputs": [],
   "source": [
    "import tensorflow as tf\n",
    "from tensorflow.keras.layers import Dense"
   ]
  },
  {
   "cell_type": "code",
   "execution_count": 12,
   "metadata": {},
   "outputs": [],
   "source": [
    "from tensorflow.keras.layers import Dropout"
   ]
  },
  {
   "cell_type": "code",
   "execution_count": 13,
   "metadata": {},
   "outputs": [],
   "source": [
    "from tensorflow.keras.layers import Activation"
   ]
  },
  {
   "cell_type": "code",
   "execution_count": 14,
   "metadata": {},
   "outputs": [],
   "source": [
    "from tensorflow.keras.optimizers import Adam"
   ]
  },
  {
   "cell_type": "code",
   "execution_count": 16,
   "metadata": {},
   "outputs": [],
   "source": [
    "from tensorflow.keras import utils"
   ]
  },
  {
   "cell_type": "code",
   "execution_count": null,
   "metadata": {},
   "outputs": [],
   "source": []
  },
  {
   "cell_type": "code",
   "execution_count": 4,
   "metadata": {},
   "outputs": [],
   "source": [
    "(x_train, y_train), (x_test, y_test) = mnist.load_data()\n",
    "x_train = x_train.reshape(60000, 784).astype('float')"
   ]
  },
  {
   "cell_type": "code",
   "execution_count": 8,
   "metadata": {},
   "outputs": [
    {
     "data": {
      "text/plain": [
       "array([  0.,   0.,   0.,   0.,   0.,   0.,   0.,   0.,   0.,   0.,   0.,\n",
       "         0.,   0.,   0.,   0.,   0.,   0.,   0.,   0.,   0.,   0.,   0.,\n",
       "         0.,   0.,   0.,   0.,   0.,   0.,   0.,   0.,   0.,   0.,   0.,\n",
       "         0.,   0.,   0.,   0.,   0.,   0.,   0.,   0.,   0.,   0.,   0.,\n",
       "         0.,   0.,   0.,   0.,   0.,   0.,   0.,   0.,   0.,   0.,   0.,\n",
       "         0.,   0.,   0.,   0.,   0.,   0.,   0.,   0.,   0.,   0.,   0.,\n",
       "         0.,   0.,   0.,   0.,   0.,   0.,   0.,   0.,   0.,   0.,   0.,\n",
       "         0.,   0.,   0.,   0.,   0.,   0.,   0.,   0.,   0.,   0.,   0.,\n",
       "         0.,   0.,   0.,   0.,   0.,   0.,   0.,   0.,   0.,   0.,   0.,\n",
       "         0.,   0.,   0.,   0.,   0.,   0.,   0.,   0.,   0.,   0.,   0.,\n",
       "         0.,   0.,   0.,   0.,   0.,   0.,   0.,   0.,   0.,   0.,   0.,\n",
       "         0.,   0.,   0.,   0.,   0.,   0.,   0.,   0.,   0.,   0.,   0.,\n",
       "         0.,   0.,   0.,   0.,   0.,   0.,   0.,   0.,   0.,   0.,   0.,\n",
       "         0.,   0.,   0.,   0.,   0.,   0.,   0.,   0.,   0.,   3.,  18.,\n",
       "        18.,  18., 126., 136., 175.,  26., 166., 255., 247., 127.,   0.,\n",
       "         0.,   0.,   0.,   0.,   0.,   0.,   0.,   0.,   0.,   0.,   0.,\n",
       "        30.,  36.,  94., 154., 170., 253., 253., 253., 253., 253., 225.,\n",
       "       172., 253., 242., 195.,  64.,   0.,   0.,   0.,   0.,   0.,   0.,\n",
       "         0.,   0.,   0.,   0.,   0.,  49., 238., 253., 253., 253., 253.,\n",
       "       253., 253., 253., 253., 251.,  93.,  82.,  82.,  56.,  39.,   0.,\n",
       "         0.,   0.,   0.,   0.,   0.,   0.,   0.,   0.,   0.,   0.,   0.,\n",
       "        18., 219., 253., 253., 253., 253., 253., 198., 182., 247., 241.,\n",
       "         0.,   0.,   0.,   0.,   0.,   0.,   0.,   0.,   0.,   0.,   0.,\n",
       "         0.,   0.,   0.,   0.,   0.,   0.,   0.,  80., 156., 107., 253.,\n",
       "       253., 205.,  11.,   0.,  43., 154.,   0.,   0.,   0.,   0.,   0.,\n",
       "         0.,   0.,   0.,   0.,   0.,   0.,   0.,   0.,   0.,   0.,   0.,\n",
       "         0.,   0.,   0.,  14.,   1., 154., 253.,  90.,   0.,   0.,   0.,\n",
       "         0.,   0.,   0.,   0.,   0.,   0.,   0.,   0.,   0.,   0.,   0.,\n",
       "         0.,   0.,   0.,   0.,   0.,   0.,   0.,   0.,   0.,   0.,   0.,\n",
       "       139., 253., 190.,   2.,   0.,   0.,   0.,   0.,   0.,   0.,   0.,\n",
       "         0.,   0.,   0.,   0.,   0.,   0.,   0.,   0.,   0.,   0.,   0.,\n",
       "         0.,   0.,   0.,   0.,   0.,   0.,  11., 190., 253.,  70.,   0.,\n",
       "         0.,   0.,   0.,   0.,   0.,   0.,   0.,   0.,   0.,   0.,   0.,\n",
       "         0.,   0.,   0.,   0.,   0.,   0.,   0.,   0.,   0.,   0.,   0.,\n",
       "         0.,   0.,  35., 241., 225., 160., 108.,   1.,   0.,   0.,   0.,\n",
       "         0.,   0.,   0.,   0.,   0.,   0.,   0.,   0.,   0.,   0.,   0.,\n",
       "         0.,   0.,   0.,   0.,   0.,   0.,   0.,   0.,   0.,  81., 240.,\n",
       "       253., 253., 119.,  25.,   0.,   0.,   0.,   0.,   0.,   0.,   0.,\n",
       "         0.,   0.,   0.,   0.,   0.,   0.,   0.,   0.,   0.,   0.,   0.,\n",
       "         0.,   0.,   0.,   0.,   0.,  45., 186., 253., 253., 150.,  27.,\n",
       "         0.,   0.,   0.,   0.,   0.,   0.,   0.,   0.,   0.,   0.,   0.,\n",
       "         0.,   0.,   0.,   0.,   0.,   0.,   0.,   0.,   0.,   0.,   0.,\n",
       "         0.,  16.,  93., 252., 253., 187.,   0.,   0.,   0.,   0.,   0.,\n",
       "         0.,   0.,   0.,   0.,   0.,   0.,   0.,   0.,   0.,   0.,   0.,\n",
       "         0.,   0.,   0.,   0.,   0.,   0.,   0.,   0.,   0., 249., 253.,\n",
       "       249.,  64.,   0.,   0.,   0.,   0.,   0.,   0.,   0.,   0.,   0.,\n",
       "         0.,   0.,   0.,   0.,   0.,   0.,   0.,   0.,   0.,   0.,   0.,\n",
       "         0.,  46., 130., 183., 253., 253., 207.,   2.,   0.,   0.,   0.,\n",
       "         0.,   0.,   0.,   0.,   0.,   0.,   0.,   0.,   0.,   0.,   0.,\n",
       "         0.,   0.,   0.,   0.,   0.,  39., 148., 229., 253., 253., 253.,\n",
       "       250., 182.,   0.,   0.,   0.,   0.,   0.,   0.,   0.,   0.,   0.,\n",
       "         0.,   0.,   0.,   0.,   0.,   0.,   0.,   0.,   0.,  24., 114.,\n",
       "       221., 253., 253., 253., 253., 201.,  78.,   0.,   0.,   0.,   0.,\n",
       "         0.,   0.,   0.,   0.,   0.,   0.,   0.,   0.,   0.,   0.,   0.,\n",
       "         0.,   0.,  23.,  66., 213., 253., 253., 253., 253., 198.,  81.,\n",
       "         2.,   0.,   0.,   0.,   0.,   0.,   0.,   0.,   0.,   0.,   0.,\n",
       "         0.,   0.,   0.,   0.,   0.,   0.,  18., 171., 219., 253., 253.,\n",
       "       253., 253., 195.,  80.,   9.,   0.,   0.,   0.,   0.,   0.,   0.,\n",
       "         0.,   0.,   0.,   0.,   0.,   0.,   0.,   0.,   0.,   0.,  55.,\n",
       "       172., 226., 253., 253., 253., 253., 244., 133.,  11.,   0.,   0.,\n",
       "         0.,   0.,   0.,   0.,   0.,   0.,   0.,   0.,   0.,   0.,   0.,\n",
       "         0.,   0.,   0.,   0.,   0., 136., 253., 253., 253., 212., 135.,\n",
       "       132.,  16.,   0.,   0.,   0.,   0.,   0.,   0.,   0.,   0.,   0.,\n",
       "         0.,   0.,   0.,   0.,   0.,   0.,   0.,   0.,   0.,   0.,   0.,\n",
       "         0.,   0.,   0.,   0.,   0.,   0.,   0.,   0.,   0.,   0.,   0.,\n",
       "         0.,   0.,   0.,   0.,   0.,   0.,   0.,   0.,   0.,   0.,   0.,\n",
       "         0.,   0.,   0.,   0.,   0.,   0.,   0.,   0.,   0.,   0.,   0.,\n",
       "         0.,   0.,   0.,   0.,   0.,   0.,   0.,   0.,   0.,   0.,   0.,\n",
       "         0.,   0.,   0.,   0.,   0.,   0.,   0.,   0.,   0.,   0.,   0.,\n",
       "         0.,   0.,   0.,   0.,   0.,   0.,   0.,   0.,   0.,   0.,   0.,\n",
       "         0.,   0.,   0.,   0.,   0.,   0.,   0.,   0.,   0.,   0.,   0.,\n",
       "         0.,   0.,   0.])"
      ]
     },
     "execution_count": 8,
     "metadata": {},
     "output_type": "execute_result"
    }
   ],
   "source": [
    "x_train[0].size # 784\n",
    "x_train[0]"
   ]
  },
  {
   "cell_type": "code",
   "execution_count": 43,
   "metadata": {},
   "outputs": [
    {
     "name": "stdout",
     "output_type": "stream",
     "text": [
      "Epoch 1/5\n",
      "1875/1875 [==============================] - 19s 10ms/step - loss: 0.2140 - accuracy: 0.9345\n",
      "Epoch 2/5\n",
      "1875/1875 [==============================] - 19s 10ms/step - loss: 0.1062 - accuracy: 0.9675\n",
      "Epoch 3/5\n",
      "1875/1875 [==============================] - 18s 10ms/step - loss: 0.0804 - accuracy: 0.9744\n",
      "Epoch 4/5\n",
      "1875/1875 [==============================] - 18s 10ms/step - loss: 0.0660 - accuracy: 0.9790\n",
      "Epoch 5/5\n",
      "1875/1875 [==============================] - 18s 10ms/step - loss: 0.0581 - accuracy: 0.9821\n",
      "313/313 [==============================] - 1s 3ms/step - loss: 0.0701 - accuracy: 0.9792\n",
      "loss =  0.07006385177373886\n",
      "accuracy =  0.979200005531311\n",
      "(28, 28, 4) [[  0   0   0   0   0   0   0   0   0   0   0   0   0   0   0   0   0   0\n",
      "    0   0   0   0   0   0   0   0   0   0]\n",
      " [  0   0   0   0   0   0   0   0   0   0   0   0   0   0   0   0   0   0\n",
      "    0   0   0   0   0   0   0   0   0   0]\n",
      " [  0   0   0   0   0   0   0   0   0   0   0   0   0   0   0   0   0   0\n",
      "    0   0   0   0   0   0   0   0   0   0]\n",
      " [  0   0   0   0   0   0   0   0   0   0   0   0   0   0   0   0   0   0\n",
      "    0   0   0   0   0   0   0   0   0   0]\n",
      " [  0   0   0   0   0   0   0   0  41   0   0  23 255 255 255 255 255 255\n",
      "   54   0   0   0   0   0   0   0   0   0]\n",
      " [  0   0   0   0   0   0   0   0 255   0 255 255   0   0   0   0   0   0\n",
      "  239 255   0   0   0   0   0   0   0   0]\n",
      " [  0   0   0   0   0   0   0   0 255   0 255   0   0   0   0   0   0   0\n",
      "    0 255   0   0   0   0   0   0   0   0]\n",
      " [  0   0   0   0   0   0   0   0 255  43 255   0   0   0   0   0   0   0\n",
      "    0 255   0   0   0   0   0   0   0   0]\n",
      " [  0   0   0   0   0   0   0   0 255 185 185   0   0   0   0   0   0   0\n",
      "    0 255   0   0   0   0   0   0   0   0]\n",
      " [  0   0   0   0   0   0   0   0 255 255   0   0   0   0   0   0   0   0\n",
      "   96 255   0   0   0   0   0   0   0   0]\n",
      " [  0   0   0   0   0   0   0   0 255 255   0   0   0   0   0   0   0   0\n",
      "  255   0   0   0   0   0   0   0   0   0]\n",
      " [  0   0   0   0   0   0   0   0 255 255   0   0   0   0   0   0   0   0\n",
      "  255   0   0   0   0   0   0   0   0   0]\n",
      " [  0   0   0   0   0   0   0   0 255 255   0   0   0   0   0   0   0   0\n",
      "  255   0   0   0   0   0   0   0   0   0]\n",
      " [  0   0   0   0   0   0   0   0 255 223   0   0   0   0   0   0   0   0\n",
      "  255   0   0   0   0   0   0   0   0   0]\n",
      " [  0   0   0   0   0   0   0   0 255  32   0   0   0   0   0   0   0 191\n",
      "  195   0   0   0   0   0   0   0   0   0]\n",
      " [  0   0   0   0   0   0   0   0 255   0   0   0   0   0   0   0   0 191\n",
      "   64   0   0   0   0   0   0   0   0   0]\n",
      " [  0   0   0   0   0   0   0   0 255   0   0   0   0   0   0   0   0 255\n",
      "    0   0   0   0   0   0   0   0   0   0]\n",
      " [  0   0   0   0   0   0   0   0 255   0   0   0   0   0   0   0   0 255\n",
      "    0   0   0   0   0   0   0   0   0   0]\n",
      " [  0   0   0   0   0   0   0   0 255   0   0   0   0   0   0   0   0 255\n",
      "    0   0   0   0   0   0   0   0   0   0]\n",
      " [  0   0   0   0   0   0   0   0 255   0   0   0   0   0   0   0   0 255\n",
      "    0   0   0   0   0   0   0   0   0   0]\n",
      " [  0   0   0   0   0   0   0   0   0   0   0   0   0   0   0   0   0 255\n",
      "    0   0   0   0   0   0   0   0   0   0]\n",
      " [  0   0   0   0   0   0   0   0   0   0   0   0   0   0   0   0   0 255\n",
      "    0   0   0   0   0   0   0   0   0   0]\n",
      " [  0   0   0   0   0   0   0   0   0   0   0   0   0   0   0   0   0 255\n",
      "    0   0   0   0   0   0   0   0   0   0]\n",
      " [  0   0   0   0   0   0   0   0   0   0   0   0   0   0   0   0 168 239\n",
      "    0   0   0   0   0   0   0   0   0   0]\n",
      " [  0   0   0   0   0   0   0   0   0   0   0   0   0   0   0   0 235 255\n",
      "    0   0   0   0   0   0   0   0   0   0]\n",
      " [  0   0   0   0   0   0   0   0   0   0   0   0   0   0   0   0   0 255\n",
      "    0   0   0   0   0   0   0   0   0   0]\n",
      " [  0   0   0   0   0   0   0   0   0   0   0   0   0   0   0   0   0   0\n",
      "    0   0   0   0   0   0   0   0   0   0]\n",
      " [  0   0   0   0   0   0   0   0   0   0   0   0   0   0   0   0   0   0\n",
      "    0   0   0   0   0   0   0   0   0   0]]\n",
      "1/1 [==============================] - 0s 43ms/step\n",
      "Predicted class: 7\n"
     ]
    }
   ],
   "source": [
    "(x_train, y_train), (x_test, y_test) = mnist.load_data()\n",
    "\n",
    "x_train = x_train.reshape(60000, 784).astype('float')\n",
    "x_test = x_test.reshape(10000, 784).astype('float')\n",
    "x_train /= 255\n",
    "x_test /=255\n",
    "\n",
    "y_train = utils.to_categorical(y_train, 10)\n",
    "y_test = utils.to_categorical(y_test, 10)\n",
    "\n",
    "model = Sequential()\n",
    "model.add(Dense(512, input_shape=(784,)))\n",
    "model.add(Activation('relu'))\n",
    "model.add(Dropout(0.2))\n",
    "model.add(Dense(512))\n",
    "model.add(Activation('relu'))\n",
    "model.add(Dropout(0.2))\n",
    "model.add(Dense(10))\n",
    "model.add(Activation('softmax'))\n",
    "\n",
    "model.compile(loss='categorical_crossentropy', optimizer=Adam(), metrics=['accuracy'])\n",
    "\n",
    "hist = model.fit(x_train, y_train, epochs=5)\n",
    "\n",
    "score = model.evaluate(x_test, y_test, verbose=1)\n",
    "print('loss = ', score[0])\n",
    "print('accuracy = ', score[1])\n",
    "\n",
    "import struct\n",
    "\n",
    "def parse_png(png_data):\n",
    "    # PNG 파일의 시작 바이트를 확인\n",
    "    print(png_data.shape, png_data)\n",
    "    if png_data[:8] != b'\\x89PNG\\r\\n\\x1a\\n':\n",
    "        print(\"Invalid PNG file\")\n",
    "        raise ValueError(\"Invalid PNG file\")\n",
    "\n",
    "    offset = 8  # 시작 바이트를 건너뜀\n",
    "    data = []\n",
    "    while offset < len(png_data):\n",
    "        # 청크의 길이 (4바이트)\n",
    "        length = struct.unpack('>I', png_data[offset:offset + 4])[0]\n",
    "        offset += 4\n",
    "        \n",
    "        # 청크의 타입 (4바이트)\n",
    "        chunk_type = png_data[offset:offset + 4]\n",
    "        offset += 4\n",
    "        \n",
    "        # 청크의 데이터\n",
    "        data = png_data[offset:offset + length]\n",
    "        offset += length\n",
    "        print(data)\n",
    "        # 청크의 CRC (4바이트)\n",
    "        crc = png_data[offset:offset + 4]\n",
    "        offset += 4\n",
    "\n",
    "        # IHDR 청크를 찾고 너비와 높이 출력\n",
    "        if chunk_type == b'IHDR':\n",
    "            width, height = struct.unpack('>II', data[:8])\n",
    "            print(f\"Width: {width}, Height: {height}\")\n",
    "    return data\n",
    "\n",
    "# 실제 이미지 파일로 예측하기\n",
    "def load_and_preprocess_image(image_path):\n",
    "    # 이미지 로드\n",
    "    import numpy as np\n",
    "    from PIL import Image\n",
    "    # img = Image.open(image_path).convert('L')  # 흑백으로 변환\n",
    "    img = Image.open(image_path)\n",
    "    # img = img.resize((28, 28))  # 크기를 28x28로 조정\n",
    "    img_array = np.array(img)  # numpy 배열로 변환\n",
    "    print(img_array.shape, img_array)\n",
    "    # img_array = img_array.astype('float32') / 255  # 정규화\n",
    "    img_array = img_array.reshape(1, 784)  # 모델에 맞게 reshape\n",
    "    return img_array\n",
    "\n",
    "def predict_image(image_path):\n",
    "    import numpy as np\n",
    "    # img_array = load_and_preprocess_image(image_path)\n",
    "    # print(img_array)\n",
    "    from PIL import Image #\n",
    "    img = Image.open(image_path) #\n",
    "    img_array = np.array(img) # TODO\n",
    "    print(img_array.shape, img_array[:,:,3])\n",
    "    prediction = model.predict(img_array[:,:,3].reshape(1, 784) / 255)\n",
    "    predicted_class = np.argmax(prediction)  # 가장 높은 확률을 가진 클래스\n",
    "    print(f'Predicted class: {predicted_class}')\n",
    "    return predicted_class\n",
    "\n",
    "# 예측할 이미지 파일 경로\n",
    "# image_path = 'uploaded_image.png'  # 여기에 실제 이미지 파일 경로 입력\n",
    "# predicted_class = predict_image(image_path)\n",
    "image_path = r'C:/source/exercise/web_study/project/son_word/uploaded_image.png'  # 여기에 실제 이미지 파일 경로 입력\n",
    "predicted_class = predict_image(image_path)"
   ]
  },
  {
   "cell_type": "code",
   "execution_count": 44,
   "metadata": {},
   "outputs": [
    {
     "name": "stdout",
     "output_type": "stream",
     "text": [
      "(28, 28, 4) [[  0   0   0   0   0   0   0   0   0   0   0   0   0   0   0   0   0   0\n",
      "    0   0   0   0   0   0   0   0   0   0]\n",
      " [  0   0   0   0   0   0   0   0   0   0   0   0   0   0   0   0   0   0\n",
      "    0   0   0   0   0   0   0   0   0   0]\n",
      " [  0   0   0   0   0   0   0   0   0   0   0   0   0   0   0   0   0   0\n",
      "    0   0   0   0   0   0   0   0   0   0]\n",
      " [  0   0   0   0   0   0   0   0   0   0   0   0   0   0   0   0   0   0\n",
      "    0   0   0   0   0   0   0   0   0   0]\n",
      " [  0   0   0   0   0   0   0   0  41   0   0  23 255 255 255 255 255 255\n",
      "   54   0   0   0   0   0   0   0   0   0]\n",
      " [  0   0   0   0   0   0   0   0 255   0 255 255   0   0   0   0   0   0\n",
      "  239 255   0   0   0   0   0   0   0   0]\n",
      " [  0   0   0   0   0   0   0   0 255   0 255   0   0   0   0   0   0   0\n",
      "    0 255   0   0   0   0   0   0   0   0]\n",
      " [  0   0   0   0   0   0   0   0 255  43 255   0   0   0   0   0   0   0\n",
      "    0 255   0   0   0   0   0   0   0   0]\n",
      " [  0   0   0   0   0   0   0   0 255 185 185   0   0   0   0   0   0   0\n",
      "    0 255   0   0   0   0   0   0   0   0]\n",
      " [  0   0   0   0   0   0   0   0 255 255   0   0   0   0   0   0   0   0\n",
      "   96 255   0   0   0   0   0   0   0   0]\n",
      " [  0   0   0   0   0   0   0   0 255 255   0   0   0   0   0   0   0   0\n",
      "  255   0   0   0   0   0   0   0   0   0]\n",
      " [  0   0   0   0   0   0   0   0 255 255   0   0   0   0   0   0   0   0\n",
      "  255   0   0   0   0   0   0   0   0   0]\n",
      " [  0   0   0   0   0   0   0   0 255 255   0   0   0   0   0   0   0   0\n",
      "  255   0   0   0   0   0   0   0   0   0]\n",
      " [  0   0   0   0   0   0   0   0 255 223   0   0   0   0   0   0   0   0\n",
      "  255   0   0   0   0   0   0   0   0   0]\n",
      " [  0   0   0   0   0   0   0   0 255  32   0   0   0   0   0   0   0 191\n",
      "  195   0   0   0   0   0   0   0   0   0]\n",
      " [  0   0   0   0   0   0   0   0 255   0   0   0   0   0   0   0   0 191\n",
      "   64   0   0   0   0   0   0   0   0   0]\n",
      " [  0   0   0   0   0   0   0   0 255   0   0   0   0   0   0   0   0 255\n",
      "    0   0   0   0   0   0   0   0   0   0]\n",
      " [  0   0   0   0   0   0   0   0 255   0   0   0   0   0   0   0   0 255\n",
      "    0   0   0   0   0   0   0   0   0   0]\n",
      " [  0   0   0   0   0   0   0   0 255   0   0   0   0   0   0   0   0 255\n",
      "    0   0   0   0   0   0   0   0   0   0]\n",
      " [  0   0   0   0   0   0   0   0 255   0   0   0   0   0   0   0   0 255\n",
      "    0   0   0   0   0   0   0   0   0   0]\n",
      " [  0   0   0   0   0   0   0   0   0   0   0   0   0   0   0   0   0 255\n",
      "    0   0   0   0   0   0   0   0   0   0]\n",
      " [  0   0   0   0   0   0   0   0   0   0   0   0   0   0   0   0   0 255\n",
      "    0   0   0   0   0   0   0   0   0   0]\n",
      " [  0   0   0   0   0   0   0   0   0   0   0   0   0   0   0   0   0 255\n",
      "    0   0   0   0   0   0   0   0   0   0]\n",
      " [  0   0   0   0   0   0   0   0   0   0   0   0   0   0   0   0 168 239\n",
      "    0   0   0   0   0   0   0   0   0   0]\n",
      " [  0   0   0   0   0   0   0   0   0   0   0   0   0   0   0   0 235 255\n",
      "    0   0   0   0   0   0   0   0   0   0]\n",
      " [  0   0   0   0   0   0   0   0   0   0   0   0   0   0   0   0   0 255\n",
      "    0   0   0   0   0   0   0   0   0   0]\n",
      " [  0   0   0   0   0   0   0   0   0   0   0   0   0   0   0   0   0   0\n",
      "    0   0   0   0   0   0   0   0   0   0]\n",
      " [  0   0   0   0   0   0   0   0   0   0   0   0   0   0   0   0   0   0\n",
      "    0   0   0   0   0   0   0   0   0   0]]\n",
      "1/1 [==============================] - 0s 15ms/step\n",
      "Predicted class: 7\n"
     ]
    }
   ],
   "source": [
    "image_path = r'C:/source/exercise/web_study/project/son_word/uploaded_image.png'  # 여기에 실제 이미지 파일 경로 입력\n",
    "predicted_class = predict_image(image_path)"
   ]
  },
  {
   "cell_type": "code",
   "execution_count": 25,
   "metadata": {},
   "outputs": [
    {
     "name": "stdout",
     "output_type": "stream",
     "text": [
      "313/313 [==============================] - 1s 2ms/step - loss: 0.0721 - accuracy: 0.9795\n",
      "loss =  0.07207662612199783\n",
      "accuracy =  0.9794999957084656\n"
     ]
    }
   ],
   "source": [
    "score = model.evaluate(x_test, y_test, verbose=1)\n",
    "print('loss = ', score[0])\n",
    "print('accuracy = ', score[1])"
   ]
  },
  {
   "cell_type": "code",
   "execution_count": 5,
   "metadata": {},
   "outputs": [
    {
     "name": "stdout",
     "output_type": "stream",
     "text": [
      "6234\n",
      "Variable   Type           Data/Info\n",
      "-----------------------------------\n",
      "a          EagerTensor    tf.Tensor(1234, shape=(), dtype=int32)\n",
      "add_op     EagerTensor    tf.Tensor(6234, shape=(), dtype=int32)\n",
      "b          EagerTensor    tf.Tensor(5000, shape=(), dtype=int32)\n",
      "tf         module         <module 'tensorflow' from<...>tensorflow\\\\__init__.py'>\n"
     ]
    }
   ],
   "source": [
    "# ch5 calc1.py\n",
    "import tensorflow as tf\n",
    "\n",
    "a = tf.constant(1234)\n",
    "b = tf.constant(5000)\n",
    "add_op = a + b\n",
    "type(add_op) # tensorflow.python.framework.ops.EagerTensor\n",
    "\n",
    "# se = tf.Session()  # 텐서 1버전 \n",
    "# res = se.run(add_op)\n",
    "\n",
    "print(add_op.numpy())\n",
    "\n",
    "%whos"
   ]
  }
 ],
 "metadata": {
  "kernelspec": {
   "display_name": "Python 3",
   "language": "python",
   "name": "python3"
  },
  "language_info": {
   "codemirror_mode": {
    "name": "ipython",
    "version": 3
   },
   "file_extension": ".py",
   "mimetype": "text/x-python",
   "name": "python",
   "nbconvert_exporter": "python",
   "pygments_lexer": "ipython3",
   "version": "3.7.9"
  }
 },
 "nbformat": 4,
 "nbformat_minor": 2
}
