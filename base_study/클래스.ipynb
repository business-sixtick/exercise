{
 "cells": [
  {
   "cell_type": "code",
   "execution_count": null,
   "metadata": {},
   "outputs": [],
   "source": [
    "# 클래스 : 틀이자 단위\n",
    "#  상속, 다형성, 가시성"
   ]
  },
  {
   "cell_type": "code",
   "execution_count": 2,
   "metadata": {},
   "outputs": [],
   "source": [
    "class cal:\n",
    "    def __init__(self) -> None:  #초기화 메서드\n",
    "        self.result = 0\n",
    "    #모든 메서드의 첫번째 인자에 self 를 넣어줘야한다.\n",
    "    def add(self, value: int) -> int: # 타입을 강제하는건 아니네??? 그냥 참고네\n",
    "        self.result += value\n",
    "        return self.result\n",
    "    \n",
    "    def subtract(self, value: int) -> int:\n",
    "        self.result -= value\n",
    "        return self.result\n",
    "    \n",
    "    def multiply(self, value: int) -> int:\n",
    "        self.result *= value\n",
    "        return self.result\n",
    "    \n",
    "    def divide(self, value: int) -> float:\n",
    "        if value == 0:\n",
    "            raise ValueError(\"0으로 나눌 수 없습니다.\") #raise 예외 발생\n",
    "        self.result /= value\n",
    "        return self.result\n",
    "    \n",
    "    def reset(self) -> None:\n",
    "        self.result = 0\n"
   ]
  },
  {
   "cell_type": "code",
   "execution_count": 6,
   "metadata": {},
   "outputs": [
    {
     "name": "stdout",
     "output_type": "stream",
     "text": [
      "1.0\n"
     ]
    }
   ],
   "source": [
    "c = cal()\n",
    "print(c.add(1.0))"
   ]
  },
  {
   "cell_type": "code",
   "execution_count": 7,
   "metadata": {},
   "outputs": [
    {
     "name": "stdout",
     "output_type": "stream",
     "text": [
      "3\n"
     ]
    }
   ],
   "source": [
    "class cal1(cal) :  # 소괄호에 부모클래스를 넣으면 상속된다\n",
    "    def __init__(self) -> None: \n",
    "        super().__init__()\n",
    "    def add(self, val1, val2) : # 오버라이딩??? \n",
    "        return val1 + val2\n",
    "    \n",
    "\n",
    "c = cal1()\n",
    "print(c.add(1, 2))"
   ]
  },
  {
   "cell_type": "code",
   "execution_count": null,
   "metadata": {},
   "outputs": [],
   "source": [
    "# 클래스 원형\n",
    "'''  \n",
    "\n",
    "클래스 : 인스턴스를 만들수 있는 틀 (클래스는 객체를 생성하는 데 사용되며)\n",
    "인스턴스 : 클래스로 만들어낸 실체 (객체 == 인스턴스 == self == 자기자신)\n",
    "생성자 : 인스턴스 생성시 실행됨 (맴버선언 및 초기화)\n",
    "메서드 : 인스턴스 맴버함수를 얘기함. 클래스함수와 구분짓기 위해 명칭을 달리함.\n",
    "파괴자 : 인스턴스 파괴시 실행됨 (뒷정리, 백업 등, 대게 안씀)\n",
    "\n",
    "class 클래스명 :\n",
    "    def __init__(self[, 매개변수명 = 디폴트값 , ...]):          <- 생성자\n",
    "        초기화구문 (맴버 선언을 할 수 있다)\n",
    "        self.맴버이름 = 초기화값\n",
    "        self.__맴버이름 = 초기화값         <- 언더바 2개 앞에 붙이면 private 맴버, 클래스맴버 메서드 동일하게 적용할수 있음.\n",
    "        \n",
    "    클래스 맴버이름 = 초기화값             <- 인스턴스간 데이터 를 공유할 수있다. 클래스와 인스턴스간 이름이 겹칠 경우 인스턴스이름을 참조함.\n",
    "\n",
    "    def 메서드명([매개변수, ...]):         <- 메서드. 인스턴스함수\n",
    "        실행구문\n",
    "\n",
    "    \n",
    "\n",
    "class 클래스명(부모클래스명, ...) :                    <- 상속, 다중 상속 가능\n",
    "    def __init__(self):\n",
    "        super().__init__()         <- super()를 써서 부모객체에 접근 할 수 있다. 직접호출? 이라 self 안넣음\n",
    "        부모클래스명.맴버\n",
    "        부모클래스명.맴버함수(self)        <- 상속시 접근가능. 선언?? 이라 self 넣어줘야됨\n",
    "        부모클래스명.__init__(self)\n",
    "\n",
    "\n",
    "인스턴스명 = 클래스명([전달인자 ...])             <- 인스턴스 생성 구문\n",
    "인스턴스명.없는이름 = 값                     <- 인스턴스에 비동기적으로 맴버를 추가 할 수 있다.\n",
    "인스턴스명_두번째 = 클래스명()\n",
    "print(인스턴스명_두번째.없는이름)             <- 다만 비동기적으로 맴버를 추가한것은 해당 인스턴스에만 적용된것이라 \n",
    "                                               다른 인스턴스에서는 참조가 불가하여 에러가 난다. 참조하려면 이 인스턴스에도 추가해줘야한다.\n",
    "                                               그러므로 가급적 비동기적 맴버 추가는 하지 말자.\n",
    "\n",
    "                                               \n",
    "'''\n",
    "\n"
   ]
  },
  {
   "cell_type": "code",
   "execution_count": 4,
   "metadata": {},
   "outputs": [
    {
     "name": "stdout",
     "output_type": "stream",
     "text": [
      "<class '__main__.fish_bread'>가 생성되었습니다.\n"
     ]
    }
   ],
   "source": [
    "# 생성자\n",
    "class fish_bread : \n",
    "    def __init__(self): # 생성자\n",
    "        # 생성시 필요한 초기화 구문을 작성함.\n",
    "        print(f'{type(self)}가 생성되었습니다.')\n",
    "\n",
    "fb = fish_bread()\n",
    "\n"
   ]
  },
  {
   "cell_type": "code",
   "execution_count": 5,
   "metadata": {},
   "outputs": [
    {
     "name": "stdout",
     "output_type": "stream",
     "text": [
      "재료에는 ['밀가루', '팥', '설탕']이 있습니다.\n"
     ]
    }
   ],
   "source": [
    "class fish_bread : \n",
    "    def __init__(self): # 생성자\n",
    "        self.material = ['밀가루', '팥', '설탕'] # 맴버변수. self는 자기자신(인스턴스)\n",
    "        print(f'재료에는 {self.material}이 있습니다.')\n",
    "\n",
    "fb = fish_bread()"
   ]
  },
  {
   "cell_type": "code",
   "execution_count": 6,
   "metadata": {},
   "outputs": [
    {
     "name": "stdout",
     "output_type": "stream",
     "text": [
      "재료에는 팥이 있습니다.\n",
      "재료에는 설탕이 있습니다.\n",
      "2 2 팥 설탕\n",
      "재료에는 과일이 있습니다.\n",
      "3 \"fb2 의 맴버변수 count\" 3 팥 설탕 과일\n"
     ]
    }
   ],
   "source": [
    "class fish_bread : \n",
    "    def __init__(self, material): # 생성자\n",
    "        self.material = material # 맴버변수. self는 자기자신(인스턴스)\n",
    "        print(f'재료에는 {self.material}이 있습니다.')\n",
    "        fish_bread.count += 1\n",
    "    count = 0 # 클래스 변수. 모든 인스턴스에서 접근 가능\n",
    "\n",
    "fb1 = fish_bread('팥')\n",
    "fb2 = fish_bread('설탕')\n",
    "print(fb1.count, fb2.count, fb1.material, fb2.material)\n",
    "# 해당 맴버변수가 없으면 클래스 변수에 있는지 찾는다\n",
    "# 해당 맴버변수를 할당 하면 클래스 변수를 찾지 않는다\n",
    "fb2.count = '\"fb2 의 맴버변수 count\"'\n",
    "fb3 = fish_bread('과일')\n",
    "print(fb1.count, fb2.count, fb3.count, fb1.material, fb2.material, fb3.material)\n",
    "\n"
   ]
  },
  {
   "cell_type": "code",
   "execution_count": 7,
   "metadata": {},
   "outputs": [
    {
     "name": "stdout",
     "output_type": "stream",
     "text": [
      "재료에는 팥이 있습니다.\n",
      "재료에는 설탕이 있습니다.\n"
     ]
    },
    {
     "ename": "AttributeError",
     "evalue": "'fish_bread' object has no attribute '__count'",
     "output_type": "error",
     "traceback": [
      "\u001b[1;31m---------------------------------------------------------------------------\u001b[0m",
      "\u001b[1;31mAttributeError\u001b[0m                            Traceback (most recent call last)",
      "Cell \u001b[1;32mIn[7], line 10\u001b[0m\n\u001b[0;32m      8\u001b[0m fb1 \u001b[38;5;241m=\u001b[39m fish_bread(\u001b[38;5;124m'\u001b[39m\u001b[38;5;124m팥\u001b[39m\u001b[38;5;124m'\u001b[39m)\n\u001b[0;32m      9\u001b[0m fb2 \u001b[38;5;241m=\u001b[39m fish_bread(\u001b[38;5;124m'\u001b[39m\u001b[38;5;124m설탕\u001b[39m\u001b[38;5;124m'\u001b[39m)\n\u001b[1;32m---> 10\u001b[0m \u001b[38;5;28mprint\u001b[39m(\u001b[43mfb1\u001b[49m\u001b[38;5;241;43m.\u001b[39;49m\u001b[43m__count\u001b[49m, fb2\u001b[38;5;241m.\u001b[39m__count, fb1\u001b[38;5;241m.\u001b[39mmaterial, fb2\u001b[38;5;241m.\u001b[39mmaterial)\n",
      "\u001b[1;31mAttributeError\u001b[0m: 'fish_bread' object has no attribute '__count'"
     ]
    }
   ],
   "source": [
    "class fish_bread : \n",
    "    def __init__(self, material): # 생성자\n",
    "        self.material = material # 맴버변수. self는 자기자신(인스턴스)\n",
    "        print(f'재료에는 {self.material}이 있습니다.')\n",
    "        fish_bread.__count += 1\n",
    "    __count = 0 # 앞에 언더바 두개를 붙이면 private 맴버가 된다.\n",
    "    # 프라이빗 맴버에 접근하려고 하면 에러가 생긴다.\n",
    "\n",
    "fb1 = fish_bread('팥')\n",
    "fb2 = fish_bread('설탕')\n",
    "print(fb1.__count, fb2.__count, fb1.material, fb2.material)\n",
    "\n",
    "\n"
   ]
  },
  {
   "cell_type": "code",
   "execution_count": 8,
   "metadata": {},
   "outputs": [
    {
     "name": "stdout",
     "output_type": "stream",
     "text": [
      "재료에는 팥이 있습니다.\n",
      "재료에는 설탕이 있습니다.\n",
      "2 2 팥 설탕\n"
     ]
    }
   ],
   "source": [
    "class fish_bread : \n",
    "    def __init__(self, material): # 생성자\n",
    "        self.material = material # 맴버변수. self는 자기자신(인스턴스)\n",
    "        print(f'재료에는 {self.material}이 있습니다.')\n",
    "        fish_bread.__count += 1\n",
    "        \n",
    "    __count = 0 # 앞에 언더바 두개를 붙이면 private 맴버가 된다.\n",
    "    # 프라이빗 맴버에 접근하려고 하면 에러가 생긴다.\n",
    "    def count(self): # set은 생성자에서 할것이기에 getter만 메서드로 공개한다.\n",
    "        return self.__count\n",
    "\n",
    "fb1 = fish_bread('팥')\n",
    "fb2 = fish_bread('설탕')\n",
    "print(fb1.count(), fb2.count(), fb1.material, fb2.material)"
   ]
  },
  {
   "cell_type": "code",
   "execution_count": 25,
   "metadata": {},
   "outputs": [
    {
     "name": "stdout",
     "output_type": "stream",
     "text": [
      "재료에는 팥이 있습니다.\n",
      "500 500\n"
     ]
    }
   ],
   "source": [
    "class bread :\n",
    "    def __init__(self):\n",
    "        self.__price = 500\n",
    "    def price(self):\n",
    "        return self.__price # 클래스내에서는 프라이빗 맴버에 접근 가능함.    \n",
    "    \n",
    "class fish_bread(bread) : # bread클래스를 상속 받았다 \n",
    "    def __init__(self, material): # 생성자\n",
    "        bread.__init__(self) # 부모초기화\n",
    "        # super().__init__() # 부모초기화 . super 는 부모 객체를 뜻함. 다중 상속시 혼돈이 오기에 지양함\n",
    "\n",
    "        self.material = material # 맴버변수. self는 자기자신(인스턴스)\n",
    "        \n",
    "        fish_bread.__count += 1\n",
    "        \n",
    "    __count = 0 # 앞에 언더바 두개를 붙이면 private 맴버가 된다.\n",
    "    # 프라이빗 맴버에 접근하려고 하면 에러가 생긴다.\n",
    "    def count(self): # set은 생성자에서 할것이기에 getter만 메서드로 공개한다.\n",
    "        return self.__count\n",
    "    \n",
    "    \n",
    "    # 메서드 : 인스턴스에서 정의된 함수\n",
    "    def gift(self, count): # 메서드에는 self를 첫번째 인자로 꼭 써야한다.\n",
    "        print(f'붕어빵 {count}가 포장 되었습니다.')\n",
    "\n",
    "\n",
    "bread1 = bread()\n",
    "fbread1 = fish_bread('팥')\n",
    "# 부모의 기능을 쓸 수 있음. \n",
    "print(bread1.price(),fbread1.price())\n",
    "\n"
   ]
  },
  {
   "cell_type": "code",
   "execution_count": 26,
   "metadata": {},
   "outputs": [
    {
     "name": "stdout",
     "output_type": "stream",
     "text": [
      "500 1000\n"
     ]
    }
   ],
   "source": [
    "# is a 상속 관계\n",
    "# has a 포함 관계\n",
    "class Bread :\n",
    "    def __init__(self):\n",
    "        self.__price = 500\n",
    "    def price(self):\n",
    "        return self.__price # 클래스내에서는 프라이빗 맴버에 접근 가능함.    \n",
    "    \n",
    "class Fish_bread(Bread) : # bread클래스를 상속 받았다 FishBread fish_bread\n",
    "    def __init__(self, material): # 생성자\n",
    "        Bread.__init__(self) # 부모초기화\n",
    "        # super().__init__() # 부모초기화 . super 는 부모 객체를 뜻함. 다중 상속시 혼돈이 오기에 지양함\n",
    "\n",
    "        self.material = material # 맴버변수. self는 자기자신(인스턴스)\n",
    "        \n",
    "        Fish_bread.__count += 1\n",
    "        \n",
    "    __count = 0 # 앞에 언더바 두개를 붙이면 private 맴버가 된다.\n",
    "    # 프라이빗 맴버에 접근하려고 하면 에러가 생긴다.\n",
    "    def count(self): # set은 생성자에서 할것이기에 getter만 메서드로 공개한다.\n",
    "        return self.__count\n",
    "    \n",
    "    \n",
    "    # 메서드 : 인스턴스에서 정의된 함수\n",
    "    def gift(self, count): # 메서드에는 self를 첫번째 인자로 꼭 써야한다.\n",
    "        print(f'붕어빵 {count}가 포장 되었습니다.')\n",
    "\n",
    "    # 오버라이딩 : 부모의 price 메서드가 재정의 되었다.\n",
    "    def price(self):\n",
    "        return super().price() + 500 \n",
    "\n",
    "\n",
    "bread1 = Bread()\n",
    "fbread1 = Fish_bread('팥')\n",
    "print(bread1.price(),fbread1.price()) # price메서드가 재정의 되어서 값이 다름\n",
    "\n"
   ]
  },
  {
   "cell_type": "code",
   "execution_count": 34,
   "metadata": {},
   "outputs": [
    {
     "name": "stdout",
     "output_type": "stream",
     "text": [
      "30\n",
      "2\n",
      "<function cal.<lambda> at 0x000001C99A89D620>\n",
      "division by zero ZeroDivisionError\n",
      "3.0\n"
     ]
    }
   ],
   "source": [
    "class cal : # 사칙연산 클래스\n",
    "    \n",
    "    def __init__(self):\n",
    "        pass\n",
    "    def sum(self, a, b):\n",
    "        return a + b\n",
    "    def sub(self, a, b):\n",
    "        return a - b\n",
    "    def mul(self, a, b):\n",
    "        return a * b\n",
    "    def div(self, a, b):\n",
    "        try :        \n",
    "            return a / b\n",
    "        except ZeroDivisionError as zero : \n",
    "            print(zero, type(zero).__name__)\n",
    "            return 0\n",
    "        except Exception as e :\n",
    "            print(e, type(e).__name__)        \n",
    "    \n",
    "\n",
    "\n",
    "    share = lambda x , y : x % y \n",
    "    \"\"\" x % y 연산을 실행한다\n",
    "        x : 피연산자 x\n",
    "        y : 피연산자 y\n",
    "    \"\"\"\n",
    "    \n",
    "c = cal()\n",
    "print(c.sum(10, 20))\n",
    "\n",
    "print(cal.share(20,3))\n",
    "print(cal.share)\n",
    "print(c.div(3, 0))\n"
   ]
  },
  {
   "cell_type": "code",
   "execution_count": 3,
   "metadata": {},
   "outputs": [
    {
     "name": "stdout",
     "output_type": "stream",
     "text": [
      "오늘 몇개나 만들었냐?? :  5 개 만들었습니다\n",
      "1 :  팥 팥 팥\n",
      "2 :  팥 밤 팥\n",
      "3 :  붕어빵기계 붕어빵기계 붕어빵기계\n",
      "4 :  붕어빵기계 먹다버린붕어빵 붕어빵기계\n",
      "5 :  최첨단 붕어빵기계 먹다버린붕어빵 최첨단 붕어빵기계\n",
      "최첨단 붕어빵기계 팥\n",
      "먹다버린붕어빵 밤\n",
      "최첨단 붕어빵기계 팥\n",
      "최첨단 붕어빵기계 팥\n",
      "밤붕어빵 밤\n"
     ]
    }
   ],
   "source": [
    "#파이썬에서는 인스턴스 변수가 클래스 변수보다 우선순위가 높습니다. 따라서 인스턴스에서 속성을 조회할 때, 인스턴스 변수가 있으면 인스턴스 변수를 참조하게 됩니다.\n",
    "class 붕어빵기계 :\n",
    "    def __init__(self, 재료 = '팥'):\n",
    "        self.앙금 = 재료  # 인스턴스 맴버\n",
    "        붕어빵기계.생산량 += 1\n",
    "        \n",
    "    이름 = '붕어빵기계' # 클래스 맴버\n",
    "    생산량 = 0\n",
    "\n",
    "    def 너뭐야(self) :\n",
    "        print(f'{self.이름}', f'{self.앙금}')\n",
    "\n",
    "class 최신붕어빵기계(붕어빵기계):\n",
    "    def __init__(self, 재료 = '팥'):\n",
    "        # super().__init__(재료) # 다중상속시 버그가 생기고 혼동되니 부모클래스명으로 통일하자\n",
    "        붕어빵기계.__init__(self, 재료)\n",
    "        #붕어빵기계.__init__(재료) # 부모클래스명으로 접근시 self 안넣으면 오류\n",
    "    \n",
    "    def 밤붕어빵():\n",
    "        ret = 최신붕어빵기계('밤')\n",
    "        ret.이름 = '밤붕어빵'\n",
    "        return ret\n",
    "    \n",
    "\n",
    "\n",
    "붕어빵_일 = 붕어빵기계()\n",
    "붕어빵_이 = 붕어빵기계()\n",
    "붕어빵_삼 = 붕어빵기계()\n",
    "붕어빵_사 = 최신붕어빵기계()\n",
    "붕어빵_오 = 최신붕어빵기계.밤붕어빵()\n",
    "\n",
    "print('오늘 몇개나 만들었냐?? : ' , 붕어빵기계.생산량 , '개 만들었습니다')\n",
    "\n",
    "print('1 : ', 붕어빵_일.앙금, 붕어빵_이.앙금, 붕어빵_삼.앙금)\n",
    "붕어빵_이.앙금 = '밤'\n",
    "print('2 : ', 붕어빵_일.앙금, 붕어빵_이.앙금, 붕어빵_삼.앙금)\n",
    "print('3 : ', 붕어빵_일.이름, 붕어빵_이.이름, 붕어빵_삼.이름) # 값을 찾을때 인스턴스 맴버에 없으면 클래스 맴버를 찾는다.\n",
    "붕어빵_이.이름 = '먹다버린붕어빵'                    # 인스턴스 값을 변경할때 인스턴스 맴버에 없으면 새로 생성한다\n",
    "print('4 : ', 붕어빵_일.이름, 붕어빵_이.이름, 붕어빵_삼.이름) # 인스턴스 맴버에 있으면?\n",
    "붕어빵기계.이름 = '최첨단 붕어빵기계' \n",
    "print('5 : ', 붕어빵_일.이름, 붕어빵_이.이름, 붕어빵_삼.이름) \n",
    "붕어빵_일.너뭐야()\n",
    "붕어빵_이.너뭐야()\n",
    "붕어빵_삼.너뭐야()\n",
    "붕어빵_사.너뭐야()\n",
    "붕어빵_오.너뭐야()\n"
   ]
  }
 ],
 "metadata": {
  "kernelspec": {
   "display_name": "Python 3",
   "language": "python",
   "name": "python3"
  },
  "language_info": {
   "codemirror_mode": {
    "name": "ipython",
    "version": 3
   },
   "file_extension": ".py",
   "mimetype": "text/x-python",
   "name": "python",
   "nbconvert_exporter": "python",
   "pygments_lexer": "ipython3",
   "version": "3.12.4"
  }
 },
 "nbformat": 4,
 "nbformat_minor": 2
}
