{
 "cells": [
  {
   "cell_type": "code",
   "execution_count": 3,
   "metadata": {},
   "outputs": [
    {
     "name": "stdout",
     "output_type": "stream",
     "text": [
      "func\n",
      "{'member': 0}\n"
     ]
    }
   ],
   "source": [
    "# 함수 == 동사\n",
    "# 인자 parameter, 인수 argument, \n",
    "def func() : \n",
    "    print('func')\n",
    "    member = 0\n",
    "    print(locals()) #내부맴버 로컬맴버\n",
    "func()"
   ]
  },
  {
   "cell_type": "code",
   "execution_count": 4,
   "metadata": {},
   "outputs": [
    {
     "name": "stdout",
     "output_type": "stream",
     "text": [
      "<class 'builtin_function_or_method'>\n"
     ]
    }
   ],
   "source": [
    "# 함수 원형 4가지\n",
    "'''\n",
    "1. 기능만 있는\n",
    "def 함수명():\n",
    "    실행문\n",
    "\n",
    "2. 기능, 반환이 있는\n",
    "def 함수명():\n",
    "    실행문\n",
    "    return 반환값\n",
    "\n",
    "3. 기능, 인자만 있는\n",
    "def 함수명(인자):\n",
    "    실행문\n",
    "    \n",
    "4. 기능, 인자, 반환이 있는\n",
    "def 함수명(인자):\n",
    "    실행문\n",
    "    return 반환값\n",
    "'''"
   ]
  },
  {
   "cell_type": "code",
   "execution_count": 42,
   "metadata": {},
   "outputs": [
    {
     "name": "stdout",
     "output_type": "stream",
     "text": [
      "3628800\n",
      "3628800\n"
     ]
    }
   ],
   "source": [
    "# 팩토리얼\n",
    "sum = 1\n",
    "for i in range(10, 1, -1):\n",
    "    sum *= i\n",
    "print(sum)\n",
    "\n",
    "# 팩토리얼 재귀함수\n",
    "def factory(n):\n",
    "    if n == 0 :\n",
    "        return 1\n",
    "    return n * factory(n - 1)\n",
    "print(factory(10))"
   ]
  },
  {
   "cell_type": "code",
   "execution_count": 36,
   "metadata": {},
   "outputs": [
    {
     "name": "stdout",
     "output_type": "stream",
     "text": [
      "55\n",
      "55\n"
     ]
    }
   ],
   "source": [
    "def test_sum(*num):\n",
    "    return sum(num)\n",
    "print(test_sum(1,2,3,4,5,6,7,8,9,10))\n",
    "\n",
    "def test_sum(*num):\n",
    "    sum = 0\n",
    "    for i in num:\n",
    "        sum += i\n",
    "    return sum\n",
    "print(test_sum(1,2,3,4,5,6,7,8,9,10))"
   ]
  },
  {
   "cell_type": "code",
   "execution_count": 21,
   "metadata": {},
   "outputs": [
    {
     "name": "stdout",
     "output_type": "stream",
     "text": [
      "{'one': 'hello', 'two': 'hi', 'three': 'hey', 'four': 'yo'}\n",
      "('hello', 'hi') {'three': 'hey', 'four': 'yo'}\n"
     ]
    }
   ],
   "source": [
    "def function(**value): # 사전인자는 딕셔너리 타입으로 받는다\n",
    "    print(value)\n",
    "function(one='hello', two='hi', three='hey', four='yo')\n",
    "# 사전인자에는 전달값에 이름을 붙여야 한다.\n",
    "\n",
    "# def function(value1, **value2): \n",
    "#     print(value1, value2)\n",
    "# function(one='hello', two='hi', three='hey', four='yo') \n",
    "# 일반 매개변수에는 전달값에 이름을 붙이면 에러난다\n",
    "\n",
    "def function(*value1, **value2): # 가변인자와, 사전인자 같이 쓰는 형태\n",
    "    print(value1, value2)\n",
    "function('hello', 'hi', three='hey', four='yo')"
   ]
  },
  {
   "cell_type": "code",
   "execution_count": 31,
   "metadata": {},
   "outputs": [
    {
     "name": "stdout",
     "output_type": "stream",
     "text": [
      "('hello',)\n",
      "('hello', 'hi', 'hey', 'yo')\n",
      "hello ()\n",
      "hello ('hi', 'hey', 'yo')\n",
      "('hello',) uh\n",
      "('hello', 'hi', 'hey', 'yo') uh\n",
      "('hello',) uh\n",
      "('hello', 'hi', 'hey', 'yo') uh\n"
     ]
    }
   ],
   "source": [
    "def function(*value): # 매개변수 앞에 * asterisk 를 붙이면 가변인자가 된다.\n",
    "    print(value) # 가변적으로 전달값을 받고 매개변수 타입은 튜플이 된다.\n",
    "function('hello')\n",
    "function('hello', 'hi', 'hey', 'yo')\n",
    "\n",
    "def function(value1, *value2): # 앞에 일반이 하나 받고 나머지를 가변인자가 받는다\n",
    "    print(value1, value2)\n",
    "function('hello') # 가변인자가 받을게 없으면 빈 튜플이 된다.\n",
    "function('hello', 'hi', 'hey', 'yo')\n",
    "\n",
    "# def function(*value1, value2): # 가변인자 뒤에 일반 매개변수는 올 수 없다.\n",
    "\n",
    "def function(*value1, value2='uh'): # 가변인자 뒤에 디폴트인자는 올 수 있다.\n",
    "    print(value1, value2)\n",
    "function('hello') \n",
    "function('hello', 'hi', 'hey', 'yo')\n",
    "\n",
    "def function(*value1): # 위와 결과는 같지만 훨씬 좋은 표현같다.\n",
    "    value2='uh'\n",
    "    print(value1, value2)\n",
    "function('hello') \n",
    "function('hello', 'hi', 'hey', 'yo')\n",
    "\n",
    "\n"
   ]
  },
  {
   "cell_type": "code",
   "execution_count": 9,
   "metadata": {},
   "outputs": [
    {
     "name": "stdout",
     "output_type": "stream",
     "text": [
      "hello\n",
      "hello hi\n",
      "hello hi\n",
      "hello hi\n",
      "hey yo\n",
      "one <class 'str'>\n",
      "('one', 'two') <class 'tuple'>\n"
     ]
    }
   ],
   "source": [
    "# 매개변수 parameter : 전달 받은 값을 저장한다.\n",
    "def function(value): # 한개의 매개변수가 있는 형태\n",
    "    print(value)\n",
    "function('hello') # 호출, 전달값 argument를 넣지 않으면 오류난다.\n",
    "\n",
    "def function(value1, value2): # 두개의 매개변수가 있는 형태\n",
    "    print(value1, value2)\n",
    "function('hello', 'hi') # 같은 이름으로 정의하면 재정의되며 전에것은 없어진다.\n",
    "\n",
    "def function(value1, value2='hi'): # 초기값을 갖는 매개변수를 갖는 형태\n",
    "    print(value1, value2)\n",
    "function('hello') # 두번째 인자는 초기값을 갖기때문에 전달값을 생략 할 수 있다.\n",
    "\n",
    "# def function(value1='hello', value2): # 초기값을 갖는 매개변수가 있으면\n",
    "                                        # 뒤에 오는 매개변수도 초기값을 줘야 한다.\n",
    "def function(value1='hello', value2='hi'):\n",
    "    print(value1, value2)\n",
    "function() # 둘다 초기값이 있어 전달값을 생략해도 된다.\n",
    "function('hey', 'yo') # 전달값을 넣으면 초기값이 적용되지 않고 전달값이 적용된다.\n",
    "\n",
    "def function():\n",
    "    return 'one' \n",
    "print(function(), type(function()))\n",
    "\n",
    "def function():\n",
    "    return 'one', 'two' # 여러개를 반환 할경우 튜플 타입으로 반환한다.\n",
    "print(function(), type(function()))\n"
   ]
  },
  {
   "cell_type": "code",
   "execution_count": 1,
   "metadata": {},
   "outputs": [
    {
     "data": {
      "text/plain": [
       "{'__name__': '__main__',\n",
       " '__doc__': 'Automatically created module for IPython interactive environment',\n",
       " '__package__': None,\n",
       " '__loader__': None,\n",
       " '__spec__': None,\n",
       " '__builtin__': <module 'builtins' (built-in)>,\n",
       " '__builtins__': <module 'builtins' (built-in)>,\n",
       " '_ih': ['', 'locals()'],\n",
       " '_oh': {},\n",
       " '_dh': [WindowsPath('c:/source/exercise/base_study')],\n",
       " 'In': ['', 'locals()'],\n",
       " 'Out': {},\n",
       " 'get_ipython': <bound method InteractiveShell.get_ipython of <ipykernel.zmqshell.ZMQInteractiveShell object at 0x00000203514BDF70>>,\n",
       " 'exit': <IPython.core.autocall.ZMQExitAutocall at 0x203527ca780>,\n",
       " 'quit': <IPython.core.autocall.ZMQExitAutocall at 0x203527ca780>,\n",
       " 'open': <function _io.open(file, mode='r', buffering=-1, encoding=None, errors=None, newline=None, closefd=True, opener=None)>,\n",
       " '_': '',\n",
       " '__': '',\n",
       " '___': '',\n",
       " '__vsc_ipynb_file__': 'c:\\\\source\\\\exercise\\\\base_study\\\\함수.ipynb',\n",
       " '_i': '',\n",
       " '_ii': '',\n",
       " '_iii': '',\n",
       " '_i1': 'locals()'}"
      ]
     },
     "execution_count": 1,
     "metadata": {},
     "output_type": "execute_result"
    }
   ],
   "source": [
    "locals()"
   ]
  },
  {
   "cell_type": "code",
   "execution_count": 2,
   "metadata": {},
   "outputs": [
    {
     "data": {
      "text/plain": [
       "{'__name__': '__main__',\n",
       " '__doc__': 'Automatically created module for IPython interactive environment',\n",
       " '__package__': None,\n",
       " '__loader__': None,\n",
       " '__spec__': None,\n",
       " '__builtin__': <module 'builtins' (built-in)>,\n",
       " '__builtins__': <module 'builtins' (built-in)>,\n",
       " '_ih': ['', 'locals()', 'globals() # 전역맴버 글로벌맴버'],\n",
       " '_oh': {1: {...}},\n",
       " '_dh': [WindowsPath('c:/source/exercise/base_study')],\n",
       " 'In': ['', 'locals()', 'globals() # 전역맴버 글로벌맴버'],\n",
       " 'Out': {1: {...}},\n",
       " 'get_ipython': <bound method InteractiveShell.get_ipython of <ipykernel.zmqshell.ZMQInteractiveShell object at 0x00000203514BDF70>>,\n",
       " 'exit': <IPython.core.autocall.ZMQExitAutocall at 0x203527ca780>,\n",
       " 'quit': <IPython.core.autocall.ZMQExitAutocall at 0x203527ca780>,\n",
       " 'open': <function _io.open(file, mode='r', buffering=-1, encoding=None, errors=None, newline=None, closefd=True, opener=None)>,\n",
       " '_': {...},\n",
       " '__': '',\n",
       " '___': '',\n",
       " '__vsc_ipynb_file__': 'c:\\\\source\\\\exercise\\\\base_study\\\\함수.ipynb',\n",
       " '_i': 'locals()',\n",
       " '_ii': '',\n",
       " '_iii': '',\n",
       " '_i1': 'locals()',\n",
       " '_1': {...},\n",
       " '_i2': 'globals() # 전역맴버 글로벌맴버'}"
      ]
     },
     "execution_count": 2,
     "metadata": {},
     "output_type": "execute_result"
    }
   ],
   "source": [
    "globals() # 전역맴버 글로벌맴버"
   ]
  },
  {
   "cell_type": "code",
   "execution_count": null,
   "metadata": {},
   "outputs": [],
   "source": [
    "dir(func)\n",
    "print(func.__dict__)"
   ]
  },
  {
   "cell_type": "code",
   "execution_count": null,
   "metadata": {},
   "outputs": [],
   "source": [
    "year = 10000 // (365 * 24)\n",
    "print(year)\n",
    "day = 10000 % (365 * 24) // 24\n",
    "print(day)\n",
    "print(f'{year}년 {day}일')\n"
   ]
  },
  {
   "cell_type": "code",
   "execution_count": null,
   "metadata": {},
   "outputs": [],
   "source": [
    "def to_year(hour) :\n",
    "    return hour // (365 * 24)\n",
    "\n",
    "def to_day(hour) :\n",
    "    return hour // 24\n",
    "\n",
    "def to_year_day(hour) :\n",
    "    year = hour // (365 * 24)\n",
    "    day = hour % (365 * 24) // 24\n",
    "    return f'{year}년 {day}일' \n",
    "\n",
    "to_year_day(10000)"
   ]
  },
  {
   "cell_type": "code",
   "execution_count": null,
   "metadata": {},
   "outputs": [],
   "source": [
    "movie_list = ['닥터 스트레인지', '스플릿', '럭키']\n",
    "# movie_dict = {index+1: value for index, value in enumerate(movie_list)} #컴프리헨션 comprehension 이해, 이해력\n",
    "movie_dict = {index: value for index, value in enumerate(movie_list, start=1)} #컴프리헨션 comprehension 이해, 이해력\n",
    "for i in movie_dict :\n",
    "    print(i, movie_dict[i])"
   ]
  },
  {
   "cell_type": "code",
   "execution_count": null,
   "metadata": {},
   "outputs": [],
   "source": [
    "def grade_get(point) :\n",
    "    grade = \"E\"\n",
    "    if point > 80 :\n",
    "        grade = 'A'\n",
    "    elif point > 60 :\n",
    "        grade = 'B'\n",
    "    elif point > 40 :\n",
    "        grade = 'C'\n",
    "    elif point > 20 :\n",
    "        grade = 'D'\n",
    "    return grade\n",
    "\n",
    "point = input('점수를 입력하세요 : ')\n",
    "print(grade_get(int(point)))"
   ]
  },
  {
   "cell_type": "code",
   "execution_count": null,
   "metadata": {},
   "outputs": [],
   "source": [
    "cash = {'달러' : 1167.0, '엔' : 1.096, '유로': 1268.0, '위안': 171.0}\n",
    "won = int(input('얼마를 환전 하시겠습니까? :'))\n",
    "dol = won / cash['달러']\n",
    "en = won / cash['엔']\n",
    "eu = won / cash['유로']\n",
    "wi = won / cash['위안']\n",
    "print(f'{won}원은 {dol:.2f}달러 입니다')\n",
    "print(f'{won}원은 {en:.2f}엔 입니다')\n",
    "print(f'{won}원은 {eu:.2f}유로 입니다')\n",
    "print(f'{won}원은 {wi:.2f}위안 입니다')"
   ]
  },
  {
   "cell_type": "code",
   "execution_count": null,
   "metadata": {},
   "outputs": [],
   "source": [
    "cash = {'달러' : 1167.0, '엔' : 1.096, '유로': 1268.0, '위안': 171.0}\n",
    "won = int(input('얼마를 환전 하시겠습니까? :'))\n",
    "exchange_dict = { currency : round(won / exchange_rate, 2) for currency, exchange_rate in cash.items()} # 컴프리헨션 , currency : 통화, exchange rate : 환율\n",
    "for currency, exchange_rate in exchange_dict.items() :\n",
    "    print(f'{won}원은 {exchange_rate}{currency}입니다')"
   ]
  },
  {
   "cell_type": "code",
   "execution_count": null,
   "metadata": {},
   "outputs": [],
   "source": [
    "post_dict = {'010': '강북구', '011' : '강북구', '012' : '강북구' ,\\\n",
    "             '013' : '도봉구', '014' : '도봉구', '015' : '도봉구' ,\\\n",
    "                '016' : '노원구', '017' : '노원구', '018' : '노원구', '019' : '노원구'}\n",
    "my_post = '01035'\n",
    "my_post_div = my_post[:3] \n",
    "print(my_post_div)   \n",
    "if(my_post_div[:2] == '01') :\n",
    "    print(post_dict[my_post_div])  # if my_post_div in ['010', '011', '012'] :\n",
    "else :\n",
    "    print('꺼져')"
   ]
  },
  {
   "cell_type": "code",
   "execution_count": null,
   "metadata": {},
   "outputs": [],
   "source": [
    "# 가변인자. 튜플 형태로 받네\n",
    "def shout(*sound):\n",
    "    \"\"\"_summary_\n",
    "    니들이 떠들어도 나는 모른대이~\n",
    "    \"\"\"\n",
    "    print(sound)\n",
    "    print(type(sound))\n",
    "\n",
    "shout('음메', '컹컹', ['찍찍', '꽥꽥'], {1:'one'})\n",
    "#print(help(shout))\n",
    "#print(help(range))\n",
    "\n",
    "\n",
    "\n"
   ]
  },
  {
   "cell_type": "code",
   "execution_count": null,
   "metadata": {},
   "outputs": [],
   "source": [
    "import random\n",
    "import time\n",
    "import sys #파이썬 3에서는 int 형의 최대값이 임의 정밀도를 가지므로, 사실상 메모리에 의해서만 제한됩니다. 그러나 sys.maxsize를 사용하여 플랫폼의 제한을 확인할 수 있으며, 이는 매우 유용할 수 있습니다.\n",
    "print(help(random.random)) # 아 이게 반환값이 float라 float 서머리가 나오네 ㅋㅋ\n",
    "print(random.random()) # random() -> x in the interval [0, 1). 0~1사이의 값이 반환됨 interval : 사이 간격\n",
    "save = 1\n",
    "count = 0\n",
    "while True :\n",
    "    ran = random.random()\n",
    "    count += 1\n",
    "    if save > ran :\n",
    "        print(ran, 'count : ', count)\n",
    "        save = ran\n",
    "        #time.sleep(0.1) # 초 단위로 멈춘다\n",
    "    if count > sys.maxsize // 10000000000000 : # 거의 100만번 도는데 0.3초 걸리네\n",
    "        print('end :', count)\n",
    "        break\n",
    "    "
   ]
  },
  {
   "cell_type": "code",
   "execution_count": 40,
   "metadata": {},
   "outputs": [
    {
     "name": "stdout",
     "output_type": "stream",
     "text": [
      "2.2\n"
     ]
    }
   ],
   "source": [
    "def sum(x, y) :\n",
    "    # return int(x) + int(y)\n",
    "    return x if x > y else y\n",
    "print(sum(1, 2.2))"
   ]
  },
  {
   "cell_type": "code",
   "execution_count": 12,
   "metadata": {},
   "outputs": [
    {
     "name": "stdout",
     "output_type": "stream",
     "text": [
      "3\n"
     ]
    }
   ],
   "source": [
    "\n",
    "\n",
    "def function(num):\n",
    "    num = 5\n",
    "\n",
    "num = 3    \n",
    "function(num)\n",
    "print(num)"
   ]
  },
  {
   "cell_type": "code",
   "execution_count": 11,
   "metadata": {},
   "outputs": [
    {
     "name": "stdout",
     "output_type": "stream",
     "text": [
      "[6, 2, 3, 4, 5]\n"
     ]
    }
   ],
   "source": [
    "# that all right\n",
    "def lis(l): # 깊은 복사 , 얕은 복사, 값 전달, 참조 전달\n",
    "    l[0] = 6\n",
    "    \n",
    "li = [1,2,3,4,5]\n",
    "lis(li)\n",
    "print(li)"
   ]
  },
  {
   "cell_type": "code",
   "execution_count": 16,
   "metadata": {},
   "outputs": [
    {
     "data": {
      "text/plain": [
       "0"
      ]
     },
     "execution_count": 16,
     "metadata": {},
     "output_type": "execute_result"
    }
   ],
   "source": [
    "(['1','2'])\n",
    "len(([]))"
   ]
  }
 ],
 "metadata": {
  "kernelspec": {
   "display_name": "Python 3",
   "language": "python",
   "name": "python3"
  },
  "language_info": {
   "codemirror_mode": {
    "name": "ipython",
    "version": 3
   },
   "file_extension": ".py",
   "mimetype": "text/x-python",
   "name": "python",
   "nbconvert_exporter": "python",
   "pygments_lexer": "ipython3",
   "version": "3.12.4"
  }
 },
 "nbformat": 4,
 "nbformat_minor": 2
}
