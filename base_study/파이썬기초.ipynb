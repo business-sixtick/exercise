{
 "cells": [
  {
   "cell_type": "code",
   "execution_count": null,
   "metadata": {},
   "outputs": [],
   "source": [
    "# -*- coding: utf-8 -*-"
   ]
  },
  {
   "cell_type": "code",
   "execution_count": null,
   "metadata": {},
   "outputs": [],
   "source": [
    "# 변수 (대소문자를 구분한다. 대게 소문자만 쓰고 _를 붙여서 작명한다. 카멜케이스 ?? 안쓸거임 )\n",
    "'''\n",
    "변수 선언의 구조\n",
    "변수명 = 값\n",
    "대입연산자 (=) 기준으로 오른쪽에서 계산된(처리된) 값이 오른쪽으로 대입 됨 (정확히는 바인딩 되었다고 표현함)\n",
    "ex) my_name = '조영훈'\n",
    "ex) my_phone = '010' + '4242' + str(9649)\n",
    "'''\n",
    "# 파이썬에는 따로 상수 선언이 없다.    \n",
    "from enum import Enum\n",
    "class Color(Enum): # 3.8 부터 Enum 모듈을 사용해서 상수 표현을 할수 있다.\n",
    "    RED = 1\n",
    "    GREEN = 2\n",
    "    BLUE = 3\n",
    "print(Color.RED)   # 출력: Color.RED\n",
    "print(Color.RED.value)  # 출력: 1\n",
    " \n",
    "print(help(range)) # help(클래스나 메서드) : 어떻게 쓰는지 매개변수는 뭐를 넣는지 반환값은 뭐인지 이쁘게 보여준다"
   ]
  },
  {
   "cell_type": "code",
   "execution_count": null,
   "metadata": {},
   "outputs": [],
   "source": [
    "# 주석 (맨앞에 샾은 한줄 주석)\n",
    "''' 싱글 쿼테이션 연속 세개로 감싸면 여러줄 주석. 여러줄의 문자열을 변수에 넣을때에도 활용됨. '''\n",
    "test_str = ''' 안녕하세요~\n",
    "강사님 수고가 참 많으십니다. 스스로 공부할수 있게 틈틈이 문제를 내주시고 \n",
    "못하면 숙제도 내주시고 강하게 키워주세요~ 스파르타!!!\n",
    "'''\n",
    "print(test_str)"
   ]
  },
  {
   "cell_type": "code",
   "execution_count": null,
   "metadata": {},
   "outputs": [],
   "source": [
    "# 자료형 (정수 int, 실수 float, 문자열 str, 논리값 bool(boolean) )\n",
    "print('10 :: ', type(10))\n",
    "print('10.0 :: ', type(10.0))\n",
    "print('\"10\" :: ', type('10'))\n",
    "print('bool(10) :: ', type(bool(10)), bool(10))"
   ]
  },
  {
   "cell_type": "code",
   "execution_count": null,
   "metadata": {},
   "outputs": [],
   "source": [
    "# 연산자 비교연산자 논리연산자\n",
    "# 연산자에는 우선순위가 있다. ()소괄호 > 곱셈,나눗셈 > 더하기,빼기 > 비교연산자 > 대입연산자\n",
    "# =, +, -, *, /, //, %, ** 산술연산자\n",
    "# <, >, ==, <=, >=, != 비교연산자\n",
    "# and, or, not 논리연산자 \n",
    "# &, |, !, ^ 비트연산자 또는 집합연산자\n",
    "# 참일때반환 if 조건 else 거짓일때반환 : 삼항연산자 : ?\n",
    "# is 값이 아닌 id 즉 메모리주소를 비교한다.\n",
    "val = 10 # 대입연산자\n",
    "print(\"val :: \", val)\n",
    "print('\"val\" * 2 :: ',\"val\" * 2) # 파이썬에서는 문자열을 곱 할 수 있다. \n",
    "print(\"type(4/2) , 4/2 result = {div} :: \".format(div=4/2), type(4/2)) # 파이썬에서 나누기는 실수로 반환한다. \n",
    "print(f\"4//3 몫 연산자 :: \", 4//3)  # 몫연산자. 정수로 반환하고 나머지는 버린다.\n",
    "print(f\"4%3 나머지 연산자 :: \", 4%3)\n",
    "print(\"4**2 제곱 :: \", 4**2)\n",
    "print('참' if True else '거짓')\n",
    "print(('참' if False else '거짓'))\n",
    "print(f'{1 == 1.0}', f'{1 is 1.0}', f'{id(1)}', f'{id(1.0)}') # is 비교"
   ]
  },
  {
   "cell_type": "code",
   "execution_count": null,
   "metadata": {},
   "outputs": [],
   "source": [
    "# 문자열 ('a' 문자타입이 없다. 파이썬에서는 모두 문자열이다)\n",
    "print(f\"type('a') :: \", type('a'))\n",
    "print(\"뿌하하하~ '조영훈'이 웃었다.\") # 문자타입이 없기때문에 더블쿼테이션 안에 싱글쿼테이션을 역슬레시 없이 넣을 수 있다 (이스케이프 문자로 표현안해도됨)\n",
    "print('\"일이삼사오\"[0:5:2] :: ', \"일이삼사오\"[0:4:2], \"일이삼사오\"[::2], \"일이삼사오\"[:2]) # 인덱스로 슬라이스 가능함. [시작:끝:증분값] [시작] [:끝] [::증분]"
   ]
  },
  {
   "cell_type": "code",
   "execution_count": null,
   "metadata": {},
   "outputs": [],
   "source": [
    "# 자료구조 (리스트, 튜플, 세트, 딕셔너리)\n",
    "print('[]', type([]), type(list())) # 리스트, 값의 나열, 대괄호 \n",
    "print('{}', type({}), '{1:\"one\"}', type({1:\"one\"}), type(dict())) # 딕셔너리, 키와 값의 쌍으로 이뤄진 집합. 키의 중복을 허용하지 않는다. 중괄호\n",
    "print('()', type(()), type(tuple())) # 튜플. 요소를 변경할 수 없는 리스트. 소괄호\n",
    "print('{1}', type({1}), type(set())) # 세트. 값으로만 이뤄진 집합. 중복허용 안함. 빈중괄호는 딕셔너리다 \n",
    "print(*[1,2,3,4,5]) # 반복자 앞에 * 쓰면 전개연산자. 콤마로 들어가는 효과"
   ]
  },
  {
   "cell_type": "code",
   "execution_count": null,
   "metadata": {},
   "outputs": [],
   "source": [
    "# 조건문 if elif else\n",
    "if True :\n",
    "    pass # if 조건이 참일때 실행하고 빠져나간다\n",
    "elif False :\n",
    "    pass # if 조건이 거짓이고 elif 조건이 참일 경우 실행하고 빠져나간다\n",
    "elif False :\n",
    "    pass # 위의 조건들이 모두 거짓이고 바로 위의 elif 조건이 참일 경우 실행하고 빠져나간다\n",
    "else :\n",
    "    pass # 모든 조건이 거짓일때 실행하고 빠져나간다\n",
    "\n",
    "if 1 > 0 :\n",
    "    print('if 단독 실행')\n",
    "\n",
    "if 1 == 1 :\n",
    "    print('else 없는 조건문')\n",
    "elif 1 > 0  : \n",
    "    print('순서대로 if에서 먼저 실행하고 빠져나가기 때문에 elif구문은 절대 실행되지 않는다') \n",
    "\n",
    "if 1 in [2, 3, 4] :\n",
    "    print('if else 조합인 조건문')\n",
    "else :\n",
    "    print('문법은 좀 외우자')\n"
   ]
  },
  {
   "cell_type": "code",
   "execution_count": null,
   "metadata": {},
   "outputs": [],
   "source": [
    "# 반복문 for in, while\n",
    "for i in range(5) :\n",
    "    pass\n",
    "\n",
    "while True :\n",
    "    break\n",
    "\n",
    "for i in [1, (2, 3), {4: 'four'}] :\n",
    "    print(i, end=' ')\n",
    "print()\n",
    "\n",
    "test_list = []\n",
    "while len(test_list) < 3 :\n",
    "    test_list.append(len(test_list))\n",
    "    print(test_list)"
   ]
  },
  {
   "cell_type": "code",
   "execution_count": null,
   "metadata": {},
   "outputs": [],
   "source": [
    "# 함수 (클래스에 들어있는 함수를 메소드 라고 하는군)\n",
    "''' \n",
    "def 함수명([매개변수, 매개변수 = 디폴트값 ...]) :\n",
    "    실행문\n",
    "    [return]            <- None 를 리턴함. 코드 중간에 함수를 빠져나가기 위해 쓰기도함. \n",
    "    [return 리턴값]\n",
    "'''\n",
    "def test_function(name, test = True, age = 42) : # 매개변수에 디폴트 값을 줄 수 있다. 디폴트값 이후에 매개변수도 디폴트값을 줘야 한다. 아니면 오류\n",
    "    pass\n",
    "# 파이썬에서는 오버로딩은 없다. 그냥 함수명이 같으면 뒤에 선언된것이 실행된다.\n",
    "def test_function(*test) : # 인자 앞에 * 를 붙이면 가변인자가 된다. 걍 튜플이네 ( TODO 확인해봐야함 : 또는 언패킹에 쓰인다. 딕셔너리는 ** 두개 )\n",
    "    print(test)\n",
    "    print(type(test))\n",
    "    return\n",
    "\n",
    "test_function(1, 2, 3)\n"
   ]
  },
  {
   "cell_type": "code",
   "execution_count": null,
   "metadata": {},
   "outputs": [],
   "source": [
    "# 클래스 (객체 뼈대. 프로그램에서 한번만 로딩됨)\n",
    "# 인스턴스 (생성된 객체. 생성할때마다 메모리를 할당받음.)\n",
    "class test_class : # 메서드선언시 꼭 매개변수에 self를 주자.\n",
    "    def __init__(self, arg = 0) : # 생성자. 추가로 인자를 받을 수도 있다. 생성자에서 맴버를 추가 하고 초기화 할 수있다\n",
    "        self.member = arg\n",
    "        #self.member_None  #속성 초기화 누락: 클래스 정의에서 해당 속성을 초기화하지 않았을 수 있습니다. 초기화 하지않으면 에러가 난다.\n",
    "    def __del__(self) : # 소멸자. 해당 인스턴스가 사라지기 전에 실행됨.\n",
    "        pass\n",
    "    g_member = 10 # 클래스에서 접근 시 전체 인스턴스에 영향을 미침\n",
    "    def method(self, arg) :\n",
    "        pass    \n",
    "\n",
    "tc1 = test_class() # 생성자 인수에 디폴트값을 넣어서 인자를 생략할 수 있다.\n",
    "tc2 = test_class(1)\n",
    "print('tc1.member : ', tc1.member)\n",
    "print('tc2.member : ', tc2.member)\n",
    "test_class.g_member = 20\n",
    "print('tc1.g_member : ', tc1.g_member)\n",
    "print('tc2.g_member : ', tc2.g_member)\n",
    "    "
   ]
  },
  {
   "cell_type": "code",
   "execution_count": null,
   "metadata": {},
   "outputs": [],
   "source": [
    "# 클래스와 메소드를 정의할 때 Docstring을 사용하여 문서화하면 코드의 가독성과 유지보수성을 크게 향상시킬 수 있습니다\n",
    "# 인텔리센스\n",
    "# autoDocstring 확장기능 설치\n",
    "# 선언쪽 바로 밑에 더블쿼테이션 세개찍으면 맨위에 자동생성\n",
    "# 모든 기능을 넣고 해야 매개변수 리턴 값등을 자동으로 넣어준다.\n",
    "def test_function(test_val):\n",
    "    \"\"\"_summary_\n",
    "\n",
    "    Args:\n",
    "        test_val (_type_): _description_\n",
    "\n",
    "    Returns:\n",
    "        _type_: _description_\n",
    "    \"\"\"\n",
    "    test_val = 0\n",
    "    ret = 0\n",
    "    return ret\n"
   ]
  },
  {
   "cell_type": "code",
   "execution_count": null,
   "metadata": {},
   "outputs": [],
   "source": [
    "# 상속 (클래스) 객체지향프로그래밍 oop 의 일환으로 클래스를 체계화 할 수 있다.\n",
    "class car : # 부모 클래스\n",
    "    def __init__(self, dirve = 'bu ooooooo ng~~') :\n",
    "        self.drive = dirve\n",
    "    \n",
    "    def driving(self) :\n",
    "        print(self.drive)\n",
    "\n",
    "class midsize(car) : # 자식 클래스 상속 받을 부모 클래스를 인자로 받는다.\n",
    "    def __init__(self, my_name, drive = 'bbung~!!') :\n",
    "        # super().__init__(drive)  # super() 를 써서 부모 객체에 접근 할수있다. 지양함.\n",
    "        car.__init__(self, drive)\n",
    "        self.name = my_name\n",
    "        self.__member_instance = str(locals()).replace(',', ',\\n')\n",
    "        self._member_private = '' # 하나써도 프라이빗으로 인식하네. 원칙은 2개 ㅋ\n",
    "        \n",
    "    def __str__(self) -> str:\n",
    "        return str(self.__member_class).replace(',', ',\\n') + f'\\n{self.__member_instance}'\n",
    "    \n",
    "    \n",
    "    __member_class = locals()\n",
    "\n",
    "light_car = midsize('morning')\n",
    "print(f'{light_car.name} {light_car.drive}')\n",
    "print(light_car)\n",
    "if isinstance(light_car, car) : # isinstance(인스턴스, 클래스) : 인스턴스가 해당 클래스인가?\n",
    "    light_car.driving()\n",
    "# print(midsize.__member_class)\n",
    "# print(light_car._midsize__member_inst) # 프라이빗 맴버에 억지로 접근이 가능하다??"
   ]
  },
  {
   "cell_type": "code",
   "execution_count": null,
   "metadata": {},
   "outputs": [],
   "source": [
    "# 데코레이터 @ 를 이용해서 추가 적인 기능을 코드 수정없이 붙일수 있다. \n",
    "def test_decorator(func) : \n",
    "    def wrapper(*args, **kwargs):\n",
    "        print(f\"함수 {func.__name__}가 호출되었습니다.\")\n",
    "        return func(*args, **kwargs)\n",
    "    return wrapper # 랩핑 작업을 해줘야 하는군.\n",
    "\n",
    "@test_decorator  \n",
    "def test_function() :\n",
    "    pass\n",
    "\n",
    "test_function()"
   ]
  },
  {
   "cell_type": "code",
   "execution_count": null,
   "metadata": {},
   "outputs": [],
   "source": [
    "# 모듈 (.py로 된 파일, 내부에는 함수 또는 클래스 또는 변수 등등이 있을 수 있다. 모듈을 호출한다는것은 결과적으로 .py 파일을 합치는 효과이다)\n",
    "# 네임스페이스, 스코프(scope 접근할수있는 범위  )\n",
    "# import 모듈명\n",
    "# form 모듈명 import 함수 또는 클래스명 또는 *\n",
    "# import 모듈명 as 별명\n",
    "\n",
    "import test_module\n",
    "tm = test_module.c_test()\n",
    "tm.run()\n",
    "# 노트라서 그런가? 모듈에서 else구문이 안타네 ( 맞다 py에서는 된다 ㅋ)"
   ]
  },
  {
   "cell_type": "code",
   "execution_count": null,
   "metadata": {},
   "outputs": [],
   "source": [
    "# 예외처리 try except else finally (예외처리를 했을 경우 프로그램이 팅기지 않는다. 예외 발생시 어디에서도 받지 않으면 프로그램 밖으로 던지면서 종료된)\n",
    "try:\n",
    "    # 예외가 발생할 가능성이 있는 코드\n",
    "    result = 10 / 0\n",
    "except ZeroDivisionError as e:\n",
    "    # 특정 예외를 처리하는 코드\n",
    "    print(f\"ZeroDivisionError 예외가 발생했습니다: {e}\")\n",
    "except ValueError as e:\n",
    "    # 다른 예외를 처리하는 코드\n",
    "    print(f\"ValueError 예외가 발생했습니다: {e}\")\n",
    "except Exception as e:\n",
    "    # 모든 예외를 처리하는 코드 (최상위 예외 클래스)\n",
    "    print(f\"예외가 발생했습니다: {e}\")\n",
    "else:\n",
    "    # 예외가 발생하지 않았을 때 실행되는 코드\n",
    "    print(f\"결과는 {result}입니다\")\n",
    "finally:\n",
    "    # 예외 발생 여부와 상관없이 항상 실행되는 코드\n",
    "    print(\"예외 처리 완료\")\n"
   ]
  },
  {
   "cell_type": "code",
   "execution_count": null,
   "metadata": {},
   "outputs": [],
   "source": [
    "# help(object)\n",
    "#print(help([].pop)) # pop(index=-1, /) 뒤에 / 는 더이상 넣을게 없다!!. 고로 인수는 1개\n",
    "print(help([].insert))\n"
   ]
  }
 ],
 "metadata": {
  "kernelspec": {
   "display_name": "Python 3",
   "language": "python",
   "name": "python3"
  },
  "language_info": {
   "codemirror_mode": {
    "name": "ipython",
    "version": 3
   },
   "file_extension": ".py",
   "mimetype": "text/x-python",
   "name": "python",
   "nbconvert_exporter": "python",
   "pygments_lexer": "ipython3",
   "version": "3.11.5"
  }
 },
 "nbformat": 4,
 "nbformat_minor": 2
}
