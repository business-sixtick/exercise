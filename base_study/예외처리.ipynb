{
 "cells": [
  {
   "cell_type": "code",
   "execution_count": null,
   "metadata": {},
   "outputs": [],
   "source": [
    "'''\n",
    "예외처리 원형\n",
    "\n",
    "try :\n",
    "    테스트 구문, 실행 구문\n",
    "except 예외명 :\n",
    "    예외 처리 \n",
    "except 예외명 as 별명 :\n",
    "    예외 처리\n",
    "execpt Exception as e : \n",
    "    예외 처리\n",
    "else :\n",
    "    예외가 없을때 실\n",
    "finally : \n",
    "    무조껀 실행\n",
    "\n",
    "\n",
    "raise 예외()   <- 예외 발생시키기\n",
    "assert 비교문  <- 거짓일 경우 예외 발생 (디버깅용으로만 쓰자, 고로 그냥 쓰지말)\n",
    "\n",
    "\n",
    "사용자 예외 만들기\n",
    "class 사용자예외명(Exception) :\n",
    "    __init__ 및 __str__ 구현\n",
    "\n",
    "'''\n"
   ]
  }
 ],
 "metadata": {
  "language_info": {
   "name": "python"
  }
 },
 "nbformat": 4,
 "nbformat_minor": 2
}
