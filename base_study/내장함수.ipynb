{
 "cells": [
  {
   "cell_type": "code",
   "execution_count": null,
   "metadata": {},
   "outputs": [],
   "source": [
    "# any()"
   ]
  },
  {
   "cell_type": "code",
   "execution_count": null,
   "metadata": {},
   "outputs": [],
   "source": [
    "# anext() 비동기 반복자와 관련이 있다\n",
    "# TODO 비동기가 뭔지 알고 난 후에 쓰자"
   ]
  },
  {
   "cell_type": "code",
   "execution_count": 4,
   "metadata": {},
   "outputs": [
    {
     "name": "stdout",
     "output_type": "stream",
     "text": [
      "False False True\n"
     ]
    }
   ],
   "source": [
    "# all() 주어진 이터러블의 모든 요소가 참(True)인지 검사합니다. \n",
    "print(all([1,0,1]), all(['1', None]), all([True, 1]))"
   ]
  },
  {
   "cell_type": "code",
   "execution_count": null,
   "metadata": {},
   "outputs": [],
   "source": [
    "# aiter()  비동기 반복자는 async for 문과 함께 사용하여 비동기 이터레이션을 수행할 수 있습니다.\n",
    "# TODO 비동기가 뭔지 알고 난 후에 쓰자"
   ]
  },
  {
   "cell_type": "code",
   "execution_count": 1,
   "metadata": {},
   "outputs": [
    {
     "name": "stdout",
     "output_type": "stream",
     "text": [
      "1\n"
     ]
    }
   ],
   "source": [
    "# abs() 절대값 반환 (양수??)\n",
    "print(abs(-1))"
   ]
  },
  {
   "cell_type": "code",
   "execution_count": 2,
   "metadata": {},
   "outputs": [
    {
     "data": {
      "text/plain": [
       "'\\n내장 함수\\n\\nA\\nabs()\\naiter()\\nall()\\nanext()\\nany()\\nascii()\\n\\nB\\nbin()\\nbool()\\nbreakpoint()\\nbytearray()\\nbytes()\\n\\nC\\ncallable()\\nchr()\\nclassmethod()\\ncompile()\\ncomplex()\\n\\nD\\ndelattr()\\ndict()\\ndir()\\ndivmod()\\n\\nE\\nenumerate()\\neval()\\nexec()\\n\\nF\\nfilter()\\nfloat()\\nformat()\\nfrozenset()\\n\\nG\\ngetattr()\\nglobals()\\n\\nH\\nhasattr()\\nhash()\\nhelp()\\nhex()\\n\\nI\\nid()\\ninput()\\nint()\\nisinstance()\\nissubclass()\\niter()\\nL\\nlen()\\nlist()\\nlocals()\\n\\nM\\nmap()\\nmax()\\nmemoryview()\\nmin()\\n\\nN\\nnext()\\n\\nO\\nobject()\\noct()\\nopen()\\nord()\\n\\nP\\npow()\\nprint()\\nproperty()\\n\\n\\n\\n\\nR\\nrange()\\nrepr()\\nreversed()\\nround()\\n\\nS\\nset()\\nsetattr()\\nslice()\\nsorted()\\nstaticmethod()\\nstr()\\nsum()\\nsuper()\\n\\nT\\ntuple()\\ntype()\\n\\nV\\nvars()\\n\\nZ\\nzip()\\n\\n_\\n__import__()\\n\\n'"
      ]
     },
     "execution_count": 2,
     "metadata": {},
     "output_type": "execute_result"
    }
   ],
   "source": [
    "'''\n",
    "내장 함수\n",
    "\n",
    "A\n",
    "abs()\n",
    "aiter()\n",
    "all()\n",
    "anext()\n",
    "any()\n",
    "ascii()\n",
    "\n",
    "B\n",
    "bin()\n",
    "bool()\n",
    "breakpoint()\n",
    "bytearray()\n",
    "bytes()\n",
    "\n",
    "C\n",
    "callable()\n",
    "chr()\n",
    "classmethod()\n",
    "compile()\n",
    "complex()\n",
    "\n",
    "D\n",
    "delattr()\n",
    "dict()\n",
    "dir()\n",
    "divmod()\n",
    "\n",
    "E\n",
    "enumerate()\n",
    "eval()\n",
    "exec()\n",
    "\n",
    "F\n",
    "filter()\n",
    "float()\n",
    "format()\n",
    "frozenset()\n",
    "\n",
    "G\n",
    "getattr()\n",
    "globals()\n",
    "\n",
    "H\n",
    "hasattr()\n",
    "hash()\n",
    "help()\n",
    "hex()\n",
    "\n",
    "I\n",
    "id()\n",
    "input()\n",
    "int()\n",
    "isinstance()\n",
    "issubclass()\n",
    "iter()\n",
    "L\n",
    "len()\n",
    "list()\n",
    "locals()\n",
    "\n",
    "M\n",
    "map()\n",
    "max()\n",
    "memoryview()\n",
    "min()\n",
    "\n",
    "N\n",
    "next()\n",
    "\n",
    "O\n",
    "object()\n",
    "oct()\n",
    "open()\n",
    "ord()\n",
    "\n",
    "P\n",
    "pow()\n",
    "print()\n",
    "property()\n",
    "\n",
    "\n",
    "\n",
    "\n",
    "R\n",
    "range()\n",
    "repr()\n",
    "reversed()\n",
    "round()\n",
    "\n",
    "S\n",
    "set()\n",
    "setattr()\n",
    "slice()\n",
    "sorted()\n",
    "staticmethod()\n",
    "str()\n",
    "sum()\n",
    "super()\n",
    "\n",
    "T\n",
    "tuple()\n",
    "type()\n",
    "\n",
    "V\n",
    "vars()\n",
    "\n",
    "Z\n",
    "zip()\n",
    "\n",
    "_\n",
    "__import__()\n",
    "\n",
    "'''"
   ]
  },
  {
   "cell_type": "code",
   "execution_count": null,
   "metadata": {},
   "outputs": [],
   "source": []
  }
 ],
 "metadata": {
  "kernelspec": {
   "display_name": "Python 3",
   "language": "python",
   "name": "python3"
  },
  "language_info": {
   "codemirror_mode": {
    "name": "ipython",
    "version": 3
   },
   "file_extension": ".py",
   "mimetype": "text/x-python",
   "name": "python",
   "nbconvert_exporter": "python",
   "pygments_lexer": "ipython3",
   "version": "3.10.13"
  }
 },
 "nbformat": 4,
 "nbformat_minor": 2
}
