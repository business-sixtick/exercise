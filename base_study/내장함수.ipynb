{
 "cells": [
  {
   "cell_type": "code",
   "execution_count": null,
   "metadata": {},
   "outputs": [],
   "source": [
    "# any()"
   ]
  },
  {
   "cell_type": "code",
   "execution_count": null,
   "metadata": {},
   "outputs": [],
   "source": [
    "# anext() 비동기 반복자와 관련이 있다\n",
    "# TODO 비동기가 뭔지 알고 난 후에 쓰자"
   ]
  },
  {
   "cell_type": "code",
   "execution_count": 4,
   "metadata": {},
   "outputs": [
    {
     "name": "stdout",
     "output_type": "stream",
     "text": [
      "False False True\n"
     ]
    }
   ],
   "source": [
    "# all() 주어진 이터러블의 모든 요소가 참(True)인지 검사합니다. \n",
    "print(all([1,0,1]), all(['1', None]), all([True, 1]))"
   ]
  },
  {
   "cell_type": "code",
   "execution_count": null,
   "metadata": {},
   "outputs": [],
   "source": [
    "# aiter()  비동기 반복자는 async for 문과 함께 사용하여 비동기 이터레이션을 수행할 수 있습니다.\n",
    "# TODO 비동기가 뭔지 알고 난 후에 쓰자"
   ]
  },
  {
   "cell_type": "code",
   "execution_count": 1,
   "metadata": {},
   "outputs": [
    {
     "name": "stdout",
     "output_type": "stream",
     "text": [
      "1\n"
     ]
    }
   ],
   "source": [
    "# abs() 절대값 반환 (양수??)\n",
    "print(abs(-1))"
   ]
  },
  {
   "cell_type": "code",
   "execution_count": 3,
   "metadata": {},
   "outputs": [
    {
     "name": "stdout",
     "output_type": "stream",
     "text": [
      "1\n",
      "5\n",
      "15\n",
      "[1, 2, 3, 4, 5]\n",
      "[3, 4, 5, 2, 1]\n"
     ]
    }
   ],
   "source": [
    "test_list = [1, 2, 5, 4, 3]\n",
    "print(min(test_list))\n",
    "print(max(test_list))\n",
    "print(sum(test_list))\n",
    "print(sorted(test_list))\n",
    "print(list(reversed(test_list))) # reversed 는 iterator를 반환하기에 list로 다시 받았다"
   ]
  },
  {
   "cell_type": "code",
   "execution_count": 5,
   "metadata": {},
   "outputs": [
    {
     "name": "stdout",
     "output_type": "stream",
     "text": [
      "(0, 'one') 0 one\n",
      "(1, 'two') 1 two\n",
      "(2, 'three') 2 three\n",
      "(3, 'four') 3 four\n",
      "(4, 'five') 4 five\n",
      "0의 값은 one입니다\n",
      "1의 값은 two입니다\n",
      "2의 값은 three입니다\n",
      "3의 값은 four입니다\n",
      "4의 값은 five입니다\n"
     ]
    }
   ],
   "source": [
    "# enumerate\n",
    "test_list = ['one', 'two', 'three', 'four', 'five']\n",
    "for i in enumerate(test_list) : # enumerate 반환값은 튜플이다\n",
    "    print(i, i[0], i[1]) \n",
    "\n",
    "for i, v in enumerate(test_list) : # 언패킹 해서 각각의 변수에 받을 수 있다.\n",
    "    print(f'{i}의 값은 {v}입니다')"
   ]
  },
  {
   "cell_type": "code",
   "execution_count": 6,
   "metadata": {},
   "outputs": [
    {
     "name": "stdout",
     "output_type": "stream",
     "text": [
      "['one', 'two', 'three', 'four', 'five', 'six']\n"
     ]
    }
   ],
   "source": [
    "test_list = ['one', 'two', 'three', 'four', 'five']\n",
    "test_list.append('six') # 리스트의 맨뒤에 요소를 추가한다.\n",
    "print(test_list)"
   ]
  },
  {
   "cell_type": "code",
   "execution_count": 7,
   "metadata": {},
   "outputs": [
    {
     "name": "stdout",
     "output_type": "stream",
     "text": [
      "['one', 'two', 'three', 'one', 'four', 'five']\n"
     ]
    }
   ],
   "source": [
    "test_list = ['one', 'two', 'three', 'four', 'five']\n",
    "test_list.insert(3, 'one') # 3인덱스 앞에 요소를 삽입한다. 자리로는 4번째 앞이다\n",
    "print(test_list)"
   ]
  },
  {
   "cell_type": "code",
   "execution_count": 18,
   "metadata": {},
   "outputs": [
    {
     "name": "stdout",
     "output_type": "stream",
     "text": [
      "one two three four five\n",
      "one_two_three_four_five\n"
     ]
    }
   ],
   "source": [
    "test_list = ['one', 'two', 'three', 'four', 'five']\n",
    "print(' '.join(test_list))\n",
    "print('_'.join(test_list))"
   ]
  },
  {
   "cell_type": "code",
   "execution_count": 8,
   "metadata": {},
   "outputs": [
    {
     "name": "stdout",
     "output_type": "stream",
     "text": [
      "['one', 'two', 'three', 'one', 'four', 'five', 'one', 'two']\n",
      "['one', 'two', 'three', 'one', 'four', 'five', 'one', 'two', 'three', 'four']\n"
     ]
    }
   ],
   "source": [
    "test_list = ['one', 'two', 'three', 'one', 'four', 'five']\n",
    "test_list.extend(['one', 'two']) # 리스트를 합치는 함수이다\n",
    "print(test_list)\n",
    "test_list += ['three', 'four'] # + 연산자와 같은 효과이다.\n",
    "print(test_list)"
   ]
  },
  {
   "cell_type": "code",
   "execution_count": 10,
   "metadata": {},
   "outputs": [
    {
     "name": "stdout",
     "output_type": "stream",
     "text": [
      "3\n"
     ]
    }
   ],
   "source": [
    "test_list = ['one', 'two', 'three', 'one', 'four', 'five', 'one', 'two', 'three', 'four']\n",
    "print(test_list.count('one'))"
   ]
  },
  {
   "cell_type": "code",
   "execution_count": 11,
   "metadata": {},
   "outputs": [
    {
     "name": "stdout",
     "output_type": "stream",
     "text": [
      "1\n"
     ]
    }
   ],
   "source": [
    "test_list = ['one', 'two', 'three', 'one', 'four', 'five', 'one', 'two', 'three', 'four']\n",
    "print(test_list.index('two')) # 해당 요소의 인덱스를 반환한다. \n",
    "#여러개일 경우 맨 앞의 위치를 반환한다."
   ]
  },
  {
   "cell_type": "code",
   "execution_count": 12,
   "metadata": {},
   "outputs": [
    {
     "name": "stdout",
     "output_type": "stream",
     "text": [
      "four\n",
      "['one', 'two', 'three', 'one', 'four', 'five', 'one', 'two', 'three']\n"
     ]
    }
   ],
   "source": [
    "test_list = ['one', 'two', 'three', 'one', 'four', 'five', 'one', 'two', 'three', 'four']\n",
    "print(test_list.pop()) # 맨 뒤의 요소를 꺼내서 반환한다.\n",
    "print(test_list) # 꺼낸 요소는 삭제 된다"
   ]
  },
  {
   "cell_type": "code",
   "execution_count": 13,
   "metadata": {},
   "outputs": [
    {
     "name": "stdout",
     "output_type": "stream",
     "text": [
      "None\n",
      "['two', 'three', 'one', 'four', 'five', 'one', 'two', 'three']\n"
     ]
    }
   ],
   "source": [
    "test_list = ['one', 'two', 'three', 'one', 'four', 'five', 'one', 'two', 'three']\n",
    "test_list.remove('one') # 해당 요소를 삭제한다. 여러개일 경우 앞쪽 부터 지운다.\n",
    "print(test_list)"
   ]
  },
  {
   "cell_type": "code",
   "execution_count": 15,
   "metadata": {},
   "outputs": [
    {
     "name": "stdout",
     "output_type": "stream",
     "text": [
      "[1, 2, 3, 4, 5]\n",
      "[5, 4, 3, 2, 1]\n"
     ]
    }
   ],
   "source": [
    "test_list = [1, 2, 5, 4, 3]\n",
    "test_list.sort() # 요소를 순서대로 정렬한다. 오름차순\n",
    "print(test_list)\n",
    "test_list.sort(reverse= True) # 요소를 거꾸로 정렬한다. 내림차순\n",
    "print(test_list)"
   ]
  },
  {
   "cell_type": "code",
   "execution_count": 16,
   "metadata": {},
   "outputs": [
    {
     "name": "stdout",
     "output_type": "stream",
     "text": [
      "[3, 4, 5, 2, 1]\n"
     ]
    }
   ],
   "source": [
    "test_list = [1, 2, 5, 4, 3]\n",
    "test_list.reverse() # 거꾸로 정렬하는것이 아니고 그냥 기존 순서를 뒤집는다\n",
    "print(test_list)"
   ]
  },
  {
   "cell_type": "code",
   "execution_count": 2,
   "metadata": {},
   "outputs": [
    {
     "data": {
      "text/plain": [
       "'\\n내장 함수\\n\\nA\\nabs()\\naiter()\\nall()\\nanext()\\nany()\\nascii()\\n\\nB\\nbin()\\nbool()\\nbreakpoint()\\nbytearray()\\nbytes()\\n\\nC\\ncallable()\\nchr()\\nclassmethod()\\ncompile()\\ncomplex()\\n\\nD\\ndelattr()\\ndict()\\ndir()\\ndivmod()\\n\\nE\\nenumerate()\\neval()\\nexec()\\n\\nF\\nfilter()\\nfloat()\\nformat()\\nfrozenset()\\n\\nG\\ngetattr()\\nglobals()\\n\\nH\\nhasattr()\\nhash()\\nhelp()\\nhex()\\n\\nI\\nid()\\ninput()\\nint()\\nisinstance()\\nissubclass()\\niter()\\nL\\nlen()\\nlist()\\nlocals()\\n\\nM\\nmap()\\nmax()\\nmemoryview()\\nmin()\\n\\nN\\nnext()\\n\\nO\\nobject()\\noct()\\nopen()\\nord()\\n\\nP\\npow()\\nprint()\\nproperty()\\n\\n\\n\\n\\nR\\nrange()\\nrepr()\\nreversed()\\nround()\\n\\nS\\nset()\\nsetattr()\\nslice()\\nsorted()\\nstaticmethod()\\nstr()\\nsum()\\nsuper()\\n\\nT\\ntuple()\\ntype()\\n\\nV\\nvars()\\n\\nZ\\nzip()\\n\\n_\\n__import__()\\n\\n'"
      ]
     },
     "execution_count": 2,
     "metadata": {},
     "output_type": "execute_result"
    }
   ],
   "source": [
    "'''\n",
    "내장 함수\n",
    "\n",
    "A\n",
    "abs()\n",
    "aiter()\n",
    "all()\n",
    "anext()\n",
    "any()\n",
    "ascii()\n",
    "\n",
    "B\n",
    "bin()\n",
    "bool()\n",
    "breakpoint()\n",
    "bytearray()\n",
    "bytes()\n",
    "\n",
    "C\n",
    "callable()\n",
    "chr()\n",
    "classmethod()\n",
    "compile()\n",
    "complex()\n",
    "\n",
    "D\n",
    "delattr()\n",
    "dict()\n",
    "dir()\n",
    "divmod()\n",
    "\n",
    "E\n",
    "enumerate()\n",
    "eval()\n",
    "exec()\n",
    "\n",
    "F\n",
    "filter()\n",
    "float()\n",
    "format()\n",
    "frozenset()\n",
    "\n",
    "G\n",
    "getattr()\n",
    "globals()\n",
    "\n",
    "H\n",
    "hasattr()\n",
    "hash()\n",
    "help()\n",
    "hex()\n",
    "\n",
    "I\n",
    "id()\n",
    "input()\n",
    "int()\n",
    "isinstance()\n",
    "issubclass()\n",
    "iter()\n",
    "L\n",
    "len()\n",
    "list()\n",
    "locals()\n",
    "\n",
    "M\n",
    "map()\n",
    "max()\n",
    "memoryview()\n",
    "min()\n",
    "\n",
    "N\n",
    "next()\n",
    "\n",
    "O\n",
    "object()\n",
    "oct()\n",
    "open()\n",
    "ord()\n",
    "\n",
    "P\n",
    "pow()\n",
    "print()\n",
    "property()\n",
    "\n",
    "\n",
    "\n",
    "\n",
    "R\n",
    "range()\n",
    "repr()\n",
    "reversed()\n",
    "round()\n",
    "\n",
    "S\n",
    "set()\n",
    "setattr()\n",
    "slice()\n",
    "sorted()\n",
    "staticmethod()\n",
    "str()\n",
    "sum()\n",
    "super()\n",
    "\n",
    "T\n",
    "tuple()\n",
    "type()\n",
    "\n",
    "V\n",
    "vars()\n",
    "\n",
    "Z\n",
    "zip()\n",
    "\n",
    "_\n",
    "__import__()\n",
    "\n",
    "'''"
   ]
  },
  {
   "cell_type": "code",
   "execution_count": 1,
   "metadata": {},
   "outputs": [
    {
     "name": "stdout",
     "output_type": "stream",
     "text": [
      "['ArithmeticError', 'AssertionError', 'AttributeError', 'BaseException', 'BaseExceptionGroup', 'BlockingIOError', 'BrokenPipeError', 'BufferError', 'BytesWarning', 'ChildProcessError', 'ConnectionAbortedError', 'ConnectionError', 'ConnectionRefusedError', 'ConnectionResetError', 'DeprecationWarning', 'EOFError', 'Ellipsis', 'EncodingWarning', 'EnvironmentError', 'Exception', 'ExceptionGroup', 'False', 'FileExistsError', 'FileNotFoundError', 'FloatingPointError', 'FutureWarning', 'GeneratorExit', 'IOError', 'ImportError', 'ImportWarning', 'IndentationError', 'IndexError', 'InterruptedError', 'IsADirectoryError', 'KeyError', 'KeyboardInterrupt', 'LookupError', 'MemoryError', 'ModuleNotFoundError', 'NameError', 'None', 'NotADirectoryError', 'NotImplemented', 'NotImplementedError', 'OSError', 'OverflowError', 'PendingDeprecationWarning', 'PermissionError', 'ProcessLookupError', 'RecursionError', 'ReferenceError', 'ResourceWarning', 'RuntimeError', 'RuntimeWarning', 'StopAsyncIteration', 'StopIteration', 'SyntaxError', 'SyntaxWarning', 'SystemError', 'SystemExit', 'TabError', 'TimeoutError', 'True', 'TypeError', 'UnboundLocalError', 'UnicodeDecodeError', 'UnicodeEncodeError', 'UnicodeError', 'UnicodeTranslateError', 'UnicodeWarning', 'UserWarning', 'ValueError', 'Warning', 'WindowsError', 'ZeroDivisionError', '__IPYTHON__', '__build_class__', '__debug__', '__doc__', '__import__', '__loader__', '__name__', '__package__', '__spec__', 'abs', 'aiter', 'all', 'anext', 'any', 'ascii', 'bin', 'bool', 'breakpoint', 'bytearray', 'bytes', 'callable', 'chr', 'classmethod', 'compile', 'complex', 'copyright', 'credits', 'delattr', 'dict', 'dir', 'display', 'divmod', 'enumerate', 'eval', 'exec', 'execfile', 'filter', 'float', 'format', 'frozenset', 'get_ipython', 'getattr', 'globals', 'hasattr', 'hash', 'help', 'hex', 'id', 'input', 'int', 'isinstance', 'issubclass', 'iter', 'len', 'license', 'list', 'locals', 'map', 'max', 'memoryview', 'min', 'next', 'object', 'oct', 'open', 'ord', 'pow', 'print', 'property', 'range', 'repr', 'reversed', 'round', 'runfile', 'set', 'setattr', 'slice', 'sorted', 'staticmethod', 'str', 'sum', 'super', 'tuple', 'type', 'vars', 'zip']\n"
     ]
    }
   ],
   "source": [
    "import builtins\n",
    "print(dir(builtins))\n"
   ]
  },
  {
   "cell_type": "code",
   "execution_count": 12,
   "metadata": {},
   "outputs": [
    {
     "name": "stdout",
     "output_type": "stream",
     "text": [
      "ArithmeticError           AssertionError            AttributeError            BaseException             BaseExceptionGroup        \n",
      "BlockingIOError           BrokenPipeError           BufferError               BytesWarning              ChildProcessError         \n",
      "ConnectionAbortedError    ConnectionError           ConnectionRefusedError    ConnectionResetError      DeprecationWarning        \n",
      "EOFError                  EncodingWarning           EnvironmentError          Exception                 ExceptionGroup            \n",
      "FileExistsError           FileNotFoundError         FloatingPointError        FutureWarning             GeneratorExit             \n",
      "IOError                   ImportError               ImportWarning             IndentationError          IndexError                \n",
      "InterruptedError          IsADirectoryError         KeyError                  KeyboardInterrupt         LookupError               \n",
      "MemoryError               ModuleNotFoundError       NameError                 NotADirectoryError        NotImplementedError       \n",
      "OSError                   OverflowError             PendingDeprecationWarning PermissionError           ProcessLookupError        \n",
      "RecursionError            ReferenceError            ResourceWarning           RuntimeError              RuntimeWarning            \n",
      "StopAsyncIteration        StopIteration             SyntaxError               SyntaxWarning             SystemError               \n",
      "SystemExit                TabError                  TimeoutError              TypeError                 UnboundLocalError         \n",
      "UnicodeDecodeError        UnicodeEncodeError        UnicodeError              UnicodeTranslateError     UnicodeWarning            \n",
      "UserWarning               ValueError                Warning                   WindowsError              ZeroDivisionError         \n",
      "__build_class__           __import__                __loader__                abs                       aiter                     \n",
      "all                       anext                     any                       ascii                     bin                       \n",
      "bool                      breakpoint                bytearray                 bytes                     callable                  \n",
      "chr                       classmethod               compile                   complex                   copyright                 \n",
      "credits                   delattr                   dict                      dir                       display                   \n",
      "divmod                    enumerate                 eval                      exec                      execfile                  \n",
      "filter                    float                     format                    frozenset                 get_ipython               \n",
      "getattr                   globals                   hasattr                   hash                      help                      \n",
      "hex                       id                        input                     int                       isinstance                \n",
      "issubclass                iter                      len                       license                   list                      \n",
      "locals                    map                       max                       memoryview                min                       \n",
      "next                      object                    oct                       open                      ord                       \n",
      "pow                       print                     property                  range                     repr                      \n",
      "reversed                  round                     runfile                   set                       setattr                   \n",
      "slice                     sorted                    staticmethod              str                       sum                       \n",
      "super                     tuple                     type                      vars                      zip                       \n",
      "<class 'builtin_function_or_method'>\n"
     ]
    }
   ],
   "source": [
    "import builtins\n",
    "# 내장 함수 목록\n",
    "builtin_functions = [name for name in dir(builtins) if callable(getattr(builtins, name))]\n",
    "for i, val in enumerate(builtin_functions):\n",
    "    print(f'{val:25}', end=' ')\n",
    "    if i % 5 - 4 == 0 : \n",
    "        print()\n",
    "print(type(builtins.abs))\n",
    "    \n"
   ]
  },
  {
   "cell_type": "code",
   "execution_count": 13,
   "metadata": {},
   "outputs": [
    {
     "name": "stdout",
     "output_type": "stream",
     "text": [
      "Help on _Helper in module _sitebuiltins object:\n",
      "\n",
      "class _Helper(builtins.object)\n",
      " |  Define the builtin 'help'.\n",
      " |  \n",
      " |  This is a wrapper around pydoc.help that provides a helpful message\n",
      " |  when 'help' is typed at the Python interactive prompt.\n",
      " |  \n",
      " |  Calling help() at the Python prompt starts an interactive help session.\n",
      " |  Calling help(thing) prints help for the python object 'thing'.\n",
      " |  \n",
      " |  Methods defined here:\n",
      " |  \n",
      " |  __call__(self, *args, **kwds)\n",
      " |      Call self as a function.\n",
      " |  \n",
      " |  __repr__(self)\n",
      " |      Return repr(self).\n",
      " |  \n",
      " |  ----------------------------------------------------------------------\n",
      " |  Data descriptors defined here:\n",
      " |  \n",
      " |  __dict__\n",
      " |      dictionary for instance variables (if defined)\n",
      " |  \n",
      " |  __weakref__\n",
      " |      list of weak references to the object (if defined)\n",
      "\n",
      "None\n"
     ]
    }
   ],
   "source": [
    "print(help(help))"
   ]
  },
  {
   "cell_type": "code",
   "execution_count": 16,
   "metadata": {},
   "outputs": [
    {
     "name": "stdout",
     "output_type": "stream",
     "text": [
      "\n",
      "Welcome to Python 3.11's help utility!\n",
      "\n",
      "If this is your first time using Python, you should definitely check out\n",
      "the tutorial on the internet at https://docs.python.org/3.11/tutorial/.\n",
      "\n",
      "Enter the name of any module, keyword, or topic to get help on writing\n",
      "Python programs and using Python modules.  To quit this help utility and\n",
      "return to the interpreter, just type \"quit\".\n",
      "\n",
      "To get a list of available modules, keywords, symbols, or topics, type\n",
      "\"modules\", \"keywords\", \"symbols\", or \"topics\".  Each module also comes\n",
      "with a one-line summary of what it does; to list the modules whose name\n",
      "or summary contain a given string such as \"spam\", type \"modules spam\".\n",
      "\n",
      "Help on built-in function abs in module builtins:\n",
      "\n",
      "abs(x, /)\n",
      "    Return the absolute value of the argument.\n",
      "\n",
      "Help on class zip in module builtins:\n",
      "\n",
      "class zip(object)\n",
      " |  zip(*iterables, strict=False) --> Yield tuples until an input is exhausted.\n",
      " |  \n",
      " |     >>> list(zip('abcdefg', range(3), range(4)))\n",
      " |     [('a', 0, 0), ('b', 1, 1), ('c', 2, 2)]\n",
      " |  \n",
      " |  The zip object yields n-length tuples, where n is the number of iterables\n",
      " |  passed as positional arguments to zip().  The i-th element in every tuple\n",
      " |  comes from the i-th iterable argument to zip().  This continues until the\n",
      " |  shortest argument is exhausted.\n",
      " |  \n",
      " |  If strict is true and one of the arguments is exhausted before the others,\n",
      " |  raise a ValueError.\n",
      " |  \n",
      " |  Methods defined here:\n",
      " |  \n",
      " |  __getattribute__(self, name, /)\n",
      " |      Return getattr(self, name).\n",
      " |  \n",
      " |  __iter__(self, /)\n",
      " |      Implement iter(self).\n",
      " |  \n",
      " |  __next__(self, /)\n",
      " |      Implement next(self).\n",
      " |  \n",
      " |  __reduce__(...)\n",
      " |      Return state information for pickling.\n",
      " |  \n",
      " |  __setstate__(...)\n",
      " |      Set state information for unpickling.\n",
      " |  \n",
      " |  ----------------------------------------------------------------------\n",
      " |  Static methods defined here:\n",
      " |  \n",
      " |  __new__(*args, **kwargs) from builtins.type\n",
      " |      Create and return a new object.  See help(type) for accurate signature.\n",
      "\n",
      "\n",
      "You are now leaving help and returning to the Python interpreter.\n",
      "If you want to ask for help on a particular object directly from the\n",
      "interpreter, you can type \"help(object)\".  Executing \"help('string')\"\n",
      "has the same effect as typing a particular string at the help> prompt.\n"
     ]
    }
   ],
   "source": [
    "help()"
   ]
  },
  {
   "cell_type": "code",
   "execution_count": 17,
   "metadata": {},
   "outputs": [
    {
     "name": "stdout",
     "output_type": "stream",
     "text": [
      "Help on built-in function print in module builtins:\n",
      "\n",
      "print(*args, sep=' ', end='\\n', file=None, flush=False)\n",
      "    Prints the values to a stream, or to sys.stdout by default.\n",
      "    \n",
      "    sep\n",
      "      string inserted between values, default a space.\n",
      "    end\n",
      "      string appended after the last value, default a newline.\n",
      "    file\n",
      "      a file-like object (stream); defaults to the current sys.stdout.\n",
      "    flush\n",
      "      whether to forcibly flush the stream.\n",
      "\n",
      "None\n"
     ]
    }
   ],
   "source": [
    "print(help(print))"
   ]
  },
  {
   "cell_type": "code",
   "execution_count": 18,
   "metadata": {},
   "outputs": [
    {
     "name": "stdout",
     "output_type": "stream",
     "text": [
      "hi hello\n",
      "hi_hello\n",
      "hi\thi\n"
     ]
    }
   ],
   "source": [
    "print('hi', 'hello') # 첫번째 인자가 *args 라는 가변인자이기 때문에 무한정 콤마로 계속 값을 넣을 수 있다\n",
    "print('hi', 'hello', sep='_') # 기본적으로 sep=' ' 인것을 언더바로 변경하여 인자간 간격을 언더바로 표현한다\n",
    "print('hi', end=' ') # 기본적으로 줄바꿈인것을 공백으로 변경해서 다음 출력물이 옆에서 찍힌다.\n",
    "print('hi') "
   ]
  }
 ],
 "metadata": {
  "kernelspec": {
   "display_name": "Python 3",
   "language": "python",
   "name": "python3"
  },
  "language_info": {
   "codemirror_mode": {
    "name": "ipython",
    "version": 3
   },
   "file_extension": ".py",
   "mimetype": "text/x-python",
   "name": "python",
   "nbconvert_exporter": "python",
   "pygments_lexer": "ipython3",
   "version": "3.12.4"
  }
 },
 "nbformat": 4,
 "nbformat_minor": 2
}
