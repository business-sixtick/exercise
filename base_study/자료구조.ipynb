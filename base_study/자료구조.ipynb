{
 "cells": [
  {
   "cell_type": "code",
   "execution_count": null,
   "metadata": {},
   "outputs": [],
   "source": [
    "# 배열(고정): 파이썬에서는 없음, 리스트(가변), 딕셔너리, 튜플, 세트\n",
    "# array (x), list, dict, tuple, set\n",
    "# data structure 자료구조\n",
    "\n"
   ]
  },
  {
   "cell_type": "code",
   "execution_count": null,
   "metadata": {},
   "outputs": [],
   "source": [
    "import numpy\n",
    "arr = numpy.array([1,2,3,4,5,6])\n",
    "print(arr)\n",
    "print(type(arr))"
   ]
  },
  {
   "cell_type": "code",
   "execution_count": 3,
   "metadata": {},
   "outputs": [
    {
     "name": "stdout",
     "output_type": "stream",
     "text": [
      "정답보다 큽니다. 50\n",
      "정답보다 작습니다. 25\n",
      "정답보다 작습니다. 25\n",
      "정답보다 작습니다. 15\n",
      "정답보다 작습니다. 35\n",
      "정답보다 큽니다. 45\n",
      "정답보다 작습니다. 40\n",
      "정답보다 큽니다. 42\n",
      "정답입니다 41  입력값 : 41\n"
     ]
    }
   ],
   "source": [
    "import random\n",
    "num = random.randint(1, 100)\n",
    "input_num = 0 #input('숫자를 입력하세요 1~100 : ')\n",
    "while input_num != num :\n",
    "    input_num = int(input('숫자를 입력하세요 1~100 : '))\n",
    "    if input_num == num :\n",
    "        print('정답입니다 {}  입력값 : {}'.format(num, input_num))\n",
    "        break\n",
    "    elif input_num > num :\n",
    "        print('정답보다 큽니다. {}'.format(input_num))\n",
    "    elif input_num < num :\n",
    "        print('정답보다 작습니다. {}'.format(input_num))"
   ]
  },
  {
   "cell_type": "code",
   "execution_count": 46,
   "metadata": {},
   "outputs": [
    {
     "name": "stdout",
     "output_type": "stream",
     "text": [
      "정답보다 작습니다. 4 답74\n",
      "정답보다 작습니다. 53 답74\n",
      "정답보다 작습니다. 56 답74\n",
      "정답보다 작습니다. 60 답74\n",
      "정답보다 작습니다. 63 답74\n",
      "정답보다 큽니다. 87 답74\n",
      "정답보다 큽니다. 81 답74\n",
      "정답보다 작습니다. 71 답74\n",
      "정답보다 큽니다. 77 답74\n",
      "정답보다 작습니다. 72 답74\n",
      "정답보다 큽니다. 76 답74\n",
      "정답보다 작습니다. 73 답74\n",
      "정답보다 큽니다. 75 답74\n",
      "정답입니다 74  입력값 : 74\n"
     ]
    }
   ],
   "source": [
    "import random\n",
    "num = random.randint(1, 100)\n",
    "input_num = random.randint(1, 100)\n",
    "min_num = 1\n",
    "max_num = 100\n",
    "while input_num != num :\n",
    "    if input_num > num :\n",
    "        print('정답보다 큽니다. {} 답{}'.format(input_num, num))\n",
    "        max_num = input_num\n",
    "    elif input_num < num :\n",
    "        print('정답보다 작습니다. {} 답{}'.format(input_num, num))\n",
    "        min_num = input_num\n",
    "\n",
    "    input_num = random.randint(min_num + 1, max_num - 1)\n",
    "\n",
    "    if input_num == num :\n",
    "        print('정답입니다 {}  입력값 : {}'.format(num, input_num))\n",
    "        break"
   ]
  },
  {
   "cell_type": "code",
   "execution_count": 2,
   "metadata": {},
   "outputs": [
    {
     "name": "stdout",
     "output_type": "stream",
     "text": [
      "<class 'list'>\n"
     ]
    }
   ],
   "source": [
    "print(type([]))"
   ]
  },
  {
   "cell_type": "code",
   "execution_count": 4,
   "metadata": {},
   "outputs": [
    {
     "name": "stdout",
     "output_type": "stream",
     "text": [
      "[1, 2, 3, 4, 5]\n",
      "<class 'list'>\n"
     ]
    }
   ],
   "source": [
    "test_list = [1, 2, 3, 4, 5]\n",
    "print(test_list)\n",
    "print(type(test_list))"
   ]
  },
  {
   "cell_type": "code",
   "execution_count": 5,
   "metadata": {},
   "outputs": [
    {
     "name": "stdout",
     "output_type": "stream",
     "text": [
      "[]\n",
      "[]\n",
      "[1, 2, 3, 4, 5]\n"
     ]
    }
   ],
   "source": [
    "test_list = [] # 빈 리스트\n",
    "print(test_list)\n",
    "test_list = list() # 리스트 클래스 생성자\n",
    "print(test_list)\n",
    "test_list = list((1,2,3,4,5)) # 리스트 클래스 생성자에 iterable 인수를 전달\n",
    "print(test_list)"
   ]
  },
  {
   "cell_type": "code",
   "execution_count": 6,
   "metadata": {},
   "outputs": [
    {
     "name": "stdout",
     "output_type": "stream",
     "text": [
      "[1, '1', [1, 2], True, 3.14]\n"
     ]
    }
   ],
   "source": [
    "test_list = [1, '1', [1, 2], True, 3.14]\n",
    "print(test_list)"
   ]
  },
  {
   "cell_type": "code",
   "execution_count": null,
   "metadata": {},
   "outputs": [],
   "source": [
    "\n",
    "\n",
    "#리스트\n",
    "subway1 = 10\n",
    "subway2 = 20\n",
    "subwqy3 = 30\n",
    "\n",
    "subway = []\n",
    "print(type(subway))\n",
    "subway = list()\n",
    "print(type(subway))\n",
    "subway = [10, 20, 30]\n",
    "print(type(subway))\n",
    "print(subway)\n",
    "print(subway[0], subway[1], subway[2])\n",
    "print(subway.index(20)) # 해당 항목의 위치를 반환\n",
    "subway.append(40) # 맨 뒤에 추가\n",
    "subway.insert(len(subway), 50) # 지정 위치에 삽입\n",
    "subway.append(40)\n",
    "print('count : ', subway.count(40)) #해당 요소 개수\n",
    "subway.sort() # 오름차순 정렬 subway.sort(reverse=True) 역순\n",
    "print(subway)\n",
    "print('sort : ', subway.sort(reverse=True))\n",
    "print(subway)\n",
    "print('sorted : ', sorted(subway) ) # 복사본 정렬\n",
    "print('reverse : ', subway.reverse()) # 뒤집기\n",
    "print(subway)\n",
    "print(subway.pop()) #디폴트 맨뒤에꺼 꺼냄. 꺼내면 지워짐\n",
    "print(subway)\n",
    "print(subway.pop(1)) # 인덱스 지정할 수 있음\n",
    "print(subway)\n",
    "subway.clear() ## 전체 지움.\n",
    "print(subway)\n",
    "# 스택 , 큐 따로 구분없이 다됨 ㅋㅋㅋㅋㅋ\n",
    "list1 = [1, 2, 3, 4, 5]\n",
    "list2 = [6, 7, 8, 9, 10]\n",
    "print('list1 + list2 : ', list1 + list2)\n",
    "list1.append(list2)\n",
    "print(list1)\n",
    "print(list1.extend(list2), list1) # extend는 + 연산과 같음\n",
    "\n"
   ]
  },
  {
   "cell_type": "code",
   "execution_count": null,
   "metadata": {},
   "outputs": [],
   "source": [
    "# 딕셔너리 []대괄호 {}중괄호 <>꺽쇠 ()소괄호\n",
    "dic = {}\n",
    "dic = {1 : '일', 2 : '이', 3 : '삼'}\n",
    "print(dic)\n",
    "print(dic[1], dic.get(1))\n",
    "print(dic.keys(), dic.values())\n",
    "print(5 in dic.keys()) # 키 검색\n",
    "print(dic.get(5, 'default')) # get으로 접근시 해당 키가 없어도 오류가 나지 않고 None 반환함 dic[5]로 접근시 에러 남\n",
    "print(dic.get(3, 'default')) # print(dic.get(3, default = 'default')) 인자 순서대로 넣으면 변수 지정 하지 않아도 됨\n",
    "print(3 in dic, '삼' in dic) # 포함 체크는 키만 해당됨.\n",
    "dic.update({4 : '사', 6 : '육', 7 : '칠', 8 : '팔', 9 : '구'})\n",
    "dic[5] = '오'\n",
    "print(dic)\n",
    "print(dic.items()) # 키와 값을 튜플 리스트로 반환한다. \n",
    "print(sorted(dic, key = lambda x : dic[x])) # 값 기준으로 정렬된 키 반환\n",
    "for i in sorted(dic, key = lambda x : dic[x]) : \n",
    "    print(dic.get(i), end=' ')\n",
    "print()\n",
    "print('중복 테스트')\n",
    "print(dic)\n",
    "dic.update({1: 'one'})\n",
    "print(dic)\n",
    "del dic[1]\n",
    "print(f'del dic[1] :: ',dic) # 쌍으로 지워짐\n",
    "# 인덱싱 자체가 없다. 키값을 인덱스로 넣으면 가능 함 ㅋㅋㅋㅋㅋㅋㅋㅋㅋㅋ \n",
    "\n",
    "for i in dic : # 기본적으로 키를 반환한다.\n",
    "    print(i, dic[i])\n"
   ]
  },
  {
   "cell_type": "code",
   "execution_count": 13,
   "metadata": {},
   "outputs": [
    {
     "name": "stdout",
     "output_type": "stream",
     "text": [
      "1교시 python\n",
      "2교시 html\n",
      "3교시 css\n",
      "4교시 javascript\n",
      "5교시 db\n",
      "{'1교시': 'python', '2교시': 'html', '3교시': 'css', '4교시': 'javascript', '5교시': 'db', '6교시': 'None'}\n",
      "{'1교시': 'python', '2교시': 'html', '3교시': 'css', '4교시': 'javascript', '5교시': 'db', '6교시': 'enjoy'}\n",
      "{'1교시': 'python', '2교시': 'html', '3교시': 'css', '4교시': 'javascript', '5교시': 'db', '6교시': 'enjoy', '이름': '수박', '제품형태': '씨없는수박'}\n"
     ]
    }
   ],
   "source": [
    "# dict 딕셔너리\n",
    "key_list = ['1교시', '2교시', '3교시', '4교시', '5교시']\n",
    "val_list = ['python', 'html', 'css', 'javascript', 'db']\n",
    "dic1 = {k: v for k, v in zip(key_list, val_list)}\n",
    "for i in dic1:\n",
    "    print(i, dic1.get(i))\n",
    "dic1['6교시'] = 'None'\n",
    "print(dic1)\n",
    "dic1.update([('6교시', 'enjoy')])\n",
    "print(dic1)\n",
    "dic1.update([['이름', '수박'], ['제품형태', '씨없는수박']])\n",
    "print(dic1)"
   ]
  },
  {
   "cell_type": "code",
   "execution_count": null,
   "metadata": {},
   "outputs": [],
   "source": [
    "# 튜플\n",
    "# 튜플은 리스트와 같지만 요소 변경이 되지 않는다. \n",
    "swap1 = 1\n",
    "swap2 = 2\n",
    "print(swap1, swap2)\n",
    "(swap1, swap2) = (swap2, swap1)\n",
    "print(swap1, swap2)"
   ]
  },
  {
   "cell_type": "code",
   "execution_count": null,
   "metadata": {},
   "outputs": [],
   "source": [
    "# 세트 : 기본적으로 딕셔너리와 같지만 키를 포함하지 않는다 . 집합과 같은 형태를 띈다. 요소의 순서가 없다. \n",
    "set1 = {}\n",
    "print(type(set1))\n",
    "set1 = set({1, 2, 3, 3})\n",
    "print(set1)\n",
    "print(type(set1))\n",
    "set1= {1,2}\n",
    "print(type(set1))\n",
    "set1 = set([1, 2, 3, 4]) # 생성자로 초기화 할때에는 리스트로 넣어준다. 셋트 형태도 되네\n",
    "set2 = {1, 2, 6, 7}\n",
    "set2.add(8) #추가\n",
    "set2.add(9)\n",
    "set2.remove(9)\n",
    "set2.discard(10) # 없어도 오류를 내지 않고 삭제한다. 버리다. 폐기하다\n",
    "print(set1)\n",
    "print(set1 & set2) #  교집합을 나타냄 intersection\n",
    "print(set1 | set2) # 합집합 union\n",
    "print(set1 - set2) # a 차집합 difference\n",
    "print(set1 ^ set2) # 대칭 차집합?? 교집합을 뺀 것"
   ]
  },
  {
   "cell_type": "code",
   "execution_count": null,
   "metadata": {},
   "outputs": [],
   "source": [
    "# 리스트, 딕셔너리, 튜플, 세트\n",
    "print('[]', type([])) # 값의 나열\n",
    "print('{}', type({}), '{1:\"one\"}', type({1:\"one\"})) # 키와 값의 쌍으로 이뤄진 집합. 키의 중복을 허용하지 않는다.\n",
    "print('()', type(())) # 요소를 변경할 수 없는 리스트\n",
    "print('{1}', type({1})) # 값으로만 이뤄진 집합. 중복허용 안함"
   ]
  },
  {
   "cell_type": "code",
   "execution_count": null,
   "metadata": {},
   "outputs": [],
   "source": [
    "# del 키워드\n",
    "test_list = [x for x in range(10)]\n",
    "print(test_list)\n",
    "del test_list[0]\n",
    "print(r'del test_list[0] ::',test_list)\n",
    "test_tuple = tuple(test_list)\n",
    "print(test_tuple)\n",
    "try :\n",
    "    del test_tuple[0] # TypeError: 'tuple' object doesn't support item deletion\n",
    "except Exception as e : # 예외시 실행\n",
    "    print(f'Exception type : {type(e).__name__}')\n",
    "    print(f'Exception message : {e}')\n",
    "    import traceback\n",
    "    traceback.print_exc()\n",
    "else : # 예외가 없을때 실행\n",
    "    print(r'del test_tuple[0]', test_tuple)\n",
    "finally : # 무조껀 실행\n",
    "    ()    \n"
   ]
  },
  {
   "cell_type": "code",
   "execution_count": null,
   "metadata": {},
   "outputs": [],
   "source": [
    "# len 함수 (요소의 개수 리턴)\n",
    "test_list = [x for x in range(10)]\n",
    "print(f'len(test_list) :: ', len(test_list))"
   ]
  },
  {
   "cell_type": "code",
   "execution_count": null,
   "metadata": {},
   "outputs": [],
   "source": [
    "# 딕셔너리\n",
    "\n",
    "'''형설고등학교 3학년 기말고사 수학, 영어, 국어의 성적을 딕셔너리로 구축하고 각 개인의 평균과 총점을 구하세요.\n",
    "1. 키로 학번을 사용하는데 1번부터 9번까지 있어요.\n",
    "2. 수학, 영어, 국어 순으로 점수 값만 딕셔너리로 구성하세요.\n",
    "3. 평균 소수점 1자리에서 반올림 하셔서 정수로 출력하세요.\n",
    "4. 총점도 표시하시고 실행하면 1번부터 9번까지 성적목록을 출력해주세요.\n",
    "5. 학번, 국어, 영어, 수학, 총점, 평균 순으로 목록을 출력해주세요\n",
    "'''\n",
    "#class_list = [cl for cl in range(1, 9+1)]\n",
    "#print(class_list)\n",
    "print(round(94.77)) # 정수형태가 나오네?\n",
    "print(round(94.77, 0))\n",
    "gimal = {i : random.sample(range(60, 100), 3) for i in range(1,10)}\n",
    "print('기말 : ' ,gimal)\n",
    "import random\n",
    "import numpy\n",
    "# ran_list = [random.sample(range(60, 100), 3) for ran in range(27)]\n",
    "\n",
    "line = 60\n",
    "print('=' * line)\n",
    "\n",
    "#for index, item in enumerate(gimal.items(), start=1) :\n",
    "print('                <형설고등학교 3학년 기말고사>')\n",
    "print('=' * line)\n",
    "space1 = 6\n",
    "space = 8\n",
    "print(' ', '학번'.rjust(space1), '국어'.rjust(space1), '영어'.rjust(space1), '수학'.rjust(space1), '총점'.rjust(space1), '평균'.rjust(space1))\n",
    "print('-' * line)\n",
    "for item in gimal.items() :\n",
    "    #print(item[0], item[1][0], item[1][1], item[1][2], numpy.sum(item[1]), int(round(numpy.average(item[1]),0)) )\n",
    "    #print(item)\n",
    "    \n",
    "    # print(f'{item[0]:2} {item[1][0]:4} {item[1][1]:4} {item[1][2]:4} {numpy.sum(item[1]):4} {int(round(numpy.average(item[1]),0)):3} ')\n",
    "    #print(f'{item[0]:2} {item[1][0]:4} {item[1][1]:4} {item[1][2]:4} {numpy.sum(item[1]):4} {round(numpy.average(item[1])):3} ')\n",
    "    print(f'{item[0]}'.rjust(space), f'{item[1][0]}'.rjust(space), f'{item[1][1]}'.rjust(space)\n",
    "          , f'{item[1][2]}'.rjust(space),  f'{numpy.sum(item[1])}'.rjust(space), f'{round(numpy.average(item[1]))}'.rjust(space))\n",
    "    #print('-' * 27)\n",
    "print('=' * line)\n"
   ]
  },
  {
   "cell_type": "code",
   "execution_count": null,
   "metadata": {},
   "outputs": [],
   "source": [
    "# 리스트 컴프리헨션??? \n",
    "test_list = [i for i in range(10)]\n",
    "print(test_list)\n",
    "test_list = [i for i in range(10) if i % 2 == 0]\n",
    "print(test_list)\n",
    "test_list = [i + 1 for i in range(10) if i % 2 == 0]\n",
    "print(test_list)\n",
    "# 딕셔너리 는 키 : 벨류 형태로 받는다\n",
    "test_list = {i: f'숫자{i + 1}' for i in range(10) if i % 2 == 0}\n",
    "print(test_list)\n",
    "test_list = [i + 1 for i in range(10) if i % 2 == 0 and i < 5] \n",
    "test_list = [i + 1 for i in range(10) if i % 2 == 0 if i < 5] # 같은 표현\n",
    "test_list = [i + 1 if i % 2 == 0 else 'None' for i in range(10)  ] # 삼항 연산자 표현 . 조건절이 앞으로 온다???\n",
    "print(test_list)"
   ]
  },
  {
   "cell_type": "code",
   "execution_count": null,
   "metadata": {},
   "outputs": [],
   "source": [
    "# 컴프리헨션 삼항연산자 조건추가\n",
    "test_list = [i if i % 2 == 0 else '' for i in range(10)] # 조건절을 앞으로 넣었을때 else 구문을 안넣으니까 오류나네\n",
    "print(test_list) \n",
    "test_list = [i if i % 2 == 0 else None for i in range(10)] # pass 도 안되고 continue도 안되고 None을 넣자니 값이 들어가고 어케 하지???\n",
    "# test_list = [i if i % 2 == 0 else pass for i in range(10)]\n",
    "print(test_list)\n",
    "# 조건추가랑 삼항연산은 구분해서 쓰는 걸로 ㅋㅋ\n",
    "import random\n",
    "print(random.randrange(1, 10)) # 아 한개 뽑는거구나 ㅋㅋㅋㅋㅋㅋㅋㅋㅋㅋㅋㅋㅋㅋㅋㅋㅋㅋㅋㅋㅋㅋㅋㅋㅋㅋㅋㅋㅋ not iterable  ㅋㅋㅋ\n",
    "# 반복 가능한 범위를 생성하고 싶다면, random.sample이나 random.choices를 사용할 수 있습니다:\n",
    "for i in random.choices(range(0, 50), k=20) : # 초이스는 갯수 지정할때 변수명 써줘야 하네 ㅠㅠ\n",
    "    print(i , end=' ') # 중복허용 랜덤 뽑기\n",
    "print('\\nsample')\n",
    "counts = [1,1,1,1,1,1,1,1,1,10,1,1,1,1,1,1,1,1,10]\n",
    "start = 1\n",
    "for i in random.sample(range(start, len(counts) + start), 5, counts=counts) :# counts 가중치를 주면 choices 로 동작함. 가중치는 각샘플에 뽑힐 확률을 지정해줌. 샘플갯수에 맞게 가중리스트대입\n",
    "    print(i, end=' ')\n",
    "print('\\nsample2')\n",
    "for i in random.sample(range(0, 10), 5) :\n",
    "    print(i, end=' ')"
   ]
  },
  {
   "cell_type": "code",
   "execution_count": null,
   "metadata": {},
   "outputs": [],
   "source": [
    "lotto_num = [1,2,3,4,5,6]\n",
    "print(id(lotto_num))\n",
    "print(id(lotto_num[0]))\n",
    "print(id(lotto_num[1]))\n",
    "print(id(lotto_num[2])) #32 바이트 ??? \n",
    "lotto_num.pop(0)\n",
    "lotto_num.append('7')\n",
    "print(id(lotto_num[4]))\n",
    "print(id(lotto_num[5]))\n"
   ]
  },
  {
   "cell_type": "code",
   "execution_count": null,
   "metadata": {},
   "outputs": [],
   "source": [
    "grade1 = ['grade1_class1', 'grade1_class2', 'grade1_class3']\n",
    "grade2 = ['grade2_class1', 'grade2_class2', 'grade2_class3']\n",
    "grade3 = ['grade3_class1', 'grade3_class2', 'grade3_class3']\n",
    "school = [grade1, grade2, grade3]\n",
    "print(school)\n",
    "print(tuple(school))\n",
    "for i in school:\n",
    "    print(i)\n",
    "    for j in i:\n",
    "        print(j)\n",
    "print(grade1[0][6])\n",
    "li = [[1,2,3],[4,5,6],[7,8,[9,10,11,[12]]]]\n",
    "print(li[2][2][3][0])\n",
    "print(li[-1][-1][-1][-1])"
   ]
  },
  {
   "cell_type": "code",
   "execution_count": null,
   "metadata": {},
   "outputs": [],
   "source": [
    "li1 = [1,2]\n",
    "li2 = [3,4]\n",
    "li3 = li1 + li2\n",
    "print(li3)\n",
    "tp1 = (1, 2)\n",
    "tp2 = (3, 4)\n",
    "print(tp1 + tp2)\n",
    "import numpy as np\n",
    "arr1 = np.array([1,2])\n",
    "arr2 = np.array([3,4])\n",
    "print(arr1 + arr2)\n",
    "li1.append([5,6])\n",
    "print(li1)\n",
    "li1.remove([5,6])\n",
    "print(li1)\n",
    "li1.append(5)\n",
    "li1.append(6)\n",
    "print(li1)\n",
    "li1.remove(5)\n",
    "print(li1)\n",
    "li1.extend([7, 8]) # 더하기 연산자와 같음\n",
    "print(li1)\n",
    "\n"
   ]
  },
  {
   "cell_type": "code",
   "execution_count": null,
   "metadata": {},
   "outputs": [],
   "source": [
    "\n",
    "li1 = ['apple', 'banana']\n",
    "li1.insert(1,'barry')\n",
    "print(li1)\n",
    "li1.pop() # 디폴트 맨뒤에꺼~ pop 팡하고 터지는 소리가 난다 고로 튀어오르다\n",
    "print(li1)\n",
    "li1.insert(1,'barry')\n",
    "print(li1)\n",
    "del li1[-1]\n",
    "print(li1)\n",
    "li1.insert(1,'barry')\n",
    "print(li1)\n",
    "li1.remove('barry')\n",
    "print(li1)\n",
    "li1.insert(1,'barry')\n",
    "print(li1)\n",
    "li1.insert(2,'orange')\n",
    "print(li1)\n",
    "li1.remove('barry') # 앞쪽 부터 한개 지움\n",
    "print(li1)"
   ]
  },
  {
   "cell_type": "code",
   "execution_count": null,
   "metadata": {},
   "outputs": [],
   "source": [
    "import random\n",
    "li = []\n",
    "for i in range(6):\n",
    "    # print(random.randint(1,46), end=' ')\n",
    "    li.append(random.randint(1,45))\n",
    "li.sort() # 반환값없음. 내부처리\n",
    "print(li)\n",
    "# hi = 'helro'\n",
    "# hi[4] = 'l'"
   ]
  },
  {
   "cell_type": "code",
   "execution_count": null,
   "metadata": {},
   "outputs": [],
   "source": [
    "lol = [\n",
    "    [1,2,3],\n",
    "    [4,5,6,7],\n",
    "    [8,9]\n",
    "]\n",
    "for i in lol :\n",
    "    print(i)\n",
    "    for j in i :\n",
    "        print(j)"
   ]
  },
  {
   "cell_type": "code",
   "execution_count": null,
   "metadata": {},
   "outputs": [],
   "source": [
    "res = 0\n",
    "for i in range(1, 11):\n",
    "    res += i\n",
    "    # print(i, end=' ')\n",
    "    print(res, end=' ')"
   ]
  },
  {
   "cell_type": "code",
   "execution_count": null,
   "metadata": {},
   "outputs": [],
   "source": [
    "res = 0\n",
    "for i in range(1, 10+1):\n",
    "    res += i\n",
    "print(res)"
   ]
  },
  {
   "cell_type": "code",
   "execution_count": null,
   "metadata": {},
   "outputs": [],
   "source": [
    "list_a = [0,1,2,3,4,5,6,7]\n",
    "list_a.clear()\n",
    "print(list_a)"
   ]
  },
  {
   "cell_type": "code",
   "execution_count": null,
   "metadata": {},
   "outputs": [],
   "source": [
    "list_a = [0,1,2,3,4,5,6,7]\n",
    "print(list_a)\n",
    "print(*list_a)\n",
    "print([1,2,3].pop())"
   ]
  },
  {
   "cell_type": "code",
   "execution_count": 89,
   "metadata": {},
   "outputs": [
    {
     "name": "stdout",
     "output_type": "stream",
     "text": [
      "0 0\n",
      "3 3\n",
      "9 6\n",
      "18 9\n",
      "18\n"
     ]
    }
   ],
   "source": [
    "res = 0 \n",
    "for i in range(0, 11) :\n",
    "    if i % 3 == 0:\n",
    "        res += i\n",
    "        print(res, i)\n",
    "print(res)"
   ]
  },
  {
   "cell_type": "code",
   "execution_count": 18,
   "metadata": {},
   "outputs": [
    {
     "name": "stdout",
     "output_type": "stream",
     "text": [
      "name 기사\n",
      "level 12\n",
      "sword 불꽃의 검\n",
      "armor 풀플레이트\n",
      "skill 베기\n",
      "skill 세게 베기\n",
      "skill 아주 세개 배기\n"
     ]
    }
   ],
   "source": [
    "character = {\n",
    "    'name' : '기사',\n",
    "    'level' : 12, \n",
    "    'items' : {\n",
    "        'sword' : '불꽃의 검',\n",
    "        'armor' : '풀플레이트'\n",
    "    },\n",
    "    'skill' : ['베기', '세게 베기', '아주 세개 배기']\n",
    "}\n",
    "\n",
    "for k, v in character.items() :\n",
    "    # print(v)\n",
    "    if type(v) == str or type(v) == int :\n",
    "        print(k, v)\n",
    "    elif type(v) == list :\n",
    "        for i in v:\n",
    "            print(k, i)\n",
    "    elif type(v) == dict :\n",
    "        for i in v : \n",
    "            print(i, v[i])"
   ]
  },
  {
   "cell_type": "code",
   "execution_count": 27,
   "metadata": {},
   "outputs": [
    {
     "name": "stdout",
     "output_type": "stream",
     "text": [
      "2 * 1 =  2   2 * 2 =  4   2 * 3 =  6   2 * 4 =  8   2 * 5 = 10   2 * 6 = 12   2 * 7 = 14   2 * 8 = 16   2 * 9 = 18   \n",
      "3 * 1 =  3   3 * 2 =  6   3 * 3 =  9   3 * 4 = 12   3 * 5 = 15   3 * 6 = 18   3 * 7 = 21   3 * 8 = 24   3 * 9 = 27   \n",
      "4 * 1 =  4   4 * 2 =  8   4 * 3 = 12   4 * 4 = 16   4 * 5 = 20   4 * 6 = 24   4 * 7 = 28   4 * 8 = 32   4 * 9 = 36   \n",
      "5 * 1 =  5   5 * 2 = 10   5 * 3 = 15   5 * 4 = 20   5 * 5 = 25   5 * 6 = 30   5 * 7 = 35   5 * 8 = 40   5 * 9 = 45   \n",
      "6 * 1 =  6   6 * 2 = 12   6 * 3 = 18   6 * 4 = 24   6 * 5 = 30   6 * 6 = 36   6 * 7 = 42   6 * 8 = 48   6 * 9 = 54   \n",
      "7 * 1 =  7   7 * 2 = 14   7 * 3 = 21   7 * 4 = 28   7 * 5 = 35   7 * 6 = 42   7 * 7 = 49   7 * 8 = 56   7 * 9 = 63   \n",
      "8 * 1 =  8   8 * 2 = 16   8 * 3 = 24   8 * 4 = 32   8 * 5 = 40   8 * 6 = 48   8 * 7 = 56   8 * 8 = 64   8 * 9 = 72   \n",
      "9 * 1 =  9   9 * 2 = 18   9 * 3 = 27   9 * 4 = 36   9 * 5 = 45   9 * 6 = 54   9 * 7 = 63   9 * 8 = 72   9 * 9 = 81   \n"
     ]
    }
   ],
   "source": [
    "for i in range(2, 10):\n",
    "    for j in range(1,10):\n",
    "        print(f'{i} * {j} = {i * j:2}', end='   ')\n",
    "    print()"
   ]
  }
 ],
 "metadata": {
  "kernelspec": {
   "display_name": "Python 3",
   "language": "python",
   "name": "python3"
  },
  "language_info": {
   "codemirror_mode": {
    "name": "ipython",
    "version": 3
   },
   "file_extension": ".py",
   "mimetype": "text/x-python",
   "name": "python",
   "nbconvert_exporter": "python",
   "pygments_lexer": "ipython3",
   "version": "3.12.4"
  }
 },
 "nbformat": 4,
 "nbformat_minor": 2
}
