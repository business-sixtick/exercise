{
 "cells": [
  {
   "cell_type": "code",
   "execution_count": 6,
   "metadata": {},
   "outputs": [
    {
     "name": "stdout",
     "output_type": "stream",
     "text": [
      "테스트 모듈이 실행 되었다\n"
     ]
    }
   ],
   "source": [
    "'''\n",
    "모듈은 .py로 된 파일이고 함수 또는 클래스가 들어있다.\n",
    "import 모듈명    <- 모듈명.맴버 로 접근\n",
    "from 모듈명 import 함수명,클래스명    <- 함수명() 또는 클래스명()\n",
    "import 모듈명 as 별명      <- 별명.맴버\n",
    "from 모듈명 import *        <- 모듈안에 들어있는 모든걸 직접 호출 가능\n",
    "'''\n",
    "\n",
    "\n",
    "'''\n",
    "패키지 구성\n",
    "\n",
    "폴더\n",
    "    -모듈1.py\n",
    "    -모듈2.py\n",
    "    -__init__.py           <=  __all__ = ['모듈명', ...]             : 포함해야 from 모듈명 import * 구문이 가능함\n",
    "\n",
    "'''\n",
    "\n",
    "\n",
    "'''\n",
    "\n",
    "모듈 직접 실행\n",
    "\n",
    "if __name__ == '__main__' :\n",
    "    실행구문\n",
    "\n",
    "'''\n",
    "\n",
    "class test_module :\n",
    "    def run(self):              ### <- self 빼먹지마라 ㅋㅋㅋㅋㅋㅋㅋㅋㅋㅋㅋㅋㅋㅋㅋㅋ\n",
    "        print('테스트 모듈이 실행 되었다')\n",
    "\n",
    "if __name__ == '__main__' :     # 과연 이걸 쓸까??? 아 실행파일 ㅋ\n",
    "    test_module().run()\n",
    "else :        # 외부에서 호출 되었을때\n",
    "    print('너 누군데 내꺼 갖다 쓰는거냐?? ㅋ')"
   ]
  },
  {
   "cell_type": "code",
   "execution_count": 1,
   "metadata": {},
   "outputs": [
    {
     "name": "stdout",
     "output_type": "stream",
     "text": [
      "/workspaces/exercise\n",
      "폴더가 있습니다\n"
     ]
    }
   ],
   "source": [
    "import os\n",
    "folder = 'data'\n",
    "print(os.getcwd()) # 폴더 위\n",
    "if(os.path.exists(folder)) :  # 폴더 유무\n",
    "    print('폴더가 있습니다')\n",
    "else : \n",
    "    os.makedirs(folder) # 폴더 생성\n",
    "# os.rmdir(folder) # 폴더 삭제"
   ]
  },
  {
   "cell_type": "code",
   "execution_count": 14,
   "metadata": {},
   "outputs": [
    {
     "name": "stdout",
     "output_type": "stream",
     "text": [
      "time.struct_time(tm_year=2024, tm_mon=7, tm_mday=14, tm_hour=7, tm_min=29, tm_sec=12, tm_wday=6, tm_yday=196, tm_isdst=0)\n",
      "24-07-14 07:29:12\n",
      "1720942152.3936214\n",
      "1720942152.4938061\n",
      "1720942152.59401\n",
      "1720942152.6942077\n"
     ]
    }
   ],
   "source": [
    "import time\n",
    "print(time.localtime())\n",
    "print(time.strftime('%y-%m-%d %H:%M:%S'))\n",
    "print(time.time())\n",
    "for i in range(3):\n",
    "    time.sleep(0.1)\n",
    "    print(time.time())"
   ]
  },
  {
   "cell_type": "code",
   "execution_count": 18,
   "metadata": {},
   "outputs": [
    {
     "name": "stdout",
     "output_type": "stream",
     "text": [
      "2024-07-14\n",
      "2024-07-14 16:34:09.703743+09:00\n"
     ]
    }
   ],
   "source": [
    "import datetime\n",
    "import pytz   # 타임존 모듈\n",
    "print(datetime.date.today())\n",
    "print(datetime.datetime.now(pytz.timezone('Asia/Seoul')))"
   ]
  },
  {
   "cell_type": "code",
   "execution_count": 2,
   "metadata": {},
   "outputs": [
    {
     "ename": "TypeError",
     "evalue": "getmodule() missing 1 required positional argument: 'object'",
     "output_type": "error",
     "traceback": [
      "\u001b[0;31m---------------------------------------------------------------------------\u001b[0m",
      "\u001b[0;31mTypeError\u001b[0m                                 Traceback (most recent call last)",
      "Cell \u001b[0;32mIn[2], line 3\u001b[0m\n\u001b[1;32m      1\u001b[0m \u001b[38;5;28;01mimport\u001b[39;00m \u001b[38;5;21;01minspect\u001b[39;00m    \u001b[38;5;66;03m#모듈 위치를 알아내는 모듈\u001b[39;00m\n\u001b[1;32m      2\u001b[0m \u001b[38;5;66;03m#print(inspect.getfile(test_module)) # 예시\u001b[39;00m\n\u001b[0;32m----> 3\u001b[0m \u001b[38;5;28mprint\u001b[39m(\u001b[43minspect\u001b[49m\u001b[38;5;241;43m.\u001b[39;49m\u001b[43mgetmodule\u001b[49m\u001b[43m(\u001b[49m\u001b[43m)\u001b[49m)\n",
      "\u001b[0;31mTypeError\u001b[0m: getmodule() missing 1 required positional argument: 'object'"
     ]
    }
   ],
   "source": [
    "import inspect    #모듈 위치를 알아내는 모듈\n",
    "#print(inspect.getfile(test_module)) # 예시\n"
   ]
  }
 ],
 "metadata": {
  "kernelspec": {
   "display_name": "Python 3",
   "language": "python",
   "name": "python3"
  },
  "language_info": {
   "codemirror_mode": {
    "name": "ipython",
    "version": 3
   },
   "file_extension": ".py",
   "mimetype": "text/x-python",
   "name": "python",
   "nbconvert_exporter": "python",
   "pygments_lexer": "ipython3",
   "version": "3.10.13"
  }
 },
 "nbformat": 4,
 "nbformat_minor": 2
}
