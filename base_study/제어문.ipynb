{
 "cells": [
  {
   "cell_type": "code",
   "execution_count": 1,
   "metadata": {},
   "outputs": [
    {
     "name": "stdout",
     "output_type": "stream",
     "text": [
      "free\n"
     ]
    }
   ],
   "source": [
    "age = 1\n",
    "if age < 7 :\n",
    "    if age < 3 :\n",
    "        print('free')\n",
    "    else :\n",
    "        print('child price')\n",
    "elif 7 <= age < 20 :\n",
    "    print('teenager price')\n",
    "else : \n",
    "    print('adult price')"
   ]
  },
  {
   "cell_type": "code",
   "execution_count": null,
   "metadata": {},
   "outputs": [],
   "source": [
    "# 조건문 if elif else (elif, else 는 안써도 됨)\n",
    "'''\n",
    "if 비교문1 : \n",
    "    참일때 실행코드\n",
    "elif 비교문2 : \n",
    "    비교문1이 아니고 비교문2일때 실행코드\n",
    "else :\n",
    "    위의 비교문이 다 아닐때 실행 코드\n",
    "'''"
   ]
  },
  {
   "cell_type": "code",
   "execution_count": 6,
   "metadata": {},
   "outputs": [
    {
     "name": "stdout",
     "output_type": "stream",
     "text": [
      "너무 더워요. 외출을 자제하세요.\n"
     ]
    }
   ],
   "source": [
    "temp = str()\n",
    "error_str = ''\n",
    "while True :\n",
    "    temp = input(f\"오늘 기온은 어때요? {error_str}\")\n",
    "    if temp.isdigit() :\n",
    "        break\n",
    "    ##print(f'{temp} 잘못입력하셨습니다. 숫자를 입력해주세요 ')\n",
    "    error_str = '\\n잘못입력하셨습니다. 숫자를 입력해주세요'\n",
    "temp = int(temp)\n",
    "\n",
    "if temp >= 30:\n",
    "    print(\"너무 더워요. 외출을 자제하세요.\")\n",
    "elif temp >= 10:\n",
    "    print(\"활동하기 좋은 날씨예요.\")\n",
    "elif temp >= 0:\n",
    "    print(\"외투를 챙기세요.\")\n",
    "else:\n",
    "    print(\"너무 추워요. 나가지 마세요.\")\n"
   ]
  },
  {
   "cell_type": "code",
   "execution_count": 10,
   "metadata": {},
   "outputs": [
    {
     "name": "stdout",
     "output_type": "stream",
     "text": [
      "올바른 숫자를 입력해 주세요.\n",
      "올바른 숫자를 입력해 주세요.\n",
      "1 단\n",
      "1 * 1 = 1\n",
      "1 * 2 = 2\n",
      "1 * 3 = 3\n",
      "1 * 4 = 4\n",
      "1 * 5 = 5\n",
      "1 * 6 = 6\n",
      "1 * 7 = 7\n",
      "1 * 8 = 8\n",
      "1 * 9 = 9\n"
     ]
    }
   ],
   "source": [
    "def multiplication_table():\n",
    "    while True:\n",
    "        try:\n",
    "            num = input(\"출력할 구구단의 단 수를 입력하세요: \")\n",
    "            dan = int(num)\n",
    "            print(f\"{dan} 단\")\n",
    "            for j in range(1, 10):  # 해당 단의 곱셈 계산 및 출력\n",
    "                print(f\"{dan} * {j} = {dan * j}\")\n",
    "            break  # 정상적으로 출력되면 반복문 종료\n",
    "        except ValueError:\n",
    "            print(\"올바른 숫자를 입력해 주세요.\")\n",
    "\n",
    "# 구구단 함수 호출\n",
    "multiplication_table() \n",
    "# 챗지피티 한테 5번 수정 시켜서 완성하였다 ㅎㅎ\n"
   ]
  },
  {
   "cell_type": "code",
   "execution_count": null,
   "metadata": {},
   "outputs": [],
   "source": [
    "# 반복문 for in\n",
    "# continue 건너 뛰기\n",
    "# break 탈출"
   ]
  },
  {
   "cell_type": "code",
   "execution_count": 2,
   "metadata": {},
   "outputs": [],
   "source": [
    "# 반복문 while\n",
    "'''\n",
    "while 조건식 : \n",
    "    실행문\n",
    "'''\n",
    "i = 0\n",
    "while 10 < i :\n",
    "    i += 1\n",
    "    pass # pass 키워드는 아무것도 하지 않음을 나타냄"
   ]
  },
  {
   "cell_type": "code",
   "execution_count": 30,
   "metadata": {},
   "outputs": [
    {
     "name": "stdout",
     "output_type": "stream",
     "text": [
      "[0, 1, 2, 3, 4, 5, 6, 7, 8, 9]\n",
      "[0, 2, 4, 6, 8]\n",
      "[1, 3, 5, 7, 9]\n",
      "{0: '숫자1', 2: '숫자3', 4: '숫자5', 6: '숫자7', 8: '숫자9'}\n",
      "[1, 'None', 3, 'None', 5, 'None', 7, 'None', 9, 'None']\n"
     ]
    }
   ],
   "source": [
    "\n",
    "\n"
   ]
  },
  {
   "cell_type": "code",
   "execution_count": 3,
   "metadata": {},
   "outputs": [
    {
     "name": "stdout",
     "output_type": "stream",
     "text": [
      "2024-07-18 10:48:45.000039\n",
      "2024년 7월 18일 10시 48분 45초\n",
      "AM\n"
     ]
    }
   ],
   "source": [
    "import datetime\n",
    "now = datetime.datetime.now()\n",
    "\n",
    "print(now)\n",
    "print(f'{now.year}년 {now.month}월 {now.day}일 {now.hour}시 {now.minute}분 {now.second}초')\n",
    "if now.hour < 12 :\n",
    "    print('AM')\n",
    "if now.hour >= 12 :\n",
    "    print('PM')\n",
    "\n"
   ]
  },
  {
   "cell_type": "code",
   "execution_count": 14,
   "metadata": {},
   "outputs": [
    {
     "name": "stdout",
     "output_type": "stream",
     "text": [
      "겨울\n",
      "여름\n",
      "가을\n",
      "봄\n",
      "여름\n"
     ]
    }
   ],
   "source": [
    "season = 1\n",
    "if season in [3,4,5] :\n",
    "    print('봄')\n",
    "elif season in [6,7,8] :\n",
    "    print('여름')\n",
    "elif season in [9,10,11] :\n",
    "    print('가을')\n",
    "else :\n",
    "    print('겨울')\n",
    "    \n",
    "def a_season(val) :\n",
    "    if val >= 3 and val < 6 :\n",
    "        print('봄')\n",
    "    elif val >= 6 and val < 9 :\n",
    "        print('여름')\n",
    "    elif val >= 9 and val < 12 :\n",
    "        print('가을')\n",
    "    else :\n",
    "        print('겨울')\n",
    "\n",
    "a_season(datetime.datetime.now().month)\n",
    "a_season(9)\n",
    "a_season(3)\n",
    "a_season(int(input('몇 월이냐? : ')))"
   ]
  },
  {
   "cell_type": "code",
   "execution_count": 18,
   "metadata": {},
   "outputs": [
    {
     "name": "stdout",
     "output_type": "stream",
     "text": [
      "8는 짝수\n",
      "7는 홀수\n",
      "74는 짝수\n",
      "22는 짝수\n",
      "45는 홀수\n"
     ]
    }
   ],
   "source": [
    "num = 9\n",
    "\n",
    "import random\n",
    "for i in random.sample(range(1, 100), 5) :\n",
    "    if i % 2 == 0 : \n",
    "        print(f'{i}는 짝수')\n",
    "    else :\n",
    "        print(f'{i}는 홀수')"
   ]
  },
  {
   "cell_type": "code",
   "execution_count": 23,
   "metadata": {},
   "outputs": [
    {
     "name": "stdout",
     "output_type": "stream",
     "text": [
      "False\n",
      "True\n",
      "False\n",
      "True\n",
      "True\n",
      "False\n",
      "True\n",
      "\n",
      "처음에 입력했던 5가 4보다 더 큽니다.\n"
     ]
    }
   ],
   "source": [
    "print(10 == 100) # False\n",
    "print(10 != 100) # True\n",
    "print(10 > 100) # False\n",
    "print(10 < 100) # True\n",
    "print(10 <= 100) # True\n",
    "print(10 >= 100) # False\n",
    "\n",
    "x = 10\n",
    "if x > 4 :\n",
    "    print('True')\n",
    "\n",
    "# 치킨이나 햄버거가 먹고 싶어서, 음식 주문 애플리케이션에서 치킨과 햄버거를 선택 했다 ( 치킨 and 햄버거 )\n",
    "# H 브랜드가 출시한 10만원 이하의 가방을 구매하고 싶어서 H브랜드와 10만원 이하를 조건으로 선택해서 검색했다 ( H브랜드가격 < 10만원  and H브랜드 )\n",
    "# 고궁에 입장하는데 , 65세 이상의 어르신과 5살 이하의 아동은 무료입장이었다 ( 65 <= age or 5 > age )\n",
    "\n",
    "a = int(input('> 1 번째 숫자 : '))\n",
    "b = int(input('> 2 번째 숫자 : '))\n",
    "print()\n",
    "if a > b:\n",
    "    print('처음에 입력했던 {}가 {}보다 더 큽니다.'.format(a, b))\n",
    "if b > a:\n",
    "    print('두 번째로 입력했던 {}가 {}보다 더 큽니다.'.format(b, a))"
   ]
  },
  {
   "cell_type": "code",
   "execution_count": 45,
   "metadata": {},
   "outputs": [
    {
     "name": "stdout",
     "output_type": "stream",
     "text": [
      "점수를 벗어났습니다 다시 입력하세요\n",
      "숫자 넣으라구~\n",
      " TypeError : exceptions must derive from BaseException\n"
     ]
    }
   ],
   "source": [
    "try :\n",
    "    score = int(input('당신의 성적은 ? 0 ~ 100 :'))\n",
    "    result = 'F'\n",
    "    flag = True\n",
    "    if score > 100 :\n",
    "        print('점수를 벗어났습니다 다시 입력하세요')\n",
    "        flag = False\n",
    "        raise Exception().add_note('에러야~')\n",
    "    elif score >= 90 :\n",
    "        result = 'A'\n",
    "    elif score >= 80 :\n",
    "        result = 'B'\n",
    "    elif score >= 70 :\n",
    "        result = 'C'\n",
    "\n",
    "    if flag :\n",
    "        print(f'{score}점이구나. 너는 {result}야~')\n",
    "except Exception as e: \n",
    "    print('숫자 넣으라구~\\n', type(e).__name__, \":\", e)\n",
    "\n"
   ]
  },
  {
   "cell_type": "code",
   "execution_count": 49,
   "metadata": {},
   "outputs": [
    {
     "name": "stdout",
     "output_type": "stream",
     "text": [
      "안녕하세요\n",
      "True\n"
     ]
    }
   ],
   "source": [
    "string = input('입력 : ')\n",
    "if \"안녕\" in string : \n",
    "    print('안녕하세요')\n",
    "elif '지금' in string : \n",
    "    print('지금은 15시입니다')\n",
    "\n",
    "print(\"안\" == string[0])"
   ]
  },
  {
   "cell_type": "code",
   "execution_count": 62,
   "metadata": {},
   "outputs": [
    {
     "name": "stdout",
     "output_type": "stream",
     "text": [
      "170은 2로 나누어 떨어지는 숫자 입니다\n",
      "170은 3로 나누어 떨어지는 숫자 가 아닙니다\n",
      "170은 4로 나누어 떨어지는 숫자 가 아닙니다\n",
      "170은 5로 나누어 떨어지는 숫자 입니다\n"
     ]
    }
   ],
   "source": [
    "import random\n",
    "\n",
    "#num = int(input('정수를 입력해 주세요 : '))\n",
    "num = random.choice(range(100, 300))\n",
    "# print(f'{num}은 2로 나누어 떨어지는 숫자 {\"입니다\" if num % 2 == 0 else \"가 아닙니다\" }')\n",
    "# print(f'{num}은 3로 나누어 떨어지는 숫자 {\"입니다\" if num % 3 == 0 else \"가 아닙니다\" }')\n",
    "# print(f'{num}은 4로 나누어 떨어지는 숫자 {\"입니다\" if num % 4 == 0 else \"가 아닙니다\" }')\n",
    "# print(f'{num}은 5로 나누어 떨어지는 숫자 {\"입니다\" if num % 5 == 0 else \"가 아닙니다\" }')\n",
    "for i in range(2, 6) :\n",
    "    print(f'{num}은 {i}로 나누어 떨어지는 숫자 {\"입니다\" if num % i == 0 else \"가 아닙니다\" }')"
   ]
  },
  {
   "cell_type": "code",
   "execution_count": null,
   "metadata": {},
   "outputs": [],
   "source": [
    "if True:\n",
    "    print()\n",
    "elif True:\n",
    "    print()\n",
    "else :\n",
    "    print()"
   ]
  },
  {
   "cell_type": "code",
   "execution_count": 3,
   "metadata": {},
   "outputs": [
    {
     "name": "stdout",
     "output_type": "stream",
     "text": [
      "1 2 3 4 5 1 2 3 4 5 0 1 2 3 4 [0, 1, 2, 3, 4]\n"
     ]
    }
   ],
   "source": [
    "for i in [1,2,3,4,5] :\n",
    "    print(i, end=' ')\n",
    "for i in '12345' :\n",
    "    print(i, end=' ')\n",
    "for i in range(5):\n",
    "    print(i, end=' ')\n",
    "print(list(range(5)))"
   ]
  },
  {
   "cell_type": "code",
   "execution_count": null,
   "metadata": {},
   "outputs": [],
   "source": [
    "while True:\n",
    "    print('무한루프')\n",
    "    break\n"
   ]
  }
 ],
 "metadata": {
  "kernelspec": {
   "display_name": "Python 3",
   "language": "python",
   "name": "python3"
  },
  "language_info": {
   "codemirror_mode": {
    "name": "ipython",
    "version": 3
   },
   "file_extension": ".py",
   "mimetype": "text/x-python",
   "name": "python",
   "nbconvert_exporter": "python",
   "pygments_lexer": "ipython3",
   "version": "3.11.5"
  }
 },
 "nbformat": 4,
 "nbformat_minor": 2
}
