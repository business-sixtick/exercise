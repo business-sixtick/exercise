{
 "cells": [
  {
   "cell_type": "code",
   "execution_count": 1,
   "metadata": {},
   "outputs": [],
   "source": [
    "# 파일 입출력"
   ]
  },
  {
   "cell_type": "code",
   "execution_count": 5,
   "metadata": {},
   "outputs": [
    {
     "name": "stdout",
     "output_type": "stream",
     "text": [
      "조영훈 자냐?\n"
     ]
    }
   ],
   "source": [
    "test_file = open('test_file.txt', 'w', encoding='utf8')\n",
    "print('조영훈', file=test_file) #file 에 스트림을 지정할수 있다\n",
    "test_file.close()\n",
    "import sys\n",
    "print('조영훈 자냐?', file=sys.stdout) # sys.stdout 표준출력스트림\n",
    "test_file = open('test_file.txt', 'w', encoding='utf8')\n",
    "print('조영훈 고만 처자라~', file=test_file) # w 쓰기 모드 덮쓰?\n",
    "test_file.close()"
   ]
  },
  {
   "cell_type": "code",
   "execution_count": 10,
   "metadata": {},
   "outputs": [],
   "source": [
    "test_file = open('test_file.txt', 'a', encoding='utf8')\n",
    "print('조영훈 고만 처자라~', file=test_file) # a 추가 모드\n",
    "test_file.close()"
   ]
  },
  {
   "cell_type": "code",
   "execution_count": 11,
   "metadata": {},
   "outputs": [
    {
     "name": "stdout",
     "output_type": "stream",
     "text": [
      "['조영훈 고만 처자라~\\n', '조영훈 고만 처자라~\\n', '조영훈 고만 처자라~\\n', '조영훈 고만 처자라~\\n', '조영훈 고만 처자라~\\n', '조영훈 고만 처자라~\\n']\n"
     ]
    }
   ],
   "source": [
    "test_file = open('test_file.txt', 'r', encoding='utf8') # r 읽기 모드\n",
    "file_text = test_file.readlines() #리스트 형태로 반환\n",
    "test_file.close()\n",
    "print(file_text)"
   ]
  },
  {
   "cell_type": "code",
   "execution_count": 13,
   "metadata": {},
   "outputs": [
    {
     "name": "stdout",
     "output_type": "stream",
     "text": [
      "조영훈 고만 처자라~\n",
      "조영훈 고만 처자라~\n",
      "조영훈 고만 처자라~\n",
      "조영훈 고만 처자라~\n",
      "조영훈 고만 처자라~\n",
      "조영훈 고만 처자라~\n",
      "\n",
      "<class 'str'>\n"
     ]
    }
   ],
   "source": [
    "test_file = open('test_file.txt', 'r', encoding='utf8') # r 읽기 모드\n",
    "file_text = test_file.read() # str 형태로 반환\n",
    "test_file.close()\n",
    "print(file_text)\n",
    "print(type(file_text))"
   ]
  },
  {
   "cell_type": "code",
   "execution_count": 19,
   "metadata": {},
   "outputs": [
    {
     "name": "stdout",
     "output_type": "stream",
     "text": [
      "조영훈 고만 처자라~\n",
      "조영훈 고만 처자라~\n",
      "조영훈 고만 처자라~\n",
      "조영훈 고만 처자라~\n",
      "조영훈 고만 처자라~\n",
      "조영훈 고만 처자라~\n",
      "자동 줄바꿈??자동 줄바꿈??자동 줄바꿈??자동 줄바꿈??\n",
      "자동 줄바꿈??\n",
      "\n"
     ]
    }
   ],
   "source": [
    "#'a+': 읽기/쓰기 모드 (파일의 끝에 내용을 추가, 파일이 존재하지 않으면 새로 생성) 커서가 맨 뒤에 있음. \n",
    "\n",
    "with open('test_file.txt', 'a+', encoding='utf8') as file : # with 문을 벗어나면 자동으로 파일을 닫습니다. \n",
    "    #file.writelines('자동 줄바꿈??')\n",
    "    file.write('자동 줄바꿈??\\n')\n",
    "    file.seek(0)\n",
    "    text = file.read()\n",
    "    print(text)"
   ]
  },
  {
   "cell_type": "code",
   "execution_count": 20,
   "metadata": {},
   "outputs": [
    {
     "name": "stdout",
     "output_type": "stream",
     "text": [
      "{'이름': '스누피', '나이': 30, '취미': ['축구', '골프', '코딩']}\n",
      "{'이름': '스누피', '나이': 30, '취미': ['축구', '골프', '코딩']}\n"
     ]
    },
    {
     "name": "stderr",
     "output_type": "stream",
     "text": [
      "<>:3: SyntaxWarning: invalid escape sequence '\\d'\n",
      "<>:9: SyntaxWarning: invalid escape sequence '\\d'\n",
      "<>:3: SyntaxWarning: invalid escape sequence '\\d'\n",
      "<>:9: SyntaxWarning: invalid escape sequence '\\d'\n",
      "C:\\Users\\USER\\AppData\\Local\\Temp\\ipykernel_21364\\533754640.py:3: SyntaxWarning: invalid escape sequence '\\d'\n",
      "  profile_file = open(\".\\data\\profile.pickle\", \"wb\") # 바이너리 형태로 저장\n",
      "C:\\Users\\USER\\AppData\\Local\\Temp\\ipykernel_21364\\533754640.py:9: SyntaxWarning: invalid escape sequence '\\d'\n",
      "  profile_file = open(\".\\data\\profile.pickle\", \"rb\") # 읽어 올 때도 바이너리 형태 명시\n"
     ]
    }
   ],
   "source": [
    "import pickle # pickle 모듈 가져다 쓰기\n",
    "\n",
    "profile_file = open(\".\\data\\profile.pickle\", \"wb\") # 바이너리 형태로 저장\n",
    "profile = {\"이름\": \"스누피\", \"나이\": 30, \"취미\": [\"축구\", \"골프\", \"코딩\"]}\n",
    "print(profile)\n",
    "pickle.dump(profile, profile_file) # profile 데이터를 파일에 저장\n",
    "profile_file.close() # 파일 닫기\n",
    "\n",
    "profile_file = open(\".\\data\\profile.pickle\", \"rb\") # 읽어 올 때도 바이너리 형태 명시\n",
    "profile = pickle.load(profile_file) # 파일에 있는 정보를 불러와서 profile에 저장\n",
    "print(profile)\n",
    "profile_file.close()\n"
   ]
  },
  {
   "cell_type": "code",
   "execution_count": 23,
   "metadata": {},
   "outputs": [
    {
     "name": "stdout",
     "output_type": "stream",
     "text": [
      "function\n"
     ]
    }
   ],
   "source": [
    "import os\n",
    "\n",
    "# 경로가 없으면 생성\n",
    "os.makedirs(\"./data\", exist_ok=True)\n",
    "\n",
    "import pickle\n",
    "\n",
    "def test_function():\n",
    "    print('function')\n",
    "\n",
    "with open(\"./data/profile.pickle\", \"wb\") as profile_file:\n",
    "    pickle.dump(test_function, profile_file)\n",
    "\n",
    "with open(\"./data/profile.pickle\", \"rb\") as profile_file:\n",
    "    loaded_function = pickle.load(profile_file)\n",
    "\n",
    "loaded_function()  # 인터프리터? 구현????"
   ]
  }
 ],
 "metadata": {
  "kernelspec": {
   "display_name": "Python 3",
   "language": "python",
   "name": "python3"
  },
  "language_info": {
   "codemirror_mode": {
    "name": "ipython",
    "version": 3
   },
   "file_extension": ".py",
   "mimetype": "text/x-python",
   "name": "python",
   "nbconvert_exporter": "python",
   "pygments_lexer": "ipython3",
   "version": "3.12.4"
  }
 },
 "nbformat": 4,
 "nbformat_minor": 2
}
