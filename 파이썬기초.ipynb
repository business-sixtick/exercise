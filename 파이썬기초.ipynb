{
 "cells": [
  {
   "cell_type": "code",
   "execution_count": null,
   "metadata": {},
   "outputs": [],
   "source": [
    "# -*- coding: utf-8 -*-"
   ]
  },
  {
   "cell_type": "code",
   "execution_count": 11,
   "metadata": {},
   "outputs": [
    {
     "name": "stdout",
     "output_type": "stream",
     "text": [
      "Color.RED\n",
      "1\n",
      "Help on class range in module builtins:\n",
      "\n",
      "class range(object)\n",
      " |  range(stop) -> range object\n",
      " |  range(start, stop[, step]) -> range object\n",
      " |\n",
      " |  Return an object that produces a sequence of integers from start (inclusive)\n",
      " |  to stop (exclusive) by step.  range(i, j) produces i, i+1, i+2, ..., j-1.\n",
      " |  start defaults to 0, and stop is omitted!  range(4) produces 0, 1, 2, 3.\n",
      " |  These are exactly the valid indices for a list of 4 elements.\n",
      " |  When step is given, it specifies the increment (or decrement).\n",
      " |\n",
      " |  Methods defined here:\n",
      " |\n",
      " |  __bool__(self, /)\n",
      " |      True if self else False\n",
      " |\n",
      " |  __contains__(self, key, /)\n",
      " |      Return bool(key in self).\n",
      " |\n",
      " |  __eq__(self, value, /)\n",
      " |      Return self==value.\n",
      " |\n",
      " |  __ge__(self, value, /)\n",
      " |      Return self>=value.\n",
      " |\n",
      " |  __getattribute__(self, name, /)\n",
      " |      Return getattr(self, name).\n",
      " |\n",
      " |  __getitem__(self, key, /)\n",
      " |      Return self[key].\n",
      " |\n",
      " |  __gt__(self, value, /)\n",
      " |      Return self>value.\n",
      " |\n",
      " |  __hash__(self, /)\n",
      " |      Return hash(self).\n",
      " |\n",
      " |  __iter__(self, /)\n",
      " |      Implement iter(self).\n",
      " |\n",
      " |  __le__(self, value, /)\n",
      " |      Return self<=value.\n",
      " |\n",
      " |  __len__(self, /)\n",
      " |      Return len(self).\n",
      " |\n",
      " |  __lt__(self, value, /)\n",
      " |      Return self<value.\n",
      " |\n",
      " |  __ne__(self, value, /)\n",
      " |      Return self!=value.\n",
      " |\n",
      " |  __reduce__(...)\n",
      " |      Helper for pickle.\n",
      " |\n",
      " |  __repr__(self, /)\n",
      " |      Return repr(self).\n",
      " |\n",
      " |  __reversed__(...)\n",
      " |      Return a reverse iterator.\n",
      " |\n",
      " |  count(...)\n",
      " |      rangeobject.count(value) -> integer -- return number of occurrences of value\n",
      " |\n",
      " |  index(...)\n",
      " |      rangeobject.index(value) -> integer -- return index of value.\n",
      " |      Raise ValueError if the value is not present.\n",
      " |\n",
      " |  ----------------------------------------------------------------------\n",
      " |  Static methods defined here:\n",
      " |\n",
      " |  __new__(*args, **kwargs)\n",
      " |      Create and return a new object.  See help(type) for accurate signature.\n",
      " |\n",
      " |  ----------------------------------------------------------------------\n",
      " |  Data descriptors defined here:\n",
      " |\n",
      " |  start\n",
      " |\n",
      " |  step\n",
      " |\n",
      " |  stop\n",
      "\n",
      "None\n"
     ]
    }
   ],
   "source": [
    "# 변수 (대소문자를 구분한다. 대게 소문자만 쓰고 _를 붙여서 작명한다. 카멜케이스 ?? 안쓸거임 )\n",
    "'''\n",
    "변수 선언의 구조\n",
    "변수명 = 값\n",
    "대입연산자 (=) 기준으로 오른쪽에서 계산된(처리된) 값이 오른쪽으로 대입 됨 (정확히는 바인딩 되었다고 표현함)\n",
    "ex) my_name = '조영훈'\n",
    "ex) my_phone = '010' + '4242' + str(9649)\n",
    "'''\n",
    "# 파이썬에는 따로 상수 선언이 없다.    \n",
    "from enum import Enum\n",
    "class Color(Enum): # 3.8 부터 Enum 모듈을 사용해서 상수 표현을 할수 있다.\n",
    "    RED = 1\n",
    "    GREEN = 2\n",
    "    BLUE = 3\n",
    "print(Color.RED)   # 출력: Color.RED\n",
    "print(Color.RED.value)  # 출력: 1\n",
    " \n",
    "print(help(range)) # help(클래스나 메서드) : 어떻게 쓰는지 매개변수는 뭐를 넣는지 반환값은 뭐인지 이쁘게 보여준다"
   ]
  },
  {
   "cell_type": "code",
   "execution_count": 1,
   "metadata": {},
   "outputs": [
    {
     "name": "stdout",
     "output_type": "stream",
     "text": [
      " 안녕하세요~\n",
      "강사님 수고가 참 많으십니다. 스스로 공부할수 있게 틈틈이 문제를 내주시고 \n",
      "못하면 숙제도 내주시고 강하게 키워주세요~ 스파르타!!!\n",
      "\n"
     ]
    }
   ],
   "source": [
    "# 주석 (맨앞에 샾은 한줄 주석)\n",
    "''' 싱글 쿼테이션 연속 세개로 감싸면 여러줄 주석. 여러줄의 문자열을 변수에 넣을때에도 활용됨. '''\n",
    "test_str = ''' 안녕하세요~\n",
    "강사님 수고가 참 많으십니다. 스스로 공부할수 있게 틈틈이 문제를 내주시고 \n",
    "못하면 숙제도 내주시고 강하게 키워주세요~ 스파르타!!!\n",
    "'''\n",
    "print(test_str)"
   ]
  },
  {
   "cell_type": "code",
   "execution_count": 1,
   "metadata": {},
   "outputs": [
    {
     "name": "stdout",
     "output_type": "stream",
     "text": [
      "10 ::  <class 'int'>\n",
      "10.0 ::  <class 'float'>\n",
      "\"10\" ::  <class 'str'>\n",
      "bool(10) ::  <class 'bool'> True\n"
     ]
    }
   ],
   "source": [
    "# 자료형 (정수 int, 실수 float, 문자열 str, 논리값 bool(boolean) )\n",
    "print('10 :: ', type(10))\n",
    "print('10.0 :: ', type(10.0))\n",
    "print('\"10\" :: ', type('10'))\n",
    "print('bool(10) :: ', type(bool(10)), bool(10))"
   ]
  },
  {
   "cell_type": "code",
   "execution_count": 14,
   "metadata": {},
   "outputs": [
    {
     "name": "stdout",
     "output_type": "stream",
     "text": [
      "val ::  10\n",
      "\"val\" * 2 ::  valval\n",
      "type(4/2) , 4/2 result = 2.0 ::  <class 'float'>\n",
      "4//3 몫 연산자 ::  1\n",
      "4%3 나머지 연산자 ::  1\n",
      "4**2 제곱 ::  16\n",
      "참\n",
      "거짓\n",
      "True False 140721268324792 2224350678032\n"
     ]
    },
    {
     "name": "stderr",
     "output_type": "stream",
     "text": [
      "<>:18: SyntaxWarning: \"is\" with 'int' literal. Did you mean \"==\"?\n",
      "<>:18: SyntaxWarning: \"is\" with 'int' literal. Did you mean \"==\"?\n",
      "C:\\Users\\USER\\AppData\\Local\\Temp\\ipykernel_15504\\3128703245.py:18: SyntaxWarning: \"is\" with 'int' literal. Did you mean \"==\"?\n",
      "  print(f'{1 == 1.0}', f'{1 is 1.0}', f'{id(1)}', f'{id(1.0)}')\n"
     ]
    }
   ],
   "source": [
    "# 연산자 비교연산자 논리연산자\n",
    "# 연산자에는 우선순위가 있다. ()소괄호 > 곱셈,나눗셈 > 더하기,빼기 > 비교연산자 > 대입연산자\n",
    "# =, +, -, *, /, //, %, ** 산술연산자\n",
    "# <, >, ==, <=, >=, != 비교연산자\n",
    "# and, or, not 논리연산자 \n",
    "# &, |, !, ^ 비트연산자 또는 집합연산자\n",
    "# 참일때반환 if 조건 else 거짓일때반환 : 삼항연산자 : ?\n",
    "# is 값이 아닌 id 즉 메모리주소를 비교한다.\n",
    "val = 10 # 대입연산자\n",
    "print(\"val :: \", val)\n",
    "print('\"val\" * 2 :: ',\"val\" * 2) # 파이썬에서는 문자열을 곱 할 수 있다. \n",
    "print(\"type(4/2) , 4/2 result = {div} :: \".format(div=4/2), type(4/2)) # 파이썬에서 나누기는 실수로 반환한다. \n",
    "print(f\"4//3 몫 연산자 :: \", 4//3)  # 몫연산자. 정수로 반환하고 나머지는 버린다.\n",
    "print(f\"4%3 나머지 연산자 :: \", 4%3)\n",
    "print(\"4**2 제곱 :: \", 4**2)\n",
    "print('참' if True else '거짓')\n",
    "print(('참' if False else '거짓'))\n",
    "print(f'{1 == 1.0}', f'{1 is 1.0}', f'{id(1)}', f'{id(1.0)}') # is 비교"
   ]
  },
  {
   "cell_type": "code",
   "execution_count": 23,
   "metadata": {},
   "outputs": [
    {
     "name": "stdout",
     "output_type": "stream",
     "text": [
      "type('a') ::  <class 'str'>\n",
      "뿌하하하~ '조영훈'이 웃었다.\n",
      "\"일이삼사오\"[0:5:2] ::  일삼 일삼오 일이\n"
     ]
    }
   ],
   "source": [
    "# 문자열 ('a' 문자타입이 없다. 파이썬에서는 모두 문자열이다)\n",
    "print(f\"type('a') :: \", type('a'))\n",
    "print(\"뿌하하하~ '조영훈'이 웃었다.\") # 문자타입이 없기때문에 더블쿼테이션 안에 싱글쿼테이션을 역슬레시 없이 넣을 수 있다 (이스케이프 문자로 표현안해도됨)\n",
    "print('\"일이삼사오\"[0:5:2] :: ', \"일이삼사오\"[0:4:2], \"일이삼사오\"[::2], \"일이삼사오\"[:2]) # 인덱스로 슬라이스 가능함. [시작:끝:증분값] [시작] [:끝] [::증분]"
   ]
  },
  {
   "cell_type": "code",
   "execution_count": 5,
   "metadata": {},
   "outputs": [
    {
     "name": "stdout",
     "output_type": "stream",
     "text": [
      "[] <class 'list'> <class 'list'>\n",
      "{} <class 'dict'> {1:\"one\"} <class 'dict'> <class 'dict'>\n",
      "() <class 'tuple'> <class 'tuple'>\n",
      "{1} <class 'set'> <class 'set'>\n"
     ]
    }
   ],
   "source": [
    "# 자료구조 (리스트, 튜플, 세트, 딕셔너리)\n",
    "print('[]', type([]), type(list())) # 리스트, 값의 나열, 대괄호 \n",
    "print('{}', type({}), '{1:\"one\"}', type({1:\"one\"}), type(dict())) # 딕셔너리, 키와 값의 쌍으로 이뤄진 집합. 키의 중복을 허용하지 않는다. 중괄호\n",
    "print('()', type(()), type(tuple())) # 튜플. 요소를 변경할 수 없는 리스트. 소괄호\n",
    "print('{1}', type({1}), type(set())) # 세트. 값으로만 이뤄진 집합. 중복허용 안함. 빈중괄호는 딕셔너리다 "
   ]
  },
  {
   "cell_type": "code",
   "execution_count": 10,
   "metadata": {},
   "outputs": [
    {
     "name": "stdout",
     "output_type": "stream",
     "text": [
      "if 단독 실행\n",
      "else 없는 조건문\n",
      "문법은 좀 외우자\n"
     ]
    }
   ],
   "source": [
    "# 조건문 if elif else\n",
    "if True :\n",
    "    pass # if 조건이 참일때 실행하고 빠져나간다\n",
    "elif False :\n",
    "    pass # if 조건이 거짓이고 elif 조건이 참일 경우 실행하고 빠져나간다\n",
    "elif False :\n",
    "    pass # 위의 조건들이 모두 거짓이고 바로 위의 elif 조건이 참일 경우 실행하고 빠져나간다\n",
    "else :\n",
    "    pass # 모든 조건이 거짓일때 실행하고 빠져나간다\n",
    "\n",
    "if 1 > 0 :\n",
    "    print('if 단독 실행')\n",
    "\n",
    "if 1 == 1 :\n",
    "    print('else 없는 조건문')\n",
    "elif 1 > 0  : \n",
    "    print('순서대로 if에서 먼저 실행하고 빠져나가기 때문에 elif구문은 절대 실행되지 않는다') \n",
    "\n",
    "if 1 in [2, 3, 4] :\n",
    "    print('if else 조합인 조건문')\n",
    "else :\n",
    "    print('문법은 좀 외우자')\n"
   ]
  },
  {
   "cell_type": "code",
   "execution_count": 18,
   "metadata": {},
   "outputs": [
    {
     "name": "stdout",
     "output_type": "stream",
     "text": [
      "1 (2, 3) {4: 'four'} \n",
      "[0]\n",
      "[0, 1]\n",
      "[0, 1, 2]\n"
     ]
    }
   ],
   "source": [
    "# 반복문 for in, while\n",
    "for i in range(5) :\n",
    "    pass\n",
    "\n",
    "while True :\n",
    "    break\n",
    "\n",
    "for i in [1, (2, 3), {4: 'four'}] :\n",
    "    print(i, end=' ')\n",
    "print()\n",
    "\n",
    "test_list = []\n",
    "while len(test_list) < 3 :\n",
    "    test_list.append(len(test_list))\n",
    "    print(test_list)"
   ]
  },
  {
   "cell_type": "code",
   "execution_count": 2,
   "metadata": {},
   "outputs": [
    {
     "name": "stdout",
     "output_type": "stream",
     "text": [
      "(1, 2, 3)\n",
      "<class 'tuple'>\n",
      "()\n",
      "<class 'tuple'>\n"
     ]
    }
   ],
   "source": [
    "# 함수 (클래스에 들어있는 함수를 메소드 라고 하는군)\n",
    "''' \n",
    "def 함수명(매개변수, ...) :\n",
    "    실행문\n",
    "'''\n",
    "def test_function(test = True) : # 매개변수에 디폴트 값을 줄 수 있다. 매개변수는 생략 가능하다.\n",
    "    pass\n",
    "\n",
    "def test_function(*test) : # 인자 앞에 * 를 붙이면 가변인자가 된다. 걍 튜플이네 ( TODO 확인해봐야함 : 또는 언패킹에 쓰인다. 딕셔너리는 ** 두개 )\n",
    "    print(test)\n",
    "    print(type(test))\n",
    "\n",
    "test_function(1, 2, 3)\n",
    "test_function()\n"
   ]
  },
  {
   "cell_type": "code",
   "execution_count": 16,
   "metadata": {},
   "outputs": [
    {
     "name": "stdout",
     "output_type": "stream",
     "text": [
      "tc1.member :  0\n",
      "tc2.member :  1\n",
      "tc1.g_member :  20\n",
      "tc2.g_member :  20\n"
     ]
    }
   ],
   "source": [
    "# 클래스 (객체 뼈대. 프로그램에서 한번만 로딩됨)\n",
    "# 인스턴스 (생성된 객체. 생성할때마다 메모리를 할당받음.)\n",
    "class test_class : # 메서드선언시 꼭 매개변수에 self를 주자.\n",
    "    def __init__(self, arg = 0) : # 생성자. 추가로 인자를 받을 수도 있다. 생성자에서 맴버를 추가 하고 초기화 할 수있다\n",
    "        self.member = arg\n",
    "        #self.member_None  #속성 초기화 누락: 클래스 정의에서 해당 속성을 초기화하지 않았을 수 있습니다. 초기화 하지않으면 에러가 난다.\n",
    "    def __del__(self) : # 소멸자. 해당 인스턴스가 사라지기 전에 실행됨.\n",
    "        pass\n",
    "    g_member = 10 # 클래스에서 접근 시 전체 인스턴스에 영향을 미침\n",
    "    def method(self, arg) :\n",
    "        pass    \n",
    "\n",
    "tc1 = test_class() # 생성자 인수에 디폴트값을 넣어서 인자를 생략할 수 있다.\n",
    "tc2 = test_class(1)\n",
    "print('tc1.member : ', tc1.member)\n",
    "print('tc2.member : ', tc2.member)\n",
    "test_class.g_member = 20\n",
    "print('tc1.g_member : ', tc1.g_member)\n",
    "print('tc2.g_member : ', tc2.g_member)\n",
    "    "
   ]
  },
  {
   "cell_type": "code",
   "execution_count": null,
   "metadata": {},
   "outputs": [],
   "source": [
    "# 클래스와 메소드를 정의할 때 Docstring을 사용하여 문서화하면 코드의 가독성과 유지보수성을 크게 향상시킬 수 있습니다\n",
    "# 인텔리센스\n",
    "# autoDocstring 확장기능 설치\n",
    "# 선언쪽 바로 밑에 더블쿼테이션 세개찍으면 맨위에 자동생성\n",
    "# 모든 기능을 넣고 해야 매개변수 리턴 값등을 자동으로 넣어준다.\n",
    "def test_function(test_val):\n",
    "    \"\"\"_summary_\n",
    "\n",
    "    Args:\n",
    "        test_val (_type_): _description_\n",
    "\n",
    "    Returns:\n",
    "        _type_: _description_\n",
    "    \"\"\"\n",
    "    test_val = 0\n",
    "    ret = 0\n",
    "    return ret\n"
   ]
  },
  {
   "cell_type": "code",
   "execution_count": null,
   "metadata": {},
   "outputs": [],
   "source": [
    "# 상속 (클래스) 객체지향프로그래밍 oop 의 일환으로 클래스를 체계화 할 수 있다.\n",
    "class car : # 부모 클래스\n",
    "    def __init__(self, dirve = 'bu ooooooo ng~~') :\n",
    "        self.drive = dirve\n",
    "\n",
    "class midsize(car) : # 자식 클래스 상속 받을 부모 클래스를 인자로 받는다.\n",
    "    def __init__(self, drive = 'bbung~!!', my_name) :\n",
    "        super().__init__(drive)  # super() 를 써서 부모 객체에 접근 할수있다\n",
    "        self.name = name\n"
   ]
  },
  {
   "cell_type": "code",
   "execution_count": 48,
   "metadata": {},
   "outputs": [
    {
     "name": "stdout",
     "output_type": "stream",
     "text": [
      "함수 test_function가 호출되었습니다.\n"
     ]
    }
   ],
   "source": [
    "# 데코레이터 @ 를 이용해서 추가 적인 기능을 코드 수정없이 붙일수 있다. \n",
    "def test_decorator(func) : \n",
    "    def wrapper(*args, **kwargs):\n",
    "        print(f\"함수 {func.__name__}가 호출되었습니다.\")\n",
    "        return func(*args, **kwargs)\n",
    "    return wrapper # 랩핑 작업을 해줘야 하는군.\n",
    "\n",
    "@test_decorator  \n",
    "def test_function() :\n",
    "    pass\n",
    "\n",
    "test_function()"
   ]
  },
  {
   "cell_type": "code",
   "execution_count": 22,
   "metadata": {},
   "outputs": [
    {
     "name": "stdout",
     "output_type": "stream",
     "text": [
      "0.41534199076602096\n",
      "BPF LOG4 NV_MAGICCONST RECIP_BPF Random \n",
      "SG_MAGICCONST SystemRandom TWOPI _ONE _Sequence \n",
      "__all__ __builtins__ __cached__ __doc__ __file__ \n",
      "__loader__ __name__ __package__ __spec__ _accumulate \n",
      "_acos _bisect _ceil _cos _e \n",
      "_exp _fabs _floor _index _inst \n",
      "_isfinite _lgamma _log _log2 _os \n",
      "_pi _random _repeat _sha512 _sin \n",
      "_sqrt _test _test_generator _urandom _warn \n",
      "betavariate binomialvariate choice choices expovariate \n",
      "gammavariate gauss getrandbits getstate lognormvariate \n",
      "normalvariate paretovariate randbytes randint random \n",
      "randrange sample seed setstate shuffle \n",
      "triangular uniform vonmisesvariate weibullvariate "
     ]
    }
   ],
   "source": [
    "# 모듈 (.py로 된 파일, 내부에는 함수 또는 클래스 또는 변수 등등이 있을 수 있다. 모듈을 호출한다는것은 결과적으로 .py 파일을 합치는 효과이다)\n",
    "# 네임스페이스, 스코프(scope 접근할수있는 범위  )\n",
    "# import 모듈명\n",
    "# form 모듈명 import 함수 또는 클래스명 또는 *\n",
    "# import 모듈명 as 별명\n",
    "import random as ran\n",
    "print(ran.random())\n",
    "for i, val in enumerate(dir(ran), start=1) : # dir(객체) 는 객체의 맴버를 보여준다, enumerate(리스트)는 인덱스와 값을 동시에 넘겨준다.\n",
    "    print(val, end=' ')\n",
    "    if i % 5 == 0 :\n",
    "        print()\n"
   ]
  },
  {
   "cell_type": "code",
   "execution_count": null,
   "metadata": {},
   "outputs": [],
   "source": [
    "# 예외처리 try except else finally\n",
    "try:\n",
    "    # 예외가 발생할 가능성이 있는 코드\n",
    "    result = 10 / 0\n",
    "except ZeroDivisionError as e:\n",
    "    # 특정 예외를 처리하는 코드\n",
    "    print(f\"ZeroDivisionError 예외가 발생했습니다: {e}\")\n",
    "except ValueError as e:\n",
    "    # 다른 예외를 처리하는 코드\n",
    "    print(f\"ValueError 예외가 발생했습니다: {e}\")\n",
    "except Exception as e:\n",
    "    # 모든 예외를 처리하는 코드 (최상위 예외 클래스)\n",
    "    print(f\"예외가 발생했습니다: {e}\")\n",
    "else:\n",
    "    # 예외가 발생하지 않았을 때 실행되는 코드\n",
    "    print(f\"결과는 {result}입니다\")\n",
    "finally:\n",
    "    # 예외 발생 여부와 상관없이 항상 실행되는 코드\n",
    "    print(\"예외 처리 완료\")\n"
   ]
  }
 ],
 "metadata": {
  "kernelspec": {
   "display_name": "Python 3",
   "language": "python",
   "name": "python3"
  },
  "language_info": {
   "codemirror_mode": {
    "name": "ipython",
    "version": 3
   },
   "file_extension": ".py",
   "mimetype": "text/x-python",
   "name": "python",
   "nbconvert_exporter": "python",
   "pygments_lexer": "ipython3",
   "version": "3.12.4"
  }
 },
 "nbformat": 4,
 "nbformat_minor": 2
}
