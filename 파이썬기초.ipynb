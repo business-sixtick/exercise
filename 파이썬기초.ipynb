{
 "cells": [
  {
   "cell_type": "code",
   "execution_count": 46,
   "metadata": {},
   "outputs": [
    {
     "name": "stdout",
     "output_type": "stream",
     "text": [
      "Color.RED\n",
      "1\n"
     ]
    }
   ],
   "source": [
    "# 변수 (대소문자를 구분한다. 대게 소문자만 쓰고 _를 붙여서 작명한다. 카멜케이스 ?? 안씀 )\n",
    "# 파이썬에는 따로 상수 선언이 없다.    \n",
    "from enum import Enum\n",
    "class Color(Enum): # 3.8 부터 Enum 모듈을 사용해서 상수 표현을 할수 있다.\n",
    "    RED = 1\n",
    "    GREEN = 2\n",
    "    BLUE = 3\n",
    "print(Color.RED)   # 출력: Color.RED\n",
    "print(Color.RED.value)  # 출력: 1\n",
    " "
   ]
  },
  {
   "cell_type": "code",
   "execution_count": 1,
   "metadata": {},
   "outputs": [
    {
     "name": "stdout",
     "output_type": "stream",
     "text": [
      "10 ::  <class 'int'>\n",
      "10.0 ::  <class 'float'>\n",
      "\"10\" ::  <class 'str'>\n",
      "bool(10) ::  <class 'bool'> True\n"
     ]
    }
   ],
   "source": [
    "# 자료형 (정수 int, 실수 float, 문자열 str, 논리값 bool(boolean) )\n",
    "print('10 :: ', type(10))\n",
    "print('10.0 :: ', type(10.0))\n",
    "print('\"10\" :: ', type('10'))\n",
    "print('bool(10) :: ', type(bool(10)), bool(10))"
   ]
  },
  {
   "cell_type": "code",
   "execution_count": 25,
   "metadata": {},
   "outputs": [
    {
     "name": "stdout",
     "output_type": "stream",
     "text": [
      "val ::  10\n",
      "\"val\" * 2 ::  valval\n",
      "type(4/2) , 4/2 result = 2.0 ::  <class 'float'>\n",
      "4//3 몫 연산자 ::  1\n",
      "4%3 나머지 연산자 ::  1\n",
      "4**2 제곱 ::  16\n"
     ]
    }
   ],
   "source": [
    "# 연산자 비교연산자 논리연산자\n",
    "# =, +, -, *, /, //, %, ** 산술연산자\n",
    "# <, >, ==, <=, >=, != 비교연산자\n",
    "# and, or, not 논리연산자 \n",
    "# &, |, !, ^ 비트연산자 또는 집합연산자\n",
    "val = 10 # 대입연산자\n",
    "print(\"val :: \", val)\n",
    "print('\"val\" * 2 :: ',\"val\" * 2) # 파이썬에서는 문자열을 곱 할 수 있다. \n",
    "print(\"type(4/2) , 4/2 result = {div} :: \".format(div=4/2), type(4/2)) # 파이썬에서 나누기는 실수로 반환한다. \n",
    "print(f\"4//3 몫 연산자 :: \", 4//3)  # 몫연산자. 정수로 반환하고 나머지는 버린다.\n",
    "print(f\"4%3 나머지 연산자 :: \", 4%3)\n",
    "print(\"4**2 제곱 :: \", 4**2)"
   ]
  },
  {
   "cell_type": "code",
   "execution_count": 23,
   "metadata": {},
   "outputs": [
    {
     "name": "stdout",
     "output_type": "stream",
     "text": [
      "type('a') ::  <class 'str'>\n",
      "뿌하하하~ '조영훈'이 웃었다.\n",
      "\"일이삼사오\"[0:5:2] ::  일삼 일삼오 일이\n"
     ]
    }
   ],
   "source": [
    "# 문자열 ('a' 문자타입이 없다. 파이썬에서는 모두 문자열이다)\n",
    "print(f\"type('a') :: \", type('a'))\n",
    "print(\"뿌하하하~ '조영훈'이 웃었다.\") # 문자타입이 없기때문에 더블쿼테이션 안에 싱글쿼테이션을 역슬레시 없이 넣을 수 있다 (이스케이프 문자로 표현안해도됨)\n",
    "print('\"일이삼사오\"[0:5:2] :: ', \"일이삼사오\"[0:4:2], \"일이삼사오\"[::2], \"일이삼사오\"[:2]) # 인덱스로 슬라이스 가능함. [시작:끝:증분값] [시작] [:끝] [::증분]"
   ]
  },
  {
   "cell_type": "code",
   "execution_count": 26,
   "metadata": {},
   "outputs": [
    {
     "name": "stdout",
     "output_type": "stream",
     "text": [
      "[] <class 'list'>\n",
      "{} <class 'dict'> {1:\"one\"} <class 'dict'>\n",
      "() <class 'tuple'>\n",
      "{1} <class 'set'>\n"
     ]
    }
   ],
   "source": [
    "# 자료구조 (리스트, 튜플, 세트, 딕셔너리)\n",
    "print('[]', type([])) # 값의 나열, 대괄호\n",
    "print('{}', type({}), '{1:\"one\"}', type({1:\"one\"})) # 키와 값의 쌍으로 이뤄진 집합. 키의 중복을 허용하지 않는다. 중괄호\n",
    "print('()', type(())) # 요소를 변경할 수 없는 리스트. 소괄호\n",
    "print('{1}', type({1})) # 값으로만 이뤄진 집합. 중복허용 안함. 빈중괄호는 딕셔너리다 "
   ]
  },
  {
   "cell_type": "code",
   "execution_count": null,
   "metadata": {},
   "outputs": [],
   "source": [
    "# 조건문 if elif else\n",
    "if True :\n",
    "    pass\n",
    "elif False :\n",
    "    pass\n",
    "elif False :\n",
    "    pass\n",
    "else :\n",
    "    pass\n"
   ]
  },
  {
   "cell_type": "code",
   "execution_count": 27,
   "metadata": {},
   "outputs": [],
   "source": [
    "# 반복문 for in, while\n",
    "for i in range(5) :\n",
    "    pass\n",
    "\n",
    "while True :\n",
    "    break"
   ]
  },
  {
   "cell_type": "code",
   "execution_count": 42,
   "metadata": {},
   "outputs": [
    {
     "name": "stdout",
     "output_type": "stream",
     "text": [
      "(1, 2, 3)\n",
      "<class 'tuple'>\n"
     ]
    }
   ],
   "source": [
    "# 함수 (클래스에 들어있는 함수를 메소드 라고 하는군)\n",
    "def test_function(test = True) : # 인자에 디폴트 값을 줄 수 있다.\n",
    "    pass\n",
    "\n",
    "def test_function(*test) : # 인자 앞에 * 를 붙이면 가변인자가 된다. 걍 튜플이네 ( TODO 확인해봐야함 : 또는 언패킹에 쓰인다. 딕셔너리는 ** 두개 )\n",
    "    print(test)\n",
    "    print(type(test))\n",
    "\n",
    "test_function(1, 2, 3)\n",
    "# test_dict = {'1' : 'one', '2' : 'two'}\n",
    "# print(test_dict)\n",
    "# def test_function1(x, y) :\n",
    "#     print(x, y)\n",
    "# test_function1(**test_dict)\n",
    "\n"
   ]
  },
  {
   "cell_type": "code",
   "execution_count": 73,
   "metadata": {},
   "outputs": [
    {
     "name": "stdout",
     "output_type": "stream",
     "text": [
      "2 3\n",
      "20 30 40\n"
     ]
    }
   ],
   "source": [
    "# 클래스\n",
    "class test_class : \n",
    "    def __init__(self, arg = 0) : # 생성자. 추가로 인자를 받을 수도 있다. 생성자에서 맴버를 추가 하고 초기화 할 수있다\n",
    "        self.member = 1\n",
    "    g_member = 10\n",
    "    def method(self, arg) :\n",
    "        pass    \n",
    "\n",
    "tc1 = test_class()\n",
    "tc2 = test_class()\n",
    "tc1.member = 2\n",
    "tc2.member = 3\n",
    "print(tc1.member, tc2.member)\n",
    "tc1.g_member = 20\n",
    "tc2.g_member = 30 \n",
    "tc2.__class__.g_member = 50\n",
    "test_class.g_member = 40\n",
    "print(tc1.g_member, tc2.g_member, tc1.__class__.g_member)\n",
    "    "
   ]
  },
  {
   "cell_type": "code",
   "execution_count": 48,
   "metadata": {},
   "outputs": [
    {
     "name": "stdout",
     "output_type": "stream",
     "text": [
      "함수 test_function가 호출되었습니다.\n"
     ]
    }
   ],
   "source": [
    "# 데코레이터 @ 를 이용해서 추가 적인 기능을 코드 수정없이 붙일수 있다. \n",
    "def test_decorator(func) : \n",
    "    def wrapper(*args, **kwargs):\n",
    "        print(f\"함수 {func.__name__}가 호출되었습니다.\")\n",
    "        return func(*args, **kwargs)\n",
    "    return wrapper # 랩핑 작업을 해줘야 하는군.\n",
    "\n",
    "@test_decorator  \n",
    "def test_function() :\n",
    "    pass\n",
    "\n",
    "test_function()"
   ]
  },
  {
   "cell_type": "code",
   "execution_count": null,
   "metadata": {},
   "outputs": [],
   "source": [
    "# 모듈 "
   ]
  }
 ],
 "metadata": {
  "kernelspec": {
   "display_name": "Python 3",
   "language": "python",
   "name": "python3"
  },
  "language_info": {
   "codemirror_mode": {
    "name": "ipython",
    "version": 3
   },
   "file_extension": ".py",
   "mimetype": "text/x-python",
   "name": "python",
   "nbconvert_exporter": "python",
   "pygments_lexer": "ipython3",
   "version": "3.12.4"
  }
 },
 "nbformat": 4,
 "nbformat_minor": 2
}
