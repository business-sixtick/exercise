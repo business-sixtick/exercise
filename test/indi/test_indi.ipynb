{
 "cells": [
  {
   "cell_type": "code",
   "execution_count": 8,
   "metadata": {},
   "outputs": [
    {
     "name": "stdout",
     "output_type": "stream",
     "text": [
      "<CDLL 'C:\\source\\exercise\\test\\indi_example\\shinhanINDI64Lib.dll', handle 2a4b8720000 at 0x2a4b805b1a0>\n"
     ]
    }
   ],
   "source": [
    "import ctypes\n",
    "\n",
    "# DLL 파일을 로드합니다. 예를 들어 'example.dll'이 현재 디렉토리에 있다고 가정합니다.\n",
    "dll = ctypes.CDLL(r'C:\\source\\exercise\\test\\indi_example\\shinhanINDI64Lib.dll')\n",
    "\n",
    "# DLL 내의 함수를 호출합니다.\n",
    "# 예를 들어, 'example_function'이라는 함수가 있다고 가정합니다.\n",
    "# result = dll.example_function()\n",
    "print(dll)\n",
    "# print(dll.RequestRTReg(\"SC\", '045100'))\n"
   ]
  },
  {
   "cell_type": "code",
   "execution_count": null,
   "metadata": {},
   "outputs": [],
   "source": [
    "import sys\n",
    "import os\n",
    "\n",
    "# .pyd 파일이 있는 경로를 Python 경로에 추가합니다.\n",
    "sys.path.append(r'C:/source/exercise/test/indi/')\n",
    "import giexpertcontrol_38 as indi"
   ]
  },
  {
   "cell_type": "code",
   "execution_count": null,
   "metadata": {},
   "outputs": [],
   "source": [
    "# pip install PyQt5\n"
   ]
  }
 ],
 "metadata": {
  "kernelspec": {
   "display_name": "Python 3",
   "language": "python",
   "name": "python3"
  },
  "language_info": {
   "codemirror_mode": {
    "name": "ipython",
    "version": 3
   },
   "file_extension": ".py",
   "mimetype": "text/x-python",
   "name": "python",
   "nbconvert_exporter": "python",
   "pygments_lexer": "ipython3",
   "version": "3.8.10"
  }
 },
 "nbformat": 4,
 "nbformat_minor": 2
}
