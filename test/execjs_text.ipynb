{
 "cells": [
  {
   "cell_type": "code",
   "execution_count": null,
   "metadata": {},
   "outputs": [],
   "source": []
  },
  {
   "cell_type": "markdown",
   "metadata": {},
   "source": [
    "# execjs 모듈 테스트\n",
    "- pip install pyexecjs"
   ]
  },
  {
   "cell_type": "code",
   "execution_count": 4,
   "metadata": {},
   "outputs": [
    {
     "name": "stdout",
     "output_type": "stream",
     "text": [
      "<execjs._external_runtime.ExternalRuntime.Context object at 0x00000229BE894980>\n",
      "hello\n"
     ]
    }
   ],
   "source": [
    "import execjs\n",
    "node = execjs.get('Node')\n",
    "code = ''' \n",
    "function hello(){\n",
    "    return 'hello';\n",
    "}\n",
    "'''\n",
    "nodejs = node.compile(code)\n",
    "print(nodejs)\n",
    "print(nodejs.call('hello'))\n",
    "\n",
    "# 이 거 쓸일이 없을것같군\n",
    "# 버려~\n"
   ]
  }
 ],
 "metadata": {
  "kernelspec": {
   "display_name": "Python 3",
   "language": "python",
   "name": "python3"
  },
  "language_info": {
   "codemirror_mode": {
    "name": "ipython",
    "version": 3
   },
   "file_extension": ".py",
   "mimetype": "text/x-python",
   "name": "python",
   "nbconvert_exporter": "python",
   "pygments_lexer": "ipython3",
   "version": "3.12.4"
  }
 },
 "nbformat": 4,
 "nbformat_minor": 2
}
