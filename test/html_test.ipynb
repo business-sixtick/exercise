{
 "cells": [
  {
   "cell_type": "code",
   "execution_count": null,
   "metadata": {},
   "outputs": [],
   "source": []
  },
  {
   "cell_type": "markdown",
   "metadata": {},
   "source": [
    "# html 모듈 테스트\n",
    "- 내장 라이브러리\n",
    "- 파일로 저장할때 필요하겠군"
   ]
  },
  {
   "cell_type": "code",
   "execution_count": 9,
   "metadata": {},
   "outputs": [
    {
     "name": "stdout",
     "output_type": "stream",
     "text": [
      "&lt;p&gt;Hello, world!&lt;/p&gt;\n"
     ]
    }
   ],
   "source": [
    "import html\n",
    "from html.parser import HTMLParser as ps\n",
    "# \n",
    "# print(help(html))\n",
    "\n",
    "\n",
    "\n",
    "html_string = \"<p>Hello, world!</p>\"\n",
    "escaped_html = html.escape(html_string)\n",
    "print(escaped_html)\n",
    "# print(help(html.parser.HTMLParser))\n",
    "# print(help(ps.feed))\n",
    "\n",
    "\n"
   ]
  }
 ],
 "metadata": {
  "kernelspec": {
   "display_name": "Python 3",
   "language": "python",
   "name": "python3"
  },
  "language_info": {
   "codemirror_mode": {
    "name": "ipython",
    "version": 3
   },
   "file_extension": ".py",
   "mimetype": "text/x-python",
   "name": "python",
   "nbconvert_exporter": "python",
   "pygments_lexer": "ipython3",
   "version": "3.12.4"
  }
 },
 "nbformat": 4,
 "nbformat_minor": 2
}
