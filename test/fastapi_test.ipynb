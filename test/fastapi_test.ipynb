{
 "cells": [
  {
   "cell_type": "code",
   "execution_count": null,
   "metadata": {},
   "outputs": [],
   "source": []
  },
  {
   "cell_type": "markdown",
   "metadata": {},
   "source": [
    "# fastapi 모듈 테스트\n",
    "- Starlette\n",
    "- Pydantic \n",
    "- https://fastapi.tiangolo.com/ko/#_1\n",
    "- Typer\n",
    "- pip install fastapi\n",
    "- pip install \"uvicorn[standard]\""
   ]
  },
  {
   "cell_type": "code",
   "execution_count": null,
   "metadata": {},
   "outputs": [],
   "source": [
    "from typing import Union\n",
    "\n",
    "from fastapi import FastAPI\n",
    "\n",
    "app = FastAPI()\n",
    "\n",
    "\n",
    "@app.get(\"/\")\n",
    "def read_root():\n",
    "    return {\"Hello\": \"World\"}\n",
    "\n",
    "\n",
    "@app.get(\"/items/{item_id}\")\n",
    "def read_item(item_id: int, q: Union[str, None] = None):\n",
    "    return {\"item_id\": item_id, \"q\": q}\n",
    "\n",
    "#해당 코드를 main.py로 만든후\n",
    "# uvicorn main:app --reload 쉘에서 실행한다\n",
    "# main.py 의 fastAPI인스턴스를 --reload (코드수정시재시작) 한다."
   ]
  }
 ],
 "metadata": {
  "language_info": {
   "name": "python"
  }
 },
 "nbformat": 4,
 "nbformat_minor": 2
}
