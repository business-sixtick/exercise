{
 "cells": [
  {
   "cell_type": "code",
   "execution_count": null,
   "metadata": {},
   "outputs": [],
   "source": []
  },
  {
   "cell_type": "markdown",
   "metadata": {},
   "source": [
    "[WSL2 설치 가이드 링크](https://learn.microsoft.com/ko-kr/windows/wsl/install)\n",
    "-  WSL(Linux용 Windows 하위 시스템)\n",
    "- 필수조건 : Windows 10 버전 2004 이상(빌드 19041 이상) 또는 Windows 11을 실행\n",
    "\n",
    "1. Windows 명령 프롬프트를 마우스 오른쪽 단추로 클릭하고 \"관리자 권한으로 실행\"을 선택하여 열고 wsl --install 명령을 입력한 다음 컴퓨터를 다시 시작합니다.\n",
    "> 가상 머신 플랫폼이 설치됨. \n",
    "> linux용 windows 하위 시스템이 설치됨.\n",
    "> ubuntu 가 설치됨. \n",
    "2. 재시작\n",
    "3. wsl -l -o\n",
    "4. wsl --install -d Ubuntu-24.04\n",
    "5. wsl -l -v\n",
    "6. wsl --user root ; root@machine:~$ passwd ; su root 사용가능\n",
    "7. 설치한 배포판이 여러개일 경우 wsl --set-default <DistributionName> 써서 기본 배포판을 설정할수 있다\n",
    "\n",
    "- [WSL 명령어 링크](https://learn.microsoft.com/ko-kr/windows/wsl/basic-commands)\n",
    "\n",
    "### 요구사항\n",
    "- 우분투 16이상, wsl2, 파이썬 3.9~3.12, [비주얼패키지](https://learn.microsoft.com/ko-kr/cpp/windows/latest-supported-vc-redist?view=msvc-170), \n",
    "- 그래픽드라이버 528.33 이상, CUDA 12.3, cuDNN 8.9.7\n",
    "\n",
    "### NVIDIA 설정\n",
    "- https://docs.nvidia.com/cuda/wsl-user-guide/index.html\n",
    "1. 그래픽카드 드라이버 설치 (학원꺼이미설치됨 NVIDIA GeForce RTX 3060 ; 드라이버 545.92)\n",
    "2. wsl --user root\n",
    "3. apt update\n",
    "4. apt upgrade -y\n",
    "5. apt-key del 7fa2af80 #뭐지 뭔 키를 삭제하라는데\n",
    "6. cuda-toolkit-12-x 만 설치해야함.\n",
    "> wget https://developer.download.nvidia.com/compute/cuda/repos/wsl-ubuntu/x86_64/cuda-keyring_1.1-1_all.deb\n",
    "> sudo dpkg -i cuda-keyring_1.1-1_all.deb\n",
    "> sudo apt-get update\n",
    "> sudo apt-get -y install cuda-toolkit-12-6\n",
    "> sudo apt-get -y install cudnn-cuda-12 # 우선 설치 보류\n",
    "\n",
    "### tensorflow 설치\n",
    "1. nvidia-smi # 그래픽카드 설치 유무 확인\n",
    "2. apt install python3-pip\n",
    "3. user 계정으로 변경\n",
    "3. 가상환경 설정 \n",
    "1. cd ~\n",
    "1. sudo apt install python3-venv\n",
    "1. python3 -m venv ~/<가상환경이름> python3 -m venv ~/py312gpu\n",
    "1. source ./py312gpu/bin/activate # 가상환경진입\n",
    "2. pip install --upgrade pip # pip 업그레이드\n",
    "> python3 -m pip install tensorflow[and-cuda]\n",
    "> # Verify the installation:\n",
    "> python3 -c \"import tensorflow as tf; print(tf.config.list_physical_devices('GPU'))\"\n",
    "> python3 -c \"import tensorflow as tf; print(tf.reduce_sum(tf.random.normal([1000, 1000])))\"\n",
    "\n",
    "### vscode 설치\n",
    "1. 윈도우에 설치하고 \n",
    "2. 확장 프로그램에서 wsl 을 설치한다\n",
    "3. vscode 에서 wsl 연동해서 열고\n",
    "4. wsl 에서 주피터를 켜서 커널로 쓴다"
   ]
  }
 ],
 "metadata": {
  "language_info": {
   "name": "python"
  }
 },
 "nbformat": 4,
 "nbformat_minor": 2
}
