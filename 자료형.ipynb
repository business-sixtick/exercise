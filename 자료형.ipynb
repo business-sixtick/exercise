{
 "cells": [
  {
   "cell_type": "code",
   "execution_count": 8,
   "metadata": {},
   "outputs": [
    {
     "name": "stdout",
     "output_type": "stream",
     "text": [
      "5 <class 'int'>\n",
      "-10\n",
      "3.14 <class 'float'>\n",
      "1000\n",
      "8\n",
      "16\n",
      "2.0\n",
      "12\n"
     ]
    }
   ],
   "source": [
    "print(5, type(5))\n",
    "print(-10)\n",
    "print(3.14, type(3.14))\n",
    "print(1000)\n",
    "print(5 + 3) \n",
    "print(2 * 8) \n",
    "print(6 / 3)\n",
    "print(3 * (3 + 1)) "
   ]
  },
  {
   "cell_type": "code",
   "execution_count": 9,
   "metadata": {},
   "outputs": [
    {
     "name": "stdout",
     "output_type": "stream",
     "text": [
      "풍선 <class 'str'>\n",
      "나비\n",
      "abcdefg\n",
      "10\n",
      "파이썬파이썬파이썬\n",
      "I don't want to go to school\n"
     ]
    }
   ],
   "source": [
    "print('풍선', type('풍선'))\n",
    "print(\"나비\")\n",
    "print(\"abcdefg\")\n",
    "print(\"10\")\n",
    "print(\"파이썬\" * 3)  \n",
    "print(\"I don't want to go to school\") # 정상 출력 따옴표쌍이 잘 맞음\n",
    "# print('I don't want to go to school') # 오류 발생\n"
   ]
  },
  {
   "cell_type": "code",
   "execution_count": 10,
   "metadata": {},
   "outputs": [
    {
     "name": "stdout",
     "output_type": "stream",
     "text": [
      "False\n",
      "True\n",
      "True <class 'bool'>\n",
      "False\n",
      "False\n",
      "True\n",
      "True\n"
     ]
    }
   ],
   "source": [
    "\n",
    "\n",
    "print(5 > 10)\n",
    "print(5 < 10)\n",
    "print(True, type(True))\n",
    "print(False)\n",
    "print(not True)\n",
    "print(not False)\n",
    "print(not (5 > 10))\n"
   ]
  }
 ],
 "metadata": {
  "kernelspec": {
   "display_name": "Python 3",
   "language": "python",
   "name": "python3"
  },
  "language_info": {
   "codemirror_mode": {
    "name": "ipython",
    "version": 3
   },
   "file_extension": ".py",
   "mimetype": "text/x-python",
   "name": "python",
   "nbconvert_exporter": "python",
   "pygments_lexer": "ipython3",
   "version": "3.12.4"
  }
 },
 "nbformat": 4,
 "nbformat_minor": 2
}
