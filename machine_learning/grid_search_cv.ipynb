{
 "cells": [
  {
   "cell_type": "code",
   "execution_count": null,
   "metadata": {},
   "outputs": [],
   "source": []
  },
  {
   "cell_type": "code",
   "execution_count": 10,
   "metadata": {},
   "outputs": [
    {
     "name": "stdout",
     "output_type": "stream",
     "text": [
      "최적의 하이퍼파라미터: {'C': 100, 'gamma': 0.01, 'kernel': 'rbf'}\n",
      "테스트 세트 정확도: 1.0\n"
     ]
    },
    {
     "data": {
      "text/plain": [
       "array([1., 1., 1.])"
      ]
     },
     "execution_count": 10,
     "metadata": {},
     "output_type": "execute_result"
    }
   ],
   "source": [
    "from sklearn.model_selection import GridSearchCV\n",
    "from sklearn.svm import SVC\n",
    "from sklearn.datasets import load_iris\n",
    "from sklearn.model_selection import train_test_split\n",
    "from sklearn.metrics import accuracy_score\n",
    "from sklearn.metrics import precision_score\n",
    "\n",
    "# Iris 데이터셋 로드\n",
    "iris = load_iris()\n",
    "X = iris.data\n",
    "y = iris.target\n",
    "\n",
    "# 훈련 세트와 테스트 세트로 데이터 분할\n",
    "X_train, X_test, y_train, y_test = train_test_split(X, y, test_size=0.3, random_state=42)\n",
    "\n",
    "\n",
    "\n",
    "# SVM 모델 초기화\n",
    "model = SVC()\n",
    "\n",
    "# 하이퍼파라미터 그리드 설정\n",
    "param_grid = {\n",
    "    'C': [0.1, 1, 10, 100],           # 정규화 파라미터\n",
    "    'kernel': ['linear', 'rbf'],       # 커널 함수\n",
    "    'gamma': [0.001, 0.01, 0.1, 1]     # 'rbf' 커널의 감마 값\n",
    "}\n",
    "\n",
    "\n",
    "\n",
    "# 그리드서치 초기화 (교차 검증 5회)\n",
    "grid_search = GridSearchCV(estimator=model, param_grid=param_grid, cv=5, scoring='accuracy', n_jobs=-1)\n",
    "\n",
    "# 그리드서치를 통한 모델 학습\n",
    "grid_search.fit(X_train, y_train)\n",
    "\n",
    "\n",
    "\n",
    "# 최적의 하이퍼파라미터 출력\n",
    "print(f\"최적의 하이퍼파라미터: {grid_search.best_params_}\")\n",
    "\n",
    "# 최적의 모델로 예측 수행\n",
    "y_pred = grid_search.predict(X_test)\n",
    "\n",
    "# 테스트 세트에서의 정확도 출력\n",
    "print(f\"테스트 세트 정확도: {accuracy_score(y_test, y_pred)}\")\n",
    "precision_score(y_test, y_pred, average=None)\n",
    "# {'macro', 'samples', 'binary', 'micro', 'weighted'}\n"
   ]
  }
 ],
 "metadata": {
  "kernelspec": {
   "display_name": "Python 3",
   "language": "python",
   "name": "python3"
  },
  "language_info": {
   "codemirror_mode": {
    "name": "ipython",
    "version": 3
   },
   "file_extension": ".py",
   "mimetype": "text/x-python",
   "name": "python",
   "nbconvert_exporter": "python",
   "pygments_lexer": "ipython3",
   "version": "3.8.10"
  }
 },
 "nbformat": 4,
 "nbformat_minor": 2
}
