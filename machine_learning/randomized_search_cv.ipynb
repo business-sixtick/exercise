{
 "cells": [
  {
   "cell_type": "code",
   "execution_count": null,
   "metadata": {},
   "outputs": [],
   "source": []
  },
  {
   "cell_type": "code",
   "execution_count": 7,
   "metadata": {},
   "outputs": [
    {
     "name": "stdout",
     "output_type": "stream",
     "text": [
      "최적의 하이퍼파라미터: {'C': 7.945638134226595, 'degree': 2, 'gamma': 0.18533367433137005, 'kernel': 'rbf'}\n",
      "테스트 세트 정확도: 1.0\n"
     ]
    },
    {
     "data": {
      "text/plain": [
       "array([1., 1., 1.])"
      ]
     },
     "execution_count": 7,
     "metadata": {},
     "output_type": "execute_result"
    }
   ],
   "source": [
    "\n",
    "from sklearn.model_selection import RandomizedSearchCV\n",
    "from sklearn.svm import SVC\n",
    "from sklearn.datasets import load_iris\n",
    "from sklearn.model_selection import train_test_split\n",
    "from sklearn.metrics import accuracy_score\n",
    "from scipy.stats import uniform, randint\n",
    "from sklearn.metrics import precision_score\n",
    "\n",
    "\n",
    "# Iris 데이터셋 로드\n",
    "iris = load_iris()\n",
    "X = iris.data\n",
    "y = iris.target\n",
    "\n",
    "# 훈련 세트와 테스트 세트로 데이터 분할\n",
    "X_train, X_test, y_train, y_test = train_test_split(X, y, test_size=0.3, random_state=42)\n",
    "\n",
    "\n",
    "\n",
    "\n",
    "# SVM 모델 초기화\n",
    "model = SVC()\n",
    "\n",
    "# 하이퍼파라미터 분포 설정\n",
    "param_dist = {\n",
    "    'C': uniform(0.1, 100),            # 0.1 ~ 100 사이의 균등분포\n",
    "    'kernel': ['linear', 'rbf'],       # 커널 함수\n",
    "    'gamma': uniform(0.001, 1),        # 0.001 ~ 1 사이의 균등분포\n",
    "    'degree': randint(2, 5)            # 다항 커널에서 사용할 차수 (2 ~ 4)\n",
    "}\n",
    "\n",
    "\n",
    "# 랜덤서치 초기화 (n_iter는 시도할 파라미터 조합 수)\n",
    "random_search = RandomizedSearchCV(estimator=model, param_distributions=param_dist, n_iter=100, cv=5, scoring='accuracy', n_jobs=-1, random_state=42)\n",
    "\n",
    "# 랜덤서치를 통한 모델 학습\n",
    "random_search.fit(X_train, y_train)\n",
    "\n",
    "\n",
    "# 최적의 하이퍼파라미터 출력\n",
    "print(f\"최적의 하이퍼파라미터: {random_search.best_params_}\")\n",
    "\n",
    "# 최적의 모델로 예측 수행\n",
    "y_pred = random_search.predict(X_test)\n",
    "\n",
    "# 테스트 세트에서의 정확도 출력\n",
    "print(f\"테스트 세트 정확도: {accuracy_score(y_test, y_pred)}\")\n",
    "precision_score(y_test, y_pred, average=None)"
   ]
  },
  {
   "cell_type": "code",
   "execution_count": 14,
   "metadata": {},
   "outputs": [
    {
     "name": "stdout",
     "output_type": "stream",
     "text": [
      "<class 'pandas.core.frame.DataFrame'>\n",
      "<class 'numpy.ndarray'>\n"
     ]
    },
    {
     "name": "stderr",
     "output_type": "stream",
     "text": [
      "c:\\Users\\hungh\\AppData\\Local\\Programs\\Python\\Python38\\python38\\lib\\site-packages\\sklearn\\model_selection\\_split.py:737: UserWarning: The least populated class in y has only 3 members, which is less than n_splits=5.\n",
      "  warnings.warn(\n"
     ]
    },
    {
     "name": "stdout",
     "output_type": "stream",
     "text": [
      "최적의 하이퍼파라미터: {'C': 48.77421529594551, 'degree': 4, 'gamma': 0.43539436551042865, 'kernel': 'linear'}\n",
      "테스트 세트 정확도: 0.875\n",
      "[1.  1.  0.8 1.  0.6 1.  0. ]\n",
      "['Bream' 'Roach' 'Whitefish' 'Parkki' 'Perch' 'Pike' 'Smelt']\n"
     ]
    },
    {
     "name": "stderr",
     "output_type": "stream",
     "text": [
      "c:\\Users\\hungh\\AppData\\Local\\Programs\\Python\\Python38\\python38\\lib\\site-packages\\sklearn\\metrics\\_classification.py:1471: UndefinedMetricWarning: Precision is ill-defined and being set to 0.0 in labels with no predicted samples. Use `zero_division` parameter to control this behavior.\n",
      "  _warn_prf(average, modifier, msg_start, len(result))\n"
     ]
    }
   ],
   "source": [
    "from sklearn.preprocessing import StandardScaler\n",
    "import pandas as pd\n",
    "fish = pd.read_csv('http://bit.ly/fish_csv_data')\n",
    "fish['Species'].unique() # ['Bream', 'Roach', 'Whitefish', 'Parkki', 'Perch', 'Pike', 'Smelt']\n",
    "fish.head(2)\n",
    "fish.columns # ['Species', 'Weight', 'Length', 'Diagonal', 'Height', 'Width']\n",
    "# fish = fish.loc[(fish['Species']=='Bream') | (fish['Species']=='Smelt')] #Bream, Smelt 두개만 , 이진분류\n",
    "fish1 = fish[['Weight', 'Length', 'Diagonal', 'Height', 'Width']]\n",
    "print(type(fish1))# <class 'pandas.core.frame.DataFrame'>\n",
    "fish2 = fish1.values\n",
    "print(type(fish2)) # <class 'numpy.ndarray'>\n",
    "fish3 = fish['Species'].values\n",
    "fish['Species'].unique()\n",
    "X_train, X_test, y_train, y_test = train_test_split(fish2, fish3, random_state=42)\n",
    "# StandardScaler 객체 생성\n",
    "scaler = StandardScaler()\n",
    "X_train = scaler.fit_transform(X_train)\n",
    "X_test = scaler.fit_transform(X_test)\n",
    "\n",
    "\n",
    "# SVM 모델 초기화\n",
    "model = SVC()\n",
    "\n",
    "# 하이퍼파라미터 분포 설정\n",
    "param_dist = {\n",
    "    'C': uniform(0.1, 100),            # 0.1 ~ 100 사이의 균등분포\n",
    "    'kernel': ['linear', 'rbf'],       # 커널 함수\n",
    "    'gamma': uniform(0.001, 1),        # 0.001 ~ 1 사이의 균등분포\n",
    "    'degree': randint(2, 5)            # 다항 커널에서 사용할 차수 (2 ~ 4)\n",
    "}\n",
    "\n",
    "\n",
    "# 랜덤서치 초기화 (n_iter는 시도할 파라미터 조합 수)\n",
    "random_search = RandomizedSearchCV(estimator=model, param_distributions=param_dist, n_iter=100, cv=5, scoring='accuracy', n_jobs=-1, random_state=42)\n",
    "\n",
    "# 랜덤서치를 통한 모델 학습\n",
    "random_search.fit(X_train, y_train)\n",
    "\n",
    "\n",
    "# 최적의 하이퍼파라미터 출력\n",
    "print(f\"최적의 하이퍼파라미터: {random_search.best_params_}\")\n",
    "\n",
    "# 최적의 모델로 예측 수행\n",
    "y_pred = random_search.predict(X_test)\n",
    "\n",
    "# 테스트 세트에서의 정확도 출력\n",
    "print(f\"테스트 세트 정확도: {accuracy_score(y_test, y_pred)}\")\n",
    "print(precision_score(y_test, y_pred, average=None))\n",
    "print(fish['Species'].unique())"
   ]
  },
  {
   "cell_type": "code",
   "execution_count": 11,
   "metadata": {},
   "outputs": [
    {
     "name": "stdout",
     "output_type": "stream",
     "text": [
      "Random Samples: [49.18698414 99.29889862 81.96740145 97.67127763 48.38143714 93.70052305\n",
      " 71.70601956 57.84164583 85.96416943 98.70246591]\n",
      "PDF at 50: 0.01\n",
      "CDF at 50: 0.499\n"
     ]
    }
   ],
   "source": [
    "import numpy as np\n",
    "from scipy.stats import uniform\n",
    "\n",
    "# 균등 분포 객체 생성\n",
    "dist = uniform(0.1, 100)\n",
    "\n",
    "# 랜덤 샘플 추출\n",
    "samples = dist.rvs(size=10)\n",
    "print(\"Random Samples:\", samples)\n",
    "\n",
    "# PDF와 CDF 값 계산\n",
    "pdf_value = dist.pdf(50)\n",
    "cdf_value = dist.cdf(50)\n",
    "print(f\"PDF at 50: {pdf_value}\")\n",
    "print(f\"CDF at 50: {cdf_value}\")\n",
    "\n"
   ]
  }
 ],
 "metadata": {
  "kernelspec": {
   "display_name": "Python 3",
   "language": "python",
   "name": "python3"
  },
  "language_info": {
   "codemirror_mode": {
    "name": "ipython",
    "version": 3
   },
   "file_extension": ".py",
   "mimetype": "text/x-python",
   "name": "python",
   "nbconvert_exporter": "python",
   "pygments_lexer": "ipython3",
   "version": "3.8.10"
  }
 },
 "nbformat": 4,
 "nbformat_minor": 2
}
