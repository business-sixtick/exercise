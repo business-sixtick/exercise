{
 "cells": [
  {
   "cell_type": "code",
   "execution_count": null,
   "metadata": {},
   "outputs": [],
   "source": [
    "# 스태킹은 잘 활용하면 강력한 기법이지만, 무조건 성능을 향상시키는 것은 아닙니다. 모델 간의 상호작용, 데이터의 특성, 모델의 다양성 등을 고려해야 하며, \n",
    "# 이를 잘 조정하지 못하면 단일 모델보다 성능이 떨어질 수 있습니다. 성능이 떨어지는 이유를 분석하고, 이를 개선하기 위한 실험과 튜닝이 필요합니다."
   ]
  },
  {
   "cell_type": "code",
   "execution_count": 2,
   "metadata": {},
   "outputs": [
    {
     "name": "stdout",
     "output_type": "stream",
     "text": [
      "Stacking Model Accuracy: 1.0\n"
     ]
    }
   ],
   "source": [
    "from sklearn.model_selection import train_test_split\n",
    "from sklearn.ensemble import RandomForestClassifier, GradientBoostingClassifier\n",
    "from sklearn.linear_model import LogisticRegression\n",
    "from sklearn.datasets import load_iris\n",
    "from sklearn.ensemble import StackingClassifier\n",
    "\n",
    "# 데이터셋 로드\n",
    "X, y = load_iris(return_X_y=True)\n",
    "X_train, X_test, y_train, y_test = train_test_split(X, y, test_size=0.2, random_state=42)\n",
    "\n",
    "# 기본 학습자들\n",
    "estimators = [\n",
    "    ('rf', RandomForestClassifier(n_estimators=10, random_state=42)),\n",
    "    ('gb', GradientBoostingClassifier(n_estimators=10, random_state=42))\n",
    "]\n",
    "\n",
    "# 스태킹 모델 (메타 학습자: 로지스틱 회귀)\n",
    "stacking_clf = StackingClassifier(\n",
    "    estimators=estimators,\n",
    "    final_estimator=LogisticRegression()\n",
    ")\n",
    "\n",
    "# 학습 및 평가\n",
    "stacking_clf.fit(X_train, y_train)\n",
    "accuracy = stacking_clf.score(X_test, y_test)\n",
    "\n",
    "print(f\"Stacking Model Accuracy: {accuracy}\")\n"
   ]
  },
  {
   "cell_type": "code",
   "execution_count": 3,
   "metadata": {},
   "outputs": [
    {
     "name": "stdout",
     "output_type": "stream",
     "text": [
      "<class 'pandas.core.frame.DataFrame'>\n",
      "<class 'numpy.ndarray'>\n"
     ]
    },
    {
     "name": "stderr",
     "output_type": "stream",
     "text": [
      "c:\\Users\\hungh\\AppData\\Local\\Programs\\Python\\Python38\\python38\\lib\\site-packages\\sklearn\\model_selection\\_split.py:737: UserWarning: The least populated class in y has only 3 members, which is less than n_splits=5.\n",
      "  warnings.warn(\n",
      "c:\\Users\\hungh\\AppData\\Local\\Programs\\Python\\Python38\\python38\\lib\\site-packages\\sklearn\\model_selection\\_split.py:737: UserWarning: The least populated class in y has only 3 members, which is less than n_splits=5.\n",
      "  warnings.warn(\n"
     ]
    },
    {
     "name": "stdout",
     "output_type": "stream",
     "text": [
      "Stacking Model Accuracy: 0.675\n"
     ]
    }
   ],
   "source": [
    "from sklearn.preprocessing import StandardScaler\n",
    "import pandas as pd\n",
    "fish = pd.read_csv('http://bit.ly/fish_csv_data')\n",
    "fish['Species'].unique() # ['Bream', 'Roach', 'Whitefish', 'Parkki', 'Perch', 'Pike', 'Smelt']\n",
    "fish.head(2)\n",
    "fish.columns # ['Species', 'Weight', 'Length', 'Diagonal', 'Height', 'Width']\n",
    "# fish = fish.loc[(fish['Species']=='Bream') | (fish['Species']=='Smelt')] #Bream, Smelt 두개만 , 이진분류\n",
    "fish1 = fish[['Weight', 'Length', 'Diagonal', 'Height', 'Width']]\n",
    "print(type(fish1))# <class 'pandas.core.frame.DataFrame'>\n",
    "fish2 = fish1.values\n",
    "print(type(fish2)) # <class 'numpy.ndarray'>\n",
    "fish3 = fish['Species'].values\n",
    "fish['Species'].unique()\n",
    "X_train, X_test, y_train, y_test = train_test_split(fish2, fish3, random_state=42)\n",
    "# StandardScaler 객체 생성\n",
    "scaler = StandardScaler()\n",
    "X_train = scaler.fit_transform(X_train)\n",
    "X_test = scaler.fit_transform(X_test)\n",
    "\n",
    "# 기본 학습자들\n",
    "estimators = [\n",
    "    ('rf', RandomForestClassifier(n_estimators=10, random_state=42)),\n",
    "    ('gb', GradientBoostingClassifier(n_estimators=10, random_state=42))\n",
    "]\n",
    "\n",
    "# 스태킹 모델 (메타 학습자: 로지스틱 회귀)\n",
    "stacking_clf = StackingClassifier(\n",
    "    estimators=estimators,\n",
    "    final_estimator=LogisticRegression()\n",
    ")\n",
    "\n",
    "# 학습 및 평가\n",
    "stacking_clf.fit(X_train, y_train)\n",
    "accuracy = stacking_clf.score(X_test, y_test)\n",
    "\n",
    "print(f\"Stacking Model Accuracy: {accuracy}\")\n",
    "\n"
   ]
  }
 ],
 "metadata": {
  "kernelspec": {
   "display_name": "Python 3",
   "language": "python",
   "name": "python3"
  },
  "language_info": {
   "codemirror_mode": {
    "name": "ipython",
    "version": 3
   },
   "file_extension": ".py",
   "mimetype": "text/x-python",
   "name": "python",
   "nbconvert_exporter": "python",
   "pygments_lexer": "ipython3",
   "version": "3.8.10"
  }
 },
 "nbformat": 4,
 "nbformat_minor": 2
}
