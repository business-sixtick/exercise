{
 "cells": [
  {
   "cell_type": "code",
   "execution_count": 2,
   "metadata": {},
   "outputs": [
    {
     "name": "stdout",
     "output_type": "stream",
     "text": [
      "140725729625624   140725729625624\n"
     ]
    }
   ],
   "source": [
    "x = 100\n",
    "y = 100\n",
    "print(id(x), ' ', id(y)) # 기본적으로 상수 256 까지는 메모리를 공유한다"
   ]
  },
  {
   "cell_type": "code",
   "execution_count": 3,
   "metadata": {},
   "outputs": [
    {
     "name": "stdout",
     "output_type": "stream",
     "text": [
      "2013578394736 2013578394640\n"
     ]
    }
   ],
   "source": [
    "x = 10000\n",
    "y = 10000\n",
    "print(id(x), id(y))"
   ]
  },
  {
   "cell_type": "code",
   "execution_count": 14,
   "metadata": {},
   "outputs": [
    {
     "name": "stdout",
     "output_type": "stream",
     "text": [
      "우리 집 반려동물은 dog인데 이름은 hack이고 4살 이에요\n",
      "<class 'int'>\n",
      "<class 'str'>\n",
      "<class 'int'>\n",
      "4.0 <class 'float'>\n",
      "여러줄의\n",
      "텍스트를 \n",
      "쓰고 있습니다 \t \n",
      " \n",
      "어떻게 출력 될까요?\n"
     ]
    }
   ],
   "source": [
    "\n",
    "age = 4\n",
    "animal = 'dog'\n",
    "name = 'hack'\n",
    "print(f'우리 집 반려동물은 {animal}인데 이름은 {name}이고 {str(age)}살 이에요')\n",
    "print(type(age))\n",
    "print(type(str(age)))\n",
    "print(type(int('3')))\n",
    "print(float('4'), type(float('4')))\n",
    "\n",
    "# 한줄 주석\n",
    "''' 여러 줄\n",
    "주석'''\n",
    "multi_line = '''여러줄의\n",
    "텍스트를 \n",
    "쓰고 있습니다 \\t \\n \n",
    "어떻게 출력 될까요?'''\n",
    "print(multi_line) #네 ~ 쓴대로 나오네여"
   ]
  },
  {
   "cell_type": "code",
   "execution_count": 40,
   "metadata": {},
   "outputs": [
    {
     "name": "stdout",
     "output_type": "stream",
     "text": [
      "2\n",
      "1\n",
      "9\n",
      "3.0\n",
      "4 제곱\n",
      "0 나머지\n",
      "3 몫 1.0 나머지\n"
     ]
    }
   ],
   "source": [
    "# 연산자\n",
    "print(1 + 1)\n",
    "print(2 - 1)\n",
    "print(3 * 3)\n",
    "print(6 / 2)\n",
    "print(2 ** 2, '제곱')\n",
    "print(10 % 2, '나머지')\n",
    "print(10 // 3, '몫', 10.0 % 3, '나머지')"
   ]
  },
  {
   "cell_type": "code",
   "execution_count": null,
   "metadata": {},
   "outputs": [],
   "source": []
  },
  {
   "cell_type": "code",
   "execution_count": 37,
   "metadata": {},
   "outputs": [
    {
     "name": "stdout",
     "output_type": "stream",
     "text": [
      "1 True False\n",
      "2 False True\n",
      "3 True False\n",
      "4 False True\n",
      "5 True False\n",
      "6 False False\n",
      "7 True False\n",
      "8 False\n",
      "9 False False False\n",
      "1 0 False\n",
      "False\n",
      "True\n"
     ]
    }
   ],
   "source": [
    "# 논리 연산자\n",
    "print(1, 10 > 3, 10 < 3)\n",
    "print(2, 4 >= 7, 4 <= 7)\n",
    "print(3, 3 == 3, 4 == 3)\n",
    "print(4, 3 != 3, 4 != 3)\n",
    "print(5, True, not True)\n",
    "print(6, 1 == 1 and 2 == 1, 1 == 1 & 2 == 1)\n",
    "print(7, 1 == 1 or 2 == 2, 1 == 1 | 2 == 2)\n",
    "print(8, 1 == 1 and not 2 == 2)\n",
    "print(9, 1 == 1 ^ 2 == 2, 1 == 1 ^ 2 == 1, 1 == 2 ^ 2 == 3 )\n",
    "print(int(True), int(False), bool(int(1==1) ^ int(2==2)))\n",
    "\n",
    "import operator\n",
    "print(operator.xor(1==1, 2==2))\n",
    "print(1 in [1,2,3,4,5])"
   ]
  },
  {
   "cell_type": "code",
   "execution_count": 41,
   "metadata": {},
   "outputs": [
    {
     "name": "stdout",
     "output_type": "stream",
     "text": [
      "5\n",
      "4\n",
      "12\n",
      "7\n",
      "5\n",
      "3\n",
      "3.1\n"
     ]
    }
   ],
   "source": [
    "print(abs(-5)) # 절대값 (양수??)\n",
    "print(pow(2, 2)) # 제곱\n",
    "print(max(4, 12))\n",
    "print(max([1, 3, 4, 6, 7]))\n",
    "print(min(5, 12))\n",
    "print(round(3.14)) # 반올리\n",
    "print(round(3.14, 1)) # 2번째 인자 + 1 자리에서 반올림"
   ]
  },
  {
   "cell_type": "code",
   "execution_count": 45,
   "metadata": {},
   "outputs": [
    {
     "name": "stdout",
     "output_type": "stream",
     "text": [
      "4\n",
      "5\n",
      "1.4142135623730951\n"
     ]
    }
   ],
   "source": [
    "import math\n",
    "result = math.floor(4.99) # 내림\n",
    "print(result)\n",
    "print(math.ceil(4.99)) # 올림\n",
    "print(math.sqrt(2)) #제곱근"
   ]
  },
  {
   "cell_type": "code",
   "execution_count": 115,
   "metadata": {},
   "outputs": [
    {
     "name": "stdout",
     "output_type": "stream",
     "text": [
      "0.9826943832188928\n",
      "0.5363434852971413\n",
      "0.16935667142347965\n",
      "0.2451557378706315\n",
      "4\n",
      "{5, 37, 38, 42, 12, 18, 19}\n",
      "{36, 37, 8, 42, 13, 22, 23}\n",
      "{33, 2, 35, 38, 8, 16, 21}\n",
      "{34, 36, 40, 42, 11, 44, 27}\n",
      "{4, 36, 39, 12, 18, 24, 26}\n",
      "옛다~~ 로또다 ㅋㅋㅋㅋㅋㅋ\n"
     ]
    }
   ],
   "source": [
    "import random\n",
    "print(random.random())\n",
    "print(random.random())\n",
    "print(random.random())\n",
    "print(random.random() * 10)\n",
    "print(int(random.random() * 10))\n",
    "'''\n",
    "for i in range(100) :\n",
    "    print(int(random.random() * 45) + 1, end = ' ')\n",
    "    if(i % 10 == 0) :\n",
    "        print()\n",
    "print('\\n---------------------------')\n",
    "'''\n",
    "lotto_list = []\n",
    "for i in range(5) :\n",
    "    lotto_set = set()\n",
    "    while len(lotto_set) <= 6 :\n",
    "        #lotto_set.add( int(random.random() * 45) + 1 )\n",
    "        #lotto_set.add( random.randint(1, 45) ) # 1에서 45 이하\n",
    "        lotto_set.add( random.randrange(1, 46) ) # 1에서 46 미만\n",
    "    #lotto_list.append(lotto_set.copy())\n",
    "    lotto_list.append(lotto_set)\n",
    "    print(lotto_set)\n",
    "print('옛다~~ 로또다 ㅋㅋㅋㅋㅋㅋ')\n"
   ]
  },
  {
   "cell_type": "code",
   "execution_count": 3,
   "metadata": {},
   "outputs": [
    {
     "name": "stdout",
     "output_type": "stream",
     "text": [
      "{35, 36, 38, 7, 40, 19, 30}\n",
      "{32, 5, 40, 44, 16, 27, 30}\n",
      "{35, 36, 37, 43, 18, 29, 30}\n",
      "{36, 39, 40, 42, 15, 19, 23}\n",
      "{2, 6, 41, 10, 44, 20, 22}\n"
     ]
    }
   ],
   "source": [
    "import random\n",
    "for i in range(5) :\n",
    "    lotto_set = set()\n",
    "    while len(lotto_set) <= 6 :\n",
    "        lotto_set.add( random.randint(1, 45) ) # 1에서 45 이하\n",
    "    print(lotto_set)"
   ]
  }
 ],
 "metadata": {
  "kernelspec": {
   "display_name": "Python 3",
   "language": "python",
   "name": "python3"
  },
  "language_info": {
   "codemirror_mode": {
    "name": "ipython",
    "version": 3
   },
   "file_extension": ".py",
   "mimetype": "text/x-python",
   "name": "python",
   "nbconvert_exporter": "python",
   "pygments_lexer": "ipython3",
   "version": "3.12.4"
  }
 },
 "nbformat": 4,
 "nbformat_minor": 2
}
