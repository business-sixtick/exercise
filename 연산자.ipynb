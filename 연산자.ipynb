{
 "cells": [
  {
   "cell_type": "code",
   "execution_count": 9,
   "metadata": {},
   "outputs": [
    {
     "name": "stdout",
     "output_type": "stream",
     "text": [
      "2 + 1 ->  3\n",
      "2 - 1 ->  1\n",
      "2 * 1 ->  2\n",
      "2 / 1 ->  2.0\n",
      "2 // 1 ->  2\n",
      "2 % 1 ->  0\n",
      "2 ** 1 ->  2\n",
      "2 & 1 ->  0\n",
      "2 | 1 ->  3\n",
      "~1 ->  -2\n",
      "2\n",
      "-0b10\n",
      "2 ^ 1 ->  3\n"
     ]
    }
   ],
   "source": [
    "# 산술연산자 (사칙연사)\n",
    "print('2 + 1 -> ', 2 + 1)\n",
    "print('2 - 1 -> ', 2 - 1)\n",
    "print('2 * 1 -> ', 2 * 1)\n",
    "print('2 / 1 -> ', 2 / 1)\n",
    "print('2 // 1 -> ', 2 // 1)\n",
    "print('2 % 1 -> ', 2 % 1)\n",
    "print('2 ** 1 -> ', 2 ** 1)\n",
    "print('2 & 1 -> ', 2 & 1)\n",
    "print('2 | 1 -> ', 2 | 1)\n",
    "print('~1 -> ', ~1)  # 비트 반전 0000 0001 -> 1111 1110  음수 읽는 법은 반전후 + 1 (2의 보수)\n",
    "print(bin(-2))\n",
    "print('2 ^ 1 -> ', 2 ^ 1) # xor  A XOR B=(A and not B) or (not A and B) 두 개의 조건 중 하나만 참(True)일 때 참을 반환하는 논리 연산\n"
   ]
  },
  {
   "cell_type": "code",
   "execution_count": 5,
   "metadata": {},
   "outputs": [
    {
     "name": "stdout",
     "output_type": "stream",
     "text": [
      "49\n",
      "0b110001\n",
      "49\n",
      "b'\\xec\\x95\\x88\\xeb\\x85\\x95'\n"
     ]
    }
   ],
   "source": [
    "print(ord('1'))\n",
    "print(bin(49))\n",
    "print(ascii(0b110001))\n",
    "# 문자열을 UTF-8 인코딩하여 바이트로 변환\n",
    "byte_data = bytes(\"안녕\", 'utf-8')\n",
    "\n",
    "# 바이트 객체 출력\n",
    "print(byte_data)  # \\xec\\x95\\x88은 안 문자의 UTF-8 인코딩입니다. 한글은 3바이트 아스키는1바이트\n",
    "\n"
   ]
  },
  {
   "cell_type": "code",
   "execution_count": 13,
   "metadata": {},
   "outputs": [
    {
     "name": "stdout",
     "output_type": "stream",
     "text": [
      "False\n",
      "True True True False False False []\n",
      "1초\n"
     ]
    }
   ],
   "source": [
    "# 논리연산자 and or not\n",
    "print(bool(0)) \n",
    "print(bool(-1), bool(1.0), bool('a'), bool(''), bool(None), bool({}), []) # 0을 제외한 모든게 참\n",
    "\n",
    "# 연산자 operator  피연산자 operand\n",
    "\n",
    "import time\n",
    "time.sleep(1)\n",
    "print('1초')"
   ]
  }
 ],
 "metadata": {
  "kernelspec": {
   "display_name": "Python 3",
   "language": "python",
   "name": "python3"
  },
  "language_info": {
   "codemirror_mode": {
    "name": "ipython",
    "version": 3
   },
   "file_extension": ".py",
   "mimetype": "text/x-python",
   "name": "python",
   "nbconvert_exporter": "python",
   "pygments_lexer": "ipython3",
   "version": "3.11.5"
  }
 },
 "nbformat": 4,
 "nbformat_minor": 2
}
