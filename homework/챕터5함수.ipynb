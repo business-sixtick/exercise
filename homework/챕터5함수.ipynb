{
 "cells": [
  {
   "cell_type": "code",
   "execution_count": null,
   "metadata": {},
   "outputs": [],
   "source": [
    "# 1 -3\n",
    "# "
   ]
  },
  {
   "cell_type": "markdown",
   "metadata": {},
   "source": [
    "1 - 3 3\n",
    "2 - 1 1\n",
    "3 - 3 1 리스트로 받아서 한개\n",
    "4 - 3 1 정정 3\n",
    "5 - 3 3\n",
    "6 - 5 3\n",
    "7 - 5 5\n",
    "8 - 1 4 쓰잘때기 없는 코드 쓰지마라. 전역에 변수 쓰지마라 \n",
    "9 - None 반환값없음 o\n",
    "10 - 1 1\n",
    "11 - 10 20 o\n",
    "12 - 5 5\n",
    "13 - 2 2\n",
    "14 - None 반환값없음 o\n",
    "15 - 1 1"
   ]
  },
  {
   "cell_type": "code",
   "execution_count": 1,
   "metadata": {},
   "outputs": [
    {
     "name": "stdout",
     "output_type": "stream",
     "text": [
      "21\n",
      "4\n"
     ]
    }
   ],
   "source": [
    "def f(x):\n",
    "    y = x\n",
    "    x = 7\n",
    "    return y * x\n",
    "\n",
    "x = 4\n",
    "print(f(3))\n",
    "print(x)"
   ]
  },
  {
   "cell_type": "code",
   "execution_count": 5,
   "metadata": {},
   "outputs": [
    {
     "name": "stdout",
     "output_type": "stream",
     "text": [
      "jiho\n"
     ]
    }
   ],
   "source": [
    "name = 'jiho'\n",
    "def call():\n",
    "    global name\n",
    "    print(name)\n",
    "    # name = 'seho' # 헤깔리니까 명시해라\n",
    "    # global name  # 명시적으로 함수 처음에 선언해라 \n",
    "    name = 'seho'\n",
    "\n",
    "call()"
   ]
  }
 ],
 "metadata": {
  "kernelspec": {
   "display_name": "Python 3",
   "language": "python",
   "name": "python3"
  },
  "language_info": {
   "codemirror_mode": {
    "name": "ipython",
    "version": 3
   },
   "file_extension": ".py",
   "mimetype": "text/x-python",
   "name": "python",
   "nbconvert_exporter": "python",
   "pygments_lexer": "ipython3",
   "version": "3.12.4"
  }
 },
 "nbformat": 4,
 "nbformat_minor": 2
}
