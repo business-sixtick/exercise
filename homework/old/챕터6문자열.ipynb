{
 "cells": [
  {
   "cell_type": "code",
   "execution_count": null,
   "metadata": {},
   "outputs": [],
   "source": []
  },
  {
   "cell_type": "markdown",
   "metadata": {},
   "source": [
    "1 5\n",
    "2 3\n",
    "3 3\n",
    "4 5\n",
    "5 1\n",
    "6 2\n",
    "7 4\n",
    "8 5\n",
    "9 4\n",
    "10 2\n",
    "11 4\n",
    "12 5\n",
    "13 1\n",
    "14 2"
   ]
  },
  {
   "cell_type": "code",
   "execution_count": 7,
   "metadata": {},
   "outputs": [
    {
     "name": "stdout",
     "output_type": "stream",
     "text": [
      "deque([1, 2, 3, 4, 5])\n",
      "None\n",
      "deque([1, 2, 3, 4, 5, 6])\n"
     ]
    }
   ],
   "source": [
    "c = 'This World' \n",
    "#import collections\n",
    "from collections import deque\n",
    "#print(help(deque))\n",
    "print(deque([1,2,3,4,5]))\n",
    "dq = deque([1,2,3,4,5])\n",
    "print(dq.append(6))\n",
    "print(dq.copy())\n",
    " "
   ]
  }
 ],
 "metadata": {
  "kernelspec": {
   "display_name": "Python 3",
   "language": "python",
   "name": "python3"
  },
  "language_info": {
   "codemirror_mode": {
    "name": "ipython",
    "version": 3
   },
   "file_extension": ".py",
   "mimetype": "text/x-python",
   "name": "python",
   "nbconvert_exporter": "python",
   "pygments_lexer": "ipython3",
   "version": "3.12.4"
  }
 },
 "nbformat": 4,
 "nbformat_minor": 2
}
