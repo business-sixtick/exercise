{
 "cells": [
  {
   "cell_type": "code",
   "execution_count": null,
   "metadata": {},
   "outputs": [],
   "source": []
  },
  {
   "cell_type": "markdown",
   "metadata": {},
   "source": [
    "# 10챕터 객체 지향 프로그래밍\n",
    "1. 5\n",
    "2. 다 틀린듯\n",
    "3. \n",
    "4. 2\n",
    "5. 3\n",
    "6. 5\n",
    "7. 4\n",
    "8. \n",
    "9. 5\n",
    "10. \n",
    "11. 4\n",
    "12. "
   ]
  },
  {
   "cell_type": "markdown",
   "metadata": {},
   "source": [
    "# 11챕터 모듈과 패키지\n",
    "1. 3\n",
    "2. 다 틀린듯\n",
    "3. 1\n",
    "4.\n",
    "5.\n",
    "6.\n",
    "7.\n",
    "8.\n",
    "9.\n",
    "10."
   ]
  },
  {
   "cell_type": "markdown",
   "metadata": {},
   "source": [
    "# 11챕터 모듈과 패키지\n",
    "1. \n",
    "2.\n",
    "3.\n",
    "4.\n",
    "5.\n",
    "6.\n",
    "7.\n",
    "8.\n",
    "9.\n",
    "10."
   ]
  },
  {
   "cell_type": "code",
   "execution_count": 4,
   "metadata": {},
   "outputs": [
    {
     "name": "stdout",
     "output_type": "stream",
     "text": [
      "I left the company\n",
      "I got a job at a company\n",
      "My name is james\n",
      "I am a man\n"
     ]
    }
   ],
   "source": [
    "class Company:\n",
    "    def __init__(self):\n",
    "        self.work = True\n",
    "        self.name = 'Jane' \n",
    "        self.gender = 'woman'\n",
    "    def retire(self):\n",
    "        self.work = False\n",
    "class Employee(Company):\n",
    "    def __init__(self, name, gender):\n",
    "        super().__init__()\n",
    "        self.name = name\n",
    "        self.gender = gender\n",
    "\n",
    "    def introduce(self):\n",
    "        if self.work == True:\n",
    "            print('I got a job at a company')\n",
    "            print('My name is', self.name)\n",
    "            print('I am a', self.gender)\n",
    "        if self.work == False:\n",
    "            print('I left the company')\n",
    "em = Employee('james', 'man')\n",
    "em.retire()\n",
    "em.introduce()\n",
    "Employee('james', 'man').introduce()"
   ]
  }
 ],
 "metadata": {
  "kernelspec": {
   "display_name": "Python 3",
   "language": "python",
   "name": "python3"
  },
  "language_info": {
   "codemirror_mode": {
    "name": "ipython",
    "version": 3
   },
   "file_extension": ".py",
   "mimetype": "text/x-python",
   "name": "python",
   "nbconvert_exporter": "python",
   "pygments_lexer": "ipython3",
   "version": "3.12.4"
  }
 },
 "nbformat": 4,
 "nbformat_minor": 2
}
