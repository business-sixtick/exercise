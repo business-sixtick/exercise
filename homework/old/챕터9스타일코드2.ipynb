{
 "cells": [
  {
   "cell_type": "markdown",
   "metadata": {},
   "source": [
    "1 3\n",
    "2 3\n",
    "3 3\n",
    "4 [(1, 2, 3), (4, 5, 6), (7, 8, 9)]\n",
    "5 '2019-9-6'"
   ]
  },
  {
   "cell_type": "code",
   "execution_count": null,
   "metadata": {},
   "outputs": [],
   "source": [
    "lambda x, y : (x, y) "
   ]
  },
  {
   "cell_type": "code",
   "execution_count": 4,
   "metadata": {},
   "outputs": [
    {
     "data": {
      "text/plain": [
       "'2019-9-6'"
      ]
     },
     "execution_count": 4,
     "metadata": {},
     "output_type": "execute_result"
    }
   ],
   "source": [
    "date_info = {'year': \"2019\", 'month': \"9\", 'day': \"6\"}\n",
    "result = \"{year}-{month}-{day}\".format(**date_info)\n",
    "result "
   ]
  },
  {
   "cell_type": "code",
   "execution_count": 3,
   "metadata": {},
   "outputs": [
    {
     "data": {
      "text/plain": [
       "[(1, 2, 3), (4, 5, 6), (7, 8, 9)]"
      ]
     },
     "execution_count": 3,
     "metadata": {},
     "output_type": "execute_result"
    }
   ],
   "source": [
    "def transpose_list(two_dimensional_list):\n",
    "    return [row for row in zip(*two_dimensional_list)]\n",
    "transpose_list([[1, 4, 7], [2, 5, 8], [3, 6, 9]])"
   ]
  },
  {
   "cell_type": "code",
   "execution_count": 2,
   "metadata": {},
   "outputs": [
    {
     "name": "stdout",
     "output_type": "stream",
     "text": [
      "[[12, 3], [15, 3], [18, 3]]\n"
     ]
    }
   ],
   "source": [
    "a = [1, 2, 3]\n",
    "b = [4, 5, 6]\n",
    "c = [7, 8, 9]\n",
    "print([[sum(k), len(k)] for k in zip(a, b, c)])"
   ]
  },
  {
   "cell_type": "code",
   "execution_count": 1,
   "metadata": {},
   "outputs": [
    {
     "name": "stdout",
     "output_type": "stream",
     "text": [
      "[[210, 210], [200, 200]]\n"
     ]
    }
   ],
   "source": [
    "matrix_a = [[1,2,3,5], [1,2,3,4]]\n",
    "matrix_b = [[40,40], [30,30], [20,20], [10,10]]\n",
    "print([[sum([t[0]*t[1] for t in zip(i,j)]) for j in zip(*matrix_b)] for i in matrix_a])\n"
   ]
  }
 ],
 "metadata": {
  "kernelspec": {
   "display_name": "Python 3",
   "language": "python",
   "name": "python3"
  },
  "language_info": {
   "codemirror_mode": {
    "name": "ipython",
    "version": 3
   },
   "file_extension": ".py",
   "mimetype": "text/x-python",
   "name": "python",
   "nbconvert_exporter": "python",
   "pygments_lexer": "ipython3",
   "version": "3.12.4"
  }
 },
 "nbformat": 4,
 "nbformat_minor": 2
}
