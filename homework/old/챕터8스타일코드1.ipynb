{
 "cells": [
  {
   "cell_type": "code",
   "execution_count": null,
   "metadata": {},
   "outputs": [],
   "source": []
  },
  {
   "cell_type": "markdown",
   "metadata": {},
   "source": [
    "1 3 3\n",
    "2 5 5\n",
    "3 77 77\n",
    "4 3 3\n",
    "5 3 1 -\n",
    "6 1 1\n",
    "7 4 4\n",
    "8 \n",
    "0 2 4 6 8\n",
    "0123456789\n",
    "[zero, one ,two, three]\n",
    "valueError\n",
    "9 2 4 - 중복제거됨에 인덱스 꼬임\n",
    "10 2 2\n",
    "11 4 2 -\n",
    "12 2 2 \n",
    "\n"
   ]
  },
  {
   "cell_type": "code",
   "execution_count": 4,
   "metadata": {},
   "outputs": [
    {
     "data": {
      "text/plain": [
       "[('a', 0), (',', 1), ('b', 2), (',', 3), ('c', 4)]"
      ]
     },
     "execution_count": 4,
     "metadata": {},
     "output_type": "execute_result"
    }
   ],
   "source": [
    "[ (j, i) for i, j in enumerate('a,b,c')]"
   ]
  }
 ],
 "metadata": {
  "kernelspec": {
   "display_name": "Python 3",
   "language": "python",
   "name": "python3"
  },
  "language_info": {
   "codemirror_mode": {
    "name": "ipython",
    "version": 3
   },
   "file_extension": ".py",
   "mimetype": "text/x-python",
   "name": "python",
   "nbconvert_exporter": "python",
   "pygments_lexer": "ipython3",
   "version": "3.12.4"
  }
 },
 "nbformat": 4,
 "nbformat_minor": 2
}
