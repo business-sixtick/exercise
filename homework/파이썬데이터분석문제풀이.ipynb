{
 "cells": [
  {
   "cell_type": "markdown",
   "metadata": {},
   "source": [
    "- 6장 csv\n",
    "1. 1 Comma Separated Values : 1\n",
    "2. 3 CSV 파일은 쉼표로 값이 구분된다 : 3\n",
    "3. (1) open  (2) readline  (3) close : o\n",
    "4. 3 close : 3\n",
    "5. '2025/5/5' 수정본을 반환하고 자기자신은 수정하지 않는다. :  문제가 거지같음\n",
    "6. [1,2,3] map함수는 컴프리헨션 같은 동작을 한다 : ㅐ\n",
    "7. 4 open 함수를 써서 파일을 열어서 csv 에 스트림을 넘겨줘야 한다. :4\n",
    "8. (1) csv  (2) reader  (3) next \n",
    "9. (1) Entry  (2) grid  (3) retList   안배웠음. 뭔 함수를 맹글고 있음"
   ]
  },
  {
   "cell_type": "markdown",
   "metadata": {},
   "source": [
    "- 7장 엑셀\n",
    "1. 4 시트 : 4\n",
    "2. 2 시트는 엑셀에 있다. : 2\n",
    "3. xlrd(xls만 지원함) xlwt openpyxl xlsxwriter :o\n",
    "4. 3 pip install : 3\n",
    "5. 2 시트.cell_value(x, y) : 2\n",
    "6. (1) open_workbook (2) nsheets  (3) sheets : o\n",
    "7. 1 시트.write(x, y, 값) : 1\n",
    "8. 2, 4 256,256,256 흰색255,255,255 : 4\n",
    "9. 4 load_workbook :4\n",
    "10. 2 hex() :2"
   ]
  },
  {
   "cell_type": "markdown",
   "metadata": {},
   "source": [
    "- 8장 데이터베이스\n",
    "1. 1 양이 많을때 사용한다\n",
    "2. 3 관계형 테이블 구조\n",
    "3. 다 맞는 것 같다\n",
    "4. F>>E>>D>>C>>B>>A\n",
    "5. C>>B>>A>>F>>E>>D\n",
    "6. (1) con.cursor()  (2) cur.execute(sql) (3) con.commit()\n",
    "7. (1) con.cursor()  (2) cur.execute(sql) (3) cur.fetchone()\n",
    "8. . (1) 데이터베이스  (2) DBMS\n",
    "9. 2 \n",
    "10. sql 데이터형식 테이블\n",
    "11. (1)CREATE TABLE   (2) INSERT INTO   (3) SELECT\n"
   ]
  },
  {
   "cell_type": "markdown",
   "metadata": {},
   "source": [
    "- 9장 웹 크롤링\n",
    "1. 웹 크롤링 / 크롤링 : o\n",
    "2. 4 : 4\n",
    "3. (1)<html>~</html>   (2)<head>~</head>   (3)<body>~</body> L o\n",
    "4. (1) <div>~</div >,<p>~</p>, <span>~</span>(2) <ul>~</ul>, <li>~<li>(3) <a>~</a>(4) <meta> : o\n",
    "5. (1) urllib.request 또는 urllib   (2) beautifulsoup\n",
    "6. (1) urlopen  (2) read\n",
    "7. (1) BeautifulSoup (2) find\n",
    "8. 'div', {'class':'myClass'}\n",
    "9. (1) now (2) strftime"
   ]
  },
  {
   "cell_type": "markdown",
   "metadata": {},
   "source": [
    "- 10장 넘파이\n",
    "1. 2 , 4\n",
    "2. 4\n",
    "3. np.arange() np.empty() np.identity(10) np.array()\n",
    "4. 4\n",
    "5. (1) dtype (2) ndim (3) shape\n",
    "6. 4, 2 (차원이 큰쪽으로 맞춘다)\n",
    "7. [88, 88,  2,  3,  4] 얕은 복사가 이뤄진다. \n",
    "8. (1) ary[2]  1차원, [ 9, 10, 11, 12] (2) ary[0:2, :]  2차원  [[ 1,  2,  3,  4], [ 5,  6,  7,  8]] (3) ary[ , 2] 오류 (4) ary[ 2:4 , 2: 4] 2차원  [[11, 12], [15, 16]]\n",
    "9. add(), subtract(), multiply(), divide(), maximum(), minimum()\n",
    "10. (1) 배열의 평균을 구함 mean() (2) 배열에서 최솟값을 찾음 min() (3) 배열을 정렬함 np.sort() (4) 배열에서 중복된 값을 제거함 np.unique()\n"
   ]
  },
  {
   "cell_type": "markdown",
   "metadata": {},
   "source": [
    "- 11장 판다스와 맷플롯립    \n",
    "1. 1 3\n",
    "2. 4\n",
    "3. 시리즈 df.loc['인덱스이름'] df['열이름'] 인덱스\n",
    "4. 4\n",
    "5. . pd.DataFrame(data, index=index_data)\n",
    "6. 3\n",
    "7. 4\n",
    "8. 2, 3\n",
    "9. plt.plot( x_data, y_data )\n",
    "10. \n"
   ]
  },
  {
   "cell_type": "code",
   "execution_count": 31,
   "metadata": {},
   "outputs": [
    {
     "data": {
      "image/png": "[encoded data removed]",
      "text/plain": [
       "<Figure size 640x480 with 1 Axes>"
      ]
     },
     "metadata": {},
     "output_type": "display_data"
    }
   ],
   "source": [
    "import numpy as np\n",
    "import matplotlib.pyplot as mpp\n",
    "\n",
    "mpp.plot([1,2,3,4,5], [1,2,3,4,5], color='green', marker='o', linestyle=':')\n",
    "mpp.show()"
   ]
  },
  {
   "cell_type": "code",
   "execution_count": 15,
   "metadata": {},
   "outputs": [
    {
     "data": {
      "text/plain": [
       "array([[1., 0., 0., 0., 0., 0., 0., 0., 0., 0.],\n",
       "       [0., 1., 0., 0., 0., 0., 0., 0., 0., 0.],\n",
       "       [0., 0., 1., 0., 0., 0., 0., 0., 0., 0.],\n",
       "       [0., 0., 0., 1., 0., 0., 0., 0., 0., 0.],\n",
       "       [0., 0., 0., 0., 1., 0., 0., 0., 0., 0.],\n",
       "       [0., 0., 0., 0., 0., 1., 0., 0., 0., 0.],\n",
       "       [0., 0., 0., 0., 0., 0., 1., 0., 0., 0.],\n",
       "       [0., 0., 0., 0., 0., 0., 0., 1., 0., 0.],\n",
       "       [0., 0., 0., 0., 0., 0., 0., 0., 1., 0.],\n",
       "       [0., 0., 0., 0., 0., 0., 0., 0., 0., 1.]])"
      ]
     },
     "execution_count": 15,
     "metadata": {},
     "output_type": "execute_result"
    }
   ],
   "source": [
    "import numpy as np\n",
    "np.random.randint(0, 255, size=(5, 5))\n",
    "np.empty(2)\n",
    "np.identity(10)"
   ]
  },
  {
   "cell_type": "code",
   "execution_count": 26,
   "metadata": {},
   "outputs": [
    {
     "data": {
      "text/plain": [
       "array([4, 2, 3, 1])"
      ]
     },
     "execution_count": 26,
     "metadata": {},
     "output_type": "execute_result"
    }
   ],
   "source": [
    "arr1 = np.array([5,2,3,4])\n",
    "arr2 = np.array([4,6,7,1])\n",
    "np.minimum(arr1, arr2) # 같은 위치에서 작은것들만 추려주네"
   ]
  },
  {
   "cell_type": "code",
   "execution_count": 23,
   "metadata": {},
   "outputs": [
    {
     "data": {
      "text/plain": [
       "array([4, 8])"
      ]
     },
     "execution_count": 23,
     "metadata": {},
     "output_type": "execute_result"
    }
   ],
   "source": [
    "ary = np.array([[  1,  2,  3,  4],\n",
    "      [  5,  6,  7,  8],\n",
    "      [  9, 10, 11,  12],\n",
    "      [13, 14, 15, 16]])\n",
    "ary[0:2, :]   # 아 행, 열이구나 ㅋㅋㅋㅋㅋㅋㅋㅋㅋㅋㅋㅋㅋㅋㅋㅋㅋㅋㅋㅋㅋㅋㅋㅋㅋㅋㅋㅋㅋㅋㅋㅋㅋㅋㅋㅋㅋㅋㅋㅋㅋㅋㅋ"
   ]
  },
  {
   "cell_type": "code",
   "execution_count": 18,
   "metadata": {},
   "outputs": [
    {
     "data": {
      "text/plain": [
       "array([88, 88,  2,  3,  4])"
      ]
     },
     "execution_count": 18,
     "metadata": {},
     "output_type": "execute_result"
    }
   ],
   "source": [
    "ary = np.array( [ 0 , 1, 2 , 3, 4 ] )\n",
    "ary2 = ary[0:2]\n",
    "ary2[:] = 88\n",
    "ary\n"
   ]
  },
  {
   "cell_type": "code",
   "execution_count": 17,
   "metadata": {},
   "outputs": [
    {
     "data": {
      "text/plain": [
       "array([[ 9, 19],\n",
       "       [ 8, 18]])"
      ]
     },
     "execution_count": 17,
     "metadata": {},
     "output_type": "execute_result"
    }
   ],
   "source": [
    "ary1 = np.array( [[ 1, 1 ] , [ 2 , 2 ] ])\n",
    "ary2 = np.array( [ 10, 20 ] )\n",
    "ary2-ary1\n"
   ]
  },
  {
   "cell_type": "code",
   "execution_count": 16,
   "metadata": {},
   "outputs": [
    {
     "data": {
      "text/plain": [
       "array([[12, 12],\n",
       "       [14, 14]])"
      ]
     },
     "execution_count": 16,
     "metadata": {},
     "output_type": "execute_result"
    }
   ],
   "source": [
    "ary = np.array( [[ 1, 1 ] , [ 2 , 2 ] ])\n",
    "ary += ary\n",
    "ary += 10\n",
    "ary\n"
   ]
  },
  {
   "cell_type": "code",
   "execution_count": 8,
   "metadata": {},
   "outputs": [
    {
     "data": {
      "text/plain": [
       "'0xa'"
      ]
     },
     "execution_count": 8,
     "metadata": {},
     "output_type": "execute_result"
    }
   ],
   "source": [
    "hex(10)"
   ]
  },
  {
   "cell_type": "code",
   "execution_count": 7,
   "metadata": {},
   "outputs": [
    {
     "data": {
      "text/plain": [
       "<module 'xlrd' from 'c:\\\\Users\\\\hungh\\\\AppData\\\\Local\\\\Programs\\\\Python\\\\Python312\\\\Lib\\\\site-packages\\\\xlrd\\\\__init__.py'>"
      ]
     },
     "execution_count": 7,
     "metadata": {},
     "output_type": "execute_result"
    }
   ],
   "source": [
    "import xlrd\n",
    "x = xlrd.open_workbook()"
   ]
  },
  {
   "cell_type": "code",
   "execution_count": null,
   "metadata": {},
   "outputs": [],
   "source": [
    "import openpyxl\n",
    "openpyxl.load_workbook()"
   ]
  },
  {
   "cell_type": "code",
   "execution_count": null,
   "metadata": {},
   "outputs": [],
   "source": [
    "import csv\n",
    "open()"
   ]
  },
  {
   "cell_type": "code",
   "execution_count": 6,
   "metadata": {},
   "outputs": [
    {
     "data": {
      "text/plain": [
       "[2.1, 3.2, 4.3]"
      ]
     },
     "execution_count": 6,
     "metadata": {},
     "output_type": "execute_result"
    }
   ],
   "source": [
    "\n",
    "myList = [1.1, 2.2, 3.3]\n",
    "\n",
    "list(map(int, myList))\n",
    "list(map(lambda x : x + 1, myList))"
   ]
  },
  {
   "cell_type": "code",
   "execution_count": 1,
   "metadata": {},
   "outputs": [
    {
     "data": {
      "text/plain": [
       "'2025/5/5'"
      ]
     },
     "execution_count": 1,
     "metadata": {},
     "output_type": "execute_result"
    }
   ],
   "source": [
    "myData= \"2025/5/5\"\n",
    "myData.replace('/', '.')\n",
    "myData"
   ]
  }
 ],
 "metadata": {
  "kernelspec": {
   "display_name": "Python 3",
   "language": "python",
   "name": "python3"
  },
  "language_info": {
   "codemirror_mode": {
    "name": "ipython",
    "version": 3
   },
   "file_extension": ".py",
   "mimetype": "text/x-python",
   "name": "python",
   "nbconvert_exporter": "python",
   "pygments_lexer": "ipython3",
   "version": "3.12.4"
  }
 },
 "nbformat": 4,
 "nbformat_minor": 2
}
