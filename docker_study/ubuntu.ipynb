{
 "cells": [
  {
   "cell_type": "code",
   "execution_count": null,
   "metadata": {},
   "outputs": [],
   "source": []
  },
  {
   "cell_type": "markdown",
   "metadata": {},
   "source": [
    "# 우분투에서 도커 설치하기 (컨테이너에서는 안된다 ㅋㅋ 호스트를 죽이래)\n",
    "- apt update\n",
    "\n",
    "- apt install apt-transport-https ca-certificates curl software-properties-common\n",
    "\n",
    "- curl -fsSL https://download.docker.com/linux/ubuntu/gpg | gpg --dearmor -o /usr/share/keyrings/docker-archive-keyring.gpg\n",
    "\n",
    "- echo \"deb [signed-by=/usr/share/keyrings/docker-archive-keyring.gpg] https://download.docker.com/linux/ubuntu $(lsb_release -cs) stable\" | tee /etc/apt/sources.list.d/docker.list > /dev/null\n",
    "\n",
    "- apt update\n",
    "\n",
    "- apt install docker-ce docker-ce-cli containerd.io\n",
    "\n",
    "- systemctl start docker\n",
    "- systemctl enable docker"
   ]
  },
  {
   "cell_type": "code",
   "execution_count": null,
   "metadata": {},
   "outputs": [],
   "source": [
    "# sudo docker run -it --name notetf -e DISPLAY=$DISPLAY -v /tmp/.X11-unix:/tmp/.X11-unix jupyter/tensorflow-notebook\n"
   ]
  },
  {
   "cell_type": "code",
   "execution_count": null,
   "metadata": {},
   "outputs": [],
   "source": [
    "# sudo apt-get update\n",
    "# sudo apt-get install ca-certificates curl\n",
    "# sudo install -m 0755 -d /etc/apt/keyrings\n",
    "# sudo curl -fsSL https://download.docker.com/linux/ubuntu/gpg -o /etc/apt/keyrings/docker.asc\n",
    "# sudo chmod a+r /etc/apt/keyrings/docker.asc\n",
    "\n",
    "# # Add the repository to Apt sources:\n",
    "# echo \\\n",
    "#   \"deb [arch=$(dpkg --print-architecture) signed-by=/etc/apt/keyrings/docker.asc] https://download.docker.com/linux/ubuntu \\\n",
    "#   $(. /etc/os-release && echo \"$VERSION_CODENAME\") stable\" | \\\n",
    "#   sudo tee /etc/apt/sources.list.d/docker.list > /dev/null\n",
    "# sudo apt-get update\n",
    "# 위의 명령어를 하나하나 입력합니다.\n",
    "\n",
    "# sudo apt-get install docker-ce docker-ce-cli containerd.io docker-buildx-plugin docker-compose-plugin"
   ]
  },
  {
   "cell_type": "markdown",
   "metadata": {},
   "source": [
    "# ai 개발 환경 설치하기 \n",
    "- python3 --version (된장 맞을 ㅋㅋ 3.12가 깔려있네 ㅎㅎ)\n",
    "- apt install python3.7\n",
    "- update-alternatives --config python (update-alternatives: error: no alternatives for python 설정안된거임)\n",
    "- ls /usr/bin | grep python\n",
    "- update-alternatives --install /usr/bin/python python /usr/bin/python3.7 1\n",
    "- update-alternatives --install /usr/bin/python python /usr/bin/python3.12 2\n",
    "- python -V\n",
    "- update-alternatives --config python ( 번호 선택해주면 됨)\n",
    "- python -V"
   ]
  },
  {
   "cell_type": "code",
   "execution_count": null,
   "metadata": {},
   "outputs": [],
   "source": [
    "# 가상환경 만들기 "
   ]
  },
  {
   "cell_type": "markdown",
   "metadata": {},
   "source": [
    "# 가상환경 만들기\n",
    "- python -m venv ~/py312\n",
    "- source ~/py312/bin/activate\n",
    "- python -m pip install --upgrade pip\n",
    "- pip install tensorflow\n",
    "- pip install opencv-python pandas seaborn scikit-learn"
   ]
  },
  {
   "cell_type": "markdown",
   "metadata": {},
   "source": [
    "# 가상환경 만들기 (충돌때문에 거의 강제함) (낮은버전에서 잘안되네 ㅠㅠ)\n",
    "- apt install python3-venv\n",
    "- python -m venv ~/py37gpu --without-pip\n",
    "- python3 -m 가상환경이름 경로 --without-pip\n",
    "- source 경로/activate\n",
    "$ curl https://bootstrap.pypa.io/get-pip.py | python\n",
    "curl https://bootstrap.pypa.io/pip/3.7/get-pip.py | python\n",
    "출처: https://blog.ojj.kr/1093 [🚀 OJJ:티스토리]"
   ]
  }
 ],
 "metadata": {
  "language_info": {
   "name": "python"
  }
 },
 "nbformat": 4,
 "nbformat_minor": 2
}
