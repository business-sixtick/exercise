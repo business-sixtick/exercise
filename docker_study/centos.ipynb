{
 "cells": [
  {
   "cell_type": "code",
   "execution_count": null,
   "metadata": {},
   "outputs": [],
   "source": []
  },
  {
   "cell_type": "markdown",
   "metadata": {},
   "source": []
  },
  {
   "cell_type": "markdown",
   "metadata": {},
   "source": [
    "- cd /etc/yum.repos.d/\n",
    " \n",
    "- sed -i 's/mirrorlist/#mirrorlist/g' /etc/yum.repos.d/CentOS-*\n",
    "- sed -i 's|#baseurl=http://mirror.centos.org|baseurl=http://vault.centos.org|g' /etc/yum.repos.d/CentOS-*\n",
    " \n",
    "- 다시 업데이트를 해보면\n",
    "- yum update -y"
   ]
  }
 ],
 "metadata": {
  "language_info": {
   "name": "python"
  }
 },
 "nbformat": 4,
 "nbformat_minor": 2
}
