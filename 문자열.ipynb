{
 "cells": [
  {
   "cell_type": "code",
   "execution_count": 1,
   "metadata": {},
   "outputs": [
    {
     "name": "stdout",
     "output_type": "stream",
     "text": [
      "나는 소년입니다. <class 'str'>\n",
      "파이썬은 쉬워요. <class 'str'>\n",
      "<class 'str'>\n",
      "\n",
      "나는 소년이고,\n",
      "파이썬은 쉬워요.\n",
      "\n"
     ]
    }
   ],
   "source": [
    "sentence1 = '나는 소년입니다.'\n",
    "print(sentence1, type(sentence1))\n",
    "sentence2 = \"파이썬은 쉬워요.\"\n",
    "print(sentence2, type(sentence2))\n",
    "print(type('a')) # 파이썬에는 char 타입은 없다 str 만 있음\n",
    "\n",
    "sentence3 = \"\"\"\n",
    "나는 소년이고,\n",
    "파이썬은 쉬워요.\n",
    "\"\"\"\n",
    "print(sentence3)"
   ]
  },
  {
   "cell_type": "code",
   "execution_count": 2,
   "metadata": {},
   "outputs": [
    {
     "name": "stdout",
     "output_type": "stream",
     "text": [
      "성별 식별번호 : 1\n",
      "연 : 99\n",
      "월 : 02\n",
      "일 : 29\n",
      "생년월일 : 990229\n",
      "주민등록번호 뒷자리 : 1234567\n",
      "주민등록번호 뒷자리(뒤에서부터) : 1234567\n"
     ]
    }
   ],
   "source": [
    "jumin = \"990229-1234567\"\n",
    "print(\"성별 식별번호 : \" + jumin[7])\n",
    "\n",
    "jumin = \"990229-1234567\"\n",
    "print(\"연 : \" + jumin[0:2]) # 0부터 2 직전까지(0, 1)\n",
    "print(\"월 : \" + jumin[2:4]) # 2부터 4 직전까지(2, 3)\n",
    "print(\"일 : \" + jumin[4:6]) # 4부터 6 직전까지(4, 5)\n",
    "print(\"생년월일 : \" + jumin[:6]) # 처음부터 6 직전까지 -> jumin[0:6]과 같음\n",
    "print(\"주민등록번호 뒷자리 : \" + jumin[7:]) # 7부터 끝까지 -> jumin[7:14]와 같음\n",
    "print(\"주민등록번호 뒷자리(뒤에서부터) : \" + jumin[-7:]) # 뒤에서 7번째 위치부터 끝까지\n"
   ]
  },
  {
   "cell_type": "code",
   "execution_count": 3,
   "metadata": {},
   "outputs": [
    {
     "name": "stdout",
     "output_type": "stream",
     "text": [
      "python is amazing\n",
      "PYTHON IS AMAZING\n",
      "True\n",
      "True\n",
      "Java is Amazing\n"
     ]
    }
   ],
   "source": [
    "python = \"Python is Amazing\"\n",
    "\n",
    "print(python.lower()) # 전체 소문자로 변환\n",
    "print(python.upper()) # 전체 대문자로 변환\n",
    "print(python[0].isupper()) # 인덱스 0에 있는 값이 대문자인지 확인\n",
    "print(python[1:3].islower()) # 인덱스 1부터 2에 있는 값이 소문자인지 확인\n",
    "print(python.replace(\"Python\", \"Java\")) # Python을 Java로 바꾸기"
   ]
  },
  {
   "cell_type": "code",
   "execution_count": 4,
   "metadata": {},
   "outputs": [
    {
     "name": "stdout",
     "output_type": "stream",
     "text": [
      "5\n",
      "15\n",
      "-1\n"
     ]
    }
   ],
   "source": [
    "python = \"Python is Amazing\"\n",
    "\n",
    "find = python.find(\"n\") # 처음 발견한 n의 인덱스\n",
    "print(find) # 'Python'에서 n(인덱스 5)\n",
    "find = python.find(\"n\", find + 1) # 인덱스 6 이후부터 찾아 처음 발견한 n의 인덱스\n",
    "print(find) # ' is Amazing'에서 n(인덱스15)\n",
    "find = python.find(\"Java\") # Java가 없으면 -1을 반환(출력)한 후 프로그램 계속 수행\n",
    "print(find)\n"
   ]
  },
  {
   "cell_type": "code",
   "execution_count": 5,
   "metadata": {},
   "outputs": [
    {
     "name": "stdout",
     "output_type": "stream",
     "text": [
      "5\n",
      "15\n",
      "5\n",
      "5\n"
     ]
    }
   ],
   "source": [
    "index = python.index(\"n\") # 처음 발견한 n의 인덱스\n",
    "print(index) # 'Python'에서 n\n",
    "index = python.index(\"n\", index + 1) # 인덱스 6 이후부터 찾아 처음 발견한 n의 인덱스\n",
    "print(index) # ' is Amazing'에서 n\n",
    "index = python.index(\"n\", 2, 6) # 인덱스 2부터 6 직전까지 찾아 처음 발견한 n의 인덱스\n",
    "print(index) # 'thon'에서 n(인덱스 5)\n",
    "#index = python.index(\"Java\") # Java가 없으면 오류가 발생하며 프로그램 종료\n",
    "print(index)\n"
   ]
  },
  {
   "cell_type": "code",
   "execution_count": 6,
   "metadata": {},
   "outputs": [
    {
     "name": "stdout",
     "output_type": "stream",
     "text": [
      "2\n",
      "0\n",
      "17\n",
      "abab\n",
      "ab ab\n"
     ]
    }
   ],
   "source": [
    "python = \"Python is Amazing\"\n",
    "\n",
    "print(python.count(\"n\"))\n",
    "print(python.count(\"v\"))\n",
    "\n",
    "\n",
    "python = \"Python is Amazing\"\n",
    "\n",
    "print(len(python))\n",
    "print(\"ab\" + \"ab\")\n",
    "print(\"ab\", \"ab\")\n"
   ]
  },
  {
   "cell_type": "code",
   "execution_count": 7,
   "metadata": {},
   "outputs": [
    {
     "name": "stdout",
     "output_type": "stream",
     "text": [
      "나는 20살입니다.\n",
      "나는 파이썬을 좋아합니다.\n",
      "Apple은 A로 시작해요.\n",
      "나는 20살입니다.\n",
      "나는 파란색과 빨간색을 좋아해요.\n"
     ]
    }
   ],
   "source": [
    "print(\"나는 %d살입니다.\" % 20)\n",
    "print(\"나는 %s을 좋아합니다.\" % \"파이썬\")\n",
    "print(\"Apple은 %c로 시작해요.\" % \"A\")\n",
    "print(\"나는 %s살입니다.\" % 20)\n",
    "\n",
    "\n",
    "print(\"나는 %s색과 %s색을 좋아해요.\" % (\"파란\", \"빨간\")) # 값이 여럿일 때\n"
   ]
  },
  {
   "cell_type": "code",
   "execution_count": 8,
   "metadata": {},
   "outputs": [
    {
     "name": "stdout",
     "output_type": "stream",
     "text": [
      "나는 20살입니다.\n",
      "나는 파란색과 빨간색을 좋아해요.\n",
      "나는 파란색과 빨간색을 좋아해요.\n",
      "나는 빨간색과 파란색을 좋아해요.\n",
      "나는 20살이며, 빨간색을 좋아해요.\n",
      "나는 20살이며, 빨간색을 좋아해요.\n"
     ]
    }
   ],
   "source": [
    "print(\"나는 {}살입니다.\".format(20))\n",
    "print(\"나는 {}색과 {}색을 좋아해요.\".format(\"파란\", \"빨간\"))\n",
    "print(\"나는 {0}색과 {1}색을 좋아해요.\".format(\"파란\", \"빨간\"))\n",
    "print(\"나는 {1}색과 {0}색을 좋아해요.\".format(\"파란\", \"빨간\"))\n",
    "\n",
    "\n",
    "print(\"나는 {age}살이며, {color}색을 좋아해요.\".format(age=20, color=\"빨간\"))\n",
    "print(\"나는 {age}살이며, {color}색을 좋아해요.\".format(color=\"빨간\", age=20))\n"
   ]
  },
  {
   "cell_type": "code",
   "execution_count": 9,
   "metadata": {},
   "outputs": [
    {
     "name": "stdout",
     "output_type": "stream",
     "text": [
      "나는 20살이며, 빨간색을 좋아해요.\n"
     ]
    }
   ],
   "source": [
    "age = 20\n",
    "color = \"빨간\"\n",
    "print(f\"나는 {age}살이며, {color}색을 좋아해요.\")\n"
   ]
  },
  {
   "cell_type": "code",
   "execution_count": 10,
   "metadata": {},
   "outputs": [
    {
     "name": "stdout",
     "output_type": "stream",
     "text": [
      "백문이 불여일견 백견이 불여일타\n",
      "백문이 불여일견\n",
      "백견이 불여일타\n"
     ]
    }
   ],
   "source": [
    "print(\"백문이 불여일견 백견이 불여일타\")\n",
    "#print(\"백문이 불여일견 # SyntaxError 발생\n",
    "#백견이 불여일타\")\n",
    "print(\"백문이 불여일견\\n백견이 불여일타\")\n"
   ]
  },
  {
   "cell_type": "code",
   "execution_count": 11,
   "metadata": {},
   "outputs": [
    {
     "name": "stdout",
     "output_type": "stream",
     "text": [
      "저는 '나도코딩'입니다.\n",
      "저는 \"나도코딩\"입니다.\n",
      "저는 \"나도코딩\"입니다.\n",
      "저는 '나도코딩'입니다.\n"
     ]
    }
   ],
   "source": [
    "#print(\"저는 \"나도코딩\"입니다.\")\n",
    "print(\"저는 '나도코딩'입니다.\")\n",
    "# 또는\n",
    "print('저는 \"나도코딩\"입니다.')\n",
    "\n",
    "\n",
    "print(\"저는 \\\"나도코딩\\\"입니다.\")\n",
    "print(\"저는 \\'나도코딩\\'입니다.\")"
   ]
  },
  {
   "cell_type": "code",
   "execution_count": 12,
   "metadata": {},
   "outputs": [
    {
     "name": "stdout",
     "output_type": "stream",
     "text": [
      "C:\\Users\\Nadocoding\\Desktop\\PythonWorkspace\n",
      "C:\\Users\\Nadocoding\\Desktop\\PythonWorkspace\n"
     ]
    }
   ],
   "source": [
    "#print(\"C:\\Users\\Nadocoding\\Desktop\\PythonWorkspace\") # SyntaxError 발생\n",
    "print(\"C:\\\\Users\\\\Nadocoding\\\\Desktop\\\\PythonWorkspace\")\n",
    "print(r\"C:\\Users\\Nadocoding\\Desktop\\PythonWorkspace\")    # r을 추가하면 문자열 어떤값이든 무시\n"
   ]
  },
  {
   "cell_type": "code",
   "execution_count": 13,
   "metadata": {},
   "outputs": [
    {
     "name": "stdout",
     "output_type": "stream",
     "text": [
      "PineApple\n",
      "RedApple\n",
      "Red\tApple\n"
     ]
    }
   ],
   "source": [
    "print(\"Red Apple\\rPine\")        # \\r 은 커서를 맨 앞으로 이동시킵니다.\n",
    "\n",
    "print(\"Redd\\bApple\")            # \\b 는 앞글자 하나를 삭제합니다. Backspace\n",
    "\n",
    "print(\"Red\\tApple\")              # \\t 는 탭키와 같은 역할을 합니다.\n"
   ]
  },
  {
   "cell_type": "code",
   "execution_count": 2,
   "metadata": {},
   "outputs": [
    {
     "name": "stdout",
     "output_type": "stream",
     "text": [
      "2210\n"
     ]
    }
   ],
   "source": [
    "license_plate = '24가 2210'\n",
    "print(license_plate.split(' ')[1]) # 구분자"
   ]
  },
  {
   "cell_type": "code",
   "execution_count": 4,
   "metadata": {},
   "outputs": [
    {
     "name": "stdout",
     "output_type": "stream",
     "text": [
      "010 4444  9999\n",
      "010-4444 9999\n"
     ]
    }
   ],
   "source": [
    "phone_number = '010-4444--9999'\n",
    "print(phone_number.replace('-', ' ')) # 바꾸기\n",
    "print(phone_number.replace('--', ' '))"
   ]
  },
  {
   "cell_type": "code",
   "execution_count": 5,
   "metadata": {},
   "outputs": [
    {
     "name": "stdout",
     "output_type": "stream",
     "text": [
      "삼성전자\n"
     ]
    }
   ],
   "source": [
    "data = '    삼성전자 '\n",
    "print(data.strip())"
   ]
  },
  {
   "cell_type": "code",
   "execution_count": 6,
   "metadata": {},
   "outputs": [
    {
     "name": "stdout",
     "output_type": "stream",
     "text": [
      "BTC_KRW\n"
     ]
    }
   ],
   "source": [
    "coin = 'btc_krw'\n",
    "print(coin.upper())"
   ]
  },
  {
   "cell_type": "code",
   "execution_count": 8,
   "metadata": {},
   "outputs": [
    {
     "name": "stdout",
     "output_type": "stream",
     "text": [
      "hello00000\n",
      "     hello\n"
     ]
    }
   ],
   "source": [
    "print('hello'.ljust(10, '0')) #10의 공간을 만들고 왼쪽정렬\n",
    "print('hello'.rjust(10)) #  # 오른쪽 정렬"
   ]
  },
  {
   "cell_type": "code",
   "execution_count": 17,
   "metadata": {},
   "outputs": [
    {
     "name": "stdout",
     "output_type": "stream",
     "text": [
      "친구가 \"안녕\"이라고 말함\n",
      "친구가 '안녕'이라고 말함\n",
      "친구가 '안녕'이라고 말함\n",
      "안녕\n",
      "밥먹자\n",
      "안녕\n",
      "밥먹자\n",
      "안녕\n",
      "밥먹자\n",
      "안녕\t밥먹자\n",
      "안녕\\n밥먹자\n",
      "안녕\\밥먹자\n",
      "안녕밥먹자\n",
      "['__call__', '__class__', '__delattr__', '__dir__', '__doc__', '__eq__', '__format__', '__ge__', '__getattribute__', '__getstate__', '__gt__', '__hash__', '__init__', '__init_subclass__', '__le__', '__lt__', '__module__', '__name__', '__ne__', '__new__', '__qualname__', '__reduce__', '__reduce_ex__', '__repr__', '__self__', '__setattr__', '__sizeof__', '__str__', '__subclasshook__', '__text_signature__']\n"
     ]
    }
   ],
   "source": [
    "print('친구가 \"안녕\"이라고 말함')\n",
    "print('친구가 \\'안녕\\'이라고 말함')\n",
    "print(\"친구가 '안녕'이라고 말함\")\n",
    "print('안녕', '밥먹자', sep='\\n')\n",
    "print('안녕\\n밥먹자')\n",
    "print('''안녕\n",
    "밥먹자''')\n",
    "print('안녕\\t밥먹자')\n",
    "print('안녕\\\\n밥먹자')\n",
    "print('안녕\\밥먹자')\n",
    "print('안녕'+'밥먹자')\n",
    "# seperator 구분자 (쌔퍼레이터)"
   ]
  },
  {
   "cell_type": "code",
   "execution_count": 19,
   "metadata": {},
   "outputs": [
    {
     "name": "stdout",
     "output_type": "stream",
     "text": [
      "5\n"
     ]
    }
   ],
   "source": [
    "#print(1 + '4') #TypeError: unsupported operand type(s) for +: 'int' and 'str'\n",
    "print(1 + int('4'))"
   ]
  },
  {
   "cell_type": "code",
   "execution_count": 20,
   "metadata": {},
   "outputs": [
    {
     "data": {
      "text/plain": [
       "'hi'"
      ]
     },
     "execution_count": 20,
     "metadata": {},
     "output_type": "execute_result"
    }
   ],
   "source": [
    "input()"
   ]
  },
  {
   "cell_type": "code",
   "execution_count": 26,
   "metadata": {},
   "outputs": [
    {
     "name": "stdout",
     "output_type": "stream",
     "text": [
      "3\n",
      "2\n"
     ]
    }
   ],
   "source": [
    "num1 = input('숫자를 입력하세요 : ')\n",
    "#num2 = input(\"두번째 숫자를 입력하세요 : \")\n",
    "print(int(num1) + 1)\n",
    "# print(num1 = 2 ) # 디폴트 인자를 쓴것으로 이해함. 그딴 인자 없음 오류\n",
    "print(num1)"
   ]
  },
  {
   "cell_type": "code",
   "execution_count": 28,
   "metadata": {},
   "outputs": [
    {
     "data": {
      "text/plain": [
       "10"
      ]
     },
     "execution_count": 28,
     "metadata": {},
     "output_type": "execute_result"
    }
   ],
   "source": [
    "4 + int(input('숫자를 입력하세요 : '))"
   ]
  },
  {
   "cell_type": "code",
   "execution_count": 38,
   "metadata": {},
   "outputs": [
    {
     "name": "stdout",
     "output_type": "stream",
     "text": [
      "o\n",
      "ello\n",
      "he\n",
      "hlo\n",
      "2148619341296\n",
      "140721244182664\n",
      "140721244182496\n",
      "ll\n",
      "ello\n",
      "hell\n",
      "5\n"
     ]
    }
   ],
   "source": [
    "# index 목차 순서 색인\n",
    "print('hello'[-1])\n",
    "print('hello'[1:])\n",
    "print('hello'[:-3]) # 슬라이싱 slicing\n",
    "print('hello'[0::2])\n",
    "hi = 'hello'\n",
    "print(id(hi))\n",
    "print(id(hi[0]))\n",
    "print(id(hi[1]))\n",
    "print('hello'[2:4])\n",
    "print('hello'[1:])\n",
    "print('hello'[:-1])\n",
    "print(len(hi))"
   ]
  }
 ],
 "metadata": {
  "kernelspec": {
   "display_name": "Python 3",
   "language": "python",
   "name": "python3"
  },
  "language_info": {
   "codemirror_mode": {
    "name": "ipython",
    "version": 3
   },
   "file_extension": ".py",
   "mimetype": "text/x-python",
   "name": "python",
   "nbconvert_exporter": "python",
   "pygments_lexer": "ipython3",
   "version": "3.11.5"
  }
 },
 "nbformat": 4,
 "nbformat_minor": 2
}
