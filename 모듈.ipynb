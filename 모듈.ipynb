{
 "cells": [
  {
   "cell_type": "code",
   "execution_count": 6,
   "metadata": {},
   "outputs": [
    {
     "name": "stdout",
     "output_type": "stream",
     "text": [
      "테스트 모듈이 실행 되었다\n"
     ]
    }
   ],
   "source": [
    "'''\n",
    "모듈은 .py로 된 파일이고 함수 또는 클래스가 들어있다.\n",
    "import 모듈명    <- 모듈명.맴버 로 접근\n",
    "from 모듈명 import 함수명,클래스명    <- 함수명() 또는 클래스명()\n",
    "import 모듈명 as 별명      <- 별명.맴버\n",
    "from 모듈명 import *        <- 모듈안에 들어있는 모든걸 직접 호출 가능\n",
    "'''\n",
    "\n",
    "\n",
    "'''\n",
    "패키지 구성\n",
    "\n",
    "폴더\n",
    "    -모듈1.py\n",
    "    -모듈2.py\n",
    "    -__init__.py           <=  __all__ = ['모듈명', ...]             : 포함해야 from 모듈명 import * 구문이 가능함\n",
    "\n",
    "'''\n",
    "\n",
    "\n",
    "'''\n",
    "\n",
    "모듈 직접 실행\n",
    "\n",
    "if __name__ == '__main__' :\n",
    "    실행구문\n",
    "\n",
    "'''\n",
    "\n",
    "class test_module :\n",
    "    def run(self):              ### <- self 빼먹지마라 ㅋㅋㅋㅋㅋㅋㅋㅋㅋㅋㅋㅋㅋㅋㅋㅋ\n",
    "        print('테스트 모듈이 실행 되었다')\n",
    "\n",
    "if __name__ == '__main__' :     # 과연 이걸 쓸까??? 아 실행파일 ㅋ\n",
    "    test_module().run()\n",
    "else :        # 외부에서 호출 되었을때\n",
    "    print('너 누군데 내꺼 갖다 쓰는거냐?? ㅋ')"
   ]
  }
 ],
 "metadata": {
  "kernelspec": {
   "display_name": "Python 3",
   "language": "python",
   "name": "python3"
  },
  "language_info": {
   "codemirror_mode": {
    "name": "ipython",
    "version": 3
   },
   "file_extension": ".py",
   "mimetype": "text/x-python",
   "name": "python",
   "nbconvert_exporter": "python",
   "pygments_lexer": "ipython3",
   "version": "3.10.13"
  }
 },
 "nbformat": 4,
 "nbformat_minor": 2
}
