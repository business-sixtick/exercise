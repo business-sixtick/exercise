{
 "cells": [
  {
   "cell_type": "code",
   "execution_count": 14,
   "metadata": {},
   "outputs": [
    {
     "name": "stdout",
     "output_type": "stream",
     "text": [
      "https://finance.naver.com/marketindex/exchangeDetail.naver?marketindexCd=FX_USDKRW\n",
      "<class 'bs4.BeautifulSoup'>\n",
      " change_icon\n",
      "<span class=\"ico down\"></span>\n",
      "미국 USD 실시간 환율 1,379.40원 ｜ 전일대비 ▼ 2.60(-0.19%)\n",
      "https://finance.naver.com/marketindex/exchangeDetail.naver?marketindexCd=FX_HKDKRW\n",
      "<class 'bs4.BeautifulSoup'>\n",
      " change_icon\n",
      "<span class=\"ico down\"></span>\n",
      "홍콩 HKD 실시간 환율 176.64원 ｜ 전일대비 ▼ 0.32(-0.18%)\n",
      "https://finance.naver.com/marketindex/exchangeDetail.naver?marketindexCd=FX_THBKRW\n",
      "<class 'bs4.BeautifulSoup'>\n",
      " change_icon\n",
      "<span class=\"ico down\"></span>\n",
      "태국 THB 실시간 환율 37.68원 ｜ 전일대비 ▼ 0.07(-0.19%)\n",
      "https://finance.naver.com/marketindex/exchangeDetail.naver?marketindexCd=FX_JPYKRW\n",
      "<class 'bs4.BeautifulSoup'>\n",
      " change_icon\n",
      "<span class=\"ico down\"></span>\n",
      "일본 JPY 실시간 환율 856.96원 ｜ 전일대비 ▼ 0.07(-0.01%)\n"
     ]
    }
   ],
   "source": [
    "import requests\n",
    "from bs4 import BeautifulSoup\n",
    "# Mozilla/5.0 (Windows NT 10.0; Win64; x64) AppleWebKit/537.36 (KHTML, like Gecko) Chrome/124.0.0.0 Whale/3.26.244.21 Safari/537.36\n",
    "# headers = {'User-Agent':'Mozilla/5.0 (Windows NT 10.0; Win64; x64) AppleWebKit/537.36 (KHTML, like Gecko) Chrome/126.0.0.0 Safari/537.36'}\n",
    "headers = {'User-Agent' : 'Mozilla/5.0 (Windows NT 10.0; Win64; x64) AppleWebKit/537.36 (KHTML, like Gecko) Chrome/124.0.0.0 Whale/3.26.244.21 Safari/537.36'}\n",
    "\n",
    "# 개별 통화 환율 정보 가져오는 함수 만들기\n",
    "def get_exchange_rate(currency_code):\n",
    "    url = 'https://finance.naver.com/marketindex/exchangeDetail.naver?marketindexCd=FX_' + currency_code + 'KRW'\n",
    "    # 웹페이지 요청 및 HTML 내용 가져오기\n",
    "    response = requests.get(url, headers=headers) \n",
    "    print(url)\n",
    "    html_content = response.text\n",
    "    # Beautiful Soup을 사용하여 HTML 내용 파싱\n",
    "    soup = BeautifulSoup(html_content, 'html.parser')\n",
    "    print(type(soup))\n",
    "    # 국가명 추출 및 공백 제거\n",
    "    country = soup.find('h2').get_text().replace(' ', '')\n",
    "    # 환율 정보 추출 및 줄바꿈 문자 제거\n",
    "    rate_info = soup.find('p', class_='no_today').get_text().replace('\\n', '')\n",
    "    # 환율 변동 아이콘 찾기\n",
    "    change_icon = soup.find('span', class_='ico')\n",
    "    print(' change_icon')\n",
    "    print(change_icon)\n",
    "    # if문으로 전일 대비 환율 변동 기호 확인하기\n",
    "    if change_icon:\n",
    "        if 'up' in change_icon['class']:\n",
    "            change_sign = '▲' # 환율이 상승했을 때\n",
    "        elif 'down' in change_icon['class']:\n",
    "            change_sign = '▼' # 환율이 하락했을 때\n",
    "        elif 'same' in change_icon['class']:\n",
    "            change_sign = '' # 환율이 변동 없을 때\n",
    "    # 전일 대비 정보 추출 및 문자열 정리\n",
    "    exday_info = soup.find('p', class_='no_exday').get_text().replace('\\n', '').replace('전일대비', '')\n",
    "    # 결과 출력\n",
    "    print(country, currency_code, \"실시간 환율\", rate_info, '｜ 전일대비', change_sign, exday_info)\n",
    "    # USD, HKD, THB 환율 확인하기\n",
    "    \n",
    "    \n",
    "get_exchange_rate('USD')\n",
    "get_exchange_rate('HKD')\n",
    "get_exchange_rate('THB')\n",
    "get_exchange_rate('JPY')\n"
   ]
  }
 ],
 "metadata": {
  "kernelspec": {
   "display_name": "Python 3",
   "language": "python",
   "name": "python3"
  },
  "language_info": {
   "codemirror_mode": {
    "name": "ipython",
    "version": 3
   },
   "file_extension": ".py",
   "mimetype": "text/x-python",
   "name": "python",
   "nbconvert_exporter": "python",
   "pygments_lexer": "ipython3",
   "version": "3.12.4"
  }
 },
 "nbformat": 4,
 "nbformat_minor": 2
}
