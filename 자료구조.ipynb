{
 "cells": [
  {
   "cell_type": "code",
   "execution_count": 28,
   "metadata": {},
   "outputs": [
    {
     "name": "stdout",
     "output_type": "stream",
     "text": [
      "<class 'list'>\n",
      "<class 'list'>\n",
      "<class 'list'>\n",
      "[10, 20, 30]\n",
      "10 20 30\n",
      "1\n",
      "count :  2\n",
      "[10, 20, 30, 40, 40, 50]\n",
      "sort :  None\n",
      "[50, 40, 40, 30, 20, 10]\n",
      "sorted :  [10, 20, 30, 40, 40, 50]\n",
      "reverse :  None\n",
      "[10, 20, 30, 40, 40, 50]\n",
      "50\n",
      "[10, 20, 30, 40, 40]\n",
      "20\n",
      "[10, 30, 40, 40]\n",
      "[]\n",
      "list1 + list2 :  [1, 2, 3, 4, 5, 6, 7, 8, 9, 10]\n",
      "[1, 2, 3, 4, 5, [6, 7, 8, 9, 10]]\n",
      "None [1, 2, 3, 4, 5, [6, 7, 8, 9, 10], 6, 7, 8, 9, 10]\n"
     ]
    }
   ],
   "source": [
    "# 리스트, 딕셔너리, 튜플, 세트\n",
    "\n",
    "#리스트\n",
    "subway1 = 10\n",
    "subway2 = 20\n",
    "subwqy3 = 30\n",
    "\n",
    "subway = []\n",
    "print(type(subway))\n",
    "subway = list()\n",
    "print(type(subway))\n",
    "subway = [10, 20, 30]\n",
    "print(type(subway))\n",
    "print(subway)\n",
    "print(subway[0], subway[1], subway[2])\n",
    "print(subway.index(20)) # 해당 항목의 위치를 반환\n",
    "subway.append(40) # 맨 뒤에 추가\n",
    "subway.insert(len(subway), 50) # 지정 위치에 삽입\n",
    "subway.append(40)\n",
    "print('count : ', subway.count(40)) #해당 요소 개수\n",
    "subway.sort() # 오름차순 정렬 subway.sort(reverse=True) 역순\n",
    "print(subway)\n",
    "print('sort : ', subway.sort(reverse=True))\n",
    "print(subway)\n",
    "print('sorted : ', sorted(subway) ) # 복사본 정렬\n",
    "print('reverse : ', subway.reverse()) # 뒤집기\n",
    "print(subway)\n",
    "print(subway.pop()) #디폴트 맨뒤에꺼 꺼냄. 꺼내면 지워짐\n",
    "print(subway)\n",
    "print(subway.pop(1)) # 인덱스 지정할 수 있음\n",
    "print(subway)\n",
    "subway.clear() ## 전체 지움.\n",
    "print(subway)\n",
    "# 스택 , 큐 따로 구분없이 다됨 ㅋㅋㅋㅋㅋ\n",
    "list1 = [1, 2, 3, 4, 5]\n",
    "list2 = [6, 7, 8, 9, 10]\n",
    "print('list1 + list2 : ', list1 + list2)\n",
    "list1.append(list2)\n",
    "print(list1)\n",
    "print(list1.extend(list2), list1) # extend는 + 연산과 같음\n",
    "\n"
   ]
  },
  {
   "cell_type": "code",
   "execution_count": 54,
   "metadata": {},
   "outputs": [
    {
     "name": "stdout",
     "output_type": "stream",
     "text": [
      "{1: '일', 2: '이', 3: '삼'}\n",
      "일 일\n",
      "dict_keys([1, 2, 3]) dict_values(['일', '이', '삼'])\n",
      "False\n",
      "default\n",
      "삼\n",
      "True False\n",
      "{1: '일', 2: '이', 3: '삼', 4: '사', 6: '육', 7: '칠', 8: '팔', 9: '구', 5: '오'}\n",
      "dict_items([(1, '일'), (2, '이'), (3, '삼'), (4, '사'), (6, '육'), (7, '칠'), (8, '팔'), (9, '구'), (5, '오')])\n",
      "[9, 4, 3, 5, 6, 2, 1, 7, 8]\n",
      "구\n",
      "사\n",
      "삼\n",
      "오\n",
      "육\n",
      "이\n",
      "일\n",
      "칠\n",
      "팔\n"
     ]
    }
   ],
   "source": [
    "# 딕셔너리 []대괄호 {}중괄호 <>꺽쇠 ()소괄호\n",
    "dic = {}\n",
    "dic = {1 : '일', 2 : '이', 3 : '삼'}\n",
    "print(dic)\n",
    "print(dic[1], dic.get(1))\n",
    "print(dic.keys(), dic.values())\n",
    "print(5 in dic.keys()) # 키 검색\n",
    "print(dic.get(5, 'default')) # get으로 접근시 해당 키가 없어도 오류가 나지 않고 None 반환함 dic[5]로 접근시 에러 남\n",
    "print(dic.get(3, 'default')) # print(dic.get(3, default = 'default')) 인자 순서대로 넣으면 변수 지정 하지 않아도 됨\n",
    "print(3 in dic, '삼' in dic) # 포함 체크는 키만 해당됨.\n",
    "dic.update({4 : '사', 6 : '육', 7 : '칠', 8 : '팔', 9 : '구'})\n",
    "dic[5] = '오'\n",
    "print(dic)\n",
    "print(dic.items()) # 키와 값을 튜플 리스트로 반환한다. \n",
    "print(sorted(dic, key = lambda x : dic[x])) # 값 기준으로 정렬된 키 반환\n",
    "for i in sorted(dic, key = lambda x : dic[x]) : \n",
    "    print(dic.get(i))\n"
   ]
  },
  {
   "cell_type": "code",
   "execution_count": 56,
   "metadata": {},
   "outputs": [
    {
     "name": "stdout",
     "output_type": "stream",
     "text": [
      "1 2\n",
      "2 1\n"
     ]
    }
   ],
   "source": [
    "# 튜플\n",
    "# 튜플은 리스트와 같지만 요소 변경이 되지 않는다. \n",
    "swap1 = 1\n",
    "swap2 = 2\n",
    "print(swap1, swap2)\n",
    "(swap1, swap2) = (swap2, swap1)\n",
    "print(swap1, swap2)"
   ]
  },
  {
   "cell_type": "code",
   "execution_count": 73,
   "metadata": {},
   "outputs": [
    {
     "name": "stdout",
     "output_type": "stream",
     "text": [
      "<class 'dict'>\n",
      "{1, 2, 3}\n",
      "<class 'set'>\n",
      "<class 'set'>\n",
      "{1, 2, 3, 4}\n",
      "{1, 2}\n",
      "{1, 2, 3, 4, 6, 7, 8}\n",
      "{3, 4}\n",
      "{3, 4, 6, 7, 8}\n"
     ]
    }
   ],
   "source": [
    "# 세트 : 기본적으로 딕셔너리와 같지만 키를 포함하지 않는다 . 집합과 같은 형태를 띈다. 요소의 순서가 없다. \n",
    "set1 = {}\n",
    "print(type(set1))\n",
    "set1 = set({1, 2, 3, 3})\n",
    "print(set1)\n",
    "print(type(set1))\n",
    "set1= {1,2}\n",
    "print(type(set1))\n",
    "set1 = set([1, 2, 3, 4]) # 생성자로 초기화 할때에는 리스트로 넣어준다. 셋트 형태도 되네\n",
    "set2 = {1, 2, 6, 7}\n",
    "set2.add(8) #추가\n",
    "set2.add(9)\n",
    "set2.remove(9)\n",
    "set2.discard(10) # 없어도 오류를 내지 않고 삭제한다. 버리다. 폐기하다\n",
    "print(set1)\n",
    "print(set1 & set2) #  교집합을 나타냄 intersection\n",
    "print(set1 | set2) # 합집합 union\n",
    "print(set1 - set2) # a 차집합 difference\n",
    "print(set1 ^ set2) # 대칭 차집합?? 교집합을 뺀 것"
   ]
  },
  {
   "cell_type": "code",
   "execution_count": null,
   "metadata": {},
   "outputs": [],
   "source": []
  }
 ],
 "metadata": {
  "kernelspec": {
   "display_name": "Python 3",
   "language": "python",
   "name": "python3"
  },
  "language_info": {
   "codemirror_mode": {
    "name": "ipython",
    "version": 3
   },
   "file_extension": ".py",
   "mimetype": "text/x-python",
   "name": "python",
   "nbconvert_exporter": "python",
   "pygments_lexer": "ipython3",
   "version": "3.12.4"
  }
 },
 "nbformat": 4,
 "nbformat_minor": 2
}
