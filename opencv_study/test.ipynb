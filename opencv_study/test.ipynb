{
 "cells": [
  {
   "cell_type": "code",
   "execution_count": null,
   "metadata": {},
   "outputs": [],
   "source": [
    "# open cv"
   ]
  },
  {
   "cell_type": "code",
   "execution_count": 2,
   "metadata": {},
   "outputs": [],
   "source": [
    "import cv2 as cv\n",
    "import numpy as np"
   ]
  },
  {
   "cell_type": "code",
   "execution_count": 10,
   "metadata": {},
   "outputs": [],
   "source": [
    "img = cv.imread(r'C:\\source\\exercise\\image\\강사 윤기원.png', flags=cv.IMREAD_GRAYSCALE)\n",
    "\n",
    "#cv.imwrite('경로', img)  #저장\n",
    "image_color_mapped = cv.applyColorMap(img, cv.COLORMAP_JET)\n",
    "# 이미지가 제대로 읽혔는지 확인\n",
    "if img is None:\n",
    "    print(\"이미지를 읽을 수 없습니다.\")\n",
    "else:\n",
    "    # 이미지 창 생성\n",
    "    cv.imshow('강사 윤기원', image_color_mapped)\n",
    "\n",
    "    # 키 입력 대기\n",
    "    cv.waitKey(60000)\n",
    "\n",
    "    # 모든 창 닫기\n",
    "    cv.destroyAllWindows()\n"
   ]
  },
  {
   "cell_type": "code",
   "execution_count": 2,
   "metadata": {},
   "outputs": [],
   "source": [
    "import cv2 as cv\n",
    "import sys"
   ]
  },
  {
   "cell_type": "code",
   "execution_count": 4,
   "metadata": {},
   "outputs": [
    {
     "name": "stdout",
     "output_type": "stream",
     "text": [
      "Original Size: (554, 349, 3)\n",
      "Resized Size: (277, 174, 3)\n"
     ]
    }
   ],
   "source": [
    "import cv2 as cv\n",
    "\n",
    "# 이미지 파일 경로\n",
    "image_path = r'C:\\source\\exercise\\image\\강사 윤기원.png'  # 이미지 파일 경로를 입력하세요\n",
    "\n",
    "# 이미지 불러오기\n",
    "image = cv.imread(image_path)\n",
    "# 그레이스케일로 변환\n",
    "gray_image = cv.cvtColor(image, cv.COLOR_BGR2GRAY)\n",
    "# 이미지 크기 출력 (원본 크기)\n",
    "print(\"Original Size:\", image.shape)\n",
    "\n",
    "# 축소할 비율 (0.5는 50% 크기로 축소)\n",
    "scale_percent = 50  # 축소 비율 (%) \n",
    "\n",
    "# 현재 이미지 크기\n",
    "width = int(image.shape[1] * scale_percent / 100)\n",
    "height = int(image.shape[0] * scale_percent / 100)\n",
    "dim = (width, height)\n",
    "\n",
    "# 이미지 축소\n",
    "resized_image = cv.resize(image, dim, interpolation=cv.INTER_AREA)\n",
    "\n",
    "# 축소된 이미지 크기 출력\n",
    "print(\"Resized Size:\", resized_image.shape)\n",
    "\n",
    "# 원본 이미지 표시\n",
    "cv.imshow('Original Image', image)\n",
    "\n",
    "# 축소된 이미지 표시\n",
    "cv.imshow('Resized Image', resized_image)\n",
    "\n",
    "cv.imshow('gray_image', gray_image)\n",
    "\n",
    "# 키 입력을 기다림 (무한정 대기)\n",
    "cv.waitKey(0)\n",
    "\n",
    "# 모든 OpenCV 창 닫기\n",
    "cv.destroyAllWindows()\n"
   ]
  },
  {
   "cell_type": "code",
   "execution_count": null,
   "metadata": {},
   "outputs": [],
   "source": [
    "# vu"
   ]
  }
 ],
 "metadata": {
  "kernelspec": {
   "display_name": "Python 3",
   "language": "python",
   "name": "python3"
  },
  "language_info": {
   "codemirror_mode": {
    "name": "ipython",
    "version": 3
   },
   "file_extension": ".py",
   "mimetype": "text/x-python",
   "name": "python",
   "nbconvert_exporter": "python",
   "pygments_lexer": "ipython3",
   "version": "3.7.9"
  }
 },
 "nbformat": 4,
 "nbformat_minor": 2
}
