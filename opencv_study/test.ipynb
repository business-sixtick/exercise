{
 "cells": [
  {
   "cell_type": "code",
   "execution_count": null,
   "metadata": {},
   "outputs": [],
   "source": [
    "# open cv"
   ]
  },
  {
   "cell_type": "code",
   "execution_count": 2,
   "metadata": {},
   "outputs": [],
   "source": [
    "import cv2 as cv\n",
    "import numpy as np"
   ]
  },
  {
   "cell_type": "code",
   "execution_count": 10,
   "metadata": {},
   "outputs": [],
   "source": [
    "img = cv.imread(r'C:\\source\\exercise\\image\\강사 윤기원.png', flags=cv.IMREAD_GRAYSCALE)\n",
    "\n",
    "#cv.imwrite('경로', img)  #저장\n",
    "image_color_mapped = cv.applyColorMap(img, cv.COLORMAP_JET)\n",
    "# 이미지가 제대로 읽혔는지 확인\n",
    "if img is None:\n",
    "    print(\"이미지를 읽을 수 없습니다.\")\n",
    "else:\n",
    "    # 이미지 창 생성\n",
    "    cv.imshow('강사 윤기원', image_color_mapped)\n",
    "\n",
    "    # 키 입력 대기\n",
    "    cv.waitKey(60000)\n",
    "\n",
    "    # 모든 창 닫기\n",
    "    cv.destroyAllWindows()\n"
   ]
  }
 ],
 "metadata": {
  "kernelspec": {
   "display_name": "Python 3",
   "language": "python",
   "name": "python3"
  },
  "language_info": {
   "codemirror_mode": {
    "name": "ipython",
    "version": 3
   },
   "file_extension": ".py",
   "mimetype": "text/x-python",
   "name": "python",
   "nbconvert_exporter": "python",
   "pygments_lexer": "ipython3",
   "version": "3.8.10"
  }
 },
 "nbformat": 4,
 "nbformat_minor": 2
}
