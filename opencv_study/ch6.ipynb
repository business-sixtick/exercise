{
 "cells": [
  {
   "cell_type": "code",
   "execution_count": 1,
   "metadata": {},
   "outputs": [
    {
     "name": "stderr",
     "output_type": "stream",
     "text": [
      "<>:4: SyntaxWarning: invalid escape sequence '\\s'\n",
      "<>:4: SyntaxWarning: invalid escape sequence '\\s'\n",
      "C:\\Users\\hungh\\AppData\\Local\\Temp\\ipykernel_15608\\622675189.py:4: SyntaxWarning: invalid escape sequence '\\s'\n",
      "  img = cv2.imread(\"C:\\source\\exercise\\opencv_study\\screenshot.png\")\n"
     ]
    }
   ],
   "source": [
    "import cv2, time\n",
    "import numpy as np\n",
    "\n",
    "img = cv2.imread(\"C:\\source\\exercise\\opencv_study\\screenshot.png\")\n",
    "\n",
    "\n",
    "# 색상 채널 나눠서 \n",
    "# 케니 엣지 적용 \n",
    "edges = cv2.Canny(img,100,200) \n",
    "\n",
    "# 결과 출력\n",
    "# cv2.imshow('Original', img)\n",
    "cv2.imshow('Canny', edges)\n",
    "cv2.waitKey(0)\n",
    "cv2.destroyAllWindows()\n"
   ]
  }
 ],
 "metadata": {
  "kernelspec": {
   "display_name": "Python 3",
   "language": "python",
   "name": "python3"
  },
  "language_info": {
   "codemirror_mode": {
    "name": "ipython",
    "version": 3
   },
   "file_extension": ".py",
   "mimetype": "text/x-python",
   "name": "python",
   "nbconvert_exporter": "python",
   "pygments_lexer": "ipython3",
   "version": "3.12.4"
  }
 },
 "nbformat": 4,
 "nbformat_minor": 2
}
