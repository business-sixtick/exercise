{
 "cells": [
  {
   "cell_type": "code",
   "execution_count": null,
   "metadata": {},
   "outputs": [],
   "source": [
    "# 챕터4 opencv 주요기능"
   ]
  },
  {
   "cell_type": "code",
   "execution_count": 1,
   "metadata": {},
   "outputs": [],
   "source": [
    "import cv2 as cv"
   ]
  },
  {
   "cell_type": "code",
   "execution_count": 2,
   "metadata": {},
   "outputs": [],
   "source": [
    "import mss\n",
    "import cv2 as cv\n",
    "import numpy as np\n",
    "\n",
    "# 특정 영역의 좌표와 크기 지정 (top, left, width, height)\n",
    "capture_region = {\"top\": 100, \"left\": 100, \"width\": 800, \"height\": 600}\n",
    "\n",
    "# 캡처된 이미지를 축소할 스케일 비율\n",
    "scale_factor = 0.5\n",
    "\n",
    "with mss.mss() as sct:\n",
    "    while True:\n",
    "        # 지정한 영역을 캡처\n",
    "        # cap = cv.VideoCapture(0) # 0 캠 연결시 또는 동영상파일 경로\n",
    "        # ret, img = cap.read()\n",
    "        screenshot = sct.grab(capture_region)\n",
    "        img = np.array(screenshot)\n",
    "\n",
    "        # OpenCV BGR로 변환 (필요한 경우)\n",
    "        img_bgr = cv.cvtColor(img, cv.COLOR_RGBA2BGR)\n",
    "\n",
    "        # 이미지 스케일링\n",
    "        scaled_img = cv.resize(img_bgr, (0, 0), fx=scale_factor, fy=scale_factor)\n",
    "\n",
    "        # 결과를 OpenCV 창으로 표시\n",
    "        cv.imshow('Scaled Capture', scaled_img)\n",
    "\n",
    "        # 'q' 키를 누르면 종료\n",
    "        if cv.waitKey(0) == ord('q'):\n",
    "            break\n",
    "\n",
    "cv.destroyAllWindows()\n"
   ]
  },
  {
   "cell_type": "code",
   "execution_count": 2,
   "metadata": {},
   "outputs": [
    {
     "name": "stdout",
     "output_type": "stream",
     "text": [
      "비디오 재생이 완료되었습니다.\n"
     ]
    }
   ],
   "source": [
    "import cv2 as cv\n",
    "\n",
    "# 비디오 파일 경로\n",
    "video_path = r'C:\\source\\exercise\\image\\walking.avi'\n",
    "\n",
    "# 비디오 캡처 객체 생성\n",
    "cap = cv.VideoCapture(video_path)\n",
    "\n",
    "# 비디오 파일이 열리지 않으면 오류 메시지 출력\n",
    "if not cap.isOpened():\n",
    "    print(\"비디오 파일을 열 수 없습니다.\")\n",
    "    exit()\n",
    "\n",
    "# 비디오를 재생\n",
    "while True:\n",
    "    ret, frame = cap.read()  # 프레임을 읽어옴\n",
    "\n",
    "    # 프레임을 읽을 수 없으면(예: 비디오가 끝난 경우) 루프 종료\n",
    "    if not ret:\n",
    "        print(\"비디오 재생이 완료되었습니다.\")\n",
    "        break\n",
    "\n",
    "    cv.imshow('Video Playback', frame)  # 프레임을 화면에 표시\n",
    "\n",
    "    # 'q' 키를 누르면 재생 종료\n",
    "    if cv.waitKey(25) == ord('q'): # 1000 / 25 = 40 frame\n",
    "        break\n",
    "\n",
    "# 캡처 객체와 창 닫기\n",
    "cap.release()\n",
    "cv.destroyAllWindows()\n"
   ]
  },
  {
   "cell_type": "code",
   "execution_count": 15,
   "metadata": {},
   "outputs": [],
   "source": [
    "import cv2 as cv\n",
    "import numpy as np\n",
    "img_path = 'C:\\source\\exercise\\image\\강사 윤기원.png'\n",
    "img = cv.imread(img_path, cv.IMREAD_GRAYSCALE)\n",
    "img.shape\n",
    "cv.line(img, (50,50), (150, 50), (255,0,0), cv.LINE_4) #좌상단 0,0  (B, G, R)\n",
    "cv.line(img, (50,50), (50, 150), (0,0,255), cv.LINE_AA) #좌상단 0,0  (B, G, R)\n",
    "cv.rectangle(img, (60,60), (150, 150), (0,0,255), thickness=2)\n",
    "cv.drawMarker(img, (20,20), color=(0,0,255), markerType=cv.MARKER_SQUARE, markerSize=20)\n",
    "cv.circle(img, (100,100), radius=20, thickness=1, color=(0,0,255)) # 원\n",
    "pts1 = np.array([[50,50],[150,150],[100,140],[150,200]])\n",
    "cv.polylines(img, [pts1], isClosed=False, color=(0,0,255))\n",
    "cv.putText(img, 'sixtick', (100,100),color=(0,0,255), fontFace=cv.FONT_HERSHEY_PLAIN, fontScale=1)\n",
    "win_name = 'test'\n",
    "cv.namedWindow(win_name, cv.WINDOW_NORMAL)\n",
    "cv.imshow(win_name, img)\n",
    "\n",
    "if cv.waitKey(0) == ord('q'): # 1000 / 25 = 40 frame\n",
    "    cv.destroyAllWindows()\n",
    "# help(cv.line)\n"
   ]
  },
  {
   "cell_type": "code",
   "execution_count": 5,
   "metadata": {},
   "outputs": [
    {
     "data": {
      "text/plain": [
       "25.0"
      ]
     },
     "execution_count": 5,
     "metadata": {},
     "output_type": "execute_result"
    }
   ],
   "source": [
    "1000 / 40"
   ]
  },
  {
   "cell_type": "code",
   "execution_count": 7,
   "metadata": {},
   "outputs": [],
   "source": [
    "import cv2 as cv\n",
    "import numpy as np\n",
    "\n",
    "# 빈 이미지 생성 (검정 배경)\n",
    "image = np.zeros((500, 500, 3), dtype=np.uint8)\n",
    "\n",
    "# 집 모양을 그리기 위한 선 그리기\n",
    "\n",
    "# 벽 부분 (사각형)\n",
    "cv.line(image, (100, 300), (400, 300), (255, 0, 0), 3)  # 바닥\n",
    "cv.line(image, (100, 300), (100, 100), (255, 0, 0), 3)  # 왼쪽 벽\n",
    "cv.line(image, (100, 100), (400, 100), (255, 0, 0), 3)  # 위쪽 벽\n",
    "cv.line(image, (400, 100), (400, 300), (255, 0, 0), 3)  # 오른쪽 벽\n",
    "\n",
    "# 지붕 부분 (삼각형)\n",
    "cv.line(image, (100, 100), (250, 50), (0, 255, 0), 3)  # 왼쪽 지붕\n",
    "cv.line(image, (250, 50), (400, 100), (0, 255, 0), 3)  # 오른쪽 지붕\n",
    "\n",
    "# 창문 (사각형)\n",
    "cv.line(image, (150, 200), (250, 200), (0, 0, 255), 2)  # 창문 상단\n",
    "cv.line(image, (150, 200), (150, 250), (0, 0, 255), 2)  # 창문 왼쪽\n",
    "cv.line(image, (250, 200), (250, 250), (0, 0, 255), 2)  # 창문 오른쪽\n",
    "cv.line(image, (150, 250), (250, 250), (0, 0, 255), 2)  # 창문 하단\n",
    "\n",
    "# 문 (사각형)\n",
    "cv.line(image, (300, 200), (350, 200), (0, 255, 255), 2)  # 문 상단\n",
    "cv.line(image, (300, 200), (300, 300), (0, 255, 255), 2)  # 문 왼쪽\n",
    "cv.line(image, (350, 200), (350, 300), (0, 255, 255), 2)  # 문 오른쪽\n",
    "cv.line(image, (300, 300), (350, 300), (0, 255, 255), 2)  # 문 하단\n",
    "\n",
    "# 이미지 표시\n",
    "cv.imshow('House Drawing', image)\n",
    "cv.waitKey(0)\n",
    "cv.destroyAllWindows()\n"
   ]
  }
 ],
 "metadata": {
  "kernelspec": {
   "display_name": "Python 3",
   "language": "python",
   "name": "python3"
  },
  "language_info": {
   "codemirror_mode": {
    "name": "ipython",
    "version": 3
   },
   "file_extension": ".py",
   "mimetype": "text/x-python",
   "name": "python",
   "nbconvert_exporter": "python",
   "pygments_lexer": "ipython3",
   "version": "3.12.4"
  }
 },
 "nbformat": 4,
 "nbformat_minor": 2
}
