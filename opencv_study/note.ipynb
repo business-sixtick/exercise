{
 "cells": [
  {
   "cell_type": "code",
   "execution_count": null,
   "metadata": {},
   "outputs": [],
   "source": [
    "# open cv \n",
    "# 비주얼 서보잉 : 시각정보에 따른 동작 제어\n",
    "# 인간은 착시가 있다. 시야가 한정되어있음. 피로해지고 퇴화함.\n",
    "# 페셉트론 : 로젠블랫이 딥러닝의 시초\n",
    "# 1.0 공개 2016\n",
    "# pip install opencv-python\n",
    "# pip install mss  # 화면캡처 라이브러리\n",
    "# 평활화 : 흐린 이미지를 선명하게 \n",
    "# RGB 채널별로 디스플레이 : 각 채널을 강조"
   ]
  },
  {
   "cell_type": "code",
   "execution_count": 1,
   "metadata": {},
   "outputs": [],
   "source": [
    "import cv2 as cv\n",
    "import numpy as np\n",
    "img = cv.imread('C:\\source\\exercise\\image\\강사 윤기원.png')\n",
    "# img = cv.imread(img_path, cv.IMREAD_GRAYSCALE) # 그레이스케일"
   ]
  },
  {
   "cell_type": "code",
   "execution_count": null,
   "metadata": {},
   "outputs": [],
   "source": [
    "# 문자열 출력하기\n",
    "cv.putText(img, 'sixtick', (100,100),color=(0,0,255), fontFace=cv.FONT_HERSHEY_PLAIN, fontScale=1)"
   ]
  },
  {
   "cell_type": "code",
   "execution_count": null,
   "metadata": {},
   "outputs": [],
   "source": [
    "# 도형그리기\n",
    "cv.line(img, (0,0), (100,100), color=(0,0,255), thickness=1) # 선 BGR\n",
    "cv.drawMarker(img, (20,20), color=(0,0,255), markerType=cv.MARKER_SQUARE, markerSize=20) # 마커 사각형\n",
    "cv.rectangle(img, (0,0), (100,100), color=(0,0,255), thickness=1) # 사각형\n",
    "cv.circle(img, (100,100), radius=20, thickness=1, color=(0,0,255)) # 원 cv.ellipse() 타원\n",
    "pts1 = np.array([[50,50],[150,150],[100,140],[150,200]])\n",
    "cv.polylines(img, [pts1], isClosed=False, color=(0,0,255)) # 다각형 "
   ]
  },
  {
   "cell_type": "code",
   "execution_count": null,
   "metadata": {},
   "outputs": [],
   "source": [
    "win_name = 'test'\n",
    "cv.namedWindow(win_name, cv.WINDOW_NORMAL) # WINDOW_NORMAL 창크기조절가능\n",
    "cv.imshow(win_name, img)\n",
    "cv.waitKey(0)\n",
    "cv.destroyAllWindows()"
   ]
  }
 ],
 "metadata": {
  "kernelspec": {
   "display_name": "Python 3",
   "language": "python",
   "name": "python3"
  },
  "language_info": {
   "codemirror_mode": {
    "name": "ipython",
    "version": 3
   },
   "file_extension": ".py",
   "mimetype": "text/x-python",
   "name": "python",
   "nbconvert_exporter": "python",
   "pygments_lexer": "ipython3",
   "version": "3.8.10"
  }
 },
 "nbformat": 4,
 "nbformat_minor": 2
}
