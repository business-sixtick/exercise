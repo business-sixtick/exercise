{
 "cells": [
  {
   "cell_type": "code",
   "execution_count": null,
   "metadata": {},
   "outputs": [],
   "source": [
    "# open cv \n",
    "# 비주얼 서보잉 : 시각정보에 따른 동작 제어\n",
    "# 인간은 착시가 있다. 시야가 한정되어있음. 피로해지고 퇴화함.\n",
    "# 페셉트론 : 로젠블랫이 딥러닝의 시초\n",
    "# 1.0 공개 2016"
   ]
  }
 ],
 "metadata": {
  "language_info": {
   "name": "python"
  }
 },
 "nbformat": 4,
 "nbformat_minor": 2
}
