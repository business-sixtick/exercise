{
 "cells": [
  {
   "cell_type": "code",
   "execution_count": null,
   "metadata": {},
   "outputs": [],
   "source": [
    "' 메시지 안넣었다고 커밋이 안되는거냐?'\n",
    "'다시 수정 테스트'\n",
    "'다시 메시지를 넣음과 동시에 커밋?? 컨트롤 + 엔터키'"
   ]
  },
  {
   "cell_type": "code",
   "execution_count": null,
   "metadata": {},
   "outputs": [],
   "source": [
    "import platform\n",
    "print('python version : ', platform.architecture())\n",
    "# 가상환경 만들기 (사이트 별로 개발환경을 쉽게 변경 할 수 있다. 64비트에서32비트로 등등 )\n",
    "# 쉘에서 python -m venv venv64\n",
    "# 맨뒤의 venv64의 폴더가 생김\n",
    "# pyvenv.cfg 파일 수정 해줘야함. 파일 경로 등등\n",
    "# venv64/Scripts/activate 실행 (파워쉘에서 보안걸림. 그냥 커맨드창에서 실행)\n",
    "# 나오는건 deactivate"
   ]
  },
  {
   "cell_type": "code",
   "execution_count": null,
   "metadata": {},
   "outputs": [],
   "source": [
    "'''\n",
    "aiot 를 이용한 빅데이터 분석 산업솔루션 개발 취업연계 부트캠프\n",
    "빅데이터 분석을 필요로 하는 산업솔루션 (이미지, 지도, DB, ) + 스마트 수직 도시농업\n",
    "우선 내꺼 차트 분석 먼저 할거야. 우선 수업속도가 빠르니까 수업먼저 챙기고 남는시간에 해야겠다.\n",
    "'''"
   ]
  },
  {
   "cell_type": "code",
   "execution_count": null,
   "metadata": {},
   "outputs": [],
   "source": [
    "'깃 허브 연결하고 시간마다 쪽지시험 제출 . 1주일동안했는데 못쫓아 오면 버림'\n",
    "'퀴즈 어플?? '\n"
   ]
  },
  {
   "cell_type": "code",
   "execution_count": 2,
   "metadata": {},
   "outputs": [
    {
     "name": "stdout",
     "output_type": "stream",
     "text": [
      "웹에서 하면 무슨 이점이 있을까?? 아 태블릿에서 할수가 있구나 ㄷㄷㄷ \n",
      "(0, 91)\n",
      "(1, 82)\n",
      "(2, 78)\n",
      "(3, 64)\n",
      "(4, 80)\n"
     ]
    }
   ],
   "source": [
    "print('웹에서 하면 무슨 이점이 있을까?? 아 태블릿에서 할수가 있구나 ㄷㄷㄷ ')\n",
    "import random\n",
    "test_dic = {key : value for key, value in enumerate(random.sample(range(60,100), 5)) }\n",
    "for i in test_dic.items() : # 튜플 형태로 주는구나\n",
    "    print(i)\n",
    "# @tag:jupyterVariableViewers\n"
   ]
  },
  {
   "cell_type": "code",
   "execution_count": 1,
   "metadata": {},
   "outputs": [
    {
     "data": {
      "text/plain": [
       "0"
      ]
     },
     "execution_count": 1,
     "metadata": {},
     "output_type": "execute_result"
    }
   ],
   "source": [
    "# 233\n",
    "#    192 224 240\n",
    "# 128 64 32 16 8 4 2 1\n",
    "#  1  1  1  0  1 0 0 1\n",
    "#    3      5     1\n",
    "# octal 8진수\n",
    "# hexadecimal 16진수       \n",
    "-0b101 + 0b101"
   ]
  }
 ],
 "metadata": {
  "kernelspec": {
   "display_name": "Python 3",
   "language": "python",
   "name": "python3"
  },
  "language_info": {
   "codemirror_mode": {
    "name": "ipython",
    "version": 3
   },
   "file_extension": ".py",
   "mimetype": "text/x-python",
   "name": "python",
   "nbconvert_exporter": "python",
   "pygments_lexer": "ipython3",
   "version": "3.11.5"
  }
 },
 "nbformat": 4,
 "nbformat_minor": 2
}
