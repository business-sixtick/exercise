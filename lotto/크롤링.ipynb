{
 "cells": [
  {
   "cell_type": "code",
   "execution_count": null,
   "metadata": {},
   "outputs": [],
   "source": []
  },
  {
   "cell_type": "code",
   "execution_count": 21,
   "metadata": {},
   "outputs": [],
   "source": [
    "# from sqlalchemy.ext.declarative import declarative_base\n",
    "from sqlalchemy.orm import declarative_base\n",
    "from sqlalchemy import create_engine, Column, Integer, Date\n",
    "Base = declarative_base()\n",
    "# 모델 정의\n",
    "class Lotto(Base):\n",
    "    __tablename__ = 'lotto'\n",
    "    turn = Column(Integer, primary_key=True) # 회차\n",
    "    date = Column(Date) # 추첨일\n",
    "    grade1count = Column(Integer) # 1등 당첨자수\n",
    "    grade1money = Column(Integer) # 1등 당첨금액\n",
    "    grade2count = Column(Integer)\n",
    "    grade2money = Column(Integer)\n",
    "    grade3count = Column(Integer)\n",
    "    grade3money = Column(Integer)\n",
    "    grade4count = Column(Integer)\n",
    "    grade4money = Column(Integer)\n",
    "    grade5count = Column(Integer) # 5등\n",
    "    grade5money = Column(Integer) # 5등\n",
    "    win1 = Column(Integer) # 당첨번호 첫번째\n",
    "    win2 = Column(Integer) # 당첨번호 두번째\n",
    "    win3 = Column(Integer) # 당첨번호 세번째\n",
    "    win4 = Column(Integer) # 당첨번호 네번째\n",
    "    win5 = Column(Integer) # 당첨번호 다섯번째\n",
    "    win6 = Column(Integer) # 당첨번호 여섯번째\n",
    "    winb = Column(Integer) # 당첨번호 보너스"
   ]
  },
  {
   "cell_type": "code",
   "execution_count": 32,
   "metadata": {},
   "outputs": [
    {
     "name": "stdout",
     "output_type": "stream",
     "text": [
      "date :  2024년 09월 07일 추첨\n",
      "['2024년', '09월', '07일', '추첨']\n",
      "0 12\n",
      "0 2,314,468,157원\n",
      "1 75\n",
      "1 61,719,151원\n",
      "2 2,906\n",
      "2 1,592,890원\n",
      "3 144,451\n",
      "3 50,000원\n",
      "4 2,452,383\n",
      "4 5,000원\n",
      "turn 1136     date 2024-09-07     grade1count 12     grade1money 2314468157     grade2count 75     grade2money 61719151     grade3count 2906     grade3money 1592890     grade4count 144451     grade4money 50000     grade5count 2452383     grade5money 5000     win1 = 21     win2 = 33     win3 = 35     win4 = 38     win5 = 42     win6 = 44     winb = 1\n"
     ]
    },
    {
     "data": {
      "text/plain": [
       "[1136, 21, 33, 35, 38, 42, 44, 1]"
      ]
     },
     "execution_count": 32,
     "metadata": {},
     "output_type": "execute_result"
    }
   ],
   "source": [
    "import requests #pip install requests\n",
    "from bs4 import BeautifulSoup # pip install beautifulsoup4\n",
    "from bs4 import NavigableString\n",
    "import datetime\n",
    "# 신규 당첨 크롤링\n",
    "def newWinCrawling():\n",
    "    headers = {'User-Agent' : 'Mozilla/5.0 (Windows NT 10.0; Win64; x64) AppleWebKit/537.36 (KHTML, like Gecko) Chrome/124.0.0.0 Whale/3.26.244.21 Safari/537.36'}\n",
    "    url = 'https://www.dhlottery.co.kr/gameResult.do?method=byWin'\n",
    "    response = requests.get(url, headers=headers) \n",
    "    html_content = response.text\n",
    "    # Beautiful Soup을 사용하여 HTML 내용 파싱\n",
    "    soup = BeautifulSoup(html_content, 'html.parser')\n",
    "    \n",
    "    new_win = Lotto()\n",
    "    \n",
    "    turn = soup.find('div', class_=\"win_result\").find('h4').find('strong').get_text() #회차\n",
    "    turn = int(turn.replace('회', '').strip())\n",
    "    new_win.turn = int(turn)\n",
    "\n",
    "    date = soup.find('p', class_='desc')\n",
    "    print('date : ', date.get_text().replace('(','').replace(')', ''))\n",
    "    date_arr = date.get_text().replace('(','').replace(')', '').split()\n",
    "    print(date_arr)\n",
    "    new_win.date = datetime.date(int(date_arr[0].replace('년', '')), int(date_arr[1].replace('월', '')), int(date_arr[2].replace('일', '')))\n",
    "\n",
    "    win_num_span = soup.find('div', class_=\"win_result\").find('span')\n",
    "    bonus = int(soup.find('div', class_=\"num bonus\").find('span').get_text())\n",
    "    new_win.winb = int(bonus)\n",
    "    \n",
    "    win_list = []\n",
    "    while len(win_list) < 6 :\n",
    "        if win_num_span :\n",
    "            win_list.append(int(win_num_span.get_text()))\n",
    "        else : \n",
    "            break\n",
    "        win_num_span = win_num_span.find_next_sibling()\n",
    "    new_win.win1 = win_list[0]\n",
    "    new_win.win2 = win_list[1]\n",
    "    new_win.win3 = win_list[2]\n",
    "    new_win.win4 = win_list[3]\n",
    "    new_win.win5 = win_list[4]\n",
    "    new_win.win6 = win_list[5]\n",
    "    win_list.insert(0, turn)\n",
    "    win_list.append(bonus)\n",
    "\n",
    "    # ret = soup.find('tbody').find('tr')\n",
    "    count_arr = []\n",
    "    money_arr = []\n",
    "    tr_arr : NavigableString =  soup.find('tbody').find_all('tr')\n",
    "    for i, v in enumerate(tr_arr):\n",
    "        v : NavigableString = v.find_all('td')\n",
    "        # print(v)\n",
    "        for j, k in enumerate(v):\n",
    "            k : NavigableString = k\n",
    "            if j == 2: # 당첨자수\n",
    "                print(i, k.get_text())\n",
    "                count_arr.append(int(k.get_text().replace(',', '')))\n",
    "            elif j == 3: # 당첨금액\n",
    "                print(i, k.get_text())\n",
    "                money_arr.append(int(k.get_text().replace('원', '').replace(',', '')))\n",
    "\n",
    "    new_win.grade1count = count_arr[0]\n",
    "    new_win.grade2count = count_arr[1]\n",
    "    new_win.grade3count = count_arr[2]\n",
    "    new_win.grade4count = count_arr[3]\n",
    "    new_win.grade5count = count_arr[4]\n",
    "    \n",
    "    new_win.grade1money = money_arr[0]\n",
    "    new_win.grade2money = money_arr[1]\n",
    "    new_win.grade3money = money_arr[2]\n",
    "    new_win.grade4money = money_arr[3]\n",
    "    new_win.grade5money = money_arr[4]\n",
    "    \n",
    "\n",
    "    # print(len(soup.find('tbody').find_all('tr')))\n",
    "    # # print(ret.find_all('td'))\n",
    "    # for i, v in enumerate(ret.find_all('td')):\n",
    "    #     if i == 2: # 당첨자수\n",
    "    #         print(v.get_text())\n",
    "    #     elif i == 3: # 당첨금액\n",
    "    #         print(v.get_text())\n",
    "    # print(ret)\n",
    "    # print(ret.find_next_sibling())\n",
    "    print(f'turn {new_win.turn} \\\n",
    "    date {new_win.date} \\\n",
    "    grade1count {new_win.grade1count} \\\n",
    "    grade1money {new_win.grade1money} \\\n",
    "    grade2count {new_win.grade2count} \\\n",
    "    grade2money {new_win.grade2money} \\\n",
    "    grade3count {new_win.grade3count} \\\n",
    "    grade3money {new_win.grade3money} \\\n",
    "    grade4count {new_win.grade4count} \\\n",
    "    grade4money {new_win.grade4money} \\\n",
    "    grade5count {new_win.grade5count} \\\n",
    "    grade5money {new_win.grade5money} \\\n",
    "    win1 = {new_win.win1} \\\n",
    "    win2 = {new_win.win2} \\\n",
    "    win3 = {new_win.win3} \\\n",
    "    win4 = {new_win.win4} \\\n",
    "    win5 = {new_win.win5} \\\n",
    "    win6 = {new_win.win6} \\\n",
    "    winb = {new_win.winb}')\n",
    "    return win_list\n",
    "\n",
    "newWinCrawling()"
   ]
  },
  {
   "cell_type": "code",
   "execution_count": 2,
   "metadata": {},
   "outputs": [
    {
     "data": {
      "text/plain": [
       "[1136, 21, 33, 35, 38, 42, 44, 1]"
      ]
     },
     "execution_count": 2,
     "metadata": {},
     "output_type": "execute_result"
    }
   ],
   "source": []
  }
 ],
 "metadata": {
  "kernelspec": {
   "display_name": "Python 3",
   "language": "python",
   "name": "python3"
  },
  "language_info": {
   "codemirror_mode": {
    "name": "ipython",
    "version": 3
   },
   "file_extension": ".py",
   "mimetype": "text/x-python",
   "name": "python",
   "nbconvert_exporter": "python",
   "pygments_lexer": "ipython3",
   "version": "3.12.4"
  }
 },
 "nbformat": 4,
 "nbformat_minor": 2
}
