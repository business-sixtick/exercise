{
 "cells": [
  {
   "cell_type": "code",
   "execution_count": null,
   "metadata": {},
   "outputs": [],
   "source": [
    "# 클래스 : 틀이자 단위"
   ]
  },
  {
   "cell_type": "code",
   "execution_count": 2,
   "metadata": {},
   "outputs": [],
   "source": [
    "class cal:\n",
    "    def __init__(self) -> None:  #초기화 메서드\n",
    "        self.result = 0\n",
    "    #모든 메서드의 첫번째 인자에 self 를 넣어줘야한다.\n",
    "    def add(self, value: int) -> int: # 타입을 강제하는건 아니네??? 그냥 참고네\n",
    "        self.result += value\n",
    "        return self.result\n",
    "    \n",
    "    def subtract(self, value: int) -> int:\n",
    "        self.result -= value\n",
    "        return self.result\n",
    "    \n",
    "    def multiply(self, value: int) -> int:\n",
    "        self.result *= value\n",
    "        return self.result\n",
    "    \n",
    "    def divide(self, value: int) -> float:\n",
    "        if value == 0:\n",
    "            raise ValueError(\"0으로 나눌 수 없습니다.\") #raise 예외 발생\n",
    "        self.result /= value\n",
    "        return self.result\n",
    "    \n",
    "    def reset(self) -> None:\n",
    "        self.result = 0\n"
   ]
  },
  {
   "cell_type": "code",
   "execution_count": 6,
   "metadata": {},
   "outputs": [
    {
     "name": "stdout",
     "output_type": "stream",
     "text": [
      "1.0\n"
     ]
    }
   ],
   "source": [
    "c = cal()\n",
    "print(c.add(1.0))"
   ]
  },
  {
   "cell_type": "code",
   "execution_count": 7,
   "metadata": {},
   "outputs": [
    {
     "name": "stdout",
     "output_type": "stream",
     "text": [
      "3\n"
     ]
    }
   ],
   "source": [
    "class cal1(cal) :  # 소괄호에 부모클래스를 넣으면 상속된다\n",
    "    def __init__(self) -> None: \n",
    "        super().__init__()\n",
    "    def add(self, val1, val2) : # 오버라이딩??? \n",
    "        return val1 + val2\n",
    "    \n",
    "\n",
    "c = cal1()\n",
    "print(c.add(1, 2))"
   ]
  },
  {
   "cell_type": "code",
   "execution_count": null,
   "metadata": {},
   "outputs": [],
   "source": [
    "# 클래스 원형\n",
    "'''  \n",
    "\n",
    "클래스 : 인스턴스를 만들수 있는 틀 (클래스는 객체를 생성하는 데 사용되며)\n",
    "인스턴스 : 클래스로 만들어낸 실체 (객체 == 인스턴스 == self == 자기자신)\n",
    "생성자 : 인스턴스 생성시 실행됨 (맴버선언 및 초기화)\n",
    "메서드 : 인스턴스 맴버함수를 얘기함. 클래스함수와 구분짓기 위해 명칭을 달리함.\n",
    "파괴자 : 인스턴스 파괴시 실행됨 (뒷정리, 백업 등, 대게 안씀)\n",
    "\n",
    "class 클래스명 :\n",
    "    def __init__(self[, 매개변수명 = 디폴트값 , ...]):          <- 생성자\n",
    "        초기화구문 (맴버 선언을 할 수 있다)\n",
    "        self.맴버이름 = 초기화값\n",
    "        self.__맴버이름 = 초기화값         <- 언더바 2개 앞에 붙이면 private 맴버, 클래스맴버 메서드 동일하게 적용할수 있음.\n",
    "        \n",
    "    클래스 맴버이름 = 초기화값             <- 인스턴스간 데이터 를 공유할 수있다. 클래스와 인스턴스간 이름이 겹칠 경우 인스턴스이름을 참조함.\n",
    "\n",
    "    def 메서드명([매개변수, ...]):         <- 메서드. 인스턴스함수\n",
    "        실행구문\n",
    "\n",
    "    \n",
    "\n",
    "class 클래스명(부모클래스명, ...) :                    <- 상속, 다중 상속 가능\n",
    "    def __init__(self):\n",
    "        super().__init__()         <- super()를 써서 부모객체에 접근 할 수 있다. 직접호출? 이라 self 안넣음\n",
    "        부모클래스명.맴버\n",
    "        부모클래스명.맴버함수(self)        <- 상속시 접근가능. 선언?? 이라 self 넣어줘야됨\n",
    "        부모클래스명.__init__(self)\n",
    "\n",
    "\n",
    "인스턴스명 = 클래스명([전달인자 ...])             <- 인스턴스 생성 구문\n",
    "인스턴스명.없는이름 = 값                     <- 인스턴스에 비동기적으로 맴버를 추가 할 수 있다.\n",
    "인스턴스명_두번째 = 클래스명()\n",
    "print(인스턴스명_두번째.없는이름)             <- 다만 비동기적으로 맴버를 추가한것은 해당 인스턴스에만 적용된것이라 \n",
    "                                               다른 인스턴스에서는 참조가 불가하여 에러가 난다. 참조하려면 이 인스턴스에도 추가해줘야한다.\n",
    "                                               그러므로 가급적 비동기적 맴버 추가는 하지 말자.\n",
    "\n",
    "                                               \n",
    "'''\n",
    "\n"
   ]
  },
  {
   "cell_type": "code",
   "execution_count": 3,
   "metadata": {},
   "outputs": [
    {
     "name": "stdout",
     "output_type": "stream",
     "text": [
      "오늘 몇개나 만들었냐?? :  5 개 만들었습니다\n",
      "1 :  팥 팥 팥\n",
      "2 :  팥 밤 팥\n",
      "3 :  붕어빵기계 붕어빵기계 붕어빵기계\n",
      "4 :  붕어빵기계 먹다버린붕어빵 붕어빵기계\n",
      "5 :  최첨단 붕어빵기계 먹다버린붕어빵 최첨단 붕어빵기계\n",
      "최첨단 붕어빵기계 팥\n",
      "먹다버린붕어빵 밤\n",
      "최첨단 붕어빵기계 팥\n",
      "최첨단 붕어빵기계 팥\n",
      "밤붕어빵 밤\n"
     ]
    }
   ],
   "source": [
    "#파이썬에서는 인스턴스 변수가 클래스 변수보다 우선순위가 높습니다. 따라서 인스턴스에서 속성을 조회할 때, 인스턴스 변수가 있으면 인스턴스 변수를 참조하게 됩니다.\n",
    "class 붕어빵기계 :\n",
    "    def __init__(self, 재료 = '팥'):\n",
    "        self.앙금 = 재료  # 인스턴스 맴버\n",
    "        붕어빵기계.생산량 += 1\n",
    "        \n",
    "    이름 = '붕어빵기계' # 클래스 맴버\n",
    "    생산량 = 0\n",
    "\n",
    "    def 너뭐야(self) :\n",
    "        print(f'{self.이름}', f'{self.앙금}')\n",
    "\n",
    "class 최신붕어빵기계(붕어빵기계):\n",
    "    def __init__(self, 재료 = '팥'):\n",
    "        # super().__init__(재료) # 다중상속시 버그가 생기고 혼동되니 부모클래스명으로 통일하자\n",
    "        붕어빵기계.__init__(self, 재료)\n",
    "        #붕어빵기계.__init__(재료) # 부모클래스명으로 접근시 self 안넣으면 오류\n",
    "    \n",
    "    def 밤붕어빵():\n",
    "        ret = 최신붕어빵기계('밤')\n",
    "        ret.이름 = '밤붕어빵'\n",
    "        return ret\n",
    "    \n",
    "\n",
    "\n",
    "붕어빵_일 = 붕어빵기계()\n",
    "붕어빵_이 = 붕어빵기계()\n",
    "붕어빵_삼 = 붕어빵기계()\n",
    "붕어빵_사 = 최신붕어빵기계()\n",
    "붕어빵_오 = 최신붕어빵기계.밤붕어빵()\n",
    "\n",
    "print('오늘 몇개나 만들었냐?? : ' , 붕어빵기계.생산량 , '개 만들었습니다')\n",
    "\n",
    "print('1 : ', 붕어빵_일.앙금, 붕어빵_이.앙금, 붕어빵_삼.앙금)\n",
    "붕어빵_이.앙금 = '밤'\n",
    "print('2 : ', 붕어빵_일.앙금, 붕어빵_이.앙금, 붕어빵_삼.앙금)\n",
    "print('3 : ', 붕어빵_일.이름, 붕어빵_이.이름, 붕어빵_삼.이름) # 값을 찾을때 인스턴스 맴버에 없으면 클래스 맴버를 찾는다.\n",
    "붕어빵_이.이름 = '먹다버린붕어빵'                    # 인스턴스 값을 변경할때 인스턴스 맴버에 없으면 새로 생성한다\n",
    "print('4 : ', 붕어빵_일.이름, 붕어빵_이.이름, 붕어빵_삼.이름) # 인스턴스 맴버에 있으면?\n",
    "붕어빵기계.이름 = '최첨단 붕어빵기계' \n",
    "print('5 : ', 붕어빵_일.이름, 붕어빵_이.이름, 붕어빵_삼.이름) \n",
    "붕어빵_일.너뭐야()\n",
    "붕어빵_이.너뭐야()\n",
    "붕어빵_삼.너뭐야()\n",
    "붕어빵_사.너뭐야()\n",
    "붕어빵_오.너뭐야()\n"
   ]
  }
 ],
 "metadata": {
  "kernelspec": {
   "display_name": "Python 3",
   "language": "python",
   "name": "python3"
  },
  "language_info": {
   "codemirror_mode": {
    "name": "ipython",
    "version": 3
   },
   "file_extension": ".py",
   "mimetype": "text/x-python",
   "name": "python",
   "nbconvert_exporter": "python",
   "pygments_lexer": "ipython3",
   "version": "3.10.13"
  }
 },
 "nbformat": 4,
 "nbformat_minor": 2
}
