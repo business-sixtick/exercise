{
 "cells": [
  {
   "cell_type": "code",
   "execution_count": null,
   "metadata": {},
   "outputs": [],
   "source": [
    "# 함수 == 동사\n",
    "def func() : \n",
    "    print('func')\n",
    "    member = 0\n",
    "    print(locals()) #내부맴버 로컬맴버\n",
    "func()"
   ]
  },
  {
   "cell_type": "code",
   "execution_count": null,
   "metadata": {},
   "outputs": [],
   "source": [
    "globals() # 전역맴버 글로벌맴버"
   ]
  },
  {
   "cell_type": "code",
   "execution_count": null,
   "metadata": {},
   "outputs": [],
   "source": [
    "dir(func)\n",
    "print(func.__dict__)"
   ]
  },
  {
   "cell_type": "code",
   "execution_count": null,
   "metadata": {},
   "outputs": [],
   "source": [
    "year = 10000 // (365 * 24)\n",
    "print(year)\n",
    "day = 10000 % (365 * 24) // 24\n",
    "print(day)\n",
    "print(f'{year}년 {day}일')\n"
   ]
  },
  {
   "cell_type": "code",
   "execution_count": null,
   "metadata": {},
   "outputs": [],
   "source": [
    "def to_year(hour) :\n",
    "    return hour // (365 * 24)\n",
    "\n",
    "def to_day(hour) :\n",
    "    return hour // 24\n",
    "\n",
    "def to_year_day(hour) :\n",
    "    year = hour // (365 * 24)\n",
    "    day = hour % (365 * 24) // 24\n",
    "    return f'{year}년 {day}일' \n",
    "\n",
    "to_year_day(10000)"
   ]
  },
  {
   "cell_type": "code",
   "execution_count": null,
   "metadata": {},
   "outputs": [],
   "source": [
    "movie_list = ['닥터 스트레인지', '스플릿', '럭키']\n",
    "# movie_dict = {index+1: value for index, value in enumerate(movie_list)} #컴프리헨션 comprehension 이해, 이해력\n",
    "movie_dict = {index: value for index, value in enumerate(movie_list, start=1)} #컴프리헨션 comprehension 이해, 이해력\n",
    "for i in movie_dict :\n",
    "    print(i, movie_dict[i])"
   ]
  },
  {
   "cell_type": "code",
   "execution_count": null,
   "metadata": {},
   "outputs": [],
   "source": [
    "def grade_get(point) :\n",
    "    grade = \"E\"\n",
    "    if point > 80 :\n",
    "        grade = 'A'\n",
    "    elif point > 60 :\n",
    "        grade = 'B'\n",
    "    elif point > 40 :\n",
    "        grade = 'C'\n",
    "    elif point > 20 :\n",
    "        grade = 'D'\n",
    "    return grade\n",
    "\n",
    "point = input('점수를 입력하세요 : ')\n",
    "print(grade_get(int(point)))"
   ]
  },
  {
   "cell_type": "code",
   "execution_count": null,
   "metadata": {},
   "outputs": [],
   "source": [
    "cash = {'달러' : 1167.0, '엔' : 1.096, '유로': 1268.0, '위안': 171.0}\n",
    "won = int(input('얼마를 환전 하시겠습니까? :'))\n",
    "dol = won / cash['달러']\n",
    "en = won / cash['엔']\n",
    "eu = won / cash['유로']\n",
    "wi = won / cash['위안']\n",
    "print(f'{won}원은 {dol:.2f}달러 입니다')\n",
    "print(f'{won}원은 {en:.2f}엔 입니다')\n",
    "print(f'{won}원은 {eu:.2f}유로 입니다')\n",
    "print(f'{won}원은 {wi:.2f}위안 입니다')"
   ]
  },
  {
   "cell_type": "code",
   "execution_count": null,
   "metadata": {},
   "outputs": [],
   "source": [
    "cash = {'달러' : 1167.0, '엔' : 1.096, '유로': 1268.0, '위안': 171.0}\n",
    "won = int(input('얼마를 환전 하시겠습니까? :'))\n",
    "exchange_dict = { currency : round(won / exchange_rate, 2) for currency, exchange_rate in cash.items()} # 컴프리헨션 , currency : 통화, exchange rate : 환율\n",
    "for currency, exchange_rate in exchange_dict.items() :\n",
    "    print(f'{won}원은 {exchange_rate}{currency}입니다')"
   ]
  },
  {
   "cell_type": "code",
   "execution_count": null,
   "metadata": {},
   "outputs": [],
   "source": [
    "post_dict = {'010': '강북구', '011' : '강북구', '012' : '강북구' ,\\\n",
    "             '013' : '도봉구', '014' : '도봉구', '015' : '도봉구' ,\\\n",
    "                '016' : '노원구', '017' : '노원구', '018' : '노원구', '019' : '노원구'}\n",
    "my_post = '01035'\n",
    "my_post_div = my_post[:3] \n",
    "print(my_post_div)   \n",
    "if(my_post_div[:2] == '01') :\n",
    "    print(post_dict[my_post_div])  # if my_post_div in ['010', '011', '012'] :\n",
    "else :\n",
    "    print('꺼져')"
   ]
  },
  {
   "cell_type": "code",
   "execution_count": null,
   "metadata": {},
   "outputs": [],
   "source": [
    "# 가변인자. 튜플 형태로 받네\n",
    "def shout(*sound):\n",
    "    \"\"\"_summary_\n",
    "    니들이 떠들어도 나는 모른대이~\n",
    "    \"\"\"\n",
    "    print(sound)\n",
    "    print(type(sound))\n",
    "\n",
    "shout('음메', '컹컹', ['찍찍', '꽥꽥'], {1:'one'})\n",
    "#print(help(shout))\n",
    "#print(help(range))\n",
    "\n",
    "\n",
    "\n"
   ]
  },
  {
   "cell_type": "code",
   "execution_count": null,
   "metadata": {},
   "outputs": [],
   "source": [
    "import random\n",
    "import time\n",
    "import sys #파이썬 3에서는 int 형의 최대값이 임의 정밀도를 가지므로, 사실상 메모리에 의해서만 제한됩니다. 그러나 sys.maxsize를 사용하여 플랫폼의 제한을 확인할 수 있으며, 이는 매우 유용할 수 있습니다.\n",
    "print(help(random.random)) # 아 이게 반환값이 float라 float 서머리가 나오네 ㅋㅋ\n",
    "print(random.random()) # random() -> x in the interval [0, 1). 0~1사이의 값이 반환됨 interval : 사이 간격\n",
    "save = 1\n",
    "count = 0\n",
    "while True :\n",
    "    ran = random.random()\n",
    "    count += 1\n",
    "    if save > ran :\n",
    "        print(ran, 'count : ', count)\n",
    "        save = ran\n",
    "        #time.sleep(0.1) # 초 단위로 멈춘다\n",
    "    if count > sys.maxsize // 10000000000000 : # 거의 100만번 도는데 0.3초 걸리네\n",
    "        print('end :', count)\n",
    "        break\n",
    "    "
   ]
  },
  {
   "cell_type": "code",
   "execution_count": 40,
   "metadata": {},
   "outputs": [
    {
     "name": "stdout",
     "output_type": "stream",
     "text": [
      "2.2\n"
     ]
    }
   ],
   "source": [
    "def sum(x, y) :\n",
    "    # return int(x) + int(y)\n",
    "    return x if x > y else y\n",
    "print(sum(1, 2.2))"
   ]
  }
 ],
 "metadata": {
  "kernelspec": {
   "display_name": "Python 3",
   "language": "python",
   "name": "python3"
  },
  "language_info": {
   "codemirror_mode": {
    "name": "ipython",
    "version": 3
   },
   "file_extension": ".py",
   "mimetype": "text/x-python",
   "name": "python",
   "nbconvert_exporter": "python",
   "pygments_lexer": "ipython3",
   "version": "3.12.4"
  }
 },
 "nbformat": 4,
 "nbformat_minor": 2
}
