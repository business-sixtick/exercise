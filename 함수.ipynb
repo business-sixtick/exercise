{
 "cells": [
  {
   "cell_type": "code",
   "execution_count": 2,
   "metadata": {},
   "outputs": [
    {
     "name": "stdout",
     "output_type": "stream",
     "text": [
      "func\n",
      "{'member': 0}\n"
     ]
    }
   ],
   "source": [
    "\n",
    "def func() : \n",
    "    print('func')\n",
    "    member = 0\n",
    "    print(locals()) #내부맴버 로컬맴버\n",
    "func()"
   ]
  },
  {
   "cell_type": "code",
   "execution_count": 2,
   "metadata": {},
   "outputs": [
    {
     "data": {
      "text/plain": [
       "{'__name__': '__main__',\n",
       " '__doc__': 'Automatically created module for IPython interactive environment',\n",
       " '__package__': None,\n",
       " '__loader__': None,\n",
       " '__spec__': None,\n",
       " '__builtin__': <module 'builtins' (built-in)>,\n",
       " '__builtins__': <module 'builtins' (built-in)>,\n",
       " '_ih': ['',\n",
       "  \"globals()\\ndef func() : \\n    print('func')\\n    member = 0\\n    print(locals())\\nfunc()\",\n",
       "  'globals() # 전역변수 글로벌변수'],\n",
       " '_oh': {},\n",
       " '_dh': [WindowsPath('c:/source/exercise')],\n",
       " 'In': ['',\n",
       "  \"globals()\\ndef func() : \\n    print('func')\\n    member = 0\\n    print(locals())\\nfunc()\",\n",
       "  'globals() # 전역변수 글로벌변수'],\n",
       " 'Out': {},\n",
       " 'get_ipython': <bound method InteractiveShell.get_ipython of <ipykernel.zmqshell.ZMQInteractiveShell object at 0x0000027F4F3631A0>>,\n",
       " 'exit': <IPython.core.autocall.ZMQExitAutocall at 0x27f50786ab0>,\n",
       " 'quit': <IPython.core.autocall.ZMQExitAutocall at 0x27f50786ab0>,\n",
       " 'open': <function _io.open(file, mode='r', buffering=-1, encoding=None, errors=None, newline=None, closefd=True, opener=None)>,\n",
       " '_': '',\n",
       " '__': '',\n",
       " '___': '',\n",
       " '__vsc_ipynb_file__': 'c:\\\\source\\\\exercise\\\\함수.ipynb',\n",
       " '_i': \"globals()\\ndef func() : \\n    print('func')\\n    member = 0\\n    print(locals())\\nfunc()\",\n",
       " '_ii': '',\n",
       " '_iii': '',\n",
       " '_i1': \"globals()\\ndef func() : \\n    print('func')\\n    member = 0\\n    print(locals())\\nfunc()\",\n",
       " 'func': <function __main__.func()>,\n",
       " '_i2': 'globals() # 전역변수 글로벌변수'}"
      ]
     },
     "execution_count": 2,
     "metadata": {},
     "output_type": "execute_result"
    }
   ],
   "source": [
    "globals() # 전역맴버 글로벌맴버"
   ]
  },
  {
   "cell_type": "code",
   "execution_count": 5,
   "metadata": {},
   "outputs": [
    {
     "name": "stdout",
     "output_type": "stream",
     "text": [
      "{}\n"
     ]
    }
   ],
   "source": [
    "dir(func)\n",
    "print(func.__dict__)"
   ]
  },
  {
   "cell_type": "code",
   "execution_count": 9,
   "metadata": {},
   "outputs": [
    {
     "name": "stdout",
     "output_type": "stream",
     "text": [
      "1\n",
      "51\n",
      "1년 51일\n"
     ]
    }
   ],
   "source": [
    "year = 10000 // (365 * 24)\n",
    "print(year)\n",
    "day = 10000 % (365 * 24) // 24\n",
    "print(day)\n",
    "print(f'{year}년 {day}일')\n"
   ]
  },
  {
   "cell_type": "code",
   "execution_count": 10,
   "metadata": {},
   "outputs": [
    {
     "data": {
      "text/plain": [
       "'1년 51일'"
      ]
     },
     "execution_count": 10,
     "metadata": {},
     "output_type": "execute_result"
    }
   ],
   "source": [
    "def to_year(hour) :\n",
    "    return hour // (365 * 24)\n",
    "\n",
    "def to_day(hour) :\n",
    "    return hour // 24\n",
    "\n",
    "def to_year_day(hour) :\n",
    "    year = hour // (365 * 24)\n",
    "    day = hour % (365 * 24) // 24\n",
    "    return f'{year}년 {day}일' \n",
    "\n",
    "to_year_day(10000)"
   ]
  },
  {
   "cell_type": "code",
   "execution_count": 19,
   "metadata": {},
   "outputs": [
    {
     "name": "stdout",
     "output_type": "stream",
     "text": [
      "1 닥터 스트레인지\n",
      "2 스플릿\n",
      "3 럭키\n"
     ]
    }
   ],
   "source": [
    "movie_list = ['닥터 스트레인지', '스플릿', '럭키']\n",
    "# movie_dict = {index+1: value for index, value in enumerate(movie_list)} #컴프리헨션 comprehension 이해, 이해력\n",
    "movie_dict = {index: value for index, value in enumerate(movie_list, start=1)} #컴프리헨션 comprehension 이해, 이해력\n",
    "for i in movie_dict :\n",
    "    print(i, movie_dict[i])"
   ]
  },
  {
   "cell_type": "code",
   "execution_count": 25,
   "metadata": {},
   "outputs": [
    {
     "name": "stdout",
     "output_type": "stream",
     "text": [
      "B\n"
     ]
    }
   ],
   "source": [
    "def grade_get(point) :\n",
    "    grade = \"E\"\n",
    "    if point > 80 :\n",
    "        grade = 'A'\n",
    "    elif point > 60 :\n",
    "        grade = 'B'\n",
    "    elif point > 40 :\n",
    "        grade = 'C'\n",
    "    elif point > 20 :\n",
    "        grade = 'D'\n",
    "    return grade\n",
    "\n",
    "point = input('점수를 입력하세요 : ')\n",
    "print(grade_get(int(point)))"
   ]
  },
  {
   "cell_type": "code",
   "execution_count": 31,
   "metadata": {},
   "outputs": [
    {
     "name": "stdout",
     "output_type": "stream",
     "text": [
      "10000원은 8.57달러 입니다\n",
      "10000원은 9124.09엔 입니다\n",
      "10000원은 7.89유로 입니다\n",
      "10000원은 58.48위안 입니다\n"
     ]
    }
   ],
   "source": [
    "cash = {'달러' : 1167.0, '엔' : 1.096, '유로': 1268.0, '위안': 171.0}\n",
    "won = int(input('얼마를 환전 하시겠습니까? :'))\n",
    "dol = won / cash['달러']\n",
    "en = won / cash['엔']\n",
    "eu = won / cash['유로']\n",
    "wi = won / cash['위안']\n",
    "print(f'{won}원은 {dol:.2f}달러 입니다')\n",
    "print(f'{won}원은 {en:.2f}엔 입니다')\n",
    "print(f'{won}원은 {eu:.2f}유로 입니다')\n",
    "print(f'{won}원은 {wi:.2f}위안 입니다')"
   ]
  },
  {
   "cell_type": "code",
   "execution_count": 36,
   "metadata": {},
   "outputs": [
    {
     "name": "stdout",
     "output_type": "stream",
     "text": [
      "10000원은 8.57달러입니다\n",
      "10000원은 9124.09엔입니다\n",
      "10000원은 7.89유로입니다\n",
      "10000원은 58.48위안입니다\n"
     ]
    }
   ],
   "source": [
    "cash = {'달러' : 1167.0, '엔' : 1.096, '유로': 1268.0, '위안': 171.0}\n",
    "won = int(input('얼마를 환전 하시겠습니까? :'))\n",
    "exchange_dict = { currency : round(won / exchange_rate, 2) for currency, exchange_rate in cash.items()} # 컴프리헨션 , currency : 통화, exchange rate : 환율\n",
    "for currency, exchange_rate in exchange_dict.items() :\n",
    "    print(f'{won}원은 {exchange_rate}{currency}입니다')"
   ]
  },
  {
   "cell_type": "code",
   "execution_count": 38,
   "metadata": {},
   "outputs": [
    {
     "name": "stdout",
     "output_type": "stream",
     "text": [
      "010\n",
      "강북구\n"
     ]
    }
   ],
   "source": [
    "post_dict = {'010': '강북구', '011' : '강북구', '012' : '강북구' ,\\\n",
    "             '013' : '도봉구', '014' : '도봉구', '015' : '도봉구' ,\\\n",
    "                '016' : '노원구', '017' : '노원구', '018' : '노원구', '019' : '노원구'}\n",
    "my_post = '01035'\n",
    "my_post_div = my_post[:3] \n",
    "print(my_post_div)   \n",
    "if(my_post_div[:2] == '01') :\n",
    "    print(post_dict[my_post_div])  # if my_post_div in ['010', '011', '012'] :\n",
    "else :\n",
    "    print('꺼져')"
   ]
  }
 ],
 "metadata": {
  "kernelspec": {
   "display_name": "Python 3",
   "language": "python",
   "name": "python3"
  },
  "language_info": {
   "codemirror_mode": {
    "name": "ipython",
    "version": 3
   },
   "file_extension": ".py",
   "mimetype": "text/x-python",
   "name": "python",
   "nbconvert_exporter": "python",
   "pygments_lexer": "ipython3",
   "version": "3.12.4"
  }
 },
 "nbformat": 4,
 "nbformat_minor": 2
}
