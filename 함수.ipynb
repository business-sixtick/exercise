{
 "cells": [
  {
   "cell_type": "code",
   "execution_count": 1,
   "metadata": {},
   "outputs": [
    {
     "name": "stdout",
     "output_type": "stream",
     "text": [
      "func\n",
      "{'member': 0}\n"
     ]
    }
   ],
   "source": [
    "\n",
    "def func() : \n",
    "    print('func')\n",
    "    member = 0\n",
    "    print(locals()) #내부맴버 로컬맴버\n",
    "func()"
   ]
  },
  {
   "cell_type": "code",
   "execution_count": 2,
   "metadata": {},
   "outputs": [
    {
     "data": {
      "text/plain": [
       "{'__name__': '__main__',\n",
       " '__doc__': 'Automatically created module for IPython interactive environment',\n",
       " '__package__': None,\n",
       " '__loader__': None,\n",
       " '__spec__': None,\n",
       " '__builtin__': <module 'builtins' (built-in)>,\n",
       " '__builtins__': <module 'builtins' (built-in)>,\n",
       " '_ih': ['',\n",
       "  \"globals()\\ndef func() : \\n    print('func')\\n    member = 0\\n    print(locals())\\nfunc()\",\n",
       "  'globals() # 전역변수 글로벌변수'],\n",
       " '_oh': {},\n",
       " '_dh': [WindowsPath('c:/source/exercise')],\n",
       " 'In': ['',\n",
       "  \"globals()\\ndef func() : \\n    print('func')\\n    member = 0\\n    print(locals())\\nfunc()\",\n",
       "  'globals() # 전역변수 글로벌변수'],\n",
       " 'Out': {},\n",
       " 'get_ipython': <bound method InteractiveShell.get_ipython of <ipykernel.zmqshell.ZMQInteractiveShell object at 0x0000027F4F3631A0>>,\n",
       " 'exit': <IPython.core.autocall.ZMQExitAutocall at 0x27f50786ab0>,\n",
       " 'quit': <IPython.core.autocall.ZMQExitAutocall at 0x27f50786ab0>,\n",
       " 'open': <function _io.open(file, mode='r', buffering=-1, encoding=None, errors=None, newline=None, closefd=True, opener=None)>,\n",
       " '_': '',\n",
       " '__': '',\n",
       " '___': '',\n",
       " '__vsc_ipynb_file__': 'c:\\\\source\\\\exercise\\\\함수.ipynb',\n",
       " '_i': \"globals()\\ndef func() : \\n    print('func')\\n    member = 0\\n    print(locals())\\nfunc()\",\n",
       " '_ii': '',\n",
       " '_iii': '',\n",
       " '_i1': \"globals()\\ndef func() : \\n    print('func')\\n    member = 0\\n    print(locals())\\nfunc()\",\n",
       " 'func': <function __main__.func()>,\n",
       " '_i2': 'globals() # 전역변수 글로벌변수'}"
      ]
     },
     "execution_count": 2,
     "metadata": {},
     "output_type": "execute_result"
    }
   ],
   "source": [
    "globals() # 전역맴버 글로벌맴버"
   ]
  }
 ],
 "metadata": {
  "kernelspec": {
   "display_name": "Python 3",
   "language": "python",
   "name": "python3"
  },
  "language_info": {
   "codemirror_mode": {
    "name": "ipython",
    "version": 3
   },
   "file_extension": ".py",
   "mimetype": "text/x-python",
   "name": "python",
   "nbconvert_exporter": "python",
   "pygments_lexer": "ipython3",
   "version": "3.12.4"
  }
 },
 "nbformat": 4,
 "nbformat_minor": 2
}
