{
 "cells": [
  {
   "cell_type": "markdown",
   "metadata": {},
   "source": [
    "### 배울 과목\n",
    "1. 기초수학\n",
    "2. 미분\n",
    "3. 선형대수학\n",
    "4. 확률과 통계"
   ]
  },
  {
   "cell_type": "markdown",
   "metadata": {},
   "source": [
    "\\$ 수식 \\$ 라텍스 문법\n",
    "- [라텍스 문법 위키](https://ko.wikipedia.org/wiki/%EC%9C%84%ED%82%A4%EB%B0%B1%EA%B3%BC:TeX_%EB%AC%B8%EB%B2%95)"
   ]
  },
  {
   "cell_type": "markdown",
   "metadata": {},
   "source": [
    "# 수학 math, mathematics\n",
    "\n",
    "## 기초수학\n",
    "\n",
    "### 변수\n",
    "- 변하는 수. 대게 기호(문자)로 표시한다.\n",
    "\n",
    "### 상수\n",
    "- 변하지 않는 수\n",
    "\n",
    "### 항\n",
    "- 숫자 또는 문자의 곱으로 구성된 식\n",
    "\n",
    "### 상수항\n",
    "- 상수만으로 구성된 식 (2x + y + 1 일때 1을 상수항이라 말함)\n",
    "\n",
    "### 계수\n",
    "- -3x<sup>0</sup> 은 3 * 1 과 같으므로 상수항도 계수이다.\n",
    "- 계수 coefficient : 항에서의 문자앞의 상수를 말함 (2x + y + 1 일때 x앞에 2를 계수라 한다.)\n",
    "\n",
    "### 차수\n",
    "- 차수는 문자를 곱한 횟수를 의미함\n",
    "- 대게 제곱에서 쓰임\n",
    "- x<sup>2</sup> + y + 1 일때 x를 두번 곱했기 때문에 차수는 2이다\n",
    "- x를 기준으로 차수가 2이므로 x에 대한 이차식이라 말한다.\n",
    "\n",
    "### 수식\n",
    "- 수식이란 변수와 상수를 연산자를 이용해서 표현한 식이다.\n",
    "\n",
    "### 등식\n",
    "- 등호를 기준으로 좌변 우변이 있다.\n",
    "\n",
    "### 방정식과 항등식 부등식\n",
    "- 방정식은 미지수가 포함된 등식. 고로 미지수와 등호가 같이 있어야함.\n",
    "- 방정식 : 미지수에 따라 참이 되기도 하고 거짓이 되기도 하는것\n",
    "- 미지수는 : 아직 알 수 없는 수. 근데 결과 값이 있다.\n",
    "- 조건 부등식 : 어떤 실수 값에 대해서만 성립하는 부등식 (비교연산자 포함한다)\n",
    "- 절대 부등식 : 모든 실수값에  대해 항상 성립하는 부등식 (비교연산자를 포함한다)\n",
    "- 항등식 : 미지수에 어떤 값을 넣어도 항상 등식인것. 항상 성립하는것. \n",
    "\n",
    "### 일차방정식과 이차방정식\n",
    "- 이항 : 항을 이동시키는 것으로 등식 또는 부등식에 있는 항을 부호를 바꾸어 다른 변으로 옮기는 것을 의미합니다.\n",
    "- \n",
    "- 변수는 좌변으로 상수는 우변으로 이항한다.\n",
    "- 각변을 정리한다.\n",
    "- 2차 방정식 : $ax^2 + bx + c = 0$ ($x\\neq0$) x의 차수가 2인 방정식\n",
    "\n",
    "### 연립방정식\n",
    "- 연립방정식이란 미지수가 여러개 포함된 방적식을 묶어 놓은것을 의미함. \n",
    "- $ \\{x3 + y = 2, x - 2y = 3 \\}$\n",
    "- 변수를 한개로 만들고 한쪽을 먼저 구한다. \n",
    "- 나머지 한쪽도 마저 구한다\n",
    "- 둘다 만족하는지 확인한다. \n",
    "\n",
    "\n",
    "\n",
    "\n"
   ]
  },
  {
   "cell_type": "code",
   "execution_count": 8,
   "metadata": {},
   "outputs": [
    {
     "name": "stdout",
     "output_type": "stream",
     "text": [
      "<class 'list'> [3]\n"
     ]
    }
   ],
   "source": [
    "# 파이썬에서 방정식의 해를 구하기 위해서는 SymPy 이용\n",
    "# $ pip install sympy\n",
    "import sympy\n",
    "%pwd # print working diractory\n",
    "x = sympy.Symbol('x') # x를 수학적 표기 x로 쓰겠다. 고 선언\n",
    "eq = 2 * x - 6\n",
    "sympy.solve(eq) # 풀었을때 등식으로 우변을 0으로 만듬. \n",
    "print(type(sympy.solve(eq)), sympy.solve(eq)) # 리스트로 반환함.\n"
   ]
  },
  {
   "cell_type": "code",
   "execution_count": 13,
   "metadata": {},
   "outputs": [
    {
     "data": {
      "text/plain": [
       "{x: 1, y: -1}"
      ]
     },
     "execution_count": 13,
     "metadata": {},
     "output_type": "execute_result"
    }
   ],
   "source": [
    "import sympy\n",
    "x = sympy.Symbol('x')\n",
    "y = sympy.Symbol('y')\n",
    "eq1 = x * 3 + y -2\n",
    "eq2 = x - 2 * y -3 \n",
    "sympy.solve((eq1, eq2)) # 연립방정식"
   ]
  },
  {
   "cell_type": "code",
   "execution_count": 9,
   "metadata": {},
   "outputs": [
    {
     "data": {
      "text/plain": [
       "[6]"
      ]
     },
     "execution_count": 9,
     "metadata": {},
     "output_type": "execute_result"
    }
   ],
   "source": [
    "import sympy\n",
    "k = sympy.Symbol('k')\n",
    "eq = k - 2 - 4\n",
    "sympy.solve(eq)"
   ]
  },
  {
   "cell_type": "code",
   "execution_count": 10,
   "metadata": {},
   "outputs": [
    {
     "data": {
      "text/plain": [
       "[5]"
      ]
     },
     "execution_count": 10,
     "metadata": {},
     "output_type": "execute_result"
    }
   ],
   "source": [
    "import sympy\n",
    "k = sympy.Symbol('k')\n",
    "eq = 2 * k - 10\n",
    "sympy.solve(eq)"
   ]
  },
  {
   "cell_type": "code",
   "execution_count": 11,
   "metadata": {},
   "outputs": [
    {
     "data": {
      "text/plain": [
       "[16]"
      ]
     },
     "execution_count": 11,
     "metadata": {},
     "output_type": "execute_result"
    }
   ],
   "source": [
    "import sympy\n",
    "k = sympy.Symbol('k')\n",
    "eq = k / 2 - 8\n",
    "sympy.solve(eq)"
   ]
  }
 ],
 "metadata": {
  "kernelspec": {
   "display_name": "Python 3",
   "language": "python",
   "name": "python3"
  },
  "language_info": {
   "codemirror_mode": {
    "name": "ipython",
    "version": 3
   },
   "file_extension": ".py",
   "mimetype": "text/x-python",
   "name": "python",
   "nbconvert_exporter": "python",
   "pygments_lexer": "ipython3",
   "version": "3.12.4"
  }
 },
 "nbformat": 4,
 "nbformat_minor": 2
}
