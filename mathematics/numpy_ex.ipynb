{
 "cells": [
  {
   "cell_type": "code",
   "execution_count": null,
   "metadata": {},
   "outputs": [],
   "source": [
    "# numpy\n",
    "# pip install numpy"
   ]
  },
  {
   "cell_type": "code",
   "execution_count": 21,
   "metadata": {},
   "outputs": [
    {
     "name": "stdout",
     "output_type": "stream",
     "text": [
      "['1' 'two' '3'] [1. 2. 3.] [1 2 0]\n",
      "(3,)\n",
      "(2, 3)\n",
      "(2, 2, 3)\n",
      "<class 'numpy.ndarray'>\n",
      "2.0.1\n"
     ]
    }
   ],
   "source": [
    "import numpy as np\n",
    "arr = np.array([1, 'two', 3]) # 배열은 값의 타입을 통일한다. 문자열이 포함되면 모두 문자열로 한다\n",
    "arr1 = np.array([1, 2.0, 3]) # 실수가 포함 되면 모두 실수로 한다.\n",
    "arr2 = np.array([1, 2, False]) # bool < int < float < str  큰거 위주로 통일 된다.\n",
    "print(arr, arr1, arr2)\n",
    "arr = np.array([1,2,3])\n",
    "print(arr.shape) # shape 쉐잎 형태 면행열\n",
    "arr = np.array([[1,2,3], [4,5,6]])\n",
    "print(arr.shape) # 형태 면행열\n",
    "arr = np.array([[[1,2,3], [4,5,6]],[[1,2,3], [4,5,6]]])\n",
    "print(arr.shape) # 형태 면행열\n",
    "print(type(arr))\n",
    "print(np.__version__)"
   ]
  },
  {
   "cell_type": "code",
   "execution_count": 20,
   "metadata": {},
   "outputs": [
    {
     "name": "stdout",
     "output_type": "stream",
     "text": [
      "[1 2 3]\n",
      "{1, 2, 3}\n",
      "{1: 1, 2: 2, 3: 3}\n",
      "[ 0  1  2  3  4  5  6  7  8  9 10] [10  9  8  7  6  5  4  3  2  1  0]\n"
     ]
    }
   ],
   "source": [
    "import numpy as np\n",
    "print(np.array((1,2,3)))\n",
    "print(np.array({1,2,3}))\n",
    "print(np.array({1:1,2:2,3:3}))\n",
    "print(np.arange(11), np.arange(10,-1,-1)) # range 와 같은데 리스트로 반환한다."
   ]
  },
  {
   "cell_type": "markdown",
   "metadata": {},
   "source": [
    "1. 기본 데이터 타입\n",
    "- int: 정수 데이터 타입\n",
    "\n",
    "- np.int8: 8비트 정수 (-128 ~ 127)\n",
    "- np.int16: 16비트 정수 (-32,768 ~ 32,767)\n",
    "- np.int32: 32비트 정수 (-2,147,483,648 ~ 2,147,483,647)\n",
    "- np.int64: 64비트 정수 (-9,223,372,036,854,775,808 ~ 9,223,372,036,854,775,807)\n",
    "- uint: 부호 없는 정수 데이터 타입\n",
    "\n",
    "- np.uint8: 8비트 부호 없는 정수 (0 ~ 255)\n",
    "- np.uint16: 16비트 부호 없는 정수 (0 ~ 65,535)\n",
    "- np.uint32: 32비트 부호 없는 정수 (0 ~ 4,294,967,295)\n",
    "- np.uint64: 64비트 부호 없는 정수 (0 ~ 18,446,744,073,709,551,615)\n",
    "- float: 부동 소수점 데이터 타입\n",
    "\n",
    "- np.float16: 16비트 부동 소수점 수\n",
    "- np.float32: 32비트 부동 소수점 수\n",
    "- np.float64: 64비트 부동 소수점 수 (일반적으로 float의 기본 타입)\n",
    "- complex: 복소수 데이터 타입\n",
    "\n",
    "- np.complex64: 64비트 복소수 (32비트 실수부 + 32비트 허수부)\n",
    "- np.complex128: 128비트 복소수 (64비트 실수부 + 64비트 허수부)\n",
    "2. 문자열 데이터 타입\n",
    "- string: 문자열 데이터 타입\n",
    "- np.str_: 문자열\n",
    "- np.bytes_: 바이트 문자열\n",
    "3. 불리언 데이터 타입\n",
    "- bool: 불리언 데이터 타입\n",
    "- np.bool_: True 또는 False 값을 가질 수 있는 데이터 타입\n",
    "4. 오브젝트 데이터 타입\n",
    "- object: 일반 Python 객체를 저장할 수 있는 데이터 타입\n",
    "- np.object_: 다양한 데이터 타입을 저장할 수 있습니다.\n",
    "5. 날짜와 시간 데이터 타입\n",
    "- datetime: 날짜 및 시간 관련 데이터 타입\n",
    "- np.datetime64: 날짜 및 시간을 저장하는 데 사용됩니다.\n",
    "- np.timedelta64: 시간 차이를 나타내는 데 사용됩니다."
   ]
  },
  {
   "cell_type": "code",
   "execution_count": 28,
   "metadata": {},
   "outputs": [
    {
     "name": "stdout",
     "output_type": "stream",
     "text": [
      "50\n",
      "[ 1.  2.  3.  4.  5.  6.  7.  8.  9. 10.]\n",
      "[[0. 0.]\n",
      " [0. 0.]]\n",
      "[[1. 1.]\n",
      " [1. 1.]]\n"
     ]
    }
   ],
   "source": [
    "import numpy as np\n",
    "print(len(np.linspace(1,10))) # 기본적으로 50개의 요소로 된 배열을 준다. \n",
    "print(np.linspace(1,10, num=10)) # 기본 float 타입\n",
    "print(np.zeros((2,2)), np.ones((2,2)), sep='\\n')"
   ]
  }
 ],
 "metadata": {
  "kernelspec": {
   "display_name": "Python 3",
   "language": "python",
   "name": "python3"
  },
  "language_info": {
   "codemirror_mode": {
    "name": "ipython",
    "version": 3
   },
   "file_extension": ".py",
   "mimetype": "text/x-python",
   "name": "python",
   "nbconvert_exporter": "python",
   "pygments_lexer": "ipython3",
   "version": "3.12.4"
  }
 },
 "nbformat": 4,
 "nbformat_minor": 2
}
