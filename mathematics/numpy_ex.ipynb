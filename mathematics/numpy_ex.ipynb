{
 "cells": [
  {
   "cell_type": "code",
   "execution_count": null,
   "metadata": {},
   "outputs": [],
   "source": [
    "# numpy\n",
    "# pip install numpy\n",
    "# 배열 연산"
   ]
  },
  {
   "cell_type": "code",
   "execution_count": 64,
   "metadata": {},
   "outputs": [
    {
     "name": "stdout",
     "output_type": "stream",
     "text": [
      "(49,)\n",
      "[1 2 3 4 5 6]\n",
      "[2 4 6]\n",
      "[2 3 4]\n",
      "2\n",
      "6\n",
      "2.8895866486402513\n",
      "4483\n",
      "4.483\n",
      "4.0\n",
      "8.349711\n",
      "(array([0, 1, 2, 3, 4, 5, 6, 7, 8, 9]), array([102, 102,  98, 105, 105,  76, 119,  94,  93, 106], dtype=int64))\n"
     ]
    }
   ],
   "source": [
    "import numpy as np\n",
    "arr = np.array([1,2,3]) # 배열생성 <class 'numpy.ndarray'>\n",
    "arr = np.arange(1, 11, 1) # range 와 비슷하며 <class 'numpy.ndarray'>형 배열 반환\n",
    "arr = np.linspace(1,10)  # start 와 end 사이의 50개의 요소로 된 배열을 준다. \n",
    "arr = np.delete(arr, 0) # 배열의 인덱스 자리를 삭제한다.\n",
    "print(arr.shape) # shape 쉐잎 형태 면행열 : 배열의 차수 형태를 보여준다.\n",
    "arr = np.append(arr, [1], axis=0)\n",
    "print(np.reshape(np.arange(1,7), (2, 3)).reshape(6)) # 차원 형태를 바꿔준다\n",
    "print(np.array([1,2,3]) + np.array([1,2,3])) # 배열의 덧셈\n",
    "print(np.array([1,2,3]) + 1) # 배열의 브로드캐스팅 덧셈\n",
    "print(np.array([[1,2,3], [1,2,3]]).ndim) # 차원 수를 알려준다\n",
    "print(np.array([[1,2,3], [1,2,3]]).size) # 요소의 개수를 알려준다\n",
    "arr = np.repeat(arr, 3) # 요소를 수치만큼 증식한다.\n",
    "arr = np.tile([[1,2,3],[4,5,6]], 3) # 행을 수치만큼 증식한다.\n",
    "arr = np.array([1,2,3]) > 2 # np.array([1,2,3]) > 2\n",
    "arr = arr[arr > 2] # [3]  배열의 조건 인덱싱\n",
    "arr = np.random.randint(10, size=1000)\n",
    "print(np.std(arr)) # std 표준편차 : \n",
    "print(np.sum(arr)) # 합\n",
    "print(np.mean(arr)) # 평균\n",
    "print(np.median(arr)) # 중앙 값\n",
    "print(np.var(arr)) # 모분산 variance (편차제곱의합을 개수로 나눈것) n=샘플의수 n-1=자유도\n",
    "# exp log\n",
    "print(np.unique(arr, return_counts=True)) # uique set() 이랑 같음 , 인자 return_counts=True : 누적 개수 리스트 반환\n",
    "# min max argmax argmin"
   ]
  },
  {
   "cell_type": "code",
   "execution_count": 70,
   "metadata": {},
   "outputs": [
    {
     "name": "stdout",
     "output_type": "stream",
     "text": [
      "-2.0\n"
     ]
    },
    {
     "data": {
      "text/plain": [
       "array([[1., 0.],\n",
       "       [0., 1.]])"
      ]
     },
     "execution_count": 70,
     "metadata": {},
     "output_type": "execute_result"
    }
   ],
   "source": [
    "A = np.array([1,2,3,4]).reshape(2,2)\n",
    "print(np.round(np.linalg.det(A))) # 행렬식 : 행렬식이 0이면 역행렬이 존재하지 않습니다.\n",
    "A_inv = np.linalg.inv(A)\n",
    "np.round(np.dot(A , A_inv)) # dot product 내적이 0이면 두 벡터는 직교합니다."
   ]
  },
  {
   "cell_type": "code",
   "execution_count": 63,
   "metadata": {},
   "outputs": [
    {
     "name": "stdout",
     "output_type": "stream",
     "text": [
      "(array([0, 1, 2, 3, 4, 5, 6, 7, 8, 9]), array([ 87,  95,  95, 120,  98, 115, 111,  99,  86,  94], dtype=int64))\n"
     ]
    }
   ],
   "source": [
    "arr = np.random.randint(10, size=1000)\n",
    "print(np.unique(arr, return_counts=True))"
   ]
  },
  {
   "cell_type": "code",
   "execution_count": 60,
   "metadata": {},
   "outputs": [
    {
     "name": "stdout",
     "output_type": "stream",
     "text": [
      "[0 1 2 3 4 5 6 7 8 9]\n"
     ]
    }
   ],
   "source": []
  },
  {
   "cell_type": "code",
   "execution_count": 55,
   "metadata": {},
   "outputs": [
    {
     "name": "stdout",
     "output_type": "stream",
     "text": [
      "2.8284271247461903\n",
      "8.0\n",
      "170.0\n",
      "[-4. -2.  0.  2.  4.]\n",
      "2.4\n",
      "2.8284271247461903\n"
     ]
    }
   ],
   "source": [
    "sh = np.array([166, 168, 170, 172, 174]) \n",
    "# 표준편차\n",
    "print(np.std(sh))\n",
    "print(np.var(sh))\n",
    "print(np.mean(sh)) # 평균\n",
    "arr = sh - np.mean(sh) # \n",
    "print(arr)\n",
    "arr = np.abs(arr)\n",
    "print(np.mean(arr))\n",
    "print(np.sqrt(np.var(sh))) # 분산의 제곱근 : 표준편차"
   ]
  },
  {
   "cell_type": "code",
   "execution_count": 57,
   "metadata": {},
   "outputs": [
    {
     "name": "stdout",
     "output_type": "stream",
     "text": [
      "10\n",
      "2.8284271247461903\n",
      "3.1622776601683795\n"
     ]
    }
   ],
   "source": [
    "import statistics as st # 통계라이브러리\n",
    "print(st.variance([166, 168, 170, 172, 174])) # 표본분산\n",
    "print(st.pstdev([166, 168, 170, 172, 174]))\n",
    "print(st.stdev([166, 168, 170, 172, 174])) "
   ]
  },
  {
   "cell_type": "code",
   "execution_count": 31,
   "metadata": {},
   "outputs": [
    {
     "data": {
      "text/plain": [
       "-0.4480736161291701"
      ]
     },
     "execution_count": 31,
     "metadata": {},
     "output_type": "execute_result"
    }
   ],
   "source": [
    "# 삼각함수\n",
    "# 호도법 : 180도 == 파이 : 파이 * 1rad = 180도 \n",
    "# np.cos(90)"
   ]
  },
  {
   "cell_type": "code",
   "execution_count": 30,
   "metadata": {},
   "outputs": [
    {
     "name": "stdout",
     "output_type": "stream",
     "text": [
      "[3]\n"
     ]
    }
   ],
   "source": [
    "np.array([1,2,3]) > 2 # np.array([1,2,3]) > 2\n",
    "arr = np.array([1,2,3])\n",
    "arr = arr[arr > 2] # [3]  배열의 조건 인덱싱\n",
    "print(arr)"
   ]
  },
  {
   "cell_type": "code",
   "execution_count": 27,
   "metadata": {},
   "outputs": [
    {
     "data": {
      "text/plain": [
       "array([[1, 2, 3, 1, 2, 3, 1, 2, 3],\n",
       "       [4, 5, 6, 4, 5, 6, 4, 5, 6]])"
      ]
     },
     "execution_count": 27,
     "metadata": {},
     "output_type": "execute_result"
    }
   ],
   "source": [
    "arr = [1,2,3]\n",
    "np.repeat(arr, 3) # 요소를 수치만큼 증식한다.\n",
    "np.tile(arr, 3)\n",
    "np.tile([[1,2,3],[4,5,6]], 3)"
   ]
  },
  {
   "cell_type": "code",
   "execution_count": 19,
   "metadata": {},
   "outputs": [
    {
     "name": "stdout",
     "output_type": "stream",
     "text": [
      "[[2 4 6]]\n",
      "[[2 4 6]\n",
      " [2 4 6]]\n",
      "[[2 3 4]\n",
      " [2 3 4]]\n"
     ]
    }
   ],
   "source": [
    "print(np.array([1,2,3]) + np.array([[1,2,3]])) \n",
    "print(np.array([1,2,3]) + np.array([[1,2,3],[1,2,3]])) # 차원이 큰놈이 기준이 된다\n",
    "print(np.array([[1,2,3],[1,2,3]])  + 1) \n",
    "# print(np.array([1,2]) + np.array([[1,2,3],[1,2,3]])) # 열이 안맞음 에러"
   ]
  },
  {
   "cell_type": "code",
   "execution_count": null,
   "metadata": {},
   "outputs": [],
   "source": []
  },
  {
   "cell_type": "code",
   "execution_count": 12,
   "metadata": {},
   "outputs": [
    {
     "name": "stdout",
     "output_type": "stream",
     "text": [
      "[[1 2 3]\n",
      " [4 5 6]]\n",
      "[[1 3]\n",
      " [4 6]]\n",
      "append 행\n",
      " [[1 3]\n",
      " [4 6]\n",
      " [7 8]]\n",
      "append 열\n",
      " [[1 3 2]\n",
      " [4 6 4]\n",
      " [7 8 6]]\n",
      "delete 행\n",
      " [[1 3 2]\n",
      " [7 8 6]]\n"
     ]
    }
   ],
   "source": [
    "arr = np.arange(1,7).reshape(2,3)\n",
    "print(arr)\n",
    "arr = np.delete(arr, 1, axis= 1)\n",
    "print(arr)\n",
    "arr = np.append(arr, [[7, 8]], axis=0) # axis 0 행 1열\n",
    "print('append 행\\n', arr)\n",
    "arr = np.append(arr, [[2], [4], [6]], axis=1) # axis 0 행 1열\n",
    "print('append 열\\n', arr)\n",
    "arr = np.delete(arr, 1, axis= 0) # 1인덱스 행 날림\n",
    "print('delete 행\\n',arr)"
   ]
  },
  {
   "cell_type": "code",
   "execution_count": 21,
   "metadata": {},
   "outputs": [
    {
     "name": "stdout",
     "output_type": "stream",
     "text": [
      "['1' 'two' '3'] [1. 2. 3.] [1 2 0]\n",
      "(3,)\n",
      "(2, 3)\n",
      "(2, 2, 3)\n",
      "<class 'numpy.ndarray'>\n",
      "2.0.1\n"
     ]
    }
   ],
   "source": [
    "import numpy as np\n",
    "arr = np.array([1, 'two', 3]) # 배열은 값의 타입을 통일한다. 문자열이 포함되면 모두 문자열로 한다\n",
    "arr1 = np.array([1, 2.0, 3]) # 실수가 포함 되면 모두 실수로 한다.\n",
    "arr2 = np.array([1, 2, False]) # bool < int < float < str  큰거 위주로 통일 된다.\n",
    "print(arr, arr1, arr2)\n",
    "arr = np.array([1,2,3])\n",
    "print(arr.shape) # shape 쉐잎 형태 면행열\n",
    "arr = np.array([[1,2,3], [4,5,6]])\n",
    "print(arr.shape) # 형태 면행열\n",
    "arr = np.array([[[1,2,3], [4,5,6]],[[1,2,3], [4,5,6]]])\n",
    "print(arr.shape) # 형태 면행열\n",
    "print(type(arr))\n",
    "print(np.__version__)"
   ]
  },
  {
   "cell_type": "code",
   "execution_count": 1,
   "metadata": {},
   "outputs": [
    {
     "name": "stdout",
     "output_type": "stream",
     "text": [
      "[1 2 3]\n",
      "{1, 2, 3}\n",
      "{1: 1, 2: 2, 3: 3}\n",
      "[ 0  1  2  3  4  5  6  7  8  9 10] [10  9  8  7  6  5  4  3  2  1  0] <class 'numpy.ndarray'>\n"
     ]
    }
   ],
   "source": [
    "import numpy as np\n",
    "print(np.array((1,2,3)))\n",
    "print(np.array({1,2,3}))\n",
    "print(np.array({1:1,2:2,3:3}))\n",
    "print(np.arange(11), np.arange(10,-1,-1), type(np.arange(1))) # range 와 같은데 리스트로 반환한다."
   ]
  },
  {
   "cell_type": "markdown",
   "metadata": {},
   "source": [
    "1. 기본 데이터 타입\n",
    "- int: 정수 데이터 타입\n",
    "\n",
    "- np.int8: 8비트 정수 (-128 ~ 127)\n",
    "- np.int16: 16비트 정수 (-32,768 ~ 32,767)\n",
    "- np.int32: 32비트 정수 (-2,147,483,648 ~ 2,147,483,647)\n",
    "- np.int64: 64비트 정수 (-9,223,372,036,854,775,808 ~ 9,223,372,036,854,775,807)\n",
    "- uint: 부호 없는 정수 데이터 타입\n",
    "\n",
    "- np.uint8: 8비트 부호 없는 정수 (0 ~ 255)\n",
    "- np.uint16: 16비트 부호 없는 정수 (0 ~ 65,535)\n",
    "- np.uint32: 32비트 부호 없는 정수 (0 ~ 4,294,967,295)\n",
    "- np.uint64: 64비트 부호 없는 정수 (0 ~ 18,446,744,073,709,551,615)\n",
    "- float: 부동 소수점 데이터 타입\n",
    "\n",
    "- np.float16: 16비트 부동 소수점 수\n",
    "- np.float32: 32비트 부동 소수점 수\n",
    "- np.float64: 64비트 부동 소수점 수 (일반적으로 float의 기본 타입)\n",
    "- complex: 복소수 데이터 타입\n",
    "\n",
    "- np.complex64: 64비트 복소수 (32비트 실수부 + 32비트 허수부)\n",
    "- np.complex128: 128비트 복소수 (64비트 실수부 + 64비트 허수부)\n",
    "2. 문자열 데이터 타입\n",
    "- string: 문자열 데이터 타입\n",
    "- np.str_: 문자열\n",
    "- np.bytes_: 바이트 문자열\n",
    "3. 불리언 데이터 타입\n",
    "- bool: 불리언 데이터 타입\n",
    "- np.bool_: True 또는 False 값을 가질 수 있는 데이터 타입\n",
    "4. 오브젝트 데이터 타입\n",
    "- object: 일반 Python 객체를 저장할 수 있는 데이터 타입\n",
    "- np.object_: 다양한 데이터 타입을 저장할 수 있습니다.\n",
    "5. 날짜와 시간 데이터 타입\n",
    "- datetime: 날짜 및 시간 관련 데이터 타입\n",
    "- np.datetime64: 날짜 및 시간을 저장하는 데 사용됩니다.\n",
    "- np.timedelta64: 시간 차이를 나타내는 데 사용됩니다."
   ]
  },
  {
   "cell_type": "code",
   "execution_count": 54,
   "metadata": {},
   "outputs": [
    {
     "name": "stdout",
     "output_type": "stream",
     "text": [
      "50\n",
      "[ 1.  2.  3.  4.  5.  6.  7.  8.  9. 10.]\n",
      "[[0. 0.]\n",
      " [0. 0.]]\n",
      "[[1. 1.]\n",
      " [1. 1.]]\n",
      "[1]\n",
      "[2 3 4]\n",
      "[[1 2]\n",
      " [3 4]\n",
      " [5 6]]\n",
      "[1 2 3 4 5 6]\n",
      "[(np.int64(1), np.int64(4)), (np.int64(2), np.int64(5)), (np.int64(3), np.int64(6))]\n"
     ]
    },
    {
     "data": {
      "text/plain": [
       "array([[ 1,  2],\n",
       "       [ 3,  4],\n",
       "       [ 5,  6],\n",
       "       [ 7,  8],\n",
       "       [ 9, 10],\n",
       "       [11, 12]])"
      ]
     },
     "execution_count": 54,
     "metadata": {},
     "output_type": "execute_result"
    }
   ],
   "source": [
    "import numpy as np\n",
    "print(len(np.linspace(1,10))) # 기본적으로 50개의 요소로 된 배열을 준다. \n",
    "print(np.linspace(1,10, num=10)) # 기본 float 타입\n",
    "print(np.zeros((2,2)), np.ones((2,2)), sep='\\n')\n",
    "np.astype(np.array([1,2,3]), str) # 형변환\n",
    "print(np.array(['1']).astype(int)) # array 자체에도 형변환 있음.\n",
    "print(np.array([1,2,3]) + 1) # 브로드 캐스팅 연산. 모든 요소에 1을 더한다\n",
    "print(np.reshape([[1,2,3],[4,5,6]], (3,2))) # 내가 원하는 모양은 아닌데.... \n",
    "print(np.reshape(np.arange(1,7), (2, 3)).reshape(6))\n",
    "arr = [[1,2,3], [4,5,6]]\n",
    "print([(i, j) for (i, j) in zip(np.arange(1,4).astype(int), np.arange(4,7).astype(int))])\n",
    "type(np.arange(1,4).astype(int))\n",
    "nparr = np.arange(1,13)\n",
    "nparr.reshape(6,-1) # -1을 넣으면 자동으로 맞춰준다."
   ]
  },
  {
   "cell_type": "code",
   "execution_count": 263,
   "metadata": {},
   "outputs": [
    {
     "name": "stdout",
     "output_type": "stream",
     "text": [
      "1722838478.8233635\n",
      "1722838484.2048717\n"
     ]
    }
   ],
   "source": [
    "import numpy as np\n",
    "ran = np.random.random() # 0 ~ 1 사이\n",
    "ran = np.random.rand(3, 2) # 0 ~ 1 사이 행열\n",
    "ran = np.random.randn(3, 2) # 0 을 기준\n",
    "ran = np.random.randn()\n",
    "ran\n",
    "randic = {}\n",
    "import time\n",
    "print(time.time())\n",
    "for i in range(10000000):\n",
    "    i = int(np.random.randn())\n",
    "    if i in randic:\n",
    "        randic[i] += 1\n",
    "    else :\n",
    "        randic.update({i : 1})\n",
    "randic\n",
    "print(time.time())"
   ]
  },
  {
   "cell_type": "code",
   "execution_count": 288,
   "metadata": {},
   "outputs": [
    {
     "name": "stdout",
     "output_type": "stream",
     "text": [
      "[[0 1 2 3 4]\n",
      " [5 6 7 8 9]]\n"
     ]
    },
    {
     "data": {
      "text/plain": [
       "array([[0, 1, 2, 3, 4, 1],\n",
       "       [5, 6, 7, 8, 9, 2],\n",
       "       [1, 2, 4, 5, 6, 3]])"
      ]
     },
     "execution_count": 288,
     "metadata": {},
     "output_type": "execute_result"
    }
   ],
   "source": [
    "import numpy as np\n",
    "nparr = np.arange(10)\n",
    "nparr = nparr.reshape(2, -1)\n",
    "print(nparr) # 차원 개수를 맞춰줘야 함.\n",
    "nparr = np.append(nparr, [[1, 2, 4, 5, 6]], axis=0) # axis = 0 행 1 열 \n",
    "nparr = np.append(nparr, [[1],[2],[3]], axis=1 )# 열 삽입시 행 개수 맞춰줘야함.\n",
    "nparr\n"
   ]
  },
  {
   "cell_type": "code",
   "execution_count": null,
   "metadata": {},
   "outputs": [],
   "source": [
    "\n"
   ]
  },
  {
   "cell_type": "code",
   "execution_count": 265,
   "metadata": {},
   "outputs": [
    {
     "name": "stdout",
     "output_type": "stream",
     "text": [
      "CPU times: total: 3.95 s\n",
      "Wall time: 3.95 s\n"
     ]
    }
   ],
   "source": [
    "# 매직명령어\n",
    "%time for i in range(1000) : np.arange(1000000) * 2"
   ]
  },
  {
   "cell_type": "code",
   "execution_count": 266,
   "metadata": {},
   "outputs": [
    {
     "name": "stdout",
     "output_type": "stream",
     "text": [
      "CPU times: total: 14.4 s\n",
      "Wall time: 14.4 s\n"
     ]
    }
   ],
   "source": [
    "li = [i for i in range(1000000)]\n",
    "%time for i in range(1000) : li * 2"
   ]
  },
  {
   "attachments": {
    "image.png": {
     "image/png": "[encoded data removed]"
    }
   },
   "cell_type": "markdown",
   "metadata": {},
   "source": [
    "# 국제 단위계(International System of Units, SI)\n",
    "- SI 접두사 (SI Prefixes)\n",
    "***\n",
    "![image.png](attachment:image.png)"
   ]
  },
  {
   "cell_type": "markdown",
   "metadata": {},
   "source": []
  }
 ],
 "metadata": {
  "kernelspec": {
   "display_name": "Python 3",
   "language": "python",
   "name": "python3"
  },
  "language_info": {
   "codemirror_mode": {
    "name": "ipython",
    "version": 3
   },
   "file_extension": ".py",
   "mimetype": "text/x-python",
   "name": "python",
   "nbconvert_exporter": "python",
   "pygments_lexer": "ipython3",
   "version": "3.12.4"
  }
 },
 "nbformat": 4,
 "nbformat_minor": 2
}
