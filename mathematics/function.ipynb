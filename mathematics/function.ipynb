{
 "cells": [
  {
   "cell_type": "code",
   "execution_count": null,
   "metadata": {},
   "outputs": [],
   "source": []
  },
  {
   "cell_type": "markdown",
   "metadata": {},
   "source": [
    "### 함수 function\n",
    "- 수학에서 함수란 변수하나와 다른 변수 간 관계를 정의하는 표현 또는 규칙\n",
    "\n",
    "### 기초함수\n",
    "- 함수\n",
    "- $f(x) = y$\n",
    "- $f(1) = 1000$\n",
    "\n",
    "### 함수와 방정식\n",
    "- x값에 따라 y값이 결정되면 함수\n",
    "- 미지수에 값에 따라 등식이 성립 하거나 안하면 방정식\n",
    "- 방정식은 함수를 포함하며 모든 함수는 방정식으로 표현 가능하다.\n",
    "\n"
   ]
  },
  {
   "cell_type": "code",
   "execution_count": null,
   "metadata": {},
   "outputs": [],
   "source": []
  }
 ],
 "metadata": {
  "language_info": {
   "name": "python"
  }
 },
 "nbformat": 4,
 "nbformat_minor": 2
}
