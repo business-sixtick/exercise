{
 "cells": [
  {
   "cell_type": "markdown",
   "metadata": {},
   "source": [
    "# 미분\n",
    "- 아주 작게 나눌때의 순간 변화 (접선의 기울기 y = ax + b ) 기울기 == 가중치 == a \n",
    "- 미분, 선형대수, 확률\n",
    "- 오차역전파에서 가중치를 수정해서 오차를 최소화\n",
    "- population 파퓰레이션 인구, 모집단 (군집)\n",
    "- 모수 parameter 매개변수 (군집의 특징)\n",
    "- 추정, 샘플, 통계, 예측 (군집의 특징을 샘플링해서 평균과 분산을 파악하고 표준편차를 구한다?)\n",
    "- 신경망, 퍼셉트론, 레이어, 딥러닝\n",
    "- 경사하강법 descent 기울기가 제일 낮은것은 0\n",
    "- 편향 : 출력되는 값을 조절하는 역할\n",
    "- 활성화 함수 : 계단함수, 시그모이드, 렐루 rectified (정류)\n",
    "- 에타 $\\eta$ 학습율"
   ]
  },
  {
   "cell_type": "markdown",
   "metadata": {},
   "source": [
    "# 미분 법칙\n",
    "- 합(차) 법칙\n",
    "- 곱 법칙\n",
    "- 몫 법칙\n",
    "- 연쇄 법칙 : "
   ]
  },
  {
   "cell_type": "code",
   "execution_count": 12,
   "metadata": {},
   "outputs": [
    {
     "data": {
      "text/latex": [
       "$\\displaystyle 2 x - 5$"
      ],
      "text/plain": [
       "2*x - 5"
      ]
     },
     "execution_count": 12,
     "metadata": {},
     "output_type": "execute_result"
    }
   ],
   "source": [
    "import sympy as sp\n",
    "# y = x**2 - 5*x\n",
    "x = sp.symbols('x')\n",
    "f = x**2 - 5*x\n",
    "sp.diff(f, x)"
   ]
  },
  {
   "cell_type": "code",
   "execution_count": 10,
   "metadata": {},
   "outputs": [
    {
     "data": {
      "text/plain": [
       "[1/2]"
      ]
     },
     "execution_count": 10,
     "metadata": {},
     "output_type": "execute_result"
    }
   ],
   "source": [
    "import numpy as np\n",
    "import sympy as sp\n",
    "# y = (2x - 1)**4\n",
    "x = sp.symbols('x')\n",
    "y = sp.symbols('y')\n",
    "eq= y = (2*x - 1)**4\n",
    "sp.solve(eq)"
   ]
  },
  {
   "cell_type": "code",
   "execution_count": 11,
   "metadata": {},
   "outputs": [
    {
     "data": {
      "text/latex": [
       "$\\displaystyle 4 x^{3}$"
      ],
      "text/plain": [
       "4*x**3"
      ]
     },
     "execution_count": 11,
     "metadata": {},
     "output_type": "execute_result"
    }
   ],
   "source": [
    "import sympy as sp\n",
    "x = sp.symbols('x')\n",
    "f1 = x**4\n",
    "sp.diff(f1, x) # 미분  ... 왜하냐? 뭐하러? "
   ]
  },
  {
   "cell_type": "code",
   "execution_count": 4,
   "metadata": {},
   "outputs": [
    {
     "name": "stdout",
     "output_type": "stream",
     "text": [
      "0.9525741268224334\n"
     ]
    },
    {
     "data": {
      "text/plain": [
       "np.float64(0.9525741268224334)"
      ]
     },
     "execution_count": 4,
     "metadata": {},
     "output_type": "execute_result"
    }
   ],
   "source": [
    "import numpy as np\n",
    "1 / (1 + (np.e ** -3))\n",
    "\n",
    "def sigmoid(x):\n",
    "    res = 1 / (1 + (np.exp(-x)))\n",
    "    print(res)\n",
    "    return res\n",
    "\n",
    "sigmoid(3)"
   ]
  },
  {
   "cell_type": "markdown",
   "metadata": {},
   "source": []
  },
  {
   "cell_type": "code",
   "execution_count": null,
   "metadata": {},
   "outputs": [],
   "source": []
  }
 ],
 "metadata": {
  "kernelspec": {
   "display_name": "Python 3",
   "language": "python",
   "name": "python3"
  },
  "language_info": {
   "codemirror_mode": {
    "name": "ipython",
    "version": 3
   },
   "file_extension": ".py",
   "mimetype": "text/x-python",
   "name": "python",
   "nbconvert_exporter": "python",
   "pygments_lexer": "ipython3",
   "version": "3.12.4"
  }
 },
 "nbformat": 4,
 "nbformat_minor": 2
}
