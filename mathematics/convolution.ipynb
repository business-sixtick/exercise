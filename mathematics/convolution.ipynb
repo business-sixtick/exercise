{
 "cells": [
  {
   "cell_type": "code",
   "execution_count": null,
   "metadata": {},
   "outputs": [],
   "source": [
    "# 합성곱\n",
    "# convolution\n",
    "# 칸벌루션\n",
    "# 커널\n",
    "# 바이어스"
   ]
  },
  {
   "cell_type": "code",
   "execution_count": 23,
   "metadata": {},
   "outputs": [
    {
     "name": "stdout",
     "output_type": "stream",
     "text": [
      "[[7. 2. 2.]\n",
      " [6. 2. 7.]\n",
      " [5. 1. 4.]] \n",
      " [[19. -3. -8.]\n",
      " [14. -6. 25.]\n",
      " [11. -8.  4.]]\n"
     ]
    }
   ],
   "source": [
    "import numpy as np\n",
    "import cv2\n",
    "\n",
    "arr1 = np.random.randint(0, 10, size=(3, 3)).astype(np.float32)\n",
    "arr2 = np.random.randint(0, 10, size=(3, 3))\n",
    "arr3 = np.random.randint(0, 10, size=(3, 3))\n",
    "kernel = np.array([[0, -1, 0],\n",
    "                   [-1, 5,-1],\n",
    "                   [0, -1, 0]]).astype(np.float32)\n",
    "filtered_img = cv2.filter2D(arr1, -1, kernel)\n",
    "print(arr1,'\\n', filtered_img)"
   ]
  },
  {
   "cell_type": "code",
   "execution_count": 11,
   "metadata": {},
   "outputs": [],
   "source": [
    "import cv2\n",
    "import numpy as np\n",
    "\n",
    "# 이미지를 그레이스케일로 읽어옵니다\n",
    "img = cv2.imread('C:\\source\\kamp_ex\\image\\KEMP_IMG_DATA_Error_2.png', cv2.IMREAD_GRAYSCALE)\n",
    "\n",
    "# 3x3 샤프닝 필터를 정의합니다\n",
    "kernel = np.array([[0, -1, 0],\n",
    "                   [-1, 5,-1],\n",
    "                   [0, -1, 0]])\n",
    "\n",
    "# 필터를 이미지에 적용하여 합성곱 연산을 수행합니다\n",
    "filtered_img = cv2.filter2D(img, -1, kernel)\n",
    "# filtered_img = cv2.filter2D(filtered_img, -1, kernel)\n",
    "# filtered_img = cv2.filter2D(filtered_img, -1, kernel)\n",
    "# filtered_img = cv2.filter2D(filtered_img, -1, kernel)\n",
    "# 결과 이미지를 출력합니다\n",
    "cv2.imshow('Filtered Image', filtered_img)\n",
    "cv2.waitKey(0)\n",
    "cv2.destroyAllWindows()\n"
   ]
  },
  {
   "cell_type": "code",
   "execution_count": 6,
   "metadata": {},
   "outputs": [],
   "source": [
    "import cv2\n",
    "import numpy as np\n",
    "\n",
    "# 이미지 불러오기\n",
    "img = cv2.imread('C:\\source\\kamp_ex\\image\\KEMP_IMG_DATA_Error_2.png', cv2.IMREAD_GRAYSCALE)\n",
    "\n",
    "# 소벨 필터 적용 - 수평 경계 (dx=1, dy=0)\n",
    "sobelx = cv2.Sobel(img, cv2.CV_64F, 1, 0, ksize=3)\n",
    "\n",
    "# 소벨 필터 적용 - 수직 경계 (dx=0, dy=1)\n",
    "sobely = cv2.Sobel(img, cv2.CV_64F, 0, 1, ksize=3)\n",
    "\n",
    "# 수평 및 수직 경계를 결합\n",
    "sobel_combined = cv2.magnitude(sobelx, sobely)\n",
    "\n",
    "# 결과 출력\n",
    "cv2.imshow('Original Image', img)\n",
    "cv2.imshow('Sobel X', sobelx)\n",
    "cv2.imshow('Sobel Y', sobely)\n",
    "cv2.imshow('Sobel Combined', sobel_combined)\n",
    "cv2.waitKey(0)\n",
    "cv2.destroyAllWindows()\n"
   ]
  },
  {
   "cell_type": "code",
   "execution_count": 14,
   "metadata": {},
   "outputs": [],
   "source": [
    "# np.ones((3,3), np.float32) / 9\n",
    "import cv2\n",
    "import numpy as np\n",
    "\n",
    "# 이미지를 그레이스케일로 읽어옵니다\n",
    "img = cv2.imread('C:\\source\\kamp_ex\\image\\KEMP_IMG_DATA_Error_2.png', cv2.IMREAD_GRAYSCALE)\n",
    "\n",
    "\n",
    "kernel = np.ones((3,3), np.float32) / 9\n",
    "\n",
    "# 필터를 이미지에 적용하여 합성곱 연산을 수행합니다\n",
    "filtered_img = cv2.filter2D(img, -1, kernel)\n",
    "# filtered_img = cv2.filter2D(filtered_img, -1, kernel)\n",
    "# filtered_img = cv2.filter2D(filtered_img, -1, kernel)\n",
    "# filtered_img = cv2.filter2D(filtered_img, -1, kernel)\n",
    "# 결과 이미지를 출력합니다\n",
    "cv2.imshow('Filtered Image', filtered_img)\n",
    "cv2.waitKey(0)\n",
    "cv2.destroyAllWindows()"
   ]
  }
 ],
 "metadata": {
  "kernelspec": {
   "display_name": "Python 3",
   "language": "python",
   "name": "python3"
  },
  "language_info": {
   "codemirror_mode": {
    "name": "ipython",
    "version": 3
   },
   "file_extension": ".py",
   "mimetype": "text/x-python",
   "name": "python",
   "nbconvert_exporter": "python",
   "pygments_lexer": "ipython3",
   "version": "3.7.9"
  }
 },
 "nbformat": 4,
 "nbformat_minor": 2
}
