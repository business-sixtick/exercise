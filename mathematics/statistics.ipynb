{
 "cells": [
  {
   "cell_type": "code",
   "execution_count": null,
   "metadata": {},
   "outputs": [],
   "source": [
    "# statistics 스태티스틱스 통계\n",
    "# 기술통계 : 서술 하여 요약한다.  루트 분산 == 표준편차 . 정규분포. 평균0표준편차1분산1 == 표준화\n",
    "# 추론통계 : 추정, 예측"
   ]
  }
 ],
 "metadata": {
  "language_info": {
   "name": "python"
  }
 },
 "nbformat": 4,
 "nbformat_minor": 2
}
