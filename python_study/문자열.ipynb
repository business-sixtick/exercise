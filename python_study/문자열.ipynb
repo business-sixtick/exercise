{
 "cells": [
  {
   "cell_type": "code",
   "execution_count": null,
   "metadata": {},
   "outputs": [],
   "source": [
    "# 문자열"
   ]
  },
  {
   "cell_type": "code",
   "execution_count": null,
   "metadata": {},
   "outputs": [],
   "source": [
    "# format() upper() lower() strip() isxx() find() rfind() split() replace()"
   ]
  },
  {
   "cell_type": "code",
   "execution_count": 9,
   "metadata": {},
   "outputs": [
    {
     "data": {
      "text/plain": [
       "'52'"
      ]
     },
     "execution_count": 9,
     "metadata": {},
     "output_type": "execute_result"
    }
   ],
   "source": [
    "#'{}{}{}'.format(52, type(273)) # 인덱스를 채워줘야됨\n",
    "\n",
    "# split() d \n",
    "# upper() b\n",
    "# lower() a\n",
    "# strip() c "
   ]
  },
  {
   "cell_type": "code",
   "execution_count": 11,
   "metadata": {},
   "outputs": [
    {
     "name": "stdout",
     "output_type": "stream",
     "text": [
      "\n",
      "100 + 200 = 300\n"
     ]
    }
   ],
   "source": [
    "a = input('> 1번째 숫자 : ')\n",
    "b = input('> 2번째 숫자 : ')\n",
    "print()\n",
    "print('{} + {} = {}'.format(a, b, int(a)+int(b)))"
   ]
  },
  {
   "cell_type": "code",
   "execution_count": 12,
   "metadata": {},
   "outputs": [
    {
     "name": "stdout",
     "output_type": "stream",
     "text": [
      "A 지점 :  hello\n",
      "B 지점 :  HELLO\n"
     ]
    }
   ],
   "source": [
    "string = 'hello'\n",
    "string.upper()\n",
    "print('A 지점 : ', string)\n",
    "print('B 지점 : ', string.upper())"
   ]
  },
  {
   "cell_type": "code",
   "execution_count": 7,
   "metadata": {},
   "outputs": [
    {
     "name": "stdout",
     "output_type": "stream",
     "text": [
      "= 빗변의 길이는 5.0 입니다.\n"
     ]
    }
   ],
   "source": [
    "# 피타고라스의 정리 c**2 = a**2 + b**2 \n",
    "# 제곱근 ** 0.5 , 3제곱근 ** (1/3)\n",
    "b_len = int(input('밑변의 길이를 입력해 주세요 : '))\n",
    "h_len = int(input('높이의 길이를 입력해 주세요 : '))\n",
    "print(f'= 빗변의 길이는 {(b_len**2 + h_len ** 2) ** 0.5 } 입니다.')"
   ]
  },
  {
   "cell_type": "code",
   "execution_count": 17,
   "metadata": {},
   "outputs": [
    {
     "name": "stdout",
     "output_type": "stream",
     "text": [
      "= 구의 부피는 523.5987755982989 \n",
      "= 구의 겉 넓이는 314.1592입니다\n"
     ]
    }
   ],
   "source": [
    "import math\n",
    " #  구의 부피와 겉 넓이를 구하는 프로그램을 만들어 보세요\n",
    "gu = int(input('구의 반지름을 입력해 주세요 : '))\n",
    "print(f'= 구의 부피는 {gu**3 * math.pi * 4/3} ')\n",
    "print(f'= 구의 겉 넓이는 {4 * 3.141592 * gu ** 2}입니다')"
   ]
  },
  {
   "attachments": {
    "image.png": {
     "image/png": "[encoded data removed]"
    }
   },
   "cell_type": "markdown",
   "metadata": {},
   "source": [
    "![image.png](attachment:image.png)"
   ]
  },
  {
   "cell_type": "code",
   "execution_count": 1,
   "metadata": {},
   "outputs": [
    {
     "name": "stdout",
     "output_type": "stream",
     "text": [
      "+3.14\n",
      "+3.141592\n",
      "True\n"
     ]
    }
   ],
   "source": [
    "print('{: >+1.2f}'.format(3.141592))\n",
    "print('%+2f' % 3.141592)\n",
    "print('a' in 'abcde')"
   ]
  },
  {
   "cell_type": "code",
   "execution_count": 45,
   "metadata": {},
   "outputs": [
    {
     "name": "stdout",
     "output_type": "stream",
     "text": [
      "ABC\n",
      "abc\n",
      "strip\n",
      "True\n",
      "-1\n",
      "3\n",
      "['a', 'c']\n",
      "a_c\n",
      "5\n",
      "1\n",
      "0\n",
      "_12345-12345*\n",
      "2과 1의 사이\n"
     ]
    }
   ],
   "source": [
    "print(\"abc\".upper())\n",
    "print('ABC'.lower())\n",
    "print('  strip'.strip())\n",
    "print('12'.isdigit())\n",
    "print('123'.find('4')) # 없으믄 -1\n",
    "print('123123'.rfind('1')) # 중복시 오른쪽꺼\n",
    "print('abc'.split('b'))\n",
    "print('abc'.replace('b', '_'))\n",
    "print(len(' strip '.lstrip().rstrip()))\n",
    "print('12345'.count('1')) # 아 해당 글자가 몇개인가 ㅋㅋ\n",
    "print('12345'.index('1')) # 해당 글자의 인덱스 ㅋㅋ\n",
    "print('12345'.join(['_', '-', '*'])) #해당 배열 을 붙일때 앞에 문자열을 사이에 낀다\n",
    "print('{1}과 {0}의 사이'.format(1,2))"
   ]
  },
  {
   "cell_type": "code",
   "execution_count": 1,
   "metadata": {},
   "outputs": [
    {
     "name": "stdout",
     "output_type": "stream",
     "text": [
      "나는 소년입니다. <class 'str'>\n",
      "파이썬은 쉬워요. <class 'str'>\n",
      "<class 'str'>\n",
      "\n",
      "나는 소년이고,\n",
      "파이썬은 쉬워요.\n",
      "\n"
     ]
    }
   ],
   "source": [
    "sentence1 = '나는 소년입니다.'\n",
    "print(sentence1, type(sentence1))\n",
    "sentence2 = \"파이썬은 쉬워요.\"\n",
    "print(sentence2, type(sentence2))\n",
    "print(type('a')) # 파이썬에는 char 타입은 없다 str 만 있음\n",
    "\n",
    "sentence3 = \"\"\"\n",
    "나는 소년이고,\n",
    "파이썬은 쉬워요.\n",
    "\"\"\"\n",
    "print(sentence3)"
   ]
  },
  {
   "cell_type": "code",
   "execution_count": 2,
   "metadata": {},
   "outputs": [
    {
     "name": "stdout",
     "output_type": "stream",
     "text": [
      "성별 식별번호 : 1\n",
      "연 : 99\n",
      "월 : 02\n",
      "일 : 29\n",
      "생년월일 : 990229\n",
      "주민등록번호 뒷자리 : 1234567\n",
      "주민등록번호 뒷자리(뒤에서부터) : 1234567\n"
     ]
    }
   ],
   "source": [
    "jumin = \"990229-1234567\"\n",
    "print(\"성별 식별번호 : \" + jumin[7])\n",
    "\n",
    "jumin = \"990229-1234567\"\n",
    "print(\"연 : \" + jumin[0:2]) # 0부터 2 직전까지(0, 1)\n",
    "print(\"월 : \" + jumin[2:4]) # 2부터 4 직전까지(2, 3)\n",
    "print(\"일 : \" + jumin[4:6]) # 4부터 6 직전까지(4, 5)\n",
    "print(\"생년월일 : \" + jumin[:6]) # 처음부터 6 직전까지 -> jumin[0:6]과 같음\n",
    "print(\"주민등록번호 뒷자리 : \" + jumin[7:]) # 7부터 끝까지 -> jumin[7:14]와 같음\n",
    "print(\"주민등록번호 뒷자리(뒤에서부터) : \" + jumin[-7:]) # 뒤에서 7번째 위치부터 끝까지\n"
   ]
  },
  {
   "cell_type": "code",
   "execution_count": 3,
   "metadata": {},
   "outputs": [
    {
     "name": "stdout",
     "output_type": "stream",
     "text": [
      "python is amazing\n",
      "PYTHON IS AMAZING\n",
      "True\n",
      "True\n",
      "Java is Amazing\n"
     ]
    }
   ],
   "source": [
    "python = \"Python is Amazing\"\n",
    "\n",
    "print(python.lower()) # 전체 소문자로 변환\n",
    "print(python.upper()) # 전체 대문자로 변환\n",
    "print(python[0].isupper()) # 인덱스 0에 있는 값이 대문자인지 확인\n",
    "print(python[1:3].islower()) # 인덱스 1부터 2에 있는 값이 소문자인지 확인\n",
    "print(python.replace(\"Python\", \"Java\")) # Python을 Java로 바꾸기"
   ]
  },
  {
   "cell_type": "code",
   "execution_count": 4,
   "metadata": {},
   "outputs": [
    {
     "name": "stdout",
     "output_type": "stream",
     "text": [
      "5\n",
      "15\n",
      "-1\n"
     ]
    }
   ],
   "source": [
    "python = \"Python is Amazing\"\n",
    "\n",
    "find = python.find(\"n\") # 처음 발견한 n의 인덱스\n",
    "print(find) # 'Python'에서 n(인덱스 5)\n",
    "find = python.find(\"n\", find + 1) # 인덱스 6 이후부터 찾아 처음 발견한 n의 인덱스\n",
    "print(find) # ' is Amazing'에서 n(인덱스15)\n",
    "find = python.find(\"Java\") # Java가 없으면 -1을 반환(출력)한 후 프로그램 계속 수행\n",
    "print(find)\n"
   ]
  },
  {
   "cell_type": "code",
   "execution_count": 5,
   "metadata": {},
   "outputs": [
    {
     "name": "stdout",
     "output_type": "stream",
     "text": [
      "5\n",
      "15\n",
      "5\n",
      "5\n"
     ]
    }
   ],
   "source": [
    "index = python.index(\"n\") # 처음 발견한 n의 인덱스\n",
    "print(index) # 'Python'에서 n\n",
    "index = python.index(\"n\", index + 1) # 인덱스 6 이후부터 찾아 처음 발견한 n의 인덱스\n",
    "print(index) # ' is Amazing'에서 n\n",
    "index = python.index(\"n\", 2, 6) # 인덱스 2부터 6 직전까지 찾아 처음 발견한 n의 인덱스\n",
    "print(index) # 'thon'에서 n(인덱스 5)\n",
    "#index = python.index(\"Java\") # Java가 없으면 오류가 발생하며 프로그램 종료\n",
    "print(index)\n"
   ]
  },
  {
   "cell_type": "code",
   "execution_count": 6,
   "metadata": {},
   "outputs": [
    {
     "name": "stdout",
     "output_type": "stream",
     "text": [
      "2\n",
      "0\n",
      "17\n",
      "abab\n",
      "ab ab\n"
     ]
    }
   ],
   "source": [
    "python = \"Python is Amazing\"\n",
    "\n",
    "print(python.count(\"n\"))\n",
    "print(python.count(\"v\"))\n",
    "\n",
    "\n",
    "python = \"Python is Amazing\"\n",
    "\n",
    "print(len(python))\n",
    "print(\"ab\" + \"ab\")\n",
    "print(\"ab\", \"ab\")\n"
   ]
  },
  {
   "cell_type": "code",
   "execution_count": 7,
   "metadata": {},
   "outputs": [
    {
     "name": "stdout",
     "output_type": "stream",
     "text": [
      "나는 20살입니다.\n",
      "나는 파이썬을 좋아합니다.\n",
      "Apple은 A로 시작해요.\n",
      "나는 20살입니다.\n",
      "나는 파란색과 빨간색을 좋아해요.\n"
     ]
    }
   ],
   "source": [
    "print(\"나는 %d살입니다.\" % 20)\n",
    "print(\"나는 %s을 좋아합니다.\" % \"파이썬\")\n",
    "print(\"Apple은 %c로 시작해요.\" % \"A\")\n",
    "print(\"나는 %s살입니다.\" % 20)\n",
    "\n",
    "\n",
    "print(\"나는 %s색과 %s색을 좋아해요.\" % (\"파란\", \"빨간\")) # 값이 여럿일 때\n"
   ]
  },
  {
   "cell_type": "code",
   "execution_count": 8,
   "metadata": {},
   "outputs": [
    {
     "name": "stdout",
     "output_type": "stream",
     "text": [
      "나는 20살입니다.\n",
      "나는 파란색과 빨간색을 좋아해요.\n",
      "나는 파란색과 빨간색을 좋아해요.\n",
      "나는 빨간색과 파란색을 좋아해요.\n",
      "나는 20살이며, 빨간색을 좋아해요.\n",
      "나는 20살이며, 빨간색을 좋아해요.\n"
     ]
    }
   ],
   "source": [
    "print(\"나는 {}살입니다.\".format(20))\n",
    "print(\"나는 {}색과 {}색을 좋아해요.\".format(\"파란\", \"빨간\"))\n",
    "print(\"나는 {0}색과 {1}색을 좋아해요.\".format(\"파란\", \"빨간\"))\n",
    "print(\"나는 {1}색과 {0}색을 좋아해요.\".format(\"파란\", \"빨간\"))\n",
    "\n",
    "\n",
    "print(\"나는 {age}살이며, {color}색을 좋아해요.\".format(age=20, color=\"빨간\"))\n",
    "print(\"나는 {age}살이며, {color}색을 좋아해요.\".format(color=\"빨간\", age=20))\n"
   ]
  },
  {
   "cell_type": "code",
   "execution_count": 9,
   "metadata": {},
   "outputs": [
    {
     "name": "stdout",
     "output_type": "stream",
     "text": [
      "나는 20살이며, 빨간색을 좋아해요.\n"
     ]
    }
   ],
   "source": [
    "age = 20\n",
    "color = \"빨간\"\n",
    "print(f\"나는 {age}살이며, {color}색을 좋아해요.\")\n"
   ]
  },
  {
   "cell_type": "code",
   "execution_count": 10,
   "metadata": {},
   "outputs": [
    {
     "name": "stdout",
     "output_type": "stream",
     "text": [
      "백문이 불여일견 백견이 불여일타\n",
      "백문이 불여일견\n",
      "백견이 불여일타\n"
     ]
    }
   ],
   "source": [
    "print(\"백문이 불여일견 백견이 불여일타\")\n",
    "#print(\"백문이 불여일견 # SyntaxError 발생\n",
    "#백견이 불여일타\")\n",
    "print(\"백문이 불여일견\\n백견이 불여일타\")\n"
   ]
  },
  {
   "cell_type": "code",
   "execution_count": 11,
   "metadata": {},
   "outputs": [
    {
     "name": "stdout",
     "output_type": "stream",
     "text": [
      "저는 '나도코딩'입니다.\n",
      "저는 \"나도코딩\"입니다.\n",
      "저는 \"나도코딩\"입니다.\n",
      "저는 '나도코딩'입니다.\n"
     ]
    }
   ],
   "source": [
    "#print(\"저는 \"나도코딩\"입니다.\")\n",
    "print(\"저는 '나도코딩'입니다.\")\n",
    "# 또는\n",
    "print('저는 \"나도코딩\"입니다.')\n",
    "\n",
    "\n",
    "print(\"저는 \\\"나도코딩\\\"입니다.\")\n",
    "print(\"저는 \\'나도코딩\\'입니다.\")"
   ]
  },
  {
   "cell_type": "code",
   "execution_count": 12,
   "metadata": {},
   "outputs": [
    {
     "name": "stdout",
     "output_type": "stream",
     "text": [
      "C:\\Users\\Nadocoding\\Desktop\\PythonWorkspace\n",
      "C:\\Users\\Nadocoding\\Desktop\\PythonWorkspace\n"
     ]
    }
   ],
   "source": [
    "#print(\"C:\\Users\\Nadocoding\\Desktop\\PythonWorkspace\") # SyntaxError 발생\n",
    "print(\"C:\\\\Users\\\\Nadocoding\\\\Desktop\\\\PythonWorkspace\")\n",
    "print(r\"C:\\Users\\Nadocoding\\Desktop\\PythonWorkspace\")    # r을 추가하면 문자열 어떤값이든 무시\n"
   ]
  },
  {
   "cell_type": "code",
   "execution_count": 13,
   "metadata": {},
   "outputs": [
    {
     "name": "stdout",
     "output_type": "stream",
     "text": [
      "PineApple\n",
      "RedApple\n",
      "Red\tApple\n"
     ]
    }
   ],
   "source": [
    "print(\"Red Apple\\rPine\")        # \\r 은 커서를 맨 앞으로 이동시킵니다.\n",
    "\n",
    "print(\"Redd\\bApple\")            # \\b 는 앞글자 하나를 삭제합니다. Backspace\n",
    "\n",
    "print(\"Red\\tApple\")              # \\t 는 탭키와 같은 역할을 합니다.\n"
   ]
  },
  {
   "cell_type": "code",
   "execution_count": 2,
   "metadata": {},
   "outputs": [
    {
     "name": "stdout",
     "output_type": "stream",
     "text": [
      "2210\n"
     ]
    }
   ],
   "source": [
    "license_plate = '24가 2210'\n",
    "print(license_plate.split(' ')[1]) # 구분자"
   ]
  },
  {
   "cell_type": "code",
   "execution_count": 4,
   "metadata": {},
   "outputs": [
    {
     "name": "stdout",
     "output_type": "stream",
     "text": [
      "010 4444  9999\n",
      "010-4444 9999\n"
     ]
    }
   ],
   "source": [
    "phone_number = '010-4444--9999'\n",
    "print(phone_number.replace('-', ' ')) # 바꾸기\n",
    "print(phone_number.replace('--', ' '))"
   ]
  },
  {
   "cell_type": "code",
   "execution_count": 5,
   "metadata": {},
   "outputs": [
    {
     "name": "stdout",
     "output_type": "stream",
     "text": [
      "삼성전자\n"
     ]
    }
   ],
   "source": [
    "data = '    삼성전자 '\n",
    "print(data.strip())"
   ]
  },
  {
   "cell_type": "code",
   "execution_count": 6,
   "metadata": {},
   "outputs": [
    {
     "name": "stdout",
     "output_type": "stream",
     "text": [
      "BTC_KRW\n"
     ]
    }
   ],
   "source": [
    "coin = 'btc_krw'\n",
    "print(coin.upper())"
   ]
  },
  {
   "cell_type": "code",
   "execution_count": 8,
   "metadata": {},
   "outputs": [
    {
     "name": "stdout",
     "output_type": "stream",
     "text": [
      "hello00000\n",
      "     hello\n"
     ]
    }
   ],
   "source": [
    "print('hello'.ljust(10, '0')) #10의 공간을 만들고 왼쪽정렬\n",
    "print('hello'.rjust(10)) #  # 오른쪽 정렬"
   ]
  },
  {
   "cell_type": "code",
   "execution_count": 17,
   "metadata": {},
   "outputs": [
    {
     "name": "stdout",
     "output_type": "stream",
     "text": [
      "친구가 \"안녕\"이라고 말함\n",
      "친구가 '안녕'이라고 말함\n",
      "친구가 '안녕'이라고 말함\n",
      "안녕\n",
      "밥먹자\n",
      "안녕\n",
      "밥먹자\n",
      "안녕\n",
      "밥먹자\n",
      "안녕\t밥먹자\n",
      "안녕\\n밥먹자\n",
      "안녕\\밥먹자\n",
      "안녕밥먹자\n",
      "['__call__', '__class__', '__delattr__', '__dir__', '__doc__', '__eq__', '__format__', '__ge__', '__getattribute__', '__getstate__', '__gt__', '__hash__', '__init__', '__init_subclass__', '__le__', '__lt__', '__module__', '__name__', '__ne__', '__new__', '__qualname__', '__reduce__', '__reduce_ex__', '__repr__', '__self__', '__setattr__', '__sizeof__', '__str__', '__subclasshook__', '__text_signature__']\n"
     ]
    }
   ],
   "source": [
    "print('친구가 \"안녕\"이라고 말함')\n",
    "print('친구가 \\'안녕\\'이라고 말함')\n",
    "print(\"친구가 '안녕'이라고 말함\")\n",
    "print('안녕', '밥먹자', sep='\\n')\n",
    "print('안녕\\n밥먹자')\n",
    "print('''안녕\n",
    "밥먹자''')\n",
    "print('안녕\\t밥먹자')\n",
    "print('안녕\\\\n밥먹자')\n",
    "print('안녕\\밥먹자')\n",
    "print('안녕'+'밥먹자')\n",
    "# seperator 구분자 (쌔퍼레이터)"
   ]
  },
  {
   "cell_type": "code",
   "execution_count": 19,
   "metadata": {},
   "outputs": [
    {
     "name": "stdout",
     "output_type": "stream",
     "text": [
      "5\n"
     ]
    }
   ],
   "source": [
    "#print(1 + '4') #TypeError: unsupported operand type(s) for +: 'int' and 'str'\n",
    "print(1 + int('4'))"
   ]
  },
  {
   "cell_type": "code",
   "execution_count": 20,
   "metadata": {},
   "outputs": [
    {
     "data": {
      "text/plain": [
       "'hi'"
      ]
     },
     "execution_count": 20,
     "metadata": {},
     "output_type": "execute_result"
    }
   ],
   "source": [
    "input()"
   ]
  },
  {
   "cell_type": "code",
   "execution_count": 26,
   "metadata": {},
   "outputs": [
    {
     "name": "stdout",
     "output_type": "stream",
     "text": [
      "3\n",
      "2\n"
     ]
    }
   ],
   "source": [
    "num1 = input('숫자를 입력하세요 : ')\n",
    "#num2 = input(\"두번째 숫자를 입력하세요 : \")\n",
    "print(int(num1) + 1)\n",
    "# print(num1 = 2 ) # 디폴트 인자를 쓴것으로 이해함. 그딴 인자 없음 오류\n",
    "print(num1)"
   ]
  },
  {
   "cell_type": "code",
   "execution_count": 28,
   "metadata": {},
   "outputs": [
    {
     "data": {
      "text/plain": [
       "10"
      ]
     },
     "execution_count": 28,
     "metadata": {},
     "output_type": "execute_result"
    }
   ],
   "source": [
    "4 + int(input('숫자를 입력하세요 : '))"
   ]
  },
  {
   "cell_type": "code",
   "execution_count": 38,
   "metadata": {},
   "outputs": [
    {
     "name": "stdout",
     "output_type": "stream",
     "text": [
      "o\n",
      "ello\n",
      "he\n",
      "hlo\n",
      "2148619341296\n",
      "140721244182664\n",
      "140721244182496\n",
      "ll\n",
      "ello\n",
      "hell\n",
      "5\n"
     ]
    }
   ],
   "source": [
    "# index 목차 순서 색인\n",
    "print('hello'[-1])\n",
    "print('hello'[1:])\n",
    "print('hello'[:-3]) # 슬라이싱 slicing\n",
    "print('hello'[0::2])\n",
    "hi = 'hello'\n",
    "print(id(hi))\n",
    "print(id(hi[0]))\n",
    "print(id(hi[1]))\n",
    "print('hello'[2:4])\n",
    "print('hello'[1:])\n",
    "print('hello'[:-1])\n",
    "print(len(hi))"
   ]
  },
  {
   "cell_type": "code",
   "execution_count": 4,
   "metadata": {},
   "outputs": [
    {
     "name": "stdout",
     "output_type": "stream",
     "text": [
      "<class 'str'>\n",
      "hello\n",
      "hello\n",
      "'hello'\n",
      "\"hello\"\n"
     ]
    }
   ],
   "source": [
    "print(type('hello')) # 싱글쿼테이션이나 더블쿼테이션으로 감쌀경우 문자열이 된다\n",
    "print('hello') # 파이썬에서는 문자타입이 없어서 싱글쿼테이션으로 감싸도 문자열이 된다\n",
    "print(\"hello\") \n",
    "print(\"'hello'\") # 더블쿼테이션으로 감쌀경우 안쪽에 싱글쿼테이션을 바로 표현할수있다.\n",
    "print('\"hello\"')\n",
    "# ' ' , \" \" 싱글이면 싱글, 더블이면 더블 같은걸로 써야한다. ' \" 싱글 더블 섞어서 쓰면 에러난다.\n"
   ]
  },
  {
   "cell_type": "code",
   "execution_count": 9,
   "metadata": {},
   "outputs": [
    {
     "name": "stdout",
     "output_type": "stream",
     "text": [
      "my name is hany. age: 19 formatting\n",
      "my name is hany. age: 19 string 내장 함수 사용. 위치 변경 가능\n",
      "my name is hany. age: 19 fstring 방식\n"
     ]
    }
   ],
   "source": [
    "name = 'hany'\n",
    "age = 19\n",
    "print('my name is %s. age: %d' % (name, age), 'formatting')\n",
    "print('my name is {1}. age: {0}'.format(age, name), 'string 내장 함수 사용. 위치 변경 가능')\n",
    "print(f'my name is {name}. age: {age}', 'fstring 방식')\n"
   ]
  },
  {
   "cell_type": "code",
   "execution_count": 13,
   "metadata": {},
   "outputs": [
    {
     "name": "stdout",
     "output_type": "stream",
     "text": [
      "h\n",
      "e\n",
      "l\n",
      "l\n",
      "o\n",
      "\n",
      "o\n",
      "l\n",
      "l\n",
      "e\n",
      "h\n"
     ]
    }
   ],
   "source": [
    "string = 'hello'\n",
    "print(string[0]) # 인덱스는 0 부터 시작한다\n",
    "print(string[1])\n",
    "print(string[2])\n",
    "print(string[3])\n",
    "print(string[4]) # 고로 5글자의 맨 마지막은 5 - 1 이 된다.\n",
    "print()\n",
    "print(string[-1]) # 파이썬은 특이하게 음수 인덱스를 지원한다. 문자열의 맨 끝은 -1 이다\n",
    "print(string[-2])\n",
    "print(string[-3])\n",
    "print(string[-4])\n",
    "print(string[-5]) # 5글자면 맨앞은 -1 * 5 가 된다"
   ]
  },
  {
   "cell_type": "code",
   "execution_count": 29,
   "metadata": {},
   "outputs": [
    {
     "name": "stdout",
     "output_type": "stream",
     "text": [
      "h\n",
      "he\n",
      "hel\n",
      "hell\n",
      "hello\n",
      "\n",
      "hello\n",
      "ello\n",
      "llo\n",
      "lo\n",
      "o\n",
      "\n",
      "hello\n",
      "hlo\n",
      "olleh\n"
     ]
    }
   ],
   "source": [
    "string = 'hello' #  슬라이싱의 기본틀은 [시작위치 : 끝위치 : 증가값] \n",
    "#                   시작위치는 0 부터(포함)이고 끝위치는 길이 - 1이며 끝 위치 전까지 표현한다(미만)\n",
    "#                   각 값은 생략 가능하다\n",
    "print(string[0:1])  # 0 부터 1 미만\n",
    "print(string[0:2])\n",
    "print(string[0:3])\n",
    "print(string[0:4])\n",
    "print(string[0:5])  # 0 부터 5 미만 \n",
    "print()\n",
    "print(string[0:])   # 생략하면 시작값은 맨처음. 끝위치는 끝 + 1. 증가값은 1 을 가진다.\n",
    "print(string[1:])\n",
    "print(string[2:])\n",
    "print(string[3:])\n",
    "print(string[4:])   # 시작이 맨끝이므로 맨 뒷 글자만 나온다.\n",
    "print()\n",
    "print(string[::1])  # 기본값과 같다\n",
    "print(string[::2])  # 다음 인덱스를 +2 한다. \n",
    "print(string[4::-1])# 증가값을 -1 로하면 시작을 끝으로 지정하면 글자가 뒤집어진다"
   ]
  },
  {
   "cell_type": "code",
   "execution_count": null,
   "metadata": {},
   "outputs": [
    {
     "name": "stdout",
     "output_type": "stream",
     "text": [
      "hi hello\n",
      "hi_hello\n",
      "hi\thi\n"
     ]
    }
   ],
   "source": [
    "print('hi', 'hello') # 첫번째 인자가 *args 라는 가변인자이기 때문에 무한정 콤마로 계속 값을 넣을 수 있다\n",
    "print('hi', 'hello', sep='_') # 기본적으로 sep=' ' 인것을 언더바로 변경하여 인자간 간격을 언더바로 표현한다\n",
    "print('hi', end=' ') # 기본적으로 줄바꿈인것을 공백으로 변경해서 다음 출력물이 옆에서 찍힌다.\n",
    "print('hi') "
   ]
  },
  {
   "cell_type": "code",
   "execution_count": 22,
   "metadata": {},
   "outputs": [
    {
     "name": "stdout",
     "output_type": "stream",
     "text": [
      "9 1001 11\n",
      "0b1001\n",
      "0o11\n",
      "0x9\n",
      "9 9 9\n",
      "57\n"
     ]
    }
   ],
   "source": [
    "num = 9\n",
    "print(f'{num:x}',f'{num:b}',f'{num:o}') # 문자열 포멧팅 사용\n",
    "print(bin(num)) # 2진수로 변환\n",
    "print(oct(num)) # 8진수로 변환\n",
    "print(hex(num)) # 16진수로 변환\n",
    "print(ascii(0b1001), ascii(0o11), ascii(0x9)) # 10진수로 변환\n",
    "print(ord('9')) # 아스키 코드로 변환\n"
   ]
  }
 ],
 "metadata": {
  "kernelspec": {
   "display_name": "Python 3",
   "language": "python",
   "name": "python3"
  },
  "language_info": {
   "codemirror_mode": {
    "name": "ipython",
    "version": 3
   },
   "file_extension": ".py",
   "mimetype": "text/x-python",
   "name": "python",
   "nbconvert_exporter": "python",
   "pygments_lexer": "ipython3",
   "version": "3.12.4"
  }
 },
 "nbformat": 4,
 "nbformat_minor": 2
}
