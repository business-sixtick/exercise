{
 "cells": [
  {
   "cell_type": "code",
   "execution_count": null,
   "metadata": {},
   "outputs": [],
   "source": [
    "'''\n",
    "예외처리 원형\n",
    "\n",
    "try :\n",
    "    테스트 구문, 실행 구문\n",
    "except 예외명 :\n",
    "    예외 처리 \n",
    "except 예외명 as 별명 :\n",
    "    예외 처리\n",
    "execpt Exception as e : \n",
    "    예외 처리\n",
    "else :\n",
    "    예외가 없을때 실행\n",
    "finally : \n",
    "    무조껀 실행\n",
    "\n",
    "\n",
    "raise 예외()   <- 예외 발생시키기\n",
    "assert 비교문  <- 거짓일 경우 예외 발생 (디버깅용으로만 쓰자, 고로 그냥 쓰지말자)\n",
    "\n",
    "\n",
    "사용자 예외 만들기\n",
    "class 사용자예외명(Exception) :\n",
    "    __init__ 및 __str__ 구현\n",
    "\n",
    "'''\n"
   ]
  },
  {
   "cell_type": "code",
   "execution_count": 3,
   "metadata": {},
   "outputs": [
    {
     "name": "stdout",
     "output_type": "stream",
     "text": [
      "예외가 발생했습니다: division by zero\n",
      "예외의 종류: ZeroDivisionError\n"
     ]
    }
   ],
   "source": [
    "try:\n",
    "    # 예외가 발생할 가능성이 있는 코드\n",
    "    numerator = 5\n",
    "    denominator = 0\n",
    "    result = numerator / denominator\n",
    "    print(f\"결과는 {result}입니다.\")\n",
    "except Exception as e:\n",
    "    # 모든 예외를 포괄적으로 처리\n",
    "    print(f\"예외가 발생했습니다: {e}\")\n",
    "    print(f\"예외의 종류: {type(e).__name__}\")\n"
   ]
  }
 ],
 "metadata": {
  "kernelspec": {
   "display_name": "Python 3",
   "language": "python",
   "name": "python3"
  },
  "language_info": {
   "codemirror_mode": {
    "name": "ipython",
    "version": 3
   },
   "file_extension": ".py",
   "mimetype": "text/x-python",
   "name": "python",
   "nbconvert_exporter": "python",
   "pygments_lexer": "ipython3",
   "version": "3.12.4"
  }
 },
 "nbformat": 4,
 "nbformat_minor": 2
}
