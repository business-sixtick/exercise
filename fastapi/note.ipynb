{
 "cells": [
  {
   "cell_type": "code",
   "execution_count": null,
   "metadata": {},
   "outputs": [],
   "source": []
  },
  {
   "cell_type": "markdown",
   "metadata": {},
   "source": [
    "# FastAPI : api(application programing interface) 요청과 응답의 규칙\n",
    "- starlette : 비동기 프레임워크\n",
    "- pydantic : 입출력 항목을 정의하고 검증한다\n",
    "- swagger : api 스펙 문서를 자동화한다\n",
    "- sqlalchemy : orm(object relational mapping) 라이브러리"
   ]
  },
  {
   "cell_type": "markdown",
   "metadata": {},
   "source": [
    "# 모델 : 데이터베이스\n",
    "- SQL : \n",
    "- ORM object relational mapping : 데이터베이스에 상관없이 일관된 코드를 유지 할 수 있다.\n",
    " - SQLAlchemy : pip install sqlalchemy"
   ]
  },
  {
   "cell_type": "markdown",
   "metadata": {},
   "source": []
  }
 ],
 "metadata": {
  "language_info": {
   "name": "python"
  }
 },
 "nbformat": 4,
 "nbformat_minor": 2
}
