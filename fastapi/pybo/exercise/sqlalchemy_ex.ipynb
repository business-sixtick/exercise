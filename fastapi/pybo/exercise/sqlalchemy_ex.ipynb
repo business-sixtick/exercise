{
 "cells": [
  {
   "cell_type": "code",
   "execution_count": 2,
   "metadata": {},
   "outputs": [
    {
     "name": "stdout",
     "output_type": "stream",
     "text": [
      "2024-08-26 14:36:05,670 INFO sqlalchemy.engine.Engine BEGIN (implicit)\n",
      "2024-08-26 14:36:05,670 INFO sqlalchemy.engine.Engine PRAGMA main.table_info(\"users\")\n",
      "2024-08-26 14:36:05,671 INFO sqlalchemy.engine.Engine [raw sql] ()\n",
      "2024-08-26 14:36:05,671 INFO sqlalchemy.engine.Engine PRAGMA temp.table_info(\"users\")\n",
      "2024-08-26 14:36:05,672 INFO sqlalchemy.engine.Engine [raw sql] ()\n",
      "2024-08-26 14:36:05,673 INFO sqlalchemy.engine.Engine \n",
      "CREATE TABLE users (\n",
      "\tid INTEGER NOT NULL, \n",
      "\tname VARCHAR NOT NULL, \n",
      "\tage INTEGER, \n",
      "\tPRIMARY KEY (id)\n",
      ")\n",
      "\n",
      "\n",
      "2024-08-26 14:36:05,673 INFO sqlalchemy.engine.Engine [no key 0.00059s] ()\n",
      "2024-08-26 14:36:05,681 INFO sqlalchemy.engine.Engine COMMIT\n",
      "2024-08-26 14:36:05,682 INFO sqlalchemy.engine.Engine BEGIN (implicit)\n",
      "2024-08-26 14:36:05,684 INFO sqlalchemy.engine.Engine INSERT INTO users (name, age) VALUES (?, ?)\n",
      "2024-08-26 14:36:05,684 INFO sqlalchemy.engine.Engine [generated in 0.00075s] ('Alice', 25)\n",
      "2024-08-26 14:36:05,686 INFO sqlalchemy.engine.Engine COMMIT\n",
      "2024-08-26 14:36:05,692 INFO sqlalchemy.engine.Engine BEGIN (implicit)\n",
      "2024-08-26 14:36:05,694 INFO sqlalchemy.engine.Engine SELECT users.id AS users_id, users.name AS users_name, users.age AS users_age \n",
      "FROM users\n",
      "2024-08-26 14:36:05,694 INFO sqlalchemy.engine.Engine [generated in 0.00050s] ()\n",
      "<User(name='Alice', age='25')>\n",
      "2024-08-26 14:36:05,697 INFO sqlalchemy.engine.Engine SELECT users.id AS users_id, users.name AS users_name, users.age AS users_age \n",
      "FROM users \n",
      "WHERE users.name = ?\n",
      " LIMIT ? OFFSET ?\n",
      "2024-08-26 14:36:05,697 INFO sqlalchemy.engine.Engine [generated in 0.00080s] ('Alice', 1, 0)\n",
      "<User(name='Alice', age='25')>\n",
      "2024-08-26 14:36:05,701 INFO sqlalchemy.engine.Engine UPDATE users SET age=? WHERE users.id = ?\n",
      "2024-08-26 14:36:05,701 INFO sqlalchemy.engine.Engine [generated in 0.00072s] (26, 1)\n",
      "2024-08-26 14:36:05,702 INFO sqlalchemy.engine.Engine COMMIT\n",
      "2024-08-26 14:36:05,708 INFO sqlalchemy.engine.Engine BEGIN (implicit)\n",
      "2024-08-26 14:36:05,709 INFO sqlalchemy.engine.Engine SELECT users.id AS users_id, users.name AS users_name, users.age AS users_age \n",
      "FROM users \n",
      "WHERE users.id = ?\n",
      "2024-08-26 14:36:05,710 INFO sqlalchemy.engine.Engine [generated in 0.00065s] (1,)\n",
      "2024-08-26 14:36:05,711 INFO sqlalchemy.engine.Engine DELETE FROM users WHERE users.id = ?\n",
      "2024-08-26 14:36:05,713 INFO sqlalchemy.engine.Engine [generated in 0.00045s] (1,)\n",
      "2024-08-26 14:36:05,715 INFO sqlalchemy.engine.Engine COMMIT\n"
     ]
    },
    {
     "name": "stderr",
     "output_type": "stream",
     "text": [
      "c:\\Users\\hungh\\AppData\\Local\\Programs\\Python\\Python37\\py3_7_9_tfgpu\\lib\\site-packages\\ipykernel_launcher.py:6: MovedIn20Warning: The ``declarative_base()`` function is now available as sqlalchemy.orm.declarative_base(). (deprecated since: 2.0) (Background on SQLAlchemy 2.0 at: https://sqlalche.me/e/b8d9)\n",
      "  \n"
     ]
    }
   ],
   "source": [
    "from sqlalchemy import create_engine, Column, Integer, String\n",
    "from sqlalchemy.ext.declarative import declarative_base\n",
    "from sqlalchemy.orm import sessionmaker\n",
    "\n",
    "# 베이스 클래스 생성\n",
    "Base = declarative_base()\n",
    "\n",
    "# 모델 정의\n",
    "class User(Base):\n",
    "    __tablename__ = 'users'\n",
    "    \n",
    "    id = Column(Integer, primary_key=True, autoincrement=True)\n",
    "    name = Column(String, nullable=False)\n",
    "    age = Column(Integer)\n",
    "    \n",
    "    def __repr__(self):\n",
    "        return f\"<User(name='{self.name}', age='{self.age}')>\"\n",
    "\n",
    "# SQLite 데이터베이스 연결 설정\n",
    "engine = create_engine('sqlite:///../database/example.db', echo=True)\n",
    "\n",
    "# 데이터베이스에 테이블 생성\n",
    "Base.metadata.create_all(engine)\n",
    "\n",
    "# 세션 생성기 정의\n",
    "Session = sessionmaker(bind=engine)\n",
    "session = Session()\n",
    "\n",
    "# 새로운 사용자 추가\n",
    "new_user = User(name='Alice', age=25)\n",
    "session.add(new_user)\n",
    "\n",
    "# 변경 사항 커밋\n",
    "session.commit()\n",
    "\n",
    "# 모든 사용자 조회\n",
    "users = session.query(User).all()\n",
    "for user in users:\n",
    "    print(user)\n",
    "\n",
    "# 특정 사용자 조회\n",
    "user = session.query(User).filter_by(name='Alice').first()\n",
    "print(user)\n",
    "\n",
    "# 사용자 정보 업데이트\n",
    "user.age = 26\n",
    "session.commit()\n",
    "\n",
    "# 사용자 삭제\n",
    "session.delete(user)\n",
    "session.commit()\n",
    "\n",
    "# 세션 종료\n",
    "session.close()\n"
   ]
  },
  {
   "cell_type": "code",
   "execution_count": 2,
   "metadata": {},
   "outputs": [
    {
     "name": "stdout",
     "output_type": "stream",
     "text": [
      "sixtick\n",
      "\tpytyon\n",
      "\t\teasy.py\n",
      "easy.py loaded\n"
     ]
    }
   ],
   "source": [
    "import sixtick.python.easy as s\n",
    "# from sixtick.python import easy as s\n",
    "s.get"
   ]
  },
  {
   "cell_type": "code",
   "execution_count": 1,
   "metadata": {},
   "outputs": [
    {
     "data": {
      "text/plain": [
       "'c:\\\\source\\\\exercise\\\\fastapi\\\\pybo\\\\exercise'"
      ]
     },
     "execution_count": 1,
     "metadata": {},
     "output_type": "execute_result"
    }
   ],
   "source": [
    "%pwd"
   ]
  },
  {
   "cell_type": "code",
   "execution_count": 1,
   "metadata": {},
   "outputs": [
    {
     "data": {
      "text/plain": [
       "['c:\\\\source\\\\exercise\\\\fastapi\\\\pybo\\\\exercise',\n",
       " 'c:\\\\source\\\\exercise\\\\fastapi\\\\pybo\\\\exercise',\n",
       " 'C:\\\\source',\n",
       " 'C:\\\\source\\\\sixtick',\n",
       " 'C:\\\\source\\\\sixtick\\\\python',\n",
       " 'C:\\\\source\\\\sixtick\\\\python\\\\easy',\n",
       " 'C:\\\\Users\\\\hungh\\\\AppData\\\\Local\\\\Programs\\\\Python\\\\Python37\\\\python37.zip',\n",
       " 'C:\\\\Users\\\\hungh\\\\AppData\\\\Local\\\\Programs\\\\Python\\\\Python37\\\\DLLs',\n",
       " 'C:\\\\Users\\\\hungh\\\\AppData\\\\Local\\\\Programs\\\\Python\\\\Python37\\\\lib',\n",
       " 'C:\\\\Users\\\\hungh\\\\AppData\\\\Local\\\\Programs\\\\Python\\\\Python37',\n",
       " 'c:\\\\Users\\\\hungh\\\\AppData\\\\Local\\\\Programs\\\\Python\\\\Python37\\\\py3_7_9_tfgpu',\n",
       " '',\n",
       " 'c:\\\\Users\\\\hungh\\\\AppData\\\\Local\\\\Programs\\\\Python\\\\Python37\\\\py3_7_9_tfgpu\\\\lib\\\\site-packages',\n",
       " 'c:\\\\Users\\\\hungh\\\\AppData\\\\Local\\\\Programs\\\\Python\\\\Python37\\\\py3_7_9_tfgpu\\\\lib\\\\site-packages\\\\win32',\n",
       " 'c:\\\\Users\\\\hungh\\\\AppData\\\\Local\\\\Programs\\\\Python\\\\Python37\\\\py3_7_9_tfgpu\\\\lib\\\\site-packages\\\\win32\\\\lib',\n",
       " 'c:\\\\Users\\\\hungh\\\\AppData\\\\Local\\\\Programs\\\\Python\\\\Python37\\\\py3_7_9_tfgpu\\\\lib\\\\site-packages\\\\Pythonwin',\n",
       " 'c:\\\\Users\\\\hungh\\\\AppData\\\\Local\\\\Programs\\\\Python\\\\Python37\\\\py3_7_9_tfgpu\\\\lib\\\\site-packages\\\\IPython\\\\extensions',\n",
       " 'C:\\\\Users\\\\hungh\\\\.ipython']"
      ]
     },
     "execution_count": 1,
     "metadata": {},
     "output_type": "execute_result"
    }
   ],
   "source": [
    "import sys\n",
    "sys.path\n"
   ]
  }
 ],
 "metadata": {
  "kernelspec": {
   "display_name": "Python 3",
   "language": "python",
   "name": "python3"
  },
  "language_info": {
   "codemirror_mode": {
    "name": "ipython",
    "version": 3
   },
   "file_extension": ".py",
   "mimetype": "text/x-python",
   "name": "python",
   "nbconvert_exporter": "python",
   "pygments_lexer": "ipython3",
   "version": "3.7.9"
  }
 },
 "nbformat": 4,
 "nbformat_minor": 2
}
