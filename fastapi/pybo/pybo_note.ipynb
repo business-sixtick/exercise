{
 "cells": [
  {
   "cell_type": "code",
   "execution_count": null,
   "metadata": {},
   "outputs": [],
   "source": [
    "# Python Board from FastAPI\n",
    "\n",
    "# pip install -U fastapi \n",
    "# pip install -U sqlalchemy # 2.0.32 , 동기식 ORM 1.4 버전이후 비동기 가능\n",
    "# pip install -U alembic    # 1.13.2 sqlalchemy 로 작성된 모델을 관리해주는 도구\n",
    "# 해당 프로젝트 위치에 가서 초기화 작업을 진행해야 한다.\n",
    "# $ alembic init migrations\n",
    "# alembic.ini 수정하기 (sqlalchemy.url = sqlite:디비경로)\n",
    "# migrations/env.py 수정하기 "
   ]
  },
  {
   "cell_type": "code",
   "execution_count": 11,
   "metadata": {},
   "outputs": [
    {
     "data": {
      "text/plain": [
       "array([], dtype='<U40')"
      ]
     },
     "execution_count": 11,
     "metadata": {},
     "output_type": "execute_result"
    }
   ],
   "source": [
    "list_pip = !pip list\n",
    "list_pip\n",
    "# print(list_pip[4])\n",
    "# [i for i in list_pip if 'beauti' in i]\n",
    "import numpy as np\n",
    "list_pip = np.array(list_pip)\n",
    "# import re\n",
    "# re.search('sql', list_pip)\n",
    "list_pip[np.char.find(list_pip, 'sql') >= 0]"
   ]
  }
 ],
 "metadata": {
  "kernelspec": {
   "display_name": "Python 3",
   "language": "python",
   "name": "python3"
  },
  "language_info": {
   "codemirror_mode": {
    "name": "ipython",
    "version": 3
   },
   "file_extension": ".py",
   "mimetype": "text/x-python",
   "name": "python",
   "nbconvert_exporter": "python",
   "pygments_lexer": "ipython3",
   "version": "3.12.4"
  }
 },
 "nbformat": 4,
 "nbformat_minor": 2
}
