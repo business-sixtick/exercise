{
 "cells": [
  {
   "cell_type": "code",
   "execution_count": null,
   "metadata": {},
   "outputs": [],
   "source": [
    "# C:\\Users\\user\\AppData\\Local\\Programs\\Python\\Python312\\py312fastapi\\Scripts\\activate\n",
    "# win+r : sysdm.cpl\n",
    "# pip install \"fastapi[all]\n"
   ]
  },
  {
   "cell_type": "code",
   "execution_count": null,
   "metadata": {},
   "outputs": [],
   "source": [
    "# 학원\n",
    "# C:\\Users\\hungh\\AppData\\Local\\Programs\\Python\\Python312\n",
    "# cmd : cd C:\\Users\\hungh\\AppData\\Local\\Programs\\Python\\Python312\n",
    "# cmd : python --version\n",
    "# cmd : python -m venv py312fastapi\n",
    "# cmd : C:\\Users\\hungh\\AppData\\Local\\Programs\\Python\\Python312\\py312fastapi\\Scripts\\activate\n",
    "# win+r : path 에 추가 C:\\Users\\hungh\\AppData\\Local\\Programs\\Python\\Python312\\py312fastapi\\Scripts 재시작"
   ]
  }
 ],
 "metadata": {
  "kernelspec": {
   "display_name": "Python 3",
   "language": "python",
   "name": "python3"
  },
  "language_info": {
   "name": "python",
   "version": "3.12.4"
  }
 },
 "nbformat": 4,
 "nbformat_minor": 2
}
