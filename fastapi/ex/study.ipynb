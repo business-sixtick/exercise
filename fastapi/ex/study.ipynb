{
 "cells": [
  {
   "cell_type": "code",
   "execution_count": null,
   "metadata": {},
   "outputs": [],
   "source": [
    "# C:\\Users\\user\\AppData\\Local\\Programs\\Python\\Python312\\py312fastapi\\Scripts\\activate\n",
    "# win+r : sysdm.cpl\n",
    "# pip install \"fastapi[all]\"\n"
   ]
  }
 ],
 "metadata": {
  "kernelspec": {
   "display_name": "Python 3",
   "language": "python",
   "name": "python3"
  },
  "language_info": {
   "name": "python",
   "version": "3.8.10"
  }
 },
 "nbformat": 4,
 "nbformat_minor": 2
}
