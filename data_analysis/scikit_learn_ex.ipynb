{
 "cells": [
  {
   "cell_type": "markdown",
   "metadata": {},
   "source": [
    "# scikit learn\n",
    "- pip install -U scikit-learn\n",
    "-  sklearn.preprocessing.MinMaxScaler() 최소 최대 정규화 min max normalization : 특성을 0과 1사이의 범위로 변환 ( (요소 - 최소값) / (최대값 - 최소값) )"
   ]
  },
  {
   "cell_type": "code",
   "execution_count": 23,
   "metadata": {},
   "outputs": [],
   "source": [
    "from sklearn.preprocessing import MinMaxScaler, StandardScaler\n",
    "import pandas as pd\n",
    "import numpy as np\n",
    "import seaborn as sns\n",
    "import matplotlib.pyplot as plt"
   ]
  },
  {
   "cell_type": "code",
   "execution_count": 36,
   "metadata": {},
   "outputs": [
    {
     "data": {
      "text/plain": [
       "numpy.ndarray"
      ]
     },
     "execution_count": 36,
     "metadata": {},
     "output_type": "execute_result"
    }
   ],
   "source": [
    "df = pd.read_csv(r'../data/auto-mpg.csv')\n",
    "df['horsepower'].dtype\n",
    "df['horsepower'].unique()\n",
    "df['horsepower'] = df['horsepower'].replace('?', np.nan)\n",
    "df['horsepower'] = df['horsepower'].astype('float')\n",
    "hp_mean = df['horsepower'].mean()\n",
    "df['horsepower'] = df['horsepower'].fillna(hp_mean)\n",
    "scaler = StandardScaler()\n",
    "df['horsepower'].values\n",
    "df['horsepower'].shape # (398, )\n",
    "hp_x = df['horsepower'].values.reshape((-1, 398))\n",
    "type(hp_x)\n",
    "# scaler.fit(df['horsepower'].shape)\n",
    "# scaler.transform(df['horsepower'])\n"
   ]
  },
  {
   "cell_type": "code",
   "execution_count": 4,
   "metadata": {},
   "outputs": [
    {
     "data": {
      "text/plain": [
       "array([[0.  , 0.  ],\n",
       "       [0.25, 0.25],\n",
       "       [0.5 , 0.5 ],\n",
       "       [1.  , 1.  ]])"
      ]
     },
     "execution_count": 4,
     "metadata": {},
     "output_type": "execute_result"
    }
   ],
   "source": [
    "from sklearn.preprocessing import MinMaxScaler\n",
    "data = [[-1,2], [-0.5, 6], [0, 10], [1, 18]]\n",
    "minmax_scaler = MinMaxScaler()\n",
    "minmax_scaler.fit(data)\n",
    "minmax_scaler.transform(data)\n"
   ]
  }
 ],
 "metadata": {
  "kernelspec": {
   "display_name": "Python 3",
   "language": "python",
   "name": "python3"
  },
  "language_info": {
   "codemirror_mode": {
    "name": "ipython",
    "version": 3
   },
   "file_extension": ".py",
   "mimetype": "text/x-python",
   "name": "python",
   "nbconvert_exporter": "python",
   "pygments_lexer": "ipython3",
   "version": "3.12.4"
  }
 },
 "nbformat": 4,
 "nbformat_minor": 2
}
