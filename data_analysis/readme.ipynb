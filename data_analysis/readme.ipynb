{
 "cells": [
  {
   "cell_type": "code",
   "execution_count": null,
   "metadata": {},
   "outputs": [],
   "source": [
    "# 정확도는 클래스 간 비율이 비슷하거나, 잘못 분류한 사례에 큰 페널티가 없는 경우에 유용합니다.\n",
    "# 정답률은 양성 클래스(Positive Class)에 대한 예측이 중요한 경우에 유용합니다.\n",
    "# precision_score(y_test, y_pred, average=None) # 정답률 싸이킥런\n",
    "# model.compile(optimizer='adam', loss='binary_crossentropy', metrics=['accuracy', tf.keras.metrics.Precision()]) # 텐서플로우"
   ]
  },
  {
   "cell_type": "markdown",
   "metadata": {},
   "source": [
    "# data analysis 데이터 애널러시스 자료분석\n",
    "## pandas\n",
    "- pandas : 데이터프레임 dataframe\n",
    "    1. pip install pandas\n",
    "\n",
    "## numpy\n",
    "- numpy : 배열 array\n",
    "\n",
    "## matplotlib.pyplot\n",
    "- \n",
    "\n",
    "## seaborn\n",
    "- matplotlib 과 같이 쓰이며 더 편하게 차트를 보여준다\n",
    "\n",
    "## scikit learn\n",
    "- 머신러닝\n",
    "\n",
    "## openpyxl\n",
    "- openpyxl : 엑셀 \n",
    "    1. pip install openpyxl\n",
    "\n",
    "## sqlite\n",
    "- sqlite : 파일 하나가 하나의 데이터베이스. \n",
    "    1. 파이썬 내장 라이브러리\n",
    "    2. import sqlite3"
   ]
  },
  {
   "cell_type": "markdown",
   "metadata": {},
   "source": [
    "# 정규화 \n",
    "1. 최소 최대 정규화 min max normalization : 특성을 0과 1사이의 범위로 변환 ( (요소 - 최소값) / (최대값 - 최소값) )\n",
    " - 특징 간 척도 차이가 커서 정규화가 필요한 경우 유용\n",
    " - 이상치에 민감할 수 있음\n",
    "2. 표준화 Z-score normalization : 기준 0 (평균0) , 표준편차1로 변환 ( 편차 / 표준편차)\n",
    " - \n",
    "\n",
    "# 이상치 (outlier) (상자 수염 차트 box plot) \n",
    "# 히스토그램 (histplot) : 연속 숫자 변수의 확률 분포를 표시 할 수 있다\n",
    "# 산점도 (scatter) : 두개의 연속 숫자 변수가 있는 상황. 선형 관계 파악, 세개 이상의 범주를 설정할 수 있다. \n",
    "# 순열, 조합"
   ]
  },
  {
   "cell_type": "markdown",
   "metadata": {},
   "source": [
    "# 시각화\n",
    "- 일변량\n",
    "- 다변량\n",
    "- 모자이크 그래프 : 각 셀의 넓이에 비례하여 범주 간의 상대적인 빈도를 시각적으로 표현, 범주 간의 관계를 이해"
   ]
  }
 ],
 "metadata": {
  "language_info": {
   "name": "python"
  }
 },
 "nbformat": 4,
 "nbformat_minor": 2
}
