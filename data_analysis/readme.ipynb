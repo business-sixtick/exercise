{
 "cells": [
  {
   "cell_type": "code",
   "execution_count": null,
   "metadata": {},
   "outputs": [],
   "source": []
  },
  {
   "cell_type": "markdown",
   "metadata": {},
   "source": [
    "# data analysis 데이터 애널러시스 자료분석\n",
    "## pandas\n",
    "- pandas : 데이터프레임 dataframe\n",
    "    1. pip install pandas\n",
    "\n",
    "## numpy\n",
    "- numpy : 배열 array\n",
    "\n",
    "## openpyxl\n",
    "- openpyxl : 엑셀 \n",
    "    1. pip install openpyxl\n",
    "\n",
    "## sqlite\n",
    "- sqlite : 파일 하나가 하나의 데이터베이스. \n",
    "    1. 파이썬 내장 라이브러리\n",
    "    2. import sqlite3"
   ]
  }
 ],
 "metadata": {
  "language_info": {
   "name": "python"
  }
 },
 "nbformat": 4,
 "nbformat_minor": 2
}
