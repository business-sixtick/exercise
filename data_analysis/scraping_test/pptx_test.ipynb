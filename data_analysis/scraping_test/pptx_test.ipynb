{
 "cells": [
  {
   "cell_type": "code",
   "execution_count": 2,
   "metadata": {},
   "outputs": [],
   "source": [
    "from pptx import Presentation #pip install python-pptx\n",
    "# Presentation 객체를 생성하여 프레젠테이션을 초기화\n",
    "prs = Presentation() \n",
    "# 첫 번째 슬라이드 레이아웃 선택\n",
    "slide_layout = prs.slide_layouts[0] \n",
    "# 선택한 레이아웃을 사용하여 새 슬라이드 추가\n",
    "slide = prs.slides.add_slide(slide_layout)\n",
    "# 파일 저장\n",
    "prs.save('presentation.pptx')\n",
    "\n",
    "\n"
   ]
  },
  {
   "cell_type": "code",
   "execution_count": 3,
   "metadata": {},
   "outputs": [],
   "source": [
    "from pptx import Presentation\n",
    "prs = Presentation() \n",
    "slide_layout = prs.slide_layouts[0] \n",
    "slide = prs.slides.add_slide(slide_layout)\n",
    "# 슬라이드에 제목과 부제목 추가\n",
    "title = slide.shapes.title\n",
    "subtitle = slide.placeholders[1]\n",
    "# 제목과 부제목 텍스트 박스에 각각 텍스트를 추가\n",
    "title.text = \"Hello, World!\"\n",
    "subtitle.text = \"파이썬 파워포인트 자동화\"\n",
    "prs.save('presentation.pptx')"
   ]
  },
  {
   "cell_type": "code",
   "execution_count": 4,
   "metadata": {},
   "outputs": [
    {
     "name": "stdout",
     "output_type": "stream",
     "text": [
      "Slide 1\n",
      "Title: Hello, World!\n",
      "Hello, World!\n",
      "파이썬 파워포인트 자동화\n"
     ]
    }
   ],
   "source": [
    "from pptx import Presentation\n",
    "prs = Presentation('presentation.pptx')\n",
    "# 각 슬라이드의 제목과 본문 텍스트를 출력\n",
    "for slide_number, slide in enumerate(prs.slides): #전체 슬라이드를 순회\n",
    "    print(f\"Slide {slide_number+1}\")\n",
    "# 슬라이드의 제목 출력 (제목이 있는 경우)\n",
    "    if slide.shapes.title:\n",
    "        print(f\"Title: {slide.shapes.title.text}\")\n",
    "# 슬라이드의 본문 텍스트 출력\n",
    "#각 슬라이드에 포함된 모든 개체(도형, 텍스트 상자, 표 등)를 순회\n",
    "    for shape in slide.shapes: \n",
    "# 현재 개체의 형태가 텍스트 상자인지 확인, 텍스트 상자일 경우 아래 코드를 실행\n",
    "        if hasattr(shape, \"text_frame\") and shape.text_frame:\n",
    "            for paragraph in shape.text_frame.paragraphs: # 텍스트 상자의 모든 단락을 순회\n",
    "                for run in paragraph.runs: # 현재 단락의 텍스트 런에 접근\n",
    "                    print(run.text) #현재 텍스트 런을 출력\n"
   ]
  }
 ],
 "metadata": {
  "kernelspec": {
   "display_name": "Python 3",
   "language": "python",
   "name": "python3"
  },
  "language_info": {
   "codemirror_mode": {
    "name": "ipython",
    "version": 3
   },
   "file_extension": ".py",
   "mimetype": "text/x-python",
   "name": "python",
   "nbconvert_exporter": "python",
   "pygments_lexer": "ipython3",
   "version": "3.12.4"
  }
 },
 "nbformat": 4,
 "nbformat_minor": 2
}
