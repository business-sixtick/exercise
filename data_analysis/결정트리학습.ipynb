{
 "cells": [
  {
   "cell_type": "code",
   "execution_count": null,
   "metadata": {},
   "outputs": [],
   "source": [
    "#  트리모델\n",
    "# 결정 트리 학습\n",
    "# 노드\n",
    "# 가지\n",
    "# 댑스\n",
    "# 지니계수, 지니지수 : 정보의 복잡도, 낮을수록 단순함. GI = 1 - (n/t)**2 - (n/t)**2 ... : n(중복개체수) t(총개체수)\n",
    "# 결정 트리 알고리즘에서 지니 지수는 각 노드에서 분할을 결정하는 기준으로 사용됩니다. 노드의 지니 지수를 계산하고, 지니 지수가 가장 낮은 분할을 선택합니다."
   ]
  }
 ],
 "metadata": {
  "language_info": {
   "name": "python"
  }
 },
 "nbformat": 4,
 "nbformat_minor": 2
}
