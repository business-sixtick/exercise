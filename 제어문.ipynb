{
 "cells": [
  {
   "cell_type": "code",
   "execution_count": 1,
   "metadata": {},
   "outputs": [
    {
     "name": "stdout",
     "output_type": "stream",
     "text": [
      "free\n"
     ]
    }
   ],
   "source": [
    "age = 1\n",
    "if age < 7 :\n",
    "    if age < 3 :\n",
    "        print('free')\n",
    "    else :\n",
    "        print('child price')\n",
    "elif 7 <= age < 20 :\n",
    "    print('teenager price')\n",
    "else : \n",
    "    print('adult price')"
   ]
  },
  {
   "cell_type": "code",
   "execution_count": null,
   "metadata": {},
   "outputs": [],
   "source": [
    "# 조건문 if elif else (elif, else 는 안써도 됨)\n",
    "'''\n",
    "if 비교문1 : \n",
    "    참일때 실행코드\n",
    "elif 비교문2 : \n",
    "    비교문1이 아니고 비교문2일때 실행코드\n",
    "else :\n",
    "    위의 비교문이 다 아닐때 실행 코드\n",
    "'''"
   ]
  },
  {
   "cell_type": "code",
   "execution_count": null,
   "metadata": {},
   "outputs": [],
   "source": [
    "# 반복문 for in"
   ]
  },
  {
   "cell_type": "code",
   "execution_count": null,
   "metadata": {},
   "outputs": [],
   "source": [
    "# 반복문 while"
   ]
  }
 ],
 "metadata": {
  "kernelspec": {
   "display_name": "Python 3",
   "language": "python",
   "name": "python3"
  },
  "language_info": {
   "codemirror_mode": {
    "name": "ipython",
    "version": 3
   },
   "file_extension": ".py",
   "mimetype": "text/x-python",
   "name": "python",
   "nbconvert_exporter": "python",
   "pygments_lexer": "ipython3",
   "version": "3.12.4"
  }
 },
 "nbformat": 4,
 "nbformat_minor": 2
}
