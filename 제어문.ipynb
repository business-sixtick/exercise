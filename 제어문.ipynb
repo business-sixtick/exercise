{
 "cells": [
  {
   "cell_type": "code",
   "execution_count": 1,
   "metadata": {},
   "outputs": [
    {
     "name": "stdout",
     "output_type": "stream",
     "text": [
      "free\n"
     ]
    }
   ],
   "source": [
    "age = 1\n",
    "if age < 7 :\n",
    "    if age < 3 :\n",
    "        print('free')\n",
    "    else :\n",
    "        print('child price')\n",
    "elif 7 <= age < 20 :\n",
    "    print('teenager price')\n",
    "else : \n",
    "    print('adult price')"
   ]
  },
  {
   "cell_type": "code",
   "execution_count": null,
   "metadata": {},
   "outputs": [],
   "source": [
    "# 조건문 if elif else (elif, else 는 안써도 됨)\n",
    "'''\n",
    "if 비교문1 : \n",
    "    참일때 실행코드\n",
    "elif 비교문2 : \n",
    "    비교문1이 아니고 비교문2일때 실행코드\n",
    "else :\n",
    "    위의 비교문이 다 아닐때 실행 코드\n",
    "'''"
   ]
  },
  {
   "cell_type": "code",
   "execution_count": 6,
   "metadata": {},
   "outputs": [
    {
     "name": "stdout",
     "output_type": "stream",
     "text": [
      "너무 더워요. 외출을 자제하세요.\n"
     ]
    }
   ],
   "source": [
    "temp = str()\n",
    "error_str = ''\n",
    "while True :\n",
    "    temp = input(f\"오늘 기온은 어때요? {error_str}\")\n",
    "    if temp.isdigit() :\n",
    "        break\n",
    "    ##print(f'{temp} 잘못입력하셨습니다. 숫자를 입력해주세요 ')\n",
    "    error_str = '\\n잘못입력하셨습니다. 숫자를 입력해주세요'\n",
    "temp = int(temp)\n",
    "\n",
    "if temp >= 30:\n",
    "    print(\"너무 더워요. 외출을 자제하세요.\")\n",
    "elif temp >= 10:\n",
    "    print(\"활동하기 좋은 날씨예요.\")\n",
    "elif temp >= 0:\n",
    "    print(\"외투를 챙기세요.\")\n",
    "else:\n",
    "    print(\"너무 추워요. 나가지 마세요.\")\n"
   ]
  },
  {
   "cell_type": "code",
   "execution_count": 10,
   "metadata": {},
   "outputs": [
    {
     "name": "stdout",
     "output_type": "stream",
     "text": [
      "올바른 숫자를 입력해 주세요.\n",
      "올바른 숫자를 입력해 주세요.\n",
      "1 단\n",
      "1 * 1 = 1\n",
      "1 * 2 = 2\n",
      "1 * 3 = 3\n",
      "1 * 4 = 4\n",
      "1 * 5 = 5\n",
      "1 * 6 = 6\n",
      "1 * 7 = 7\n",
      "1 * 8 = 8\n",
      "1 * 9 = 9\n"
     ]
    }
   ],
   "source": [
    "def multiplication_table():\n",
    "    while True:\n",
    "        try:\n",
    "            num = input(\"출력할 구구단의 단 수를 입력하세요: \")\n",
    "            dan = int(num)\n",
    "            print(f\"{dan} 단\")\n",
    "            for j in range(1, 10):  # 해당 단의 곱셈 계산 및 출력\n",
    "                print(f\"{dan} * {j} = {dan * j}\")\n",
    "            break  # 정상적으로 출력되면 반복문 종료\n",
    "        except ValueError:\n",
    "            print(\"올바른 숫자를 입력해 주세요.\")\n",
    "\n",
    "# 구구단 함수 호출\n",
    "multiplication_table() \n",
    "# 챗지피티 한테 5번 수정 시켜서 완성하였다 ㅎㅎ\n"
   ]
  },
  {
   "cell_type": "code",
   "execution_count": null,
   "metadata": {},
   "outputs": [],
   "source": [
    "# 반복문 for in\n",
    "# continue 건너 뛰기\n",
    "# break 탈출"
   ]
  },
  {
   "cell_type": "code",
   "execution_count": 2,
   "metadata": {},
   "outputs": [],
   "source": [
    "# 반복문 while\n",
    "'''\n",
    "while 조건식 : \n",
    "    실행문\n",
    "'''\n",
    "i = 0\n",
    "while 10 < i :\n",
    "    i += 1\n",
    "    pass # pass 키워드는 아무것도 하지 않음을 나타냄"
   ]
  },
  {
   "cell_type": "code",
   "execution_count": 30,
   "metadata": {},
   "outputs": [
    {
     "name": "stdout",
     "output_type": "stream",
     "text": [
      "[0, 1, 2, 3, 4, 5, 6, 7, 8, 9]\n",
      "[0, 2, 4, 6, 8]\n",
      "[1, 3, 5, 7, 9]\n",
      "{0: '숫자1', 2: '숫자3', 4: '숫자5', 6: '숫자7', 8: '숫자9'}\n",
      "[1, 'None', 3, 'None', 5, 'None', 7, 'None', 9, 'None']\n"
     ]
    }
   ],
   "source": [
    "# 리스트 컴프리헨션??? \n",
    "test_list = [i for i in range(10)]\n",
    "print(test_list)\n",
    "test_list = [i for i in range(10) if i % 2 == 0]\n",
    "print(test_list)\n",
    "test_list = [i + 1 for i in range(10) if i % 2 == 0]\n",
    "print(test_list)\n",
    "# 딕셔너리 는 키 : 벨류 형태로 받는다\n",
    "test_list = {i: f'숫자{i + 1}' for i in range(10) if i % 2 == 0}\n",
    "print(test_list)\n",
    "test_list = [i + 1 for i in range(10) if i % 2 == 0 and i < 5] \n",
    "test_list = [i + 1 for i in range(10) if i % 2 == 0 if i < 5] # 같은 표현\n",
    "test_list = [i + 1 if i % 2 == 0 else 'None' for i in range(10)  ] # 삼항 연산자 표현\n",
    "print(test_list)\n",
    "\n"
   ]
  },
  {
   "cell_type": "code",
   "execution_count": 4,
   "metadata": {},
   "outputs": [
    {
     "data": {
      "text/plain": [
       "2.2831050228310503"
      ]
     },
     "execution_count": 4,
     "metadata": {},
     "output_type": "execute_result"
    }
   ],
   "source": [
    "10000/12/365"
   ]
  }
 ],
 "metadata": {
  "kernelspec": {
   "display_name": "Python 3",
   "language": "python",
   "name": "python3"
  },
  "language_info": {
   "codemirror_mode": {
    "name": "ipython",
    "version": 3
   },
   "file_extension": ".py",
   "mimetype": "text/x-python",
   "name": "python",
   "nbconvert_exporter": "python",
   "pygments_lexer": "ipython3",
   "version": "3.12.4"
  }
 },
 "nbformat": 4,
 "nbformat_minor": 2
}
