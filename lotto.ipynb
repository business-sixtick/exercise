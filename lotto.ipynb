{
 "cells": [
  {
   "cell_type": "code",
   "execution_count": null,
   "metadata": {},
   "outputs": [],
   "source": [
    "import random\n",
    "for i in range(5) :\n",
    "    lotto_set = set()\n",
    "    while True : \n",
    "        lotto_num = int(random.random() * 45) + 1\n",
    "        lotto_set.add(lotto_num)\n",
    "        len_set = len(lotto_set)\n",
    "        if len_set >= 6 :\n",
    "            break\n",
    "    print(lotto_set)"
   ]
  },
  {
   "cell_type": "code",
   "execution_count": null,
   "metadata": {},
   "outputs": [],
   "source": [
    "import random\n",
    "for i in range(5) :\n",
    "    lotto_set = set()\n",
    "    while len(lotto_set) <= 7 :\n",
    "        lotto_set.add( random.randint(1, 45) ) # 1에서 45 이하\n",
    "    bonus_num = lotto_set.pop()\n",
    "    print(lotto_set, '+', bonus_num)"
   ]
  },
  {
   "cell_type": "code",
   "execution_count": null,
   "metadata": {},
   "outputs": [],
   "source": [
    "import random\n",
    "for i in range(5) :\n",
    "    lotto_set = random.sample(range(1, 46), 7)\n",
    "    bonus_num = lotto_set.pop()\n",
    "    print(sorted(lotto_set), '+', bonus_num)"
   ]
  },
  {
   "cell_type": "code",
   "execution_count": 2,
   "metadata": {},
   "outputs": [
    {
     "name": "stdout",
     "output_type": "stream",
     "text": [
      "[15, 19, 22, 26, 37, 39] + 32\n",
      "[3, 10, 21, 25, 31, 41] + 1\n",
      "[6, 9, 15, 30, 40, 43] + 23\n",
      "[7, 12, 17, 18, 24, 39] + 15\n",
      "[3, 9, 11, 20, 28, 32] + 25\n",
      "\n",
      "[1, 8, 21, 32, 33, 40] + 11\n",
      "[2, 3, 11, 15, 18, 45] + 5\n",
      "[12, 18, 27, 38, 40, 41] + 34\n",
      "[3, 7, 10, 27, 39, 45] + 9\n",
      "[12, 16, 26, 30, 40, 42] + 44\n",
      "\n",
      "[7, 22, 23, 30, 35, 40] + 1\n",
      "[6, 23, 27, 30, 35, 36] + 29\n",
      "[2, 10, 19, 20, 37, 42] + 11\n",
      "[11, 30, 33, 35, 38, 39] + 34\n",
      "[6, 10, 14, 16, 22, 29] + 17\n",
      "\n"
     ]
    }
   ],
   "source": [
    "def lotto_get(count = 1) :\n",
    "    import random\n",
    "    for i in range(5) :\n",
    "        lotto_set = random.sample(range(1, 46), 7)\n",
    "        bonus_num = lotto_set.pop()\n",
    "        print(sorted(lotto_set), '+', bonus_num)\n",
    "    print()\n",
    "    count -= 1\n",
    "    if count > 0 :\n",
    "        lotto_get(count) # 재귀 \n",
    "    else :\n",
    "        return \n",
    "\n",
    "\n",
    "how = input('몇 장 드릴까용? : ')\n",
    "try : \n",
    "    assert int(how) > 1, f'양수만 입력 가능합니다.!! {how}을 입력하셨습니다.' # 참이면 ok 거짓이면 에러\n",
    "    lotto_get(int(how))\n",
    "except ValueError as e :\n",
    "    print(type(e).__name__, ' 숫자만 입력하세요 :', e)\n",
    "except Exception as e :\n",
    "    print(type(e).__name__, ':', e)"
   ]
  },
  {
   "cell_type": "code",
   "execution_count": null,
   "metadata": {},
   "outputs": [],
   "source": [
    "# 몇장 드릴까용? 이후에\n",
    "# 얼마입니다~ (장당 5천원)\n",
    "# 모자랍니다~, 거스름돈 얼마입니다~\n"
   ]
  }
 ],
 "metadata": {
  "kernelspec": {
   "display_name": "Python 3",
   "language": "python",
   "name": "python3"
  },
  "language_info": {
   "codemirror_mode": {
    "name": "ipython",
    "version": 3
   },
   "file_extension": ".py",
   "mimetype": "text/x-python",
   "name": "python",
   "nbconvert_exporter": "python",
   "pygments_lexer": "ipython3",
   "version": "3.12.4"
  }
 },
 "nbformat": 4,
 "nbformat_minor": 2
}
