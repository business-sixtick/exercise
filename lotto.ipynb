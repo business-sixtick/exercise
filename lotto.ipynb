{
 "cells": [
  {
   "cell_type": "code",
   "execution_count": null,
   "metadata": {},
   "outputs": [],
   "source": [
    "import random\n",
    "for i in range(5) :\n",
    "    lotto_set = set()\n",
    "    while True : \n",
    "        lotto_num = int(random.random() * 45) + 1\n",
    "        lotto_set.add(lotto_num)\n",
    "        len_set = len(lotto_set)\n",
    "        if len_set >= 6 :\n",
    "            break\n",
    "    print(lotto_set)"
   ]
  },
  {
   "cell_type": "code",
   "execution_count": null,
   "metadata": {},
   "outputs": [],
   "source": [
    "import random\n",
    "for i in range(5) :\n",
    "    lotto_set = set()\n",
    "    while len(lotto_set) <= 7 :\n",
    "        lotto_set.add( random.randint(1, 45) ) # 1에서 45 이하\n",
    "    bonus_num = lotto_set.pop()\n",
    "    print(lotto_set, '+', bonus_num)"
   ]
  },
  {
   "cell_type": "code",
   "execution_count": null,
   "metadata": {},
   "outputs": [],
   "source": [
    "import random\n",
    "for i in range(5) :\n",
    "    lotto_set = random.sample(range(1, 46), 7)\n",
    "    bonus_num = lotto_set.pop()\n",
    "    print(sorted(lotto_set), '+', bonus_num)"
   ]
  },
  {
   "cell_type": "code",
   "execution_count": 12,
   "metadata": {},
   "outputs": [
    {
     "name": "stdout",
     "output_type": "stream",
     "text": [
      "ValueError  숫자만 입력하세요 : invalid literal for int() with base 10: '일'\n"
     ]
    }
   ],
   "source": [
    "def lotto_get(count = 1) :\n",
    "    import random\n",
    "    for i in range(5) :\n",
    "        lotto_set = random.sample(range(1, 46), 7)\n",
    "        bonus_num = lotto_set.pop()\n",
    "        print(sorted(lotto_set), '+', bonus_num)\n",
    "    print()\n",
    "    count -= 1\n",
    "    if count > 0 :\n",
    "        lotto_get(count) # 재귀 \n",
    "    else :\n",
    "        return \n",
    "\n",
    "\n",
    "how = input('몇 장 드릴까용? : ')\n",
    "try : \n",
    "    assert int(how) > 1, f'양수만 입력 가능합니다.!! {how}을 입력하셨습니다.' # 참이면 ok 거짓이면 에러\n",
    "    lotto_get(int(how))\n",
    "except ValueError as e :\n",
    "    print(type(e).__name__, ' 숫자만 입력하세요 :', e)\n",
    "except Exception as e :\n",
    "    print(type(e).__name__, ':', e)"
   ]
  },
  {
   "cell_type": "code",
   "execution_count": null,
   "metadata": {},
   "outputs": [],
   "source": [
    "# 몇장 드릴까용? 이후에\n",
    "# 얼마입니다~ (장당 5천원)\n",
    "# 모자랍니다~, 거스름돈 얼마입니다~\n"
   ]
  }
 ],
 "metadata": {
  "kernelspec": {
   "display_name": "Python 3",
   "language": "python",
   "name": "python3"
  },
  "language_info": {
   "codemirror_mode": {
    "name": "ipython",
    "version": 3
   },
   "file_extension": ".py",
   "mimetype": "text/x-python",
   "name": "python",
   "nbconvert_exporter": "python",
   "pygments_lexer": "ipython3",
   "version": "3.12.4"
  }
 },
 "nbformat": 4,
 "nbformat_minor": 2
}
